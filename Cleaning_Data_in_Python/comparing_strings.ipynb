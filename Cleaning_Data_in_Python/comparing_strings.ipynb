{
 "cells": [
  {
   "cell_type": "markdown",
   "id": "07d8ca90",
   "metadata": {},
   "source": [
    "# Comparing strings"
   ]
  },
  {
   "cell_type": "code",
   "execution_count": 2,
   "id": "d2182737",
   "metadata": {},
   "outputs": [
    {
     "data": {
      "text/plain": [
       "86"
      ]
     },
     "execution_count": 2,
     "metadata": {},
     "output_type": "execute_result"
    }
   ],
   "source": [
    "from thefuzz import fuzz\n",
    "\n",
    "#comparing reading vs reeding\n",
    "\n",
    "fuzz.WRatio('Reeding', 'Reading')"
   ]
  },
  {
   "cell_type": "code",
   "execution_count": 3,
   "id": "f600af7c",
   "metadata": {},
   "outputs": [
    {
     "data": {
      "text/plain": [
       "90"
      ]
     },
     "execution_count": 3,
     "metadata": {},
     "output_type": "execute_result"
    }
   ],
   "source": [
    "#partial strings comparison\n",
    "\n",
    "fuzz.WRatio(\"Houston Rockets\", \"Rockets\")"
   ]
  },
  {
   "cell_type": "code",
   "execution_count": 7,
   "id": "c5ca5dc5",
   "metadata": {},
   "outputs": [
    {
     "data": {
      "text/plain": [
       "[('Rockets vs Lakers', 86, 0),\n",
       " ('Lakers vs Rockets', 86, 1),\n",
       " ('Houston vs Los Angeles', 86, 2)]"
      ]
     },
     "execution_count": 7,
     "metadata": {},
     "output_type": "execute_result"
    }
   ],
   "source": [
    "# comparison with arrays\n",
    "\n",
    "from thefuzz import process\n",
    "import pandas as pd\n",
    "\n",
    "string = 'Houston Rockets vs Los Angeles Lakers'\n",
    "choice = pd.Series(['Rockets vs Lakers', 'Lakers vs Rockets', 'Houston vs Los Angeles', 'Heat vs Balls'])\n",
    "\n",
    "process.extract(string, choice, limit=3)"
   ]
  },
  {
   "cell_type": "code",
   "execution_count": 8,
   "id": "53c8ae62",
   "metadata": {},
   "outputs": [
    {
     "name": "stdout",
     "output_type": "stream",
     "text": [
      "Index(['Country Name', 'Country Code', 'Region', 'IncomeGroup', 'Year',\n",
      "       'Life Expectancy World Bank', 'Prevelance of Undernourishment', 'CO2',\n",
      "       'Health Expenditure %', 'Education Expenditure %', 'Unemployment',\n",
      "       'Corruption', 'Sanitation', 'Injuries', 'Communicable',\n",
      "       'NonCommunicable'],\n",
      "      dtype='object')\n",
      "Index(['Country Name', 'Code', '1960', '1961', '1962', '1963', '1964', '1965',\n",
      "       '1966', '1967', '1968', '1969', '1970', '1971', '1972', '1973', '1974',\n",
      "       '1975', '1976', '1977', '1978', '1979', '1980', '1981', '1982', '1983',\n",
      "       '1984', '1985', '1986', '1987', '1988', '1989', '1990', '1991', '1992',\n",
      "       '1993', '1994', '1995', '1996', '1997', '1998', '1999', '2000', '2001',\n",
      "       '2002', '2003', '2004', '2005', '2006', '2007', '2008', '2009', '2010',\n",
      "       '2011', '2012', '2013', '2014', '2015', '2016', '2017', '2018', '2019',\n",
      "       '2020', 'Unnamed: 65'],\n",
      "      dtype='object')\n"
     ]
    }
   ],
   "source": [
    "gdp = pd.read_csv(r\"c:/users/danhaya/arewads/arewads-fellowship/gdp.csv\")\n",
    "life_expectancy = pd.read_csv(r\"c:/users/danhaya/arewads/arewads-fellowship/life_expectancy.csv\")\n",
    "\n",
    "print(life_expectancy.columns)\n",
    "print(gdp.columns)"
   ]
  },
  {
   "cell_type": "code",
   "execution_count": null,
   "id": "c58ffae3",
   "metadata": {},
   "outputs": [],
   "source": []
  }
 ],
 "metadata": {
  "kernelspec": {
   "display_name": "base",
   "language": "python",
   "name": "python3"
  },
  "language_info": {
   "codemirror_mode": {
    "name": "ipython",
    "version": 3
   },
   "file_extension": ".py",
   "mimetype": "text/x-python",
   "name": "python",
   "nbconvert_exporter": "python",
   "pygments_lexer": "ipython3",
   "version": "3.12.3"
  }
 },
 "nbformat": 4,
 "nbformat_minor": 5
}

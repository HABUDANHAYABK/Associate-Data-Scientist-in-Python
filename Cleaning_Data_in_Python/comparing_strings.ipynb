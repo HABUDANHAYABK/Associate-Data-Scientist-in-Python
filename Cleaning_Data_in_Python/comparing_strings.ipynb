{
 "cells": [
  {
   "cell_type": "markdown",
   "id": "07d8ca90",
   "metadata": {},
   "source": [
    "# Comparing strings"
   ]
  },
  {
   "cell_type": "code",
   "execution_count": 2,
   "id": "d2182737",
   "metadata": {},
   "outputs": [
    {
     "data": {
      "text/plain": [
       "86"
      ]
     },
     "execution_count": 2,
     "metadata": {},
     "output_type": "execute_result"
    }
   ],
   "source": [
    "from thefuzz import fuzz\n",
    "\n",
    "#comparing reading vs reeding\n",
    "\n",
    "fuzz.WRatio('Reeding', 'Reading')"
   ]
  },
  {
   "cell_type": "code",
   "execution_count": 3,
   "id": "f600af7c",
   "metadata": {},
   "outputs": [
    {
     "data": {
      "text/plain": [
       "90"
      ]
     },
     "execution_count": 3,
     "metadata": {},
     "output_type": "execute_result"
    }
   ],
   "source": [
    "#partial strings comparison\n",
    "\n",
    "fuzz.WRatio(\"Houston Rockets\", \"Rockets\")"
   ]
  },
  {
   "cell_type": "code",
   "execution_count": 7,
   "id": "c5ca5dc5",
   "metadata": {},
   "outputs": [
    {
     "data": {
      "text/plain": [
       "[('Rockets vs Lakers', 86, 0),\n",
       " ('Lakers vs Rockets', 86, 1),\n",
       " ('Houston vs Los Angeles', 86, 2)]"
      ]
     },
     "execution_count": 7,
     "metadata": {},
     "output_type": "execute_result"
    }
   ],
   "source": [
    "# comparison with arrays\n",
    "\n",
    "from thefuzz import process\n",
    "import pandas as pd\n",
    "\n",
    "string = 'Houston Rockets vs Los Angeles Lakers'\n",
    "choice = pd.Series(['Rockets vs Lakers', 'Lakers vs Rockets', 'Houston vs Los Angeles', 'Heat vs Balls'])\n",
    "\n",
    "process.extract(string, choice, limit=3)"
   ]
  },
  {
   "cell_type": "code",
   "execution_count": 8,
   "id": "53c8ae62",
   "metadata": {},
   "outputs": [
    {
     "name": "stdout",
     "output_type": "stream",
     "text": [
      "Index(['Country Name', 'Country Code', 'Region', 'IncomeGroup', 'Year',\n",
      "       'Life Expectancy World Bank', 'Prevelance of Undernourishment', 'CO2',\n",
      "       'Health Expenditure %', 'Education Expenditure %', 'Unemployment',\n",
      "       'Corruption', 'Sanitation', 'Injuries', 'Communicable',\n",
      "       'NonCommunicable'],\n",
      "      dtype='object')\n",
      "Index(['Country Name', 'Code', '1960', '1961', '1962', '1963', '1964', '1965',\n",
      "       '1966', '1967', '1968', '1969', '1970', '1971', '1972', '1973', '1974',\n",
      "       '1975', '1976', '1977', '1978', '1979', '1980', '1981', '1982', '1983',\n",
      "       '1984', '1985', '1986', '1987', '1988', '1989', '1990', '1991', '1992',\n",
      "       '1993', '1994', '1995', '1996', '1997', '1998', '1999', '2000', '2001',\n",
      "       '2002', '2003', '2004', '2005', '2006', '2007', '2008', '2009', '2010',\n",
      "       '2011', '2012', '2013', '2014', '2015', '2016', '2017', '2018', '2019',\n",
      "       '2020', 'Unnamed: 65'],\n",
      "      dtype='object')\n"
     ]
    }
   ],
   "source": [
    "gdp = pd.read_csv(r\"c:/users/danhaya/arewads/arewads-fellowship/gdp.csv\")\n",
    "life_expectancy = pd.read_csv(r\"c:/users/danhaya/arewads/arewads-fellowship/life_expectancy.csv\")\n",
    "\n",
    "print(life_expectancy.columns)\n",
    "print(gdp.columns)"
   ]
  },
  {
   "cell_type": "code",
   "execution_count": 16,
   "id": "c58ffae3",
   "metadata": {},
   "outputs": [
    {
     "name": "stdout",
     "output_type": "stream",
     "text": [
      "[('Aruba', 100, 0), ('Africa Eastern and Southern', 100, 1), ('Middle East & North Africa (excluding high income)', 86, 161), ('West Bank and Gaza', 86, 196), ('Sub-Saharan Africa (excluding high income)', 86, 215), ('Sub-Saharan Africa', 86, 217), ('Middle East & North Africa (IDA & IBRD countries)', 86, 238), ('South Africa', 86, 263), ('Afghanistan', 100, 2), ('Africa Western and Central', 100, 3), ('Europe & Central Asia (excluding high income)', 86, 64), ('Fragile and conflict affected situations', 86, 74), ('Middle East & North Africa (excluding high income)', 86, 161), ('Sub-Saharan Africa (excluding high income)', 86, 215), ('Europe & Central Asia (IDA & IBRD countries)', 86, 231), ('Middle East & North Africa (IDA & IBRD countries)', 86, 238), ('Sub-Saharan Africa (IDA & IBRD countries)', 86, 241), ('South Africa', 86, 263), ('Angola', 100, 4), ('Albania', 100, 5), ('Andorra', 100, 6), ('Arab World', 100, 7), ('World', 90, 259), ('United Arab Emirates', 86, 8), ('Egypt, Arab Rep.', 86, 67), ('Syrian Arab Republic', 86, 227), ('United Arab Emirates', 100, 8), ('Arab World', 86, 7), ('United States', 86, 251), ('Argentina', 100, 9), ('Armenia', 100, 10), ('American Samoa', 100, 11), ('Samoa', 90, 260), ('Antigua and Barbuda', 100, 12), ('Central Europe and the Baltics', 86, 36), ('Fragile and conflict affected situations', 86, 74), ('St. Vincent and the Grenadines', 86, 253), ('Australia', 100, 13), ('Austria', 88, 14), ('Austria', 100, 14), ('Australia', 88, 13), ('Azerbaijan', 100, 15), ('Burundi', 100, 16), ('Belgium', 100, 17), ('Benin', 100, 18), ('Burkina Faso', 100, 19), ('Bangladesh', 100, 20), ('Bulgaria', 100, 21), ('Bahrain', 100, 22), ('Bahamas, The', 100, 23), ('Central Europe and the Baltics', 86, 36), ('Latin America & the Caribbean (IDA & IBRD countries)', 86, 236), ('St. Vincent and the Grenadines', 86, 253), ('Bosnia and Herzegovina', 100, 24), ('Fragile and conflict affected situations', 86, 74), ('Belarus', 100, 25), ('Belize', 100, 26), ('Bermuda', 100, 27), ('Bolivia', 100, 28), ('Brazil', 100, 29), ('Barbados', 100, 30), ('Brunei Darussalam', 100, 31), ('Bhutan', 100, 32), ('Botswana', 100, 33), ('Central African Republic', 100, 34), ('Czech Republic', 86, 54), ('Europe & Central Asia (excluding high income)', 86, 64), ('Kyrgyz Republic', 86, 122), ('Slovak Republic', 86, 221), ('Europe & Central Asia (IDA & IBRD countries)', 86, 231), ('Canada', 100, 35), ('Central Europe and the Baltics', 100, 36), ('Antigua and Barbuda', 86, 12), ('Bahamas, The', 86, 23), ('Gambia, The', 86, 86), ('St. Kitts and Nevis', 86, 125), ('West Bank and Gaza', 86, 196), ('Latin America & the Caribbean (IDA & IBRD countries)', 86, 236), ('Trinidad and Tobago', 86, 242), ('Europe & Central Asia', 81, 65), ('Switzerland', 100, 37), ('Channel Islands', 100, 38), ('Northern Mariana Islands', 86, 164), ('Turks and Caicos Islands', 86, 228), ('Chile', 100, 39), ('China', 100, 40), ('Hong Kong SAR, China', 90, 96), ('Macao SAR, China', 90, 146), (\"Cote d'Ivoire\", 100, 41), ('Cameroon', 100, 42), ('Congo, Dem. Rep.', 100, 43), ('Congo, Rep.', 86, 44), ('Korea, Rep.', 86, 126), (\"Korea, Dem. People's Rep.\", 86, 193), ('Yemen, Rep.', 86, 262), ('Congo, Rep.', 100, 44), ('Congo, Dem. Rep.', 86, 43), ('Egypt, Arab Rep.', 86, 67), ('Iran, Islamic Rep.', 86, 112), (\"Korea, Dem. People's Rep.\", 86, 193), ('Colombia', 100, 45), ('Comoros', 100, 46), ('Cabo Verde', 100, 47), ('Costa Rica', 100, 48), ('Caribbean small states', 100, 49), ('Small states', 90, 218), ('Latin America & Caribbean (excluding high income)', 86, 128), ('Latin America & the Caribbean (IDA & IBRD countries)', 86, 236), ('United States', 86, 251), ('Cuba', 100, 50), ('Curacao', 100, 51), ('Cayman Islands', 100, 52), ('Northern Mariana Islands', 86, 164), ('Turks and Caicos Islands', 86, 228), ('British Virgin Islands', 86, 255), ('Cyprus', 100, 53), ('Czech Republic', 100, 54), ('Central African Republic', 86, 34), ('Germany', 100, 55), ('Djibouti', 100, 56), ('Dominica', 100, 57), ('Dominican Republic', 90, 59), ('Denmark', 100, 58), ('Dominican Republic', 100, 59), ('Dominica', 90, 57), ('Algeria', 100, 60), ('East Asia & Pacific (excluding high income)', 100, 61), ('East Asia & Pacific', 90, 63), ('High income', 90, 95), ('Europe & Central Asia', 86, 65), ('Low income', 86, 136), ('Lower middle income', 86, 139), ('Low & middle income', 86, 140), ('Middle East & North Africa', 86, 153), ('Middle income', 86, 156), ('Pacific island small states', 86, 197), ('South Asia', 86, 204), ('South Asia (IDA & IBRD)', 86, 240), ('Upper middle income', 86, 249), ('Early-demographic dividend', 100, 62), ('Pre-demographic dividend', 88, 191), ('Late-demographic dividend', 86, 142), ('Post-demographic dividend', 84, 198), ('East Asia & Pacific', 100, 63), ('East Asia & Pacific (excluding high income)', 90, 61), ('East Asia & Pacific (IDA & IBRD countries)', 90, 230), ('Europe & Central Asia (excluding high income)', 86, 64), ('Middle East & North Africa (excluding high income)', 86, 161), ('South Asia', 86, 204), ('Europe & Central Asia (IDA & IBRD countries)', 86, 231), ('Middle East & North Africa (IDA & IBRD countries)', 86, 238), ('Europe & Central Asia (excluding high income)', 100, 64), ('Europe & Central Asia', 90, 65), ('High income', 90, 95), ('Africa Western and Central', 86, 3), ('Central African Republic', 86, 34), ('East Asia & Pacific', 86, 63), ('Low income', 86, 136), ('Lower middle income', 86, 139), ('Low & middle income', 86, 140), ('Middle income', 86, 156), ('South Asia', 86, 204), ('South Asia (IDA & IBRD)', 86, 240), ('Upper middle income', 86, 249), ('Europe & Central Asia', 100, 65), ('Europe & Central Asia (excluding high income)', 90, 64), ('Europe & Central Asia (IDA & IBRD countries)', 90, 231), ('East Asia & Pacific (excluding high income)', 86, 61), ('South Asia', 86, 204), ('East Asia & Pacific (IDA & IBRD countries)', 86, 230), ('Central Europe and the Baltics', 81, 36), ('Ecuador', 100, 66), ('Egypt, Arab Rep.', 100, 67), ('Arab World', 86, 7), ('Congo, Rep.', 86, 44), ('Korea, Rep.', 86, 126), (\"Korea, Dem. People's Rep.\", 86, 193), ('Yemen, Rep.', 86, 262), ('Euro area', 100, 68), ('Eritrea', 100, 69), ('Spain', 100, 70), ('Estonia', 100, 71), ('Ethiopia', 100, 72), ('European Union', 100, 73), ('Fragile and conflict affected situations', 100, 74), ('Africa Western and Central', 86, 3), ('Antigua and Barbuda', 86, 12), ('Bosnia and Herzegovina', 86, 24), ('St. Kitts and Nevis', 86, 125), ('West Bank and Gaza', 86, 196), ('Sao Tome and Principe', 86, 219), ('Turks and Caicos Islands', 86, 228), ('Trinidad and Tobago', 86, 242), ('Finland', 100, 75), ('Fiji', 100, 76), ('France', 100, 77), ('Faroe Islands', 100, 78), ('Northern Mariana Islands', 86, 164), ('Turks and Caicos Islands', 86, 228), ('British Virgin Islands', 86, 255), ('Micronesia, Fed. Sts.', 100, 79), ('Gabon', 100, 80), ('United Kingdom', 100, 81), ('Georgia', 100, 82), ('Ghana', 100, 83), ('Gibraltar', 100, 84), ('Guinea', 100, 85), ('Guinea-Bissau', 90, 87), ('Equatorial Guinea', 90, 88), ('Papua New Guinea', 90, 189), ('Gambia, The', 100, 86), ('Central Europe and the Baltics', 86, 36), ('Latin America & the Caribbean (IDA & IBRD countries)', 86, 236), ('St. Vincent and the Grenadines', 86, 253), ('Guinea-Bissau', 100, 87), ('Guinea', 90, 85), ('Equatorial Guinea', 100, 88), ('Guinea', 90, 85), ('Greece', 100, 89), ('Grenada', 100, 90), ('Greenland', 100, 91), ('Guatemala', 100, 92), ('Malta', 80, 159), ('Guam', 100, 93), ('Guyana', 100, 94), ('High income', 100, 95), ('East Asia & Pacific (excluding high income)', 90, 61), ('Europe & Central Asia (excluding high income)', 90, 64), ('Latin America & Caribbean (excluding high income)', 90, 128), ('Middle East & North Africa (excluding high income)', 90, 161), ('Sub-Saharan Africa (excluding high income)', 90, 215), ('Lower middle income', 86, 139), ('Low & middle income', 86, 140), ('Upper middle income', 86, 249), ('Hong Kong SAR, China', 100, 96), ('China', 90, 40), ('Honduras', 100, 97), ('Heavily indebted poor countries (HIPC)', 100, 98), ('Croatia', 100, 99), ('Haiti', 100, 100), ('Hungary', 100, 101), ('IBRD only', 100, 102), ('IDA & IBRD total', 86, 103), ('East Asia & Pacific (IDA & IBRD countries)', 86, 230), ('Europe & Central Asia (IDA & IBRD countries)', 86, 231), ('Latin America & the Caribbean (IDA & IBRD countries)', 86, 236), ('Middle East & North Africa (IDA & IBRD countries)', 86, 238), ('South Asia (IDA & IBRD)', 86, 240), ('Sub-Saharan Africa (IDA & IBRD countries)', 86, 241), ('IDA only', 82, 107), ('IDA & IBRD total', 100, 103), ('IBRD only', 86, 102), ('IDA total', 86, 104), ('IDA blend', 86, 105), ('IDA only', 86, 107), ('East Asia & Pacific (IDA & IBRD countries)', 86, 230), ('Europe & Central Asia (IDA & IBRD countries)', 86, 231), ('Latin America & the Caribbean (IDA & IBRD countries)', 86, 236), ('Middle East & North Africa (IDA & IBRD countries)', 86, 238), ('Sub-Saharan Africa (IDA & IBRD countries)', 86, 241), ('IDA total', 100, 104), ('IDA & IBRD total', 86, 103), ('East Asia & Pacific (IDA & IBRD countries)', 86, 230), ('Europe & Central Asia (IDA & IBRD countries)', 86, 231), ('Latin America & the Caribbean (IDA & IBRD countries)', 86, 236), ('Middle East & North Africa (IDA & IBRD countries)', 86, 238), ('South Asia (IDA & IBRD)', 86, 240), ('Sub-Saharan Africa (IDA & IBRD countries)', 86, 241), ('IDA blend', 100, 105), ('IDA & IBRD total', 86, 103), ('East Asia & Pacific (IDA & IBRD countries)', 86, 230), ('Europe & Central Asia (IDA & IBRD countries)', 86, 231), ('Latin America & the Caribbean (IDA & IBRD countries)', 86, 236), ('Middle East & North Africa (IDA & IBRD countries)', 86, 238), ('South Asia (IDA & IBRD)', 86, 240), ('Sub-Saharan Africa (IDA & IBRD countries)', 86, 241), ('Indonesia', 100, 106), ('IDA only', 100, 107), ('IDA & IBRD total', 86, 103), ('East Asia & Pacific (IDA & IBRD countries)', 86, 230), ('Europe & Central Asia (IDA & IBRD countries)', 86, 231), ('Latin America & the Caribbean (IDA & IBRD countries)', 86, 236), ('Middle East & North Africa (IDA & IBRD countries)', 86, 238), ('South Asia (IDA & IBRD)', 86, 240), ('Sub-Saharan Africa (IDA & IBRD countries)', 86, 241), ('IBRD only', 82, 102), ('Isle of Man', 100, 108), ('India', 100, 109), ('Not classified', 100, 110), ('Ireland', 100, 111), ('Iceland', 86, 114), ('Iran, Islamic Rep.', 100, 112), ('Congo, Rep.', 86, 44), ('Korea, Rep.', 86, 126), ('Yemen, Rep.', 86, 262), ('Iraq', 100, 113), ('Iceland', 100, 114), ('Ireland', 86, 111), ('Israel', 100, 115), ('Italy', 100, 116), ('Jamaica', 100, 117), ('Jordan', 100, 118), ('Japan', 100, 119), ('Kazakhstan', 100, 120), ('Kenya', 100, 121), ('Kyrgyz Republic', 100, 122), ('Central African Republic', 86, 34), ('Cambodia', 100, 123), ('Kiribati', 100, 124), ('St. Kitts and Nevis', 100, 125), ('Central Europe and the Baltics', 86, 36), ('Fragile and conflict affected situations', 86, 74), ('St. Lucia', 86, 133), ('St. Vincent and the Grenadines', 86, 253), ('Korea, Rep.', 100, 126), ('Congo, Dem. Rep.', 86, 43), ('Egypt, Arab Rep.', 86, 67), ('Iran, Islamic Rep.', 86, 112), (\"Korea, Dem. People's Rep.\", 86, 193), ('Kuwait', 100, 127), ('Latin America & Caribbean (excluding high income)', 100, 128), ('High income', 90, 95), ('Latin America & Caribbean', 90, 134), ('Caribbean small states', 86, 49), ('Low income', 86, 136), ('Lower middle income', 86, 139), ('Low & middle income', 86, 140), ('Middle income', 86, 156), ('North America', 86, 170), ('Upper middle income', 86, 249), ('Lao PDR', 100, 129), ('Lebanon', 100, 130), ('Liberia', 100, 131), ('Libya', 100, 132), ('St. Lucia', 100, 133), ('St. Kitts and Nevis', 86, 125), ('St. Martin (French part)', 86, 147), ('St. Vincent and the Grenadines', 86, 253), ('Latin America & Caribbean', 100, 134), ('Latin America & Caribbean (excluding high income)', 90, 128), ('North America', 86, 170), ('Latin America & the Caribbean (IDA & IBRD countries)', 86, 236), ('Least developed countries: UN classification', 100, 135), ('Low income', 100, 136), ('East Asia & Pacific (excluding high income)', 86, 61), ('Europe & Central Asia (excluding high income)', 86, 64), ('Latin America & Caribbean (excluding high income)', 86, 128), ('Lower middle income', 86, 139), ('Low & middle income', 86, 140), ('Middle East & North Africa (excluding high income)', 86, 161), ('Sub-Saharan Africa (excluding high income)', 86, 215), ('Upper middle income', 86, 249), ('Liechtenstein', 100, 137), ('Sri Lanka', 100, 138), ('Lower middle income', 100, 139), ('Middle income', 95, 156), ('Low & middle income', 90, 140), ('East Asia & Pacific (excluding high income)', 86, 61), ('Europe & Central Asia (excluding high income)', 86, 64), ('High income', 86, 95), ('Latin America & Caribbean (excluding high income)', 86, 128), ('Low income', 86, 136), ('Middle East & North Africa (excluding high income)', 86, 161), ('Sub-Saharan Africa (excluding high income)', 86, 215), ('Middle East & North Africa (IDA & IBRD countries)', 86, 238), ('Upper middle income', 84, 249), ('Low & middle income', 100, 140), ('Middle income', 95, 156), ('Lower middle income', 90, 139), ('East Asia & Pacific (excluding high income)', 86, 61), ('Europe & Central Asia (excluding high income)', 86, 64), ('High income', 86, 95), ('Latin America & Caribbean (excluding high income)', 86, 128), ('Low income', 86, 136), ('Middle East & North Africa (excluding high income)', 86, 161), ('Sub-Saharan Africa (excluding high income)', 86, 215), ('Middle East & North Africa (IDA & IBRD countries)', 86, 238), ('Upper middle income', 82, 249), ('Lesotho', 100, 141), ('Late-demographic dividend', 100, 142), ('Pre-demographic dividend', 90, 191), ('Post-demographic dividend', 88, 198), ('Early-demographic dividend', 86, 62), ('Lithuania', 100, 143), ('Luxembourg', 100, 144), ('Latvia', 100, 145), ('Macao SAR, China', 100, 146), ('China', 90, 40), ('St. Martin (French part)', 100, 147), ('St. Lucia', 86, 133), ('Morocco', 100, 148), ('Monaco', 100, 149), ('Moldova', 100, 150), ('Madagascar', 100, 151), ('Maldives', 100, 152), ('Middle East & North Africa', 100, 153), ('Middle East & North Africa (excluding high income)', 90, 161), ('Middle East & North Africa (IDA & IBRD countries)', 90, 238), ('East Asia & Pacific (excluding high income)', 86, 61), ('Middle income', 86, 156), ('North Macedonia', 86, 157), ('North America', 86, 170), ('Sub-Saharan Africa (excluding high income)', 86, 215), ('East Asia & Pacific (IDA & IBRD countries)', 86, 230), ('Sub-Saharan Africa (IDA & IBRD countries)', 86, 241), ('South Africa', 86, 263), ('Mexico', 100, 154), ('Marshall Islands', 100, 155), ('Northern Mariana Islands', 86, 164), ('Turks and Caicos Islands', 86, 228), ('Middle income', 100, 156), ('Lower middle income', 95, 139), ('Low & middle income', 95, 140), ('Upper middle income', 95, 249), ('East Asia & Pacific (excluding high income)', 86, 61), ('Europe & Central Asia (excluding high income)', 86, 64), ('Latin America & Caribbean (excluding high income)', 86, 128), ('Middle East & North Africa', 86, 153), ('Middle East & North Africa (excluding high income)', 86, 161), ('Sub-Saharan Africa (excluding high income)', 86, 215), ('Middle East & North Africa (IDA & IBRD countries)', 86, 238), ('North Macedonia', 100, 157), ('Middle East & North Africa', 86, 153), ('Middle East & North Africa (excluding high income)', 86, 161), ('Middle East & North Africa (IDA & IBRD countries)', 86, 238), ('Mali', 100, 158), ('Somalia', 90, 213), ('Malawi', 80, 168), ('Malta', 100, 159), ('Guatemala', 80, 92), ('Malaysia', 80, 169), ('Myanmar', 100, 160), ('Middle East & North Africa (excluding high income)', 100, 161), ('High income', 90, 95), ('Middle East & North Africa', 90, 153), ('Africa Eastern and Southern', 86, 1), ('Africa Western and Central', 86, 3), ('East Asia & Pacific', 86, 63), ('Low income', 86, 136), ('Lower middle income', 86, 139), ('Low & middle income', 86, 140), ('Middle income', 86, 156), ('North Macedonia', 86, 157), ('North America', 86, 170), ('Sub-Saharan Africa', 86, 217), ('Upper middle income', 86, 249), ('South Africa', 86, 263), ('Montenegro', 100, 162), ('Mongolia', 100, 163), ('Northern Mariana Islands', 100, 164), ('Channel Islands', 86, 38), ('Cayman Islands', 86, 52), ('Faroe Islands', 86, 78), ('Marshall Islands', 86, 155), ('Solomon Islands', 86, 209), ('Mozambique', 100, 165), ('Mauritania', 100, 166), ('Mauritius', 100, 167), ('Malawi', 100, 168), ('Mali', 80, 158), ('Malaysia', 100, 169), ('Malta', 80, 159), ('North America', 100, 170), ('Latin America & Caribbean (excluding high income)', 86, 128), ('Latin America & Caribbean', 86, 134), ('Middle East & North Africa', 86, 153), ('Middle East & North Africa (excluding high income)', 86, 161), ('Latin America & the Caribbean (IDA & IBRD countries)', 86, 236), ('Middle East & North Africa (IDA & IBRD countries)', 86, 238), ('Namibia', 100, 171), ('New Caledonia', 100, 172), ('Niger', 100, 173), ('Nigeria', 83, 174), ('Nigeria', 100, 174), ('Niger', 83, 173), ('Nicaragua', 100, 175), ('Netherlands', 100, 176), ('Norway', 100, 177), ('Nepal', 100, 178), ('Nauru', 100, 179), ('New Zealand', 100, 180), ('OECD members', 100, 181), ('Oman', 100, 182), ('Romania', 90, 201), ('Other small states', 100, 183), ('Small states', 90, 218), ('Pacific island small states', 86, 197), ('Pakistan', 100, 184), ('Panama', 100, 185), ('Peru', 100, 186), ('Philippines', 100, 187), ('Palau', 100, 188), ('Papua New Guinea', 100, 189), ('Guinea', 90, 85), ('Poland', 100, 190), ('Pre-demographic dividend', 100, 191), ('Late-demographic dividend', 90, 142), ('Post-demographic dividend', 90, 198), ('Early-demographic dividend', 88, 62), ('Puerto Rico', 100, 192), (\"Korea, Dem. People's Rep.\", 100, 193), ('Congo, Dem. Rep.', 86, 43), ('Congo, Rep.', 86, 44), ('Egypt, Arab Rep.', 86, 67), ('Korea, Rep.', 86, 126), ('Yemen, Rep.', 86, 262), ('Portugal', 100, 194), ('Paraguay', 100, 195), ('West Bank and Gaza', 100, 196), ('Africa Eastern and Southern', 86, 1), ('Central Europe and the Baltics', 86, 36), ('Fragile and conflict affected situations', 86, 74), ('St. Vincent and the Grenadines', 86, 253), ('Pacific island small states', 100, 197), ('Small states', 90, 218), ('East Asia & Pacific (excluding high income)', 86, 61), ('Other small states', 86, 183), ('East Asia & Pacific (IDA & IBRD countries)', 86, 230), ('United States', 86, 251), ('Post-demographic dividend', 100, 198), ('Pre-demographic dividend', 90, 191), ('Late-demographic dividend', 88, 142), ('Early-demographic dividend', 84, 62), ('French Polynesia', 100, 199), ('Qatar', 100, 200), ('Romania', 100, 201), ('Oman', 90, 182), ('Russian Federation', 100, 202), ('Rwanda', 100, 203), ('South Asia', 100, 204), ('South Asia (IDA & IBRD)', 90, 240), ('East Asia & Pacific (excluding high income)', 86, 61), ('East Asia & Pacific', 86, 63), ('Europe & Central Asia (excluding high income)', 86, 64), ('Europe & Central Asia', 86, 65), ('East Asia & Pacific (IDA & IBRD countries)', 86, 230), ('Europe & Central Asia (IDA & IBRD countries)', 86, 231), ('South Africa', 82, 263), ('Saudi Arabia', 100, 205), ('Sudan', 100, 206), ('South Sudan', 90, 216), ('Senegal', 100, 207), ('Singapore', 100, 208), ('Solomon Islands', 100, 209), ('Northern Mariana Islands', 86, 164), ('Turks and Caicos Islands', 86, 228), ('Sierra Leone', 100, 210), ('El Salvador', 100, 211), ('San Marino', 100, 212), ('Somalia', 100, 213), ('Mali', 90, 158), ('Serbia', 100, 214), ('Sub-Saharan Africa (excluding high income)', 100, 215), ('High income', 90, 95), ('Sub-Saharan Africa', 90, 217), ('Africa Eastern and Southern', 86, 1), ('Africa Western and Central', 86, 3), ('Low income', 86, 136), ('Lower middle income', 86, 139), ('Low & middle income', 86, 140), ('Middle East & North Africa', 86, 153), ('Middle income', 86, 156), ('Upper middle income', 86, 249), ('South Africa', 86, 263), ('South Sudan', 100, 216), ('Sudan', 90, 206), ('South Asia (IDA & IBRD)', 86, 240), ('Sub-Saharan Africa', 100, 217), ('Sub-Saharan Africa (excluding high income)', 90, 215), ('Sub-Saharan Africa (IDA & IBRD countries)', 90, 241), ('Africa Eastern and Southern', 86, 1), ('Middle East & North Africa (excluding high income)', 86, 161), ('Middle East & North Africa (IDA & IBRD countries)', 86, 238), ('South Africa', 86, 263), ('Small states', 100, 218), ('Caribbean small states', 90, 49), ('Other small states', 90, 183), ('Pacific island small states', 90, 197), ('Sao Tome and Principe', 100, 219), ('Fragile and conflict affected situations', 86, 74), ('Suriname', 100, 220), ('Slovak Republic', 100, 221), ('Central African Republic', 86, 34), ('Slovenia', 100, 222), ('Sweden', 100, 223), ('Eswatini', 100, 224), ('Sint Maarten (Dutch part)', 100, 225), ('Seychelles', 100, 226), ('Syrian Arab Republic', 100, 227), ('Arab World', 86, 7), ('Turks and Caicos Islands', 100, 228), ('Channel Islands', 86, 38), ('Cayman Islands', 86, 52), ('Fragile and conflict affected situations', 86, 74), ('Faroe Islands', 86, 78), ('Marshall Islands', 86, 155), ('Solomon Islands', 86, 209), ('Chad', 100, 229), ('East Asia & Pacific (IDA & IBRD countries)', 100, 230), ('East Asia & Pacific', 90, 63), ('Europe & Central Asia', 86, 65), ('IBRD only', 86, 102), ('IDA & IBRD total', 86, 103), ('IDA total', 86, 104), ('IDA blend', 86, 105), ('IDA only', 86, 107), ('Middle East & North Africa', 86, 153), ('Pacific island small states', 86, 197), ('South Asia', 86, 204), ('South Asia (IDA & IBRD)', 86, 240), ('Europe & Central Asia (IDA & IBRD countries)', 100, 231), ('Europe & Central Asia', 90, 65), ('Africa Western and Central', 86, 3), ('Central African Republic', 86, 34), ('East Asia & Pacific', 86, 63), ('IBRD only', 86, 102), ('IDA & IBRD total', 86, 103), ('IDA total', 86, 104), ('IDA blend', 86, 105), ('IDA only', 86, 107), ('South Asia', 86, 204), ('South Asia (IDA & IBRD)', 86, 240), ('Togo', 100, 232), ('Thailand', 100, 233), ('Tajikistan', 100, 234), ('Turkmenistan', 100, 235), ('Latin America & the Caribbean (IDA & IBRD countries)', 100, 236), ('Bahamas, The', 86, 23), ('Central Europe and the Baltics', 86, 36), ('Caribbean small states', 86, 49), ('Gambia, The', 86, 86), ('IBRD only', 86, 102), ('IDA & IBRD total', 86, 103), ('IDA total', 86, 104), ('IDA blend', 86, 105), ('IDA only', 86, 107), ('Latin America & Caribbean', 86, 134), ('North America', 86, 170), ('South Asia (IDA & IBRD)', 86, 240), ('St. Vincent and the Grenadines', 86, 253), ('Timor-Leste', 100, 237), ('Middle East & North Africa (IDA & IBRD countries)', 100, 238), ('Middle East & North Africa', 90, 153), ('Africa Eastern and Southern', 86, 1), ('Africa Western and Central', 86, 3), ('East Asia & Pacific', 86, 63), ('IBRD only', 86, 102), ('IDA & IBRD total', 86, 103), ('IDA total', 86, 104), ('IDA blend', 86, 105), ('IDA only', 86, 107), ('Lower middle income', 86, 139), ('Low & middle income', 86, 140), ('Middle income', 86, 156), ('North Macedonia', 86, 157), ('North America', 86, 170), ('Sub-Saharan Africa', 86, 217), ('South Asia (IDA & IBRD)', 86, 240), ('Upper middle income', 86, 249), ('South Africa', 86, 263), ('Tonga', 100, 239), ('South Asia (IDA & IBRD)', 100, 240), ('South Asia', 90, 204), ('East Asia & Pacific (excluding high income)', 86, 61), ('Europe & Central Asia (excluding high income)', 86, 64), ('IBRD only', 86, 102), ('IDA total', 86, 104), ('IDA blend', 86, 105), ('IDA only', 86, 107), ('South Sudan', 86, 216), ('East Asia & Pacific (IDA & IBRD countries)', 86, 230), ('Europe & Central Asia (IDA & IBRD countries)', 86, 231), ('Latin America & the Caribbean (IDA & IBRD countries)', 86, 236), ('Middle East & North Africa (IDA & IBRD countries)', 86, 238), ('Sub-Saharan Africa (IDA & IBRD countries)', 86, 241), ('South Africa', 86, 263), ('Sub-Saharan Africa (IDA & IBRD countries)', 100, 241), ('Sub-Saharan Africa', 90, 217), ('Africa Western and Central', 86, 3), ('IBRD only', 86, 102), ('IDA & IBRD total', 86, 103), ('IDA total', 86, 104), ('IDA blend', 86, 105), ('IDA only', 86, 107), ('Middle East & North Africa', 86, 153), ('South Asia (IDA & IBRD)', 86, 240), ('South Africa', 86, 263), ('Trinidad and Tobago', 100, 242), ('Central Europe and the Baltics', 86, 36), ('Fragile and conflict affected situations', 86, 74), ('St. Vincent and the Grenadines', 86, 253), ('Tunisia', 100, 243), ('Turkey', 100, 244), ('Tuvalu', 100, 245), ('Tanzania', 100, 246), ('Uganda', 100, 247), ('Ukraine', 100, 248), ('Upper middle income', 100, 249), ('Middle income', 95, 156), ('East Asia & Pacific (excluding high income)', 86, 61), ('Europe & Central Asia (excluding high income)', 86, 64), ('High income', 86, 95), ('Latin America & Caribbean (excluding high income)', 86, 128), ('Low income', 86, 136), ('Middle East & North Africa (excluding high income)', 86, 161), ('Sub-Saharan Africa (excluding high income)', 86, 215), ('Middle East & North Africa (IDA & IBRD countries)', 86, 238), ('Lower middle income', 84, 139), ('Low & middle income', 82, 140), ('Uruguay', 100, 250), ('United States', 100, 251), ('United Arab Emirates', 86, 8), ('Caribbean small states', 86, 49), ('Pacific island small states', 86, 197), ('Uzbekistan', 100, 252), ('St. Vincent and the Grenadines', 100, 253), ('Antigua and Barbuda', 86, 12), ('Bahamas, The', 86, 23), ('Gambia, The', 86, 86), ('St. Kitts and Nevis', 86, 125), ('St. Lucia', 86, 133), ('West Bank and Gaza', 86, 196), ('Latin America & the Caribbean (IDA & IBRD countries)', 86, 236), ('Trinidad and Tobago', 86, 242), ('Venezuela, RB', 100, 254), ('British Virgin Islands', 100, 255), ('Cayman Islands', 86, 52), ('Faroe Islands', 86, 78), ('Virgin Islands (U.S.)', 83, 256), ('Virgin Islands (U.S.)', 100, 256), ('British Virgin Islands', 83, 255), ('Vietnam', 100, 257), ('Vanuatu', 100, 258), ('World', 100, 259), ('Arab World', 90, 7), ('Samoa', 100, 260), ('American Samoa', 90, 11), ('Kosovo', 100, 261), ('Yemen, Rep.', 100, 262), ('Congo, Dem. Rep.', 86, 43), ('Egypt, Arab Rep.', 86, 67), ('Iran, Islamic Rep.', 86, 112), (\"Korea, Dem. People's Rep.\", 86, 193), ('South Africa', 100, 263), ('Africa Eastern and Southern', 86, 1), ('Africa Western and Central', 86, 3), ('Middle East & North Africa', 86, 153), ('Middle East & North Africa (excluding high income)', 86, 161), ('Sub-Saharan Africa (excluding high income)', 86, 215), ('Sub-Saharan Africa', 86, 217), ('Middle East & North Africa (IDA & IBRD countries)', 86, 238), ('South Asia (IDA & IBRD)', 86, 240), ('Sub-Saharan Africa (IDA & IBRD countries)', 86, 241), ('South Asia', 82, 204), ('Zambia', 100, 264), ('Zimbabwe', 100, 265)]\n"
     ]
    }
   ],
   "source": [
    "country = list(life_expectancy['Country Name'].unique())\n",
    "\n",
    "matchs=[]\n",
    "for country in gdp['Country Name']:\n",
    "    matches = process.extract(country, gdp['Country Name'], limit = gdp.shape[0])\n",
    "\n",
    "    for potential_match in matches:\n",
    "        if potential_match[1] >=80:\n",
    "            matchs.append(potential_match)\n",
    "\n",
    "\n",
    "\n",
    "print(matchs)"
   ]
  },
  {
   "cell_type": "code",
   "execution_count": null,
   "id": "fff2b621",
   "metadata": {},
   "outputs": [],
   "source": []
  }
 ],
 "metadata": {
  "kernelspec": {
   "display_name": "base",
   "language": "python",
   "name": "python3"
  },
  "language_info": {
   "codemirror_mode": {
    "name": "ipython",
    "version": 3
   },
   "file_extension": ".py",
   "mimetype": "text/x-python",
   "name": "python",
   "nbconvert_exporter": "python",
   "pygments_lexer": "ipython3",
   "version": "3.12.3"
  }
 },
 "nbformat": 4,
 "nbformat_minor": 5
}

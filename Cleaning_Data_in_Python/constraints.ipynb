{
 "cells": [
  {
   "cell_type": "markdown",
   "id": "490fe3bf",
   "metadata": {},
   "source": [
    "# CLEANING DATA IN PYTHON\n"
   ]
  },
  {
   "cell_type": "markdown",
   "id": "db3d163f",
   "metadata": {},
   "source": [
    "# Constraints"
   ]
  },
  {
   "cell_type": "code",
   "execution_count": 1,
   "id": "88f0d50f",
   "metadata": {},
   "outputs": [
    {
     "name": "stdout",
     "output_type": "stream",
     "text": [
      "Country Name                                   Angola\n",
      "Country Code                                      AGO\n",
      "Region                             Sub-Saharan Africa\n",
      "IncomeGroup                       Lower middle income\n",
      "Year                                             2001\n",
      "Life Expectancy World Bank                     47.059\n",
      "Prevelance of Undernourishment                   67.5\n",
      "CO2                                           15960.0\n",
      "Health Expenditure %                         4.483516\n",
      "Education Expenditure %                           NaN\n",
      "Unemployment                                    4.004\n",
      "Corruption                                        NaN\n",
      "Sanitation                                        NaN\n",
      "Injuries                                   1392080.71\n",
      "Communicable                              11190210.53\n",
      "NonCommunicable                            2663516.34\n",
      "Name: 1, dtype: object\n"
     ]
    }
   ],
   "source": [
    "import pandas as pd\n",
    "\n",
    "data = pd.read_csv(r\"c:/users/danhaya/arewads/arewads-fellowship/life_expectancy.csv\")\n",
    "print(data.iloc[1])"
   ]
  },
  {
   "cell_type": "code",
   "execution_count": 2,
   "id": "799de39d",
   "metadata": {},
   "outputs": [
    {
     "name": "stdout",
     "output_type": "stream",
     "text": [
      "Country Name                       object\n",
      "Country Code                       object\n",
      "Region                             object\n",
      "IncomeGroup                        object\n",
      "Year                                int64\n",
      "Life Expectancy World Bank        float64\n",
      "Prevelance of Undernourishment    float64\n",
      "CO2                               float64\n",
      "Health Expenditure %              float64\n",
      "Education Expenditure %           float64\n",
      "Unemployment                      float64\n",
      "Corruption                        float64\n",
      "Sanitation                        float64\n",
      "Injuries                          float64\n",
      "Communicable                      float64\n",
      "NonCommunicable                   float64\n",
      "dtype: object\n"
     ]
    }
   ],
   "source": [
    "print(data.dtypes)"
   ]
  },
  {
   "cell_type": "code",
   "execution_count": 4,
   "id": "931156e8",
   "metadata": {},
   "outputs": [
    {
     "name": "stdout",
     "output_type": "stream",
     "text": [
      "Index(['country_name', 'country_code', 'region', 'incomegroup', 'year',\n",
      "       'life_expectancy_world_bank', 'prevelance_of_undernourishment', 'co2',\n",
      "       'health_expenditure_%', 'education_expenditure_%', 'unemployment',\n",
      "       'corruption', 'sanitation', 'injuries', 'communicable',\n",
      "       'noncommunicable'],\n",
      "      dtype='object')\n"
     ]
    }
   ],
   "source": [
    "data.columns = data.columns.str.lower()\n",
    "data.columns = data.columns.str.replace(' ', '_')\n",
    "print(data.columns)"
   ]
  },
  {
   "cell_type": "code",
   "execution_count": 6,
   "id": "69744343",
   "metadata": {},
   "outputs": [
    {
     "name": "stdout",
     "output_type": "stream",
     "text": [
      "           country_name country_code                      region  \\\n",
      "0           Afghanistan          AFG                  South Asia   \n",
      "1                Angola          AGO          Sub-Saharan Africa   \n",
      "2               Albania          ALB       Europe & Central Asia   \n",
      "3               Andorra          AND       Europe & Central Asia   \n",
      "4  United Arab Emirates          ARE  Middle East & North Africa   \n",
      "\n",
      "           incomegroup  \n",
      "0           Low income  \n",
      "1  Lower middle income  \n",
      "2  Upper middle income  \n",
      "3          High income  \n",
      "4          High income  \n"
     ]
    }
   ],
   "source": [
    "cat_columns =['country_name', 'country_code', 'region', 'incomegroup']\n",
    "data[cat_columns] = data[cat_columns].astype('category')\n",
    "\n",
    "print(data.select_dtypes('category').head())"
   ]
  },
  {
   "cell_type": "markdown",
   "id": "51590680",
   "metadata": {},
   "source": [
    "# "
   ]
  },
  {
   "cell_type": "code",
   "execution_count": null,
   "id": "9d07160d",
   "metadata": {},
   "outputs": [],
   "source": []
  }
 ],
 "metadata": {
  "kernelspec": {
   "display_name": "base",
   "language": "python",
   "name": "python3"
  },
  "language_info": {
   "codemirror_mode": {
    "name": "ipython",
    "version": 3
   },
   "file_extension": ".py",
   "mimetype": "text/x-python",
   "name": "python",
   "nbconvert_exporter": "python",
   "pygments_lexer": "ipython3",
   "version": "3.12.3"
  }
 },
 "nbformat": 4,
 "nbformat_minor": 5
}

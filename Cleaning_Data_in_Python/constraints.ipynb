{
 "cells": [
  {
   "cell_type": "markdown",
   "id": "490fe3bf",
   "metadata": {},
   "source": [
    "# CLEANING DATA IN PYTHON\n"
   ]
  },
  {
   "cell_type": "markdown",
   "id": "db3d163f",
   "metadata": {},
   "source": [
    "# Constraints"
   ]
  },
  {
   "cell_type": "code",
   "execution_count": 2,
   "id": "88f0d50f",
   "metadata": {},
   "outputs": [
    {
     "name": "stdout",
     "output_type": "stream",
     "text": [
      "Country Name                                   Angola\n",
      "Country Code                                      AGO\n",
      "Region                             Sub-Saharan Africa\n",
      "IncomeGroup                       Lower middle income\n",
      "Year                                             2001\n",
      "Life Expectancy World Bank                     47.059\n",
      "Prevelance of Undernourishment                   67.5\n",
      "CO2                                           15960.0\n",
      "Health Expenditure %                         4.483516\n",
      "Education Expenditure %                           NaN\n",
      "Unemployment                                    4.004\n",
      "Corruption                                        NaN\n",
      "Sanitation                                        NaN\n",
      "Injuries                                   1392080.71\n",
      "Communicable                              11190210.53\n",
      "NonCommunicable                            2663516.34\n",
      "Name: 1, dtype: object\n"
     ]
    }
   ],
   "source": [
    "import pandas as pd\n",
    "\n",
    "data = pd.read_csv(r\"c:/users/danhaya/arewads/arewads-fellowship/life_expectancy.csv\")\n",
    "print(data.iloc[1])"
   ]
  },
  {
   "cell_type": "code",
   "execution_count": 2,
   "id": "799de39d",
   "metadata": {},
   "outputs": [
    {
     "name": "stdout",
     "output_type": "stream",
     "text": [
      "Country Name                       object\n",
      "Country Code                       object\n",
      "Region                             object\n",
      "IncomeGroup                        object\n",
      "Year                                int64\n",
      "Life Expectancy World Bank        float64\n",
      "Prevelance of Undernourishment    float64\n",
      "CO2                               float64\n",
      "Health Expenditure %              float64\n",
      "Education Expenditure %           float64\n",
      "Unemployment                      float64\n",
      "Corruption                        float64\n",
      "Sanitation                        float64\n",
      "Injuries                          float64\n",
      "Communicable                      float64\n",
      "NonCommunicable                   float64\n",
      "dtype: object\n"
     ]
    }
   ],
   "source": [
    "print(data.dtypes)"
   ]
  },
  {
   "cell_type": "code",
   "execution_count": 3,
   "id": "931156e8",
   "metadata": {},
   "outputs": [
    {
     "name": "stdout",
     "output_type": "stream",
     "text": [
      "Index(['country_name', 'country_code', 'region', 'incomegroup', 'year',\n",
      "       'life_expectancy_world_bank', 'prevelance_of_undernourishment', 'co2',\n",
      "       'health_expenditure_%', 'education_expenditure_%', 'unemployment',\n",
      "       'corruption', 'sanitation', 'injuries', 'communicable',\n",
      "       'noncommunicable'],\n",
      "      dtype='object')\n"
     ]
    }
   ],
   "source": [
    "data.columns = data.columns.str.lower()\n",
    "data.columns = data.columns.str.replace(' ', '_')\n",
    "print(data.columns)"
   ]
  },
  {
   "cell_type": "code",
   "execution_count": 11,
   "id": "69744343",
   "metadata": {},
   "outputs": [
    {
     "name": "stdout",
     "output_type": "stream",
     "text": [
      "           country_name country_code                      region  \\\n",
      "0           Afghanistan          AFG                  South Asia   \n",
      "1                Angola          AGO          Sub-Saharan Africa   \n",
      "2               Albania          ALB       Europe & Central Asia   \n",
      "3               Andorra          AND       Europe & Central Asia   \n",
      "4  United Arab Emirates          ARE  Middle East & North Africa   \n",
      "\n",
      "           incomegroup  \n",
      "0           Low income  \n",
      "1  Lower middle income  \n",
      "2  Upper middle income  \n",
      "3          High income  \n",
      "4          High income  \n"
     ]
    }
   ],
   "source": [
    "cat_columns =['country_name', 'country_code', 'region', 'incomegroup']\n",
    "data[cat_columns] = data[cat_columns].astype('category')\n",
    "\n",
    "print(data.select_dtypes('category').head())"
   ]
  },
  {
   "cell_type": "markdown",
   "id": "51590680",
   "metadata": {},
   "source": [
    "# Data type constraints"
   ]
  },
  {
   "cell_type": "code",
   "execution_count": 7,
   "id": "9d07160d",
   "metadata": {},
   "outputs": [
    {
     "name": "stdout",
     "output_type": "stream",
     "text": [
      "           country_name country_code                      region  \\\n",
      "0           Afghanistan          AFG                  South Asia   \n",
      "1                Angola          AGO          Sub-Saharan Africa   \n",
      "2               Albania          ALB       Europe & Central Asia   \n",
      "3               Andorra          AND       Europe & Central Asia   \n",
      "4  United Arab Emirates          ARE  Middle East & North Africa   \n",
      "5             Argentina          ARG   Latin America & Caribbean   \n",
      "6               Armenia          ARM       Europe & Central Asia   \n",
      "7        American Samoa          ASM         East Asia & Pacific   \n",
      "8   Antigua and Barbuda          ATG   Latin America & Caribbean   \n",
      "9             Australia          AUS         East Asia & Pacific   \n",
      "\n",
      "           incomegroup  year  life_expectancy_world_bank  \\\n",
      "0           Low income  2001                   56.308000   \n",
      "1  Lower middle income  2001                   47.059000   \n",
      "2  Upper middle income  2001                   74.288000   \n",
      "3          High income  2001                         NaN   \n",
      "4          High income  2001                   74.544000   \n",
      "5  Upper middle income  2001                   73.755000   \n",
      "6  Upper middle income  2001                   71.800000   \n",
      "7  Upper middle income  2001                         NaN   \n",
      "8          High income  2001                   74.171000   \n",
      "9          High income  2001                   79.634146   \n",
      "\n",
      "   prevelance_of_undernourishment       co2  health_expenditure_%  \\\n",
      "0                            47.8     730.0                   NaN   \n",
      "1                            67.5   15960.0              4.483516   \n",
      "2                             4.9    3230.0              7.139524   \n",
      "3                             NaN     520.0              5.865939   \n",
      "4                             2.8   97200.0              2.484370   \n",
      "5                             3.0  125260.0              8.371798   \n",
      "6                            26.1    3600.0              4.645627   \n",
      "7                             NaN       NaN                   NaN   \n",
      "8                             NaN     350.0              5.435876   \n",
      "9                             2.5  345640.0              7.696229   \n",
      "\n",
      "   education_expenditure_%  unemployment  corruption  sanitation    injuries  \\\n",
      "0                      NaN     10.809000         NaN         NaN  2179727.10   \n",
      "1                      NaN      4.004000         NaN         NaN  1392080.71   \n",
      "2                  3.45870     18.575001         NaN   40.520895   117081.67   \n",
      "3                      NaN           NaN         NaN   21.788660     1697.99   \n",
      "4                      NaN      2.493000         NaN         NaN   144678.14   \n",
      "5                  4.83374     17.320000         NaN   48.053996  1397676.07   \n",
      "6                  2.46944     10.912000         NaN   46.351896   103371.75   \n",
      "7                      NaN           NaN         NaN         NaN     1683.98   \n",
      "8                      NaN           NaN         NaN         NaN     2201.12   \n",
      "9                      NaN      6.740000         NaN   58.788894   612233.81   \n",
      "\n",
      "   communicable  noncommunicable  \n",
      "0    9689193.70       5795426.38  \n",
      "1   11190210.53       2663516.34  \n",
      "2     140894.78        532324.75  \n",
      "3        695.56         13636.64  \n",
      "4      65271.91        481740.70  \n",
      "5    1507068.98       8070909.52  \n",
      "6     122238.13        767916.19  \n",
      "7       2933.98         10752.13  \n",
      "8       3279.72         14289.69  \n",
      "9     208282.73       4158052.86  \n"
     ]
    }
   ],
   "source": [
    "print(data.head(10))"
   ]
  },
  {
   "cell_type": "code",
   "execution_count": 4,
   "id": "11e9207b",
   "metadata": {},
   "outputs": [
    {
     "data": {
      "text/plain": [
       "dtype('int64')"
      ]
     },
     "execution_count": 4,
     "metadata": {},
     "output_type": "execute_result"
    }
   ],
   "source": [
    "data['year'].dtype"
   ]
  },
  {
   "cell_type": "code",
   "execution_count": 8,
   "id": "717946a8",
   "metadata": {},
   "outputs": [
    {
     "data": {
      "text/plain": [
       "dtype('int32')"
      ]
     },
     "execution_count": 8,
     "metadata": {},
     "output_type": "execute_result"
    }
   ],
   "source": [
    "data['year'] = pd.to_datetime(data['year']).dt.year\n",
    "\n",
    "data['year'].dtype"
   ]
  },
  {
   "cell_type": "code",
   "execution_count": 9,
   "id": "8b167eca",
   "metadata": {},
   "outputs": [
    {
     "data": {
      "text/plain": [
       "array(['Low income', 'Lower middle income', 'Upper middle income',\n",
       "       'High income'], dtype=object)"
      ]
     },
     "execution_count": 9,
     "metadata": {},
     "output_type": "execute_result"
    }
   ],
   "source": [
    "data['incomegroup'].unique()"
   ]
  },
  {
   "cell_type": "code",
   "execution_count": 14,
   "id": "606c5481",
   "metadata": {},
   "outputs": [
    {
     "data": {
      "text/plain": [
       "CategoricalDtype(categories=['High income', 'Low income', 'Lower middle income',\n",
       "                  'Upper middle income'],\n",
       ", ordered=False, categories_dtype=object)"
      ]
     },
     "execution_count": 14,
     "metadata": {},
     "output_type": "execute_result"
    }
   ],
   "source": [
    "data['incomegroup'].dtype"
   ]
  },
  {
   "cell_type": "code",
   "execution_count": 25,
   "id": "2c80cb95",
   "metadata": {},
   "outputs": [
    {
     "name": "stdout",
     "output_type": "stream",
     "text": [
      "incomegroup\n",
      "Upper    2014\n",
      "Low      1292\n",
      "Name: count, dtype: int64\n"
     ]
    }
   ],
   "source": [
    "data['incomegroup'] = data['incomegroup'].astype(\"category\")\n",
    "\n",
    "map_column = {\n",
    "    'Low income' : 'Low',\n",
    "    'Low middle income': 'Low',\n",
    "    'Lower middle income': 'Low',\n",
    "    'Upper middle income': 'Upper',\n",
    "    'High income': 'Upper'\n",
    "}\n",
    "\n",
    "data['incomegroup'] = data['incomegroup'].replace(map_column)\n",
    "print(data.value_counts('incomegroup'))"
   ]
  },
  {
   "cell_type": "code",
   "execution_count": 26,
   "id": "6b1446b3",
   "metadata": {},
   "outputs": [
    {
     "name": "stdout",
     "output_type": "stream",
     "text": [
      "{'Upper': 2014, 'Low': 1292}\n"
     ]
    }
   ],
   "source": [
    "g = data['incomegroup'].value_counts()\n",
    "my_dict = g.to_dict()\n",
    "print(my_dict) "
   ]
  },
  {
   "cell_type": "code",
   "execution_count": 28,
   "id": "53208902",
   "metadata": {},
   "outputs": [
    {
     "name": "stdout",
     "output_type": "stream",
     "text": [
      "incomegroup\n",
      "Upper    2014\n",
      "Low      1292\n",
      "Name: count, dtype: int64\n"
     ]
    }
   ],
   "source": [
    "order_columns = ['Low', 'Upper']\n",
    "\n",
    "data['incomegroup'] = data['incomegroup'].cat.reorder_categories(order_columns, ordered=True)\n",
    "print(data['incomegroup'].value_counts())"
   ]
  },
  {
   "cell_type": "code",
   "execution_count": null,
   "id": "1de6f78e",
   "metadata": {},
   "outputs": [],
   "source": []
  }
 ],
 "metadata": {
  "kernelspec": {
   "display_name": "base",
   "language": "python",
   "name": "python3"
  },
  "language_info": {
   "codemirror_mode": {
    "name": "ipython",
    "version": 3
   },
   "file_extension": ".py",
   "mimetype": "text/x-python",
   "name": "python",
   "nbconvert_exporter": "python",
   "pygments_lexer": "ipython3",
   "version": "3.12.3"
  }
 },
 "nbformat": 4,
 "nbformat_minor": 5
}

{
 "cells": [
  {
   "cell_type": "markdown",
   "id": "490fe3bf",
   "metadata": {},
   "source": [
    "# CLEANING DATA IN PYTHON\n"
   ]
  },
  {
   "cell_type": "markdown",
   "id": "db3d163f",
   "metadata": {},
   "source": [
    "# Constraints"
   ]
  },
  {
   "cell_type": "code",
   "execution_count": null,
   "id": "88f0d50f",
   "metadata": {},
   "outputs": [],
   "source": [
    "# Data types constraints\n"
   ]
  }
 ],
 "metadata": {
  "kernelspec": {
   "display_name": "base",
   "language": "python",
   "name": "python3"
  },
  "language_info": {
   "name": "python",
   "version": "3.12.3"
  }
 },
 "nbformat": 4,
 "nbformat_minor": 5
}

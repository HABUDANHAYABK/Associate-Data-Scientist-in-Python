{
 "cells": [
  {
   "cell_type": "markdown",
   "id": "2213aca3",
   "metadata": {},
   "source": [
    "# INITIAL EXPLORATION"
   ]
  },
  {
   "cell_type": "code",
   "execution_count": 1,
   "id": "05b3d7d1",
   "metadata": {},
   "outputs": [
    {
     "name": "stdout",
     "output_type": "stream",
     "text": [
      "           dt  AverageTemperature  AverageTemperatureUncertainty   City  \\\n",
      "0  1743-11-01               6.068                          1.737  Århus   \n",
      "1  1743-12-01                 NaN                            NaN  Århus   \n",
      "2  1744-01-01                 NaN                            NaN  Århus   \n",
      "3  1744-02-01                 NaN                            NaN  Århus   \n",
      "4  1744-03-01                 NaN                            NaN  Århus   \n",
      "\n",
      "   Country Latitude Longitude  \n",
      "0  Denmark   57.05N    10.33E  \n",
      "1  Denmark   57.05N    10.33E  \n",
      "2  Denmark   57.05N    10.33E  \n",
      "3  Denmark   57.05N    10.33E  \n",
      "4  Denmark   57.05N    10.33E  \n"
     ]
    }
   ],
   "source": [
    "import pandas as pd\n",
    "import matplotlib.pyplot as plt\n",
    "import seaborn as sns\n",
    "import numpy as np\n",
    "\n",
    "global_temp_by_city = pd.read_csv(r\"c:/users/danhaya/arewads/arewads-fellowship/Global_temp_by_city.csv\")\n",
    "print(global_temp_by_city.head())"
   ]
  },
  {
   "cell_type": "code",
   "execution_count": 2,
   "id": "02f3f41f",
   "metadata": {},
   "outputs": [
    {
     "name": "stdout",
     "output_type": "stream",
     "text": [
      "<class 'pandas.core.frame.DataFrame'>\n",
      "RangeIndex: 8599212 entries, 0 to 8599211\n",
      "Data columns (total 7 columns):\n",
      " #   Column                         Dtype  \n",
      "---  ------                         -----  \n",
      " 0   dt                             object \n",
      " 1   AverageTemperature             float64\n",
      " 2   AverageTemperatureUncertainty  float64\n",
      " 3   City                           object \n",
      " 4   Country                        object \n",
      " 5   Latitude                       object \n",
      " 6   Longitude                      object \n",
      "dtypes: float64(2), object(5)\n",
      "memory usage: 459.2+ MB\n",
      "None\n"
     ]
    }
   ],
   "source": [
    "#explore data info\n",
    "print(global_temp_by_city.info())"
   ]
  },
  {
   "cell_type": "code",
   "execution_count": 3,
   "id": "84efe2d2",
   "metadata": {},
   "outputs": [
    {
     "data": {
      "text/plain": [
       "Country\n",
       "India            1014906\n",
       "China             827802\n",
       "United States     687289\n",
       "Brazil            475580\n",
       "Russia            461234\n",
       "Name: count, dtype: int64"
      ]
     },
     "execution_count": 3,
     "metadata": {},
     "output_type": "execute_result"
    }
   ],
   "source": [
    "global_temp_by_city.value_counts('Country').head()"
   ]
  },
  {
   "cell_type": "code",
   "execution_count": 4,
   "id": "3b551b2c",
   "metadata": {},
   "outputs": [
    {
     "data": {
      "text/plain": [
       "dt                                    0\n",
       "AverageTemperature               364130\n",
       "AverageTemperatureUncertainty    364130\n",
       "City                                  0\n",
       "Country                               0\n",
       "Latitude                              0\n",
       "Longitude                             0\n",
       "dtype: int64"
      ]
     },
     "execution_count": 4,
     "metadata": {},
     "output_type": "execute_result"
    }
   ],
   "source": [
    "#checking for missing data\n",
    "\n",
    "global_temp_by_city.isna().sum()"
   ]
  },
  {
   "cell_type": "code",
   "execution_count": 5,
   "id": "d924b6d3",
   "metadata": {},
   "outputs": [
    {
     "data": {
      "image/png": "[encoded data removed]",
      "text/plain": [
       "<Figure size 640x480 with 1 Axes>"
      ]
     },
     "metadata": {},
     "output_type": "display_data"
    }
   ],
   "source": [
    "sns.histplot(data=global_temp_by_city,\n",
    "            x= 'AverageTemperature')\n",
    "plt.show()"
   ]
  },
  {
   "cell_type": "code",
   "execution_count": 6,
   "id": "81c62e29",
   "metadata": {},
   "outputs": [
    {
     "data": {
      "text/plain": [
       "dt                                object\n",
       "AverageTemperature               float64\n",
       "AverageTemperatureUncertainty    float64\n",
       "City                              object\n",
       "Country                           object\n",
       "Latitude                          object\n",
       "Longitude                         object\n",
       "dtype: object"
      ]
     },
     "execution_count": 6,
     "metadata": {},
     "output_type": "execute_result"
    }
   ],
   "source": [
    "global_temp_by_city.dtypes"
   ]
  },
  {
   "cell_type": "code",
   "execution_count": 11,
   "id": "2cc1d035",
   "metadata": {},
   "outputs": [
    {
     "data": {
      "application/vnd.microsoft.datawrangler.viewer.v0+json": {
       "columns": [
        {
         "name": "Country",
         "rawType": "object",
         "type": "string"
        },
        {
         "name": "mean_temp",
         "rawType": "float64",
         "type": "float"
        },
        {
         "name": "std_temp",
         "rawType": "float64",
         "type": "float"
        }
       ],
       "conversionMethod": "pd.DataFrame",
       "ref": "bb193f1c-3ed4-479e-b1d8-c112d99fd5e9",
       "rows": [
        [
         "Afghanistan",
         "13.81649689626358",
         "9.439627849325626"
        ],
        [
         "Albania",
         "15.525828490208463",
         "5.951104216050396"
        ],
        [
         "Algeria",
         "17.763205946291563",
         "7.453939763966247"
        ],
        [
         "Angola",
         "21.759715773235634",
         "2.6481279337259362"
        ],
        [
         "Argentina",
         "16.999215885618383",
         "5.866688806595937"
        ],
        [
         "Armenia",
         "8.37559704395177",
         "8.826877213489167"
        ],
        [
         "Australia",
         "16.701462142476462",
         "5.020594303143978"
        ],
        [
         "Austria",
         "6.285928363866077",
         "7.624419397805129"
        ],
        [
         "Azerbaijan",
         "11.11366381418093",
         "8.570350638445168"
        ],
        [
         "Bahamas",
         "24.78697831775701",
         "2.843995759465686"
        ],
        [
         "Bahrain",
         "25.85560129096326",
         "6.983417086576262"
        ],
        [
         "Bangladesh",
         "25.052512225574866",
         "4.125693027674251"
        ],
        [
         "Belarus",
         "6.1422531980416935",
         "9.180089260097667"
        ],
        [
         "Belgium",
         "9.726196958758234",
         "6.026601288760551"
        ],
        [
         "Benin",
         "26.975880208333333",
         "1.6951569235613602"
        ],
        [
         "Bolivia",
         "11.352980175438597",
         "3.703163906602193"
        ],
        [
         "Bosnia And Herzegovina",
         "10.449959128237523",
         "7.786546629180312"
        ],
        [
         "Botswana",
         "18.996498131340097",
         "4.702797187286038"
        ],
        [
         "Brazil",
         "21.902762979773936",
         "3.4890600078982774"
        ],
        [
         "Bulgaria",
         "10.580413274975182",
         "7.933890118988842"
        ],
        [
         "Burkina Faso",
         "27.815294546436288",
         "1.905497573568641"
        ],
        [
         "Burma",
         "26.016839989290055",
         "2.7080498166236335"
        ],
        [
         "Burundi",
         "20.806355820895522",
         "0.7325985696381153"
        ],
        [
         "Cambodia",
         "26.918136297728374",
         "1.3800966067235219"
        ],
        [
         "Cameroon",
         "24.631562757558253",
         "2.404362587955353"
        ],
        [
         "Canada",
         "4.900387156374223",
         "10.433336569731008"
        ],
        [
         "Central African Republic",
         "24.950858213256485",
         "0.9386817946479528"
        ],
        [
         "Chad",
         "27.18982939481268",
         "2.0257559835744128"
        ],
        [
         "Chile",
         "11.770133066906743",
         "4.757989798368541"
        ],
        [
         "China",
         "12.542541204592178",
         "11.783872202054473"
        ],
        [
         "Colombia",
         "22.68326417737173",
         "3.4947976655603026"
        ],
        [
         "Congo",
         "23.866440922190204",
         "1.1522962681353062"
        ],
        [
         "Congo (Democratic Republic Of The)",
         "23.240345757415387",
         "2.0590068443391565"
        ],
        [
         "Costa Rica",
         "24.85232974910394",
         "0.9401825734041145"
        ],
        [
         "Croatia",
         "10.573466940408508",
         "7.600055537502361"
        ],
        [
         "Cuba",
         "25.596881670099233",
         "1.8673564872736546"
        ],
        [
         "Cyprus",
         "19.03456376594149",
         "5.613199121277169"
        ],
        [
         "Czech Republic",
         "8.075891092861655",
         "7.805447885834642"
        ],
        [
         "Côte D'Ivoire",
         "25.788026983337478",
         "1.3102191257532045"
        ],
        [
         "Denmark",
         "7.802639924194567",
         "6.64828848468318"
        ],
        [
         "Djibouti",
         "29.152790108564535",
         "3.2324564540287906"
        ],
        [
         "Dominican Republic",
         "25.884052560376794",
         "1.5042072272348364"
        ],
        [
         "Ecuador",
         "20.539170537428024",
         "2.558715849184262"
        ],
        [
         "Egypt",
         "21.487249035256973",
         "5.6535132361494895"
        ],
        [
         "El Salvador",
         "25.26285255093982",
         "1.0600375660304862"
        ],
        [
         "Equatorial Guinea",
         "25.178324207492796",
         "1.023592152879142"
        ],
        [
         "Eritrea",
         "24.00151587777112",
         "2.0100179880408393"
        ],
        [
         "Estonia",
         "4.695704832596336",
         "9.110240934358531"
        ],
        [
         "Ethiopia",
         "20.611525296730985",
         "3.3904823124712453"
        ],
        [
         "Finland",
         "3.7116445356917245",
         "8.800341757418803"
        ]
       ],
       "shape": {
        "columns": 2,
        "rows": 159
       }
      },
      "text/html": [
       "<div>\n",
       "<style scoped>\n",
       "    .dataframe tbody tr th:only-of-type {\n",
       "        vertical-align: middle;\n",
       "    }\n",
       "\n",
       "    .dataframe tbody tr th {\n",
       "        vertical-align: top;\n",
       "    }\n",
       "\n",
       "    .dataframe thead th {\n",
       "        text-align: right;\n",
       "    }\n",
       "</style>\n",
       "<table border=\"1\" class=\"dataframe\">\n",
       "  <thead>\n",
       "    <tr style=\"text-align: right;\">\n",
       "      <th></th>\n",
       "      <th>mean_temp</th>\n",
       "      <th>std_temp</th>\n",
       "    </tr>\n",
       "    <tr>\n",
       "      <th>Country</th>\n",
       "      <th></th>\n",
       "      <th></th>\n",
       "    </tr>\n",
       "  </thead>\n",
       "  <tbody>\n",
       "    <tr>\n",
       "      <th>Afghanistan</th>\n",
       "      <td>13.816497</td>\n",
       "      <td>9.439628</td>\n",
       "    </tr>\n",
       "    <tr>\n",
       "      <th>Albania</th>\n",
       "      <td>15.525828</td>\n",
       "      <td>5.951104</td>\n",
       "    </tr>\n",
       "    <tr>\n",
       "      <th>Algeria</th>\n",
       "      <td>17.763206</td>\n",
       "      <td>7.453940</td>\n",
       "    </tr>\n",
       "    <tr>\n",
       "      <th>Angola</th>\n",
       "      <td>21.759716</td>\n",
       "      <td>2.648128</td>\n",
       "    </tr>\n",
       "    <tr>\n",
       "      <th>Argentina</th>\n",
       "      <td>16.999216</td>\n",
       "      <td>5.866689</td>\n",
       "    </tr>\n",
       "    <tr>\n",
       "      <th>...</th>\n",
       "      <td>...</td>\n",
       "      <td>...</td>\n",
       "    </tr>\n",
       "    <tr>\n",
       "      <th>Venezuela</th>\n",
       "      <td>25.482422</td>\n",
       "      <td>1.598335</td>\n",
       "    </tr>\n",
       "    <tr>\n",
       "      <th>Vietnam</th>\n",
       "      <td>24.846825</td>\n",
       "      <td>3.860668</td>\n",
       "    </tr>\n",
       "    <tr>\n",
       "      <th>Yemen</th>\n",
       "      <td>25.768408</td>\n",
       "      <td>2.604266</td>\n",
       "    </tr>\n",
       "    <tr>\n",
       "      <th>Zambia</th>\n",
       "      <td>20.937623</td>\n",
       "      <td>2.688840</td>\n",
       "    </tr>\n",
       "    <tr>\n",
       "      <th>Zimbabwe</th>\n",
       "      <td>19.822971</td>\n",
       "      <td>3.026474</td>\n",
       "    </tr>\n",
       "  </tbody>\n",
       "</table>\n",
       "<p>159 rows × 2 columns</p>\n",
       "</div>"
      ],
      "text/plain": [
       "             mean_temp  std_temp\n",
       "Country                         \n",
       "Afghanistan  13.816497  9.439628\n",
       "Albania      15.525828  5.951104\n",
       "Algeria      17.763206  7.453940\n",
       "Angola       21.759716  2.648128\n",
       "Argentina    16.999216  5.866689\n",
       "...                ...       ...\n",
       "Venezuela    25.482422  1.598335\n",
       "Vietnam      24.846825  3.860668\n",
       "Yemen        25.768408  2.604266\n",
       "Zambia       20.937623  2.688840\n",
       "Zimbabwe     19.822971  3.026474\n",
       "\n",
       "[159 rows x 2 columns]"
      ]
     },
     "execution_count": 11,
     "metadata": {},
     "output_type": "execute_result"
    }
   ],
   "source": [
    "global_temp_by_city.groupby('Country').agg(mean_temp = ('AverageTemperature', 'mean'),\n",
    "                                           std_temp =('AverageTemperature', 'std'))"
   ]
  },
  {
   "cell_type": "code",
   "execution_count": null,
   "id": "9797f0e6",
   "metadata": {},
   "outputs": [],
   "source": [
    "sns"
   ]
  }
 ],
 "metadata": {
  "kernelspec": {
   "display_name": "base",
   "language": "python",
   "name": "python3"
  },
  "language_info": {
   "codemirror_mode": {
    "name": "ipython",
    "version": 3
   },
   "file_extension": ".py",
   "mimetype": "text/x-python",
   "name": "python",
   "nbconvert_exporter": "python",
   "pygments_lexer": "ipython3",
   "version": "3.12.3"
  }
 },
 "nbformat": 4,
 "nbformat_minor": 5
}

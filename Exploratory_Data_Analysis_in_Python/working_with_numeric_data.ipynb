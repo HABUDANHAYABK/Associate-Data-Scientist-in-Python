{
 "cells": [
  {
   "cell_type": "markdown",
   "id": "30737690",
   "metadata": {},
   "source": [
    "# WORKING WITH NUMERIC DATA"
   ]
  },
  {
   "cell_type": "code",
   "execution_count": 1,
   "id": "2a944c35",
   "metadata": {},
   "outputs": [
    {
     "name": "stdout",
     "output_type": "stream",
     "text": [
      "           Country Name Country Code                      Region  \\\n",
      "0           Afghanistan          AFG                  South Asia   \n",
      "1                Angola          AGO          Sub-Saharan Africa   \n",
      "2               Albania          ALB       Europe & Central Asia   \n",
      "3               Andorra          AND       Europe & Central Asia   \n",
      "4  United Arab Emirates          ARE  Middle East & North Africa   \n",
      "\n",
      "           IncomeGroup  Year  Life Expectancy World Bank  \\\n",
      "0           Low income  2001                      56.308   \n",
      "1  Lower middle income  2001                      47.059   \n",
      "2  Upper middle income  2001                      74.288   \n",
      "3          High income  2001                         NaN   \n",
      "4          High income  2001                      74.544   \n",
      "\n",
      "   Prevelance of Undernourishment      CO2  Health Expenditure %  \\\n",
      "0                            47.8    730.0                   NaN   \n",
      "1                            67.5  15960.0              4.483516   \n",
      "2                             4.9   3230.0              7.139524   \n",
      "3                             NaN    520.0              5.865939   \n",
      "4                             2.8  97200.0              2.484370   \n",
      "\n",
      "   Education Expenditure %  Unemployment  Corruption  Sanitation    Injuries  \\\n",
      "0                      NaN     10.809000         NaN         NaN  2179727.10   \n",
      "1                      NaN      4.004000         NaN         NaN  1392080.71   \n",
      "2                   3.4587     18.575001         NaN   40.520895   117081.67   \n",
      "3                      NaN           NaN         NaN   21.788660     1697.99   \n",
      "4                      NaN      2.493000         NaN         NaN   144678.14   \n",
      "\n",
      "   Communicable  NonCommunicable  \n",
      "0    9689193.70       5795426.38  \n",
      "1   11190210.53       2663516.34  \n",
      "2     140894.78        532324.75  \n",
      "3        695.56         13636.64  \n",
      "4      65271.91        481740.70  \n"
     ]
    }
   ],
   "source": [
    "import pandas as pd\n",
    "import numpy as np\n",
    "import matplotlib.pyplot as plt\n",
    "import seaborn as sns\n",
    "\n",
    "\n",
    "life_expentancy = pd.read_csv(r\"c:/users/danhaya/arewads/arewads-fellowship/life_expectancy.csv\")\n",
    "print(life_expentancy.head())"
   ]
  },
  {
   "cell_type": "code",
   "execution_count": 2,
   "id": "4e56bef0",
   "metadata": {},
   "outputs": [
    {
     "name": "stdout",
     "output_type": "stream",
     "text": [
      "<class 'pandas.core.frame.DataFrame'>\n",
      "RangeIndex: 3306 entries, 0 to 3305\n",
      "Data columns (total 16 columns):\n",
      " #   Column                          Non-Null Count  Dtype  \n",
      "---  ------                          --------------  -----  \n",
      " 0   Country Name                    3306 non-null   object \n",
      " 1   Country Code                    3306 non-null   object \n",
      " 2   Region                          3306 non-null   object \n",
      " 3   IncomeGroup                     3306 non-null   object \n",
      " 4   Year                            3306 non-null   int64  \n",
      " 5   Life Expectancy World Bank      3118 non-null   float64\n",
      " 6   Prevelance of Undernourishment  2622 non-null   float64\n",
      " 7   CO2                             3154 non-null   float64\n",
      " 8   Health Expenditure %            3126 non-null   float64\n",
      " 9   Education Expenditure %         2216 non-null   float64\n",
      " 10  Unemployment                    3002 non-null   float64\n",
      " 11  Corruption                      975 non-null    float64\n",
      " 12  Sanitation                      2059 non-null   float64\n",
      " 13  Injuries                        3306 non-null   float64\n",
      " 14  Communicable                    3306 non-null   float64\n",
      " 15  NonCommunicable                 3306 non-null   float64\n",
      "dtypes: float64(11), int64(1), object(4)\n",
      "memory usage: 413.4+ KB\n",
      "None\n"
     ]
    }
   ],
   "source": [
    "print(life_expentancy.info())"
   ]
  },
  {
   "cell_type": "code",
   "execution_count": 3,
   "id": "817277b1",
   "metadata": {},
   "outputs": [],
   "source": [
    "threshold = len(life_expentancy)*0.05\n",
    "\n",
    "col_to_drop = life_expentancy.columns[life_expentancy.isna().sum() <= threshold]\n",
    "life_expentancy.dropna(subset=col_to_drop, inplace=True)"
   ]
  },
  {
   "cell_type": "code",
   "execution_count": 4,
   "id": "19fbc2d1",
   "metadata": {},
   "outputs": [
    {
     "data": {
      "text/plain": [
       "Country Name                         0\n",
       "Country Code                         0\n",
       "Region                               0\n",
       "IncomeGroup                          0\n",
       "Year                                 0\n",
       "Life Expectancy World Bank         112\n",
       "Prevelance of Undernourishment     532\n",
       "CO2                                  0\n",
       "Health Expenditure %                66\n",
       "Education Expenditure %            968\n",
       "Unemployment                       190\n",
       "Corruption                        2179\n",
       "Sanitation                        1171\n",
       "Injuries                             0\n",
       "Communicable                         0\n",
       "NonCommunicable                      0\n",
       "dtype: int64"
      ]
     },
     "execution_count": 4,
     "metadata": {},
     "output_type": "execute_result"
    }
   ],
   "source": [
    "life_expentancy.isna().sum()"
   ]
  },
  {
   "cell_type": "code",
   "execution_count": 5,
   "id": "598bc3e8",
   "metadata": {},
   "outputs": [
    {
     "name": "stdout",
     "output_type": "stream",
     "text": [
      "Index(['Life Expectancy World Bank', 'Prevelance of Undernourishment',\n",
      "       'Health Expenditure %', 'Education Expenditure %', 'Unemployment',\n",
      "       'Corruption', 'Sanitation'],\n",
      "      dtype='object')\n"
     ]
    }
   ],
   "source": [
    "cols_with_missing_value = life_expentancy.columns[life_expentancy.isna().sum() > 0]\n",
    "print(cols_with_missing_value)"
   ]
  },
  {
   "cell_type": "code",
   "execution_count": 7,
   "id": "ad86fc32",
   "metadata": {},
   "outputs": [
    {
     "name": "stdout",
     "output_type": "stream",
     "text": [
      "Country Name                         0\n",
      "Country Code                         0\n",
      "Region                               0\n",
      "IncomeGroup                          0\n",
      "Year                                 0\n",
      "Life Expectancy World Bank         112\n",
      "Prevelance of Undernourishment     532\n",
      "CO2                                  0\n",
      "Health Expenditure %                66\n",
      "Education Expenditure %            968\n",
      "Unemployment                       190\n",
      "Corruption                        2179\n",
      "Sanitation                        1171\n",
      "Injuries                             0\n",
      "Communicable                         0\n",
      "NonCommunicable                      0\n",
      "dtype: int64\n"
     ]
    }
   ],
   "source": [
    "for col in cols_with_missing_value:\n",
    "    life_expentancy[col].fillna(life_expentancy[col].median())\n",
    "\n",
    "print(life_expentancy.isna().sum())"
   ]
  },
  {
   "cell_type": "code",
   "execution_count": 9,
   "id": "f1a4996e",
   "metadata": {},
   "outputs": [],
   "source": [
    "missing_col_dict = life_expentancy.groupby('Region')[['Corruption', 'Sanitation', 'Unemployment', 'Education Expenditure %', 'Health Expenditure %', 'Prevelance of Undernourishment', 'Life Expectancy World Bank']].median().to_dict()\n",
    "life_expentancy[['Corruption', 'Sanitation', 'Unemployment', 'Education Expenditure %', 'Health Expenditure %', 'Prevelance of Undernourishment', 'Life Expectancy World Bank']] = life_expentancy[['Corruption', 'Sanitation', 'Unemployment', 'Education Expenditure %', 'Health Expenditure %', 'Prevelance of Undernourishment', 'Life Expectancy World Bank']].fillna(life_expentancy['Region'].map(missing_col_dict))\n"
   ]
  },
  {
   "cell_type": "code",
   "execution_count": 10,
   "id": "286dbea8",
   "metadata": {},
   "outputs": [
    {
     "name": "stdout",
     "output_type": "stream",
     "text": [
      "Country Name                         0\n",
      "Country Code                         0\n",
      "Region                               0\n",
      "IncomeGroup                          0\n",
      "Year                                 0\n",
      "Life Expectancy World Bank         112\n",
      "Prevelance of Undernourishment     532\n",
      "CO2                                  0\n",
      "Health Expenditure %                66\n",
      "Education Expenditure %            968\n",
      "Unemployment                       190\n",
      "Corruption                        2179\n",
      "Sanitation                        1171\n",
      "Injuries                             0\n",
      "Communicable                         0\n",
      "NonCommunicable                      0\n",
      "dtype: int64\n"
     ]
    }
   ],
   "source": [
    "print(life_expentancy.isna().sum())"
   ]
  },
  {
   "cell_type": "code",
   "execution_count": null,
   "id": "10f778c3",
   "metadata": {},
   "outputs": [],
   "source": [
    "print()"
   ]
  }
 ],
 "metadata": {
  "kernelspec": {
   "display_name": "base",
   "language": "python",
   "name": "python3"
  },
  "language_info": {
   "codemirror_mode": {
    "name": "ipython",
    "version": 3
   },
   "file_extension": ".py",
   "mimetype": "text/x-python",
   "name": "python",
   "nbconvert_exporter": "python",
   "pygments_lexer": "ipython3",
   "version": "3.12.3"
  }
 },
 "nbformat": 4,
 "nbformat_minor": 5
}

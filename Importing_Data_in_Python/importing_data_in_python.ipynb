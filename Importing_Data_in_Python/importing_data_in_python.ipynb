{
 "cells": [
  {
   "cell_type": "markdown",
   "id": "98db414b",
   "metadata": {},
   "source": [
    "# IMPORTING DATA IN PYTHON"
   ]
  },
  {
   "cell_type": "markdown",
   "id": "e6fe37b0",
   "metadata": {},
   "source": [
    "## Importing Excel files"
   ]
  },
  {
   "cell_type": "code",
   "execution_count": 2,
   "id": "ac8d24d8",
   "metadata": {},
   "outputs": [
    {
     "name": "stdout",
     "output_type": "stream",
     "text": [
      "['Sheet1']\n"
     ]
    }
   ],
   "source": [
    "import pandas as pd\n",
    "\n",
    "data = pd.ExcelFile(r\"c:/users/danhaya/arewads/arewads-fellowship/dataset_database.xlsx\")\n",
    "print(data.sheet_names)"
   ]
  },
  {
   "cell_type": "code",
   "execution_count": 3,
   "id": "a101e929",
   "metadata": {},
   "outputs": [
    {
     "name": "stdout",
     "output_type": "stream",
     "text": [
      "     subject collision\n",
      "0  00001.jpg         n\n",
      "1  00002.jpg         n\n",
      "2  00003.jpg         n\n",
      "3  00004.jpg         n\n",
      "4  00005.jpg         n\n"
     ]
    }
   ],
   "source": [
    "df = data.parse(0)\n",
    "print(df.head())"
   ]
  },
  {
   "cell_type": "code",
   "execution_count": 4,
   "id": "591d9690",
   "metadata": {},
   "outputs": [
    {
     "name": "stdout",
     "output_type": "stream",
     "text": [
      "        subject collision\n",
      "10    00011.jpg         y\n",
      "15    00016.jpg         y\n",
      "19    00020.jpg         y\n",
      "21    00022.jpg         y\n",
      "47    00048.jpg         y\n",
      "...         ...       ...\n",
      "9987  09988.jpg         y\n",
      "9988  09989.jpg         y\n",
      "9992  09993.jpg         y\n",
      "9993  09994.jpg         y\n",
      "9998  09999.jpg         y\n",
      "\n",
      "[1993 rows x 2 columns]\n"
     ]
    }
   ],
   "source": [
    "print(df[df['collision'] == 'y'])"
   ]
  },
  {
   "cell_type": "markdown",
   "id": "9bebb9d3",
   "metadata": {},
   "source": [
    "## importing Text file"
   ]
  },
  {
   "cell_type": "code",
   "execution_count": 5,
   "id": "db7dfaa4",
   "metadata": {},
   "outputs": [
    {
     "name": "stdout",
     "output_type": "stream",
     "text": [
      "family members\n",
      "1. Baffa Danhaya\n",
      "2. Nura Danhaya\n",
      "3. Sa'ad Danhaya\n",
      "4. Yusuf Danhaya\n",
      "5. Abubakar Danhaya\n"
     ]
    }
   ],
   "source": [
    "filename = 'family.txt'\n",
    "with open(filename, 'r') as file:\n",
    "    print(file.read())"
   ]
  },
  {
   "cell_type": "code",
   "execution_count": 6,
   "id": "085d6474",
   "metadata": {},
   "outputs": [
    {
     "name": "stdout",
     "output_type": "stream",
     "text": [
      "family members\n",
      "1. Baffa Danhaya\n",
      "2. Nura Danhaya\n",
      "3. Sa'ad Danhaya\n",
      "4. Yusuf Danhaya\n",
      "5. Abubakar Danhaya\n"
     ]
    }
   ],
   "source": [
    "file = open(filename, 'r')\n",
    "text = file.read()\n",
    "print(text)\n",
    "file.close()"
   ]
  },
  {
   "cell_type": "code",
   "execution_count": null,
   "id": "f7ffa3cb",
   "metadata": {},
   "outputs": [],
   "source": []
  }
 ],
 "metadata": {
  "kernelspec": {
   "display_name": "base",
   "language": "python",
   "name": "python3"
  },
  "language_info": {
   "codemirror_mode": {
    "name": "ipython",
    "version": 3
   },
   "file_extension": ".py",
   "mimetype": "text/x-python",
   "name": "python",
   "nbconvert_exporter": "python",
   "pygments_lexer": "ipython3",
   "version": "3.12.3"
  }
 },
 "nbformat": 4,
 "nbformat_minor": 5
}

{
 "cells": [
  {
   "cell_type": "markdown",
   "id": "4e8ae8aa",
   "metadata": {},
   "source": [
    "# LAMBDA FUNCTIONS"
   ]
  },
  {
   "cell_type": "code",
   "execution_count": 1,
   "id": "1c5169e3",
   "metadata": {},
   "outputs": [
    {
     "name": "stdout",
     "output_type": "stream",
     "text": [
      "8\n"
     ]
    }
   ],
   "source": [
    "raise_to_power = lambda x,y: x ** y\n",
    "num = raise_to_power(2,3)\n",
    "print(num)"
   ]
  },
  {
   "cell_type": "code",
   "execution_count": 3,
   "id": "b5eb3bf3",
   "metadata": {},
   "outputs": [
    {
     "name": "stdout",
     "output_type": "stream",
     "text": [
      "<map object at 0x000001E97C083E50>\n",
      "The squares are hide as the map object.\n"
     ]
    }
   ],
   "source": [
    "# map - function\n",
    "\"\"\" \n",
    "function map takes two arguments map(func, seq)\n",
    "map( ) applies to all element in the sequence.\n",
    "\"\"\"\n",
    "nums = [2, 3, 4, 5, 6, 7, 8, 9, 0]\n",
    "square_all = map(lambda num: num **2, nums)\n",
    "print(square_all)\n",
    "print(\"The squares are hide as the map object.\")\n"
   ]
  },
  {
   "cell_type": "code",
   "execution_count": 4,
   "id": "ce3ff16f",
   "metadata": {},
   "outputs": [
    {
     "name": "stdout",
     "output_type": "stream",
     "text": [
      "[4, 9, 16, 25, 36, 49, 64, 81, 0]\n"
     ]
    }
   ],
   "source": [
    "# les's view it\n",
    "print(list(square_all))"
   ]
  },
  {
   "cell_type": "markdown",
   "id": "dea75a50",
   "metadata": {},
   "source": [
    "# LAMBDA FUCTIONS IN DATAFRAME"
   ]
  },
  {
   "cell_type": "code",
   "execution_count": 5,
   "id": "7912d56f",
   "metadata": {},
   "outputs": [],
   "source": [
    "import pandas as pd\n",
    "\n",
    "gdp = pd.read_csv(r\"C:/users/danhaya/arewads/arewads-fellowship/gdp.csv\")"
   ]
  },
  {
   "cell_type": "code",
   "execution_count": 8,
   "id": "e65c7b13",
   "metadata": {},
   "outputs": [
    {
     "name": "stdout",
     "output_type": "stream",
     "text": [
      "                    Country Name Code          1960          1961  \\\n",
      "1    Africa Eastern and Southern  AFE  1.931311e+10  1.972349e+10   \n",
      "2                    Afghanistan  AFG  5.377778e+08  5.488889e+08   \n",
      "3     Africa Western and Central  AFW  1.040428e+10  1.112805e+10   \n",
      "4                         Angola  AGO           NaN           NaN   \n",
      "5                        Albania  ALB           NaN           NaN   \n",
      "..                           ...  ...           ...           ...   \n",
      "260                        Samoa  WSM           NaN           NaN   \n",
      "261                       Kosovo  XKX           NaN           NaN   \n",
      "263                 South Africa  ZAF  7.575397e+09  7.972997e+09   \n",
      "264                       Zambia  ZMB  7.130000e+08  6.962857e+08   \n",
      "265                     Zimbabwe  ZWE  1.052990e+09  1.096647e+09   \n",
      "\n",
      "             1962          1963          1964          1965          1966  \\\n",
      "1    2.149392e+10  2.573321e+10  2.352744e+10  2.681057e+10  2.915216e+10   \n",
      "2    5.466667e+08  7.511112e+08  8.000000e+08  1.006667e+09  1.400000e+09   \n",
      "3    1.194335e+10  1.267652e+10  1.383858e+10  1.486247e+10  1.583285e+10   \n",
      "4             NaN           NaN           NaN           NaN           NaN   \n",
      "5             NaN           NaN           NaN           NaN           NaN   \n",
      "..            ...           ...           ...           ...           ...   \n",
      "260           NaN           NaN           NaN           NaN           NaN   \n",
      "261           NaN           NaN           NaN           NaN           NaN   \n",
      "263  8.497997e+09  9.423396e+09  1.037400e+10  1.133440e+10  1.235500e+10   \n",
      "264  6.931429e+08  7.187143e+08  8.394286e+08  1.082857e+09  1.264286e+09   \n",
      "265  1.117602e+09  1.159512e+09  1.217138e+09  1.311436e+09  1.281750e+09   \n",
      "\n",
      "             1967  ...          2012          2013          2014  \\\n",
      "1    3.017317e+10  ...  9.505214e+11  9.642424e+11  9.848071e+11   \n",
      "2    1.673333e+09  ...  1.990732e+10  2.014640e+10  2.049713e+10   \n",
      "3    1.442643e+10  ...  7.275714e+11  8.207876e+11  8.649666e+11   \n",
      "4             NaN  ...  1.280529e+11  1.367099e+11  1.457122e+11   \n",
      "5             NaN  ...  1.231983e+10  1.277622e+10  1.322815e+10   \n",
      "..            ...  ...           ...           ...           ...   \n",
      "260           NaN  ...  7.603193e+08  7.700596e+08  7.568059e+08   \n",
      "261           NaN  ...  6.163785e+09  6.735731e+09  7.074658e+09   \n",
      "263  1.377739e+10  ...  4.344005e+11  4.008860e+11  3.811989e+11   \n",
      "264  1.368000e+09  ...  2.550306e+10  2.803724e+10  2.714102e+10   \n",
      "265  1.397002e+09  ...  1.711485e+10  1.909102e+10  1.949552e+10   \n",
      "\n",
      "             2015          2016          2017          2018          2019  \\\n",
      "1    9.199300e+11  8.733549e+11  9.853557e+11  1.012853e+12  1.009910e+12   \n",
      "2    1.913421e+10  1.811656e+10  1.875347e+10  1.805323e+10  1.879945e+10   \n",
      "3    7.607297e+11  6.905430e+11  6.837416e+11  7.416916e+11  7.945725e+11   \n",
      "4    1.161936e+11  1.011239e+11  1.221238e+11  1.013532e+11  8.941719e+10   \n",
      "5    1.138685e+10  1.186120e+10  1.301969e+10  1.515643e+10  1.540024e+10   \n",
      "..            ...           ...           ...           ...           ...   \n",
      "260  7.879586e+08  7.994939e+08  8.320256e+08  8.212869e+08  8.520071e+08   \n",
      "261  6.295820e+09  6.682833e+09  7.180813e+09  7.878509e+09  7.899879e+09   \n",
      "263  3.467098e+11  3.235855e+11  3.814488e+11  4.048421e+11  3.879346e+11   \n",
      "264  2.125122e+10  2.095841e+10  2.587360e+10  2.631159e+10  2.330867e+10   \n",
      "265  1.996312e+10  2.054868e+10  1.758489e+10  1.811554e+10  1.928429e+10   \n",
      "\n",
      "             2020  Unnamed: 65  \n",
      "1    9.207923e+11          NaN  \n",
      "2    2.011614e+10          NaN  \n",
      "3    7.845876e+11          NaN  \n",
      "4    5.837598e+10          NaN  \n",
      "5    1.488763e+10          NaN  \n",
      "..            ...          ...  \n",
      "260  8.071008e+08          NaN  \n",
      "261  7.716925e+09          NaN  \n",
      "263  3.354421e+11          NaN  \n",
      "264  1.811063e+10          NaN  \n",
      "265  1.805117e+10          NaN  \n",
      "\n",
      "[241 rows x 64 columns]\n"
     ]
    }
   ],
   "source": [
    "fifty_million = gdp[gdp['2020'].apply(lambda x: x > 50_000_000)]\n",
    "print(fifty_million)"
   ]
  },
  {
   "cell_type": "code",
   "execution_count": 10,
   "id": "d94dd706",
   "metadata": {},
   "outputs": [
    {
     "name": "stdout",
     "output_type": "stream",
     "text": [
      "            Unnamed: 0  Natural_Gas_Price  Natural_Gas_Vol.  Crude_oil_Price  \\\n",
      "Date                                                                           \n",
      "02-02-2024           0              2.079               NaN            72.28   \n",
      "01-02-2024           1              2.050          161340.0            73.82   \n",
      "31-01-2024           2              2.100          142860.0            75.85   \n",
      "30-01-2024           3              2.077          139750.0            77.82   \n",
      "29-01-2024           4              2.490            3590.0            76.78   \n",
      "\n",
      "            Crude_oil_Vol.  Copper_Price  Copper_Vol. Bitcoin_Price  \\\n",
      "Date                                                                  \n",
      "02-02-2024             NaN        3.8215          NaN     43,194.70   \n",
      "01-02-2024        577940.0        3.8535          NaN     43,081.40   \n",
      "31-01-2024        344490.0        3.9060          NaN     42,580.50   \n",
      "30-01-2024        347240.0        3.9110          NaN     42,946.20   \n",
      "29-01-2024        331930.0        3.8790          NaN     43,299.80   \n",
      "\n",
      "            Bitcoin_Vol. Platinum_Price  ...  Berkshire_Price Berkshire_Vol.  \\\n",
      "Date                                     ...                                   \n",
      "02-02-2024       42650.0          901.6  ...         5,89,498        10580.0   \n",
      "01-02-2024       47690.0          922.3  ...         5,81,600         9780.0   \n",
      "31-01-2024       56480.0          932.6  ...         5,78,020         9720.0   \n",
      "30-01-2024       55130.0          931.7  ...         5,84,680         9750.0   \n",
      "29-01-2024       45230.0          938.3  ...         5,78,800        13850.0   \n",
      "\n",
      "            Netflix_Price Netflix_Vol. Amazon_Price  Amazon_Vol.  Meta_Price  \\\n",
      "Date                                                                           \n",
      "02-02-2024         564.64    4030000.0       171.81  117220000.0      474.99   \n",
      "01-02-2024         567.51    3150000.0       159.28   66360000.0      394.78   \n",
      "31-01-2024         564.11    4830000.0       155.20   49690000.0      390.14   \n",
      "30-01-2024         562.85    6120000.0       159.00   42290000.0      400.06   \n",
      "29-01-2024         575.79    6880000.0       161.26   42840000.0      401.02   \n",
      "\n",
      "             Meta_Vol.  Gold_Price  Gold_Vol.  \n",
      "Date                                           \n",
      "02-02-2024  84710000.0    2,053.70        NaN  \n",
      "01-02-2024  25140000.0    2,071.10   260920.0  \n",
      "31-01-2024  20010000.0    2,067.40   238370.0  \n",
      "30-01-2024  18610000.0    2,050.90   214590.0  \n",
      "29-01-2024  17790000.0    2,034.90     1780.0  \n",
      "\n",
      "[5 rows x 38 columns]\n"
     ]
    }
   ],
   "source": [
    "stock = pd.read_csv(r\"c:/users/danhaya/arewads/arewads-fellowship/Stock_market.csv\", index_col='Date')\n",
    "print(stock.head())"
   ]
  },
  {
   "cell_type": "code",
   "execution_count": 21,
   "id": "511fe0c3",
   "metadata": {},
   "outputs": [
    {
     "name": "stdout",
     "output_type": "stream",
     "text": [
      "            Bitcoin_Vol. Bitcoin_Price\n",
      "Date                                  \n",
      "02-02-2024       42650.0     43,194.70\n",
      "01-02-2024       47690.0     43,081.40\n",
      "31-01-2024       56480.0     42,580.50\n",
      "30-01-2024       55130.0     42,946.20\n",
      "29-01-2024       45230.0     43,299.80\n"
     ]
    }
   ],
   "source": [
    "bitcoin = stock.loc[:, ['Bitcoin_Vol.', 'Bitcoin_Price']]\n",
    "print(bitcoin.head())"
   ]
  },
  {
   "cell_type": "code",
   "execution_count": null,
   "id": "baac9537",
   "metadata": {},
   "outputs": [],
   "source": []
  }
 ],
 "metadata": {
  "kernelspec": {
   "display_name": "base",
   "language": "python",
   "name": "python3"
  },
  "language_info": {
   "codemirror_mode": {
    "name": "ipython",
    "version": 3
   },
   "file_extension": ".py",
   "mimetype": "text/x-python",
   "name": "python",
   "nbconvert_exporter": "python",
   "pygments_lexer": "ipython3",
   "version": "3.12.3"
  }
 },
 "nbformat": 4,
 "nbformat_minor": 5
}

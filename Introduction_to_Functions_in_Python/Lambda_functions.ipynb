{
 "cells": [
  {
   "cell_type": "markdown",
   "id": "4e8ae8aa",
   "metadata": {},
   "source": [
    "# LAMBDA FUNCTIONS"
   ]
  },
  {
   "cell_type": "code",
   "execution_count": 1,
   "id": "1c5169e3",
   "metadata": {},
   "outputs": [
    {
     "name": "stdout",
     "output_type": "stream",
     "text": [
      "8\n"
     ]
    }
   ],
   "source": [
    "raise_to_power = lambda x,y: x ** y\n",
    "num = raise_to_power(2,3)\n",
    "print(num)"
   ]
  },
  {
   "cell_type": "code",
   "execution_count": 3,
   "id": "b5eb3bf3",
   "metadata": {},
   "outputs": [
    {
     "name": "stdout",
     "output_type": "stream",
     "text": [
      "<map object at 0x000001E97C083E50>\n",
      "The squares are hide as the map object.\n"
     ]
    }
   ],
   "source": [
    "# map - function\n",
    "\"\"\" \n",
    "function map takes two arguments map(func, seq)\n",
    "map( ) applies to all element in the sequence.\n",
    "\"\"\"\n",
    "nums = [2, 3, 4, 5, 6, 7, 8, 9, 0]\n",
    "square_all = map(lambda num: num **2, nums)\n",
    "print(square_all)\n",
    "print(\"The squares are hide as the map object.\")\n"
   ]
  },
  {
   "cell_type": "code",
   "execution_count": 4,
   "id": "ce3ff16f",
   "metadata": {},
   "outputs": [
    {
     "name": "stdout",
     "output_type": "stream",
     "text": [
      "[4, 9, 16, 25, 36, 49, 64, 81, 0]\n"
     ]
    }
   ],
   "source": [
    "# les's view it\n",
    "print(list(square_all))"
   ]
  },
  {
   "cell_type": "markdown",
   "id": "dea75a50",
   "metadata": {},
   "source": [
    "# LAMBDA FUCTIONS IN DATAFRAME"
   ]
  },
  {
   "cell_type": "code",
   "execution_count": null,
   "id": "7912d56f",
   "metadata": {},
   "outputs": [],
   "source": []
  }
 ],
 "metadata": {
  "kernelspec": {
   "display_name": "base",
   "language": "python",
   "name": "python3"
  },
  "language_info": {
   "codemirror_mode": {
    "name": "ipython",
    "version": 3
   },
   "file_extension": ".py",
   "mimetype": "text/x-python",
   "name": "python",
   "nbconvert_exporter": "python",
   "pygments_lexer": "ipython3",
   "version": "3.12.3"
  }
 },
 "nbformat": 4,
 "nbformat_minor": 5
}

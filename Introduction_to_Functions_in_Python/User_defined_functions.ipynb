{
 "cells": [
  {
   "cell_type": "markdown",
   "id": "7291d9af",
   "metadata": {},
   "source": [
    "# USER-DEFINED FUNCTIONS"
   ]
  },
  {
   "cell_type": "code",
   "execution_count": 1,
   "id": "9777aa6e",
   "metadata": {},
   "outputs": [
    {
     "name": "stdout",
     "output_type": "stream",
     "text": [
      "25\n"
     ]
    }
   ],
   "source": [
    "def square(value):\n",
    "    \"\"\" returns the square of a value\"\"\"\n",
    "    new_value = value ** 2\n",
    "    return new_value\n",
    "print(square(5))"
   ]
  },
  {
   "cell_type": "code",
   "execution_count": 3,
   "id": "fdb99f5a",
   "metadata": {},
   "outputs": [
    {
     "name": "stdout",
     "output_type": "stream",
     "text": [
      "(np.float64(-2.0), np.float64(-3.0))\n"
     ]
    }
   ],
   "source": [
    "import numpy as np\n",
    "\n",
    "def quadratic_roots(a, b, c):\n",
    "    \"\"\"Returns the roots of a quadratics equations\"\"\"\n",
    "    root1 = (-b + np.sqrt(square(b) - 4 *a*c))/2*a\n",
    "    root2 = (-b - np.sqrt(square(b) - 4 *a*c))/2*a\n",
    "    roots = (root1, root2)\n",
    "    return roots \n",
    "\n",
    "# x2 +5x +6 = 0\n",
    "roots = quadratic_roots(1, 5, 6)\n",
    "print(roots) "
   ]
  },
  {
   "cell_type": "code",
   "execution_count": 4,
   "id": "12c8a9d4",
   "metadata": {},
   "outputs": [
    {
     "name": "stdout",
     "output_type": "stream",
     "text": [
      "8\n"
     ]
    }
   ],
   "source": [
    "def raise_to_power(value1, value2):\n",
    "    \"\"\"Raise value1 to the power of value2\"\"\"\n",
    "    new_value = value1 ** value2\n",
    "    return new_value\n",
    "\n",
    "num = raise_to_power(2, 3)\n",
    "print(num)"
   ]
  },
  {
   "cell_type": "code",
   "execution_count": 5,
   "id": "4cbf3c30",
   "metadata": {},
   "outputs": [
    {
     "name": "stdout",
     "output_type": "stream",
     "text": [
      "[2, 4, 6, 8, 10, 12, 14, 16, 18, 20]\n"
     ]
    }
   ],
   "source": [
    "def filter_even(*args):\n",
    "    \"\"\"Filter even numbers\"\"\"\n",
    "    even_nums =[]\n",
    "    for num in args:\n",
    "        if num % 2 == 0:\n",
    "            even_nums.append(num)\n",
    "    \n",
    "    return even_nums \n",
    "\n",
    "my_list = filter_even(1,2,3,4,5,6,7,8,9,10,11,12,13,14,15,16,17,18,19,20)\n",
    "print(my_list)\n"
   ]
  },
  {
   "cell_type": "code",
   "execution_count": 6,
   "id": "fb26d237",
   "metadata": {},
   "outputs": [
    {
     "name": "stdout",
     "output_type": "stream",
     "text": [
      "100\n",
      "100\n"
     ]
    }
   ],
   "source": [
    "new_value = 10\n",
    "def square(value):\n",
    "    \"\"\"Returns square of a number\"\"\"\n",
    "    global new_value\n",
    "    new_value = value ** 2\n",
    "    return new_value\n",
    "\n",
    "my_num = square(10)\n",
    "print(my_num)\n",
    "print(new_value)"
   ]
  },
  {
   "cell_type": "code",
   "execution_count": null,
   "id": "27b83d9b",
   "metadata": {},
   "outputs": [],
   "source": []
  }
 ],
 "metadata": {
  "kernelspec": {
   "display_name": "base",
   "language": "python",
   "name": "python3"
  },
  "language_info": {
   "codemirror_mode": {
    "name": "ipython",
    "version": 3
   },
   "file_extension": ".py",
   "mimetype": "text/x-python",
   "name": "python",
   "nbconvert_exporter": "python",
   "pygments_lexer": "ipython3",
   "version": "3.12.3"
  }
 },
 "nbformat": 4,
 "nbformat_minor": 5
}

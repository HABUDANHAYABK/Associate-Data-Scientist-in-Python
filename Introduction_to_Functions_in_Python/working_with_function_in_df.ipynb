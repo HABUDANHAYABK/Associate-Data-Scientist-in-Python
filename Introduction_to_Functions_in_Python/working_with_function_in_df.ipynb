{
 "cells": [
  {
   "cell_type": "markdown",
   "id": "0dec2de8",
   "metadata": {},
   "source": [
    "# FUNCTION WITH DATAFRAME"
   ]
  },
  {
   "cell_type": "code",
   "execution_count": 1,
   "id": "82b56b38",
   "metadata": {},
   "outputs": [],
   "source": [
    "import pandas as pd\n",
    "\n",
    "pop = pd.read_csv(r\"c:/users/danhaya/arewads/world-population-dynamics/data/processed_data/processed_data.csv\")"
   ]
  },
  {
   "cell_type": "code",
   "execution_count": 8,
   "id": "e859b5e1",
   "metadata": {},
   "outputs": [],
   "source": [
    "def count_entries(df, col_name):\n",
    "    \"\"\" Returns the dictionary of keys and value count\"\"\"\n",
    "\n",
    "    #Iniatiolize an empty dictionary\n",
    "    cols_counts ={}\n",
    "\n",
    "    #Extract column from Dataframe\n",
    "    col = df[col_name]\n",
    "\n",
    "    #Iterate over the column in Dataframe\n",
    "\n",
    "    for entry in col:\n",
    "        #if entry is in cols_counts, add 1\n",
    "        if entry in cols_counts.keys():\n",
    "            cols_counts[entry] += 1\n",
    "        #Else add the entry to cols_count, set the value to 1\n",
    "        else:\n",
    "            cols_counts[entry] = 1\n",
    "\n",
    "        #Return the cols_count dictionary\n",
    "    return cols_counts\n",
    "\n",
    "\n"
   ]
  },
  {
   "cell_type": "code",
   "execution_count": 9,
   "id": "a8ffcd01",
   "metadata": {},
   "outputs": [
    {
     "name": "stdout",
     "output_type": "stream",
     "text": [
      "{'Asia': 50, 'Europe': 50, 'Africa': 57, 'Oceania': 23, 'North America': 40, 'South America': 14}\n"
     ]
    }
   ],
   "source": [
    "result = count_entries(pop, 'Continent')\n",
    "print(result)"
   ]
  },
  {
   "cell_type": "code",
   "execution_count": 14,
   "id": "d7810054",
   "metadata": {},
   "outputs": [],
   "source": [
    "def summary_statistics(df, col_name):\n",
    "    \"\"\"Returns dictionary with summary statistics of the dataframe\"\"\"\n",
    "    sum_sta ={}\n",
    "    col = df[col_name]\n",
    "\n",
    "    sum_sta = {\n",
    "        'mean' : round(col.mean(), 2),\n",
    "        'median': round(col.median(), 2),\n",
    "        'std': round(col.std(), 2)}\n",
    "    return sum_sta\n",
    "\n"
   ]
  },
  {
   "cell_type": "code",
   "execution_count": 15,
   "id": "4c38743d",
   "metadata": {},
   "outputs": [
    {
     "name": "stdout",
     "output_type": "stream",
     "text": [
      "{'mean': np.float64(33501070.95), 'median': np.float64(5493074.5), 'std': np.float64(135589876.92)}\n"
     ]
    }
   ],
   "source": [
    "my_data = summary_statistics(pop, '2020 Population')\n",
    "print(my_data)"
   ]
  },
  {
   "cell_type": "code",
   "execution_count": 17,
   "id": "3a2b9188",
   "metadata": {},
   "outputs": [],
   "source": [
    "# modified count_entries\n",
    "def count_entries(df, col_name):\n",
    "    \"\"\"Returns the dictionary counts\"\"\"\n",
    "    col_counts ={}\n",
    "    col = df[col_name]\n",
    "\n",
    "    try:\n",
    "        for entry in col:\n",
    "            if entry in col_counts.keys():\n",
    "                col_counts[entry] +=1\n",
    "            else:\n",
    "                col_counts[entry]=1\n",
    "        return col_counts\n",
    "        \n",
    "    except TypeError:\n",
    "        print(\"the column is'nt available in the DataFrame\")\n",
    "\n",
    "    "
   ]
  },
  {
   "cell_type": "code",
   "execution_count": 18,
   "id": "119a34a4",
   "metadata": {},
   "outputs": [],
   "source": [
    "my_data =count_entries(pop, 'Continent')"
   ]
  },
  {
   "cell_type": "code",
   "execution_count": 19,
   "id": "2d59e759",
   "metadata": {},
   "outputs": [
    {
     "name": "stdout",
     "output_type": "stream",
     "text": [
      "{'Asia': 50, 'Europe': 50, 'Africa': 57, 'Oceania': 23, 'North America': 40, 'South America': 14}\n"
     ]
    }
   ],
   "source": [
    "print(my_data)"
   ]
  },
  {
   "cell_type": "code",
   "execution_count": 20,
   "id": "9cd2af6e",
   "metadata": {},
   "outputs": [
    {
     "name": "stdout",
     "output_type": "stream",
     "text": [
      "{'Afghanistan': 1, 'Albania': 1, 'Algeria': 1, 'American Samoa': 1, 'Andorra': 1, 'Angola': 1, 'Anguilla': 1, 'Antigua and Barbuda': 1, 'Argentina': 1, 'Armenia': 1, 'Aruba': 1, 'Australia': 1, 'Austria': 1, 'Azerbaijan': 1, 'Bahamas': 1, 'Bahrain': 1, 'Bangladesh': 1, 'Barbados': 1, 'Belarus': 1, 'Belgium': 1, 'Belize': 1, 'Benin': 1, 'Bermuda': 1, 'Bhutan': 1, 'Bolivia': 1, 'Bosnia and Herzegovina': 1, 'Botswana': 1, 'Brazil': 1, 'British Virgin Islands': 1, 'Brunei': 1, 'Bulgaria': 1, 'Burkina Faso': 1, 'Burundi': 1, 'Cambodia': 1, 'Cameroon': 1, 'Canada': 1, 'Cape Verde': 1, 'Cayman Islands': 1, 'Central African Republic': 1, 'Chad': 1, 'Chile': 1, 'China': 1, 'Colombia': 1, 'Comoros': 1, 'Cook Islands': 1, 'Costa Rica': 1, 'Croatia': 1, 'Cuba': 1, 'Curacao': 1, 'Cyprus': 1, 'Czech Republic': 1, 'Denmark': 1, 'Djibouti': 1, 'Dominica': 1, 'Dominican Republic': 1, 'DR Congo': 1, 'Ecuador': 1, 'Egypt': 1, 'El Salvador': 1, 'Equatorial Guinea': 1, 'Eritrea': 1, 'Estonia': 1, 'Eswatini': 1, 'Ethiopia': 1, 'Falkland Islands': 1, 'Faroe Islands': 1, 'Fiji': 1, 'Finland': 1, 'France': 1, 'French Guiana': 1, 'French Polynesia': 1, 'Gabon': 1, 'Gambia': 1, 'Georgia': 1, 'Germany': 1, 'Ghana': 1, 'Gibraltar': 1, 'Greece': 1, 'Greenland': 1, 'Grenada': 1, 'Guadeloupe': 1, 'Guam': 1, 'Guatemala': 1, 'Guernsey': 1, 'Guinea': 1, 'Guinea-Bissau': 1, 'Guyana': 1, 'Haiti': 1, 'Honduras': 1, 'Hong Kong': 1, 'Hungary': 1, 'Iceland': 1, 'India': 1, 'Indonesia': 1, 'Iran': 1, 'Iraq': 1, 'Ireland': 1, 'Isle of Man': 1, 'Israel': 1, 'Italy': 1, 'Ivory Coast': 1, 'Jamaica': 1, 'Japan': 1, 'Jersey': 1, 'Jordan': 1, 'Kazakhstan': 1, 'Kenya': 1, 'Kiribati': 1, 'Kuwait': 1, 'Kyrgyzstan': 1, 'Laos': 1, 'Latvia': 1, 'Lebanon': 1, 'Lesotho': 1, 'Liberia': 1, 'Libya': 1, 'Liechtenstein': 1, 'Lithuania': 1, 'Luxembourg': 1, 'Macau': 1, 'Madagascar': 1, 'Malawi': 1, 'Malaysia': 1, 'Maldives': 1, 'Mali': 1, 'Malta': 1, 'Marshall Islands': 1, 'Martinique': 1, 'Mauritania': 1, 'Mauritius': 1, 'Mayotte': 1, 'Mexico': 1, 'Micronesia': 1, 'Moldova': 1, 'Monaco': 1, 'Mongolia': 1, 'Montenegro': 1, 'Montserrat': 1, 'Morocco': 1, 'Mozambique': 1, 'Myanmar': 1, 'Namibia': 1, 'Nauru': 1, 'Nepal': 1, 'Netherlands': 1, 'New Caledonia': 1, 'New Zealand': 1, 'Nicaragua': 1, 'Niger': 1, 'Nigeria': 1, 'Niue': 1, 'North Korea': 1, 'North Macedonia': 1, 'Northern Mariana Islands': 1, 'Norway': 1, 'Oman': 1, 'Pakistan': 1, 'Palau': 1, 'Palestine': 1, 'Panama': 1, 'Papua New Guinea': 1, 'Paraguay': 1, 'Peru': 1, 'Philippines': 1, 'Poland': 1, 'Portugal': 1, 'Puerto Rico': 1, 'Qatar': 1, 'Republic of the Congo': 1, 'Reunion': 1, 'Romania': 1, 'Russia': 1, 'Rwanda': 1, 'Saint Barthelemy': 1, 'Saint Kitts and Nevis': 1, 'Saint Lucia': 1, 'Saint Martin': 1, 'Saint Pierre and Miquelon': 1, 'Saint Vincent and the Grenadines': 1, 'Samoa': 1, 'San Marino': 1, 'Sao Tome and Principe': 1, 'Saudi Arabia': 1, 'Senegal': 1, 'Serbia': 1, 'Seychelles': 1, 'Sierra Leone': 1, 'Singapore': 1, 'Sint Maarten': 1, 'Slovakia': 1, 'Slovenia': 1, 'Solomon Islands': 1, 'Somalia': 1, 'South Africa': 1, 'South Korea': 1, 'South Sudan': 1, 'Spain': 1, 'Sri Lanka': 1, 'Sudan': 1, 'Suriname': 1, 'Sweden': 1, 'Switzerland': 1, 'Syria': 1, 'Taiwan': 1, 'Tajikistan': 1, 'Tanzania': 1, 'Thailand': 1, 'Timor-Leste': 1, 'Togo': 1, 'Tokelau': 1, 'Tonga': 1, 'Trinidad and Tobago': 1, 'Tunisia': 1, 'Turkey': 1, 'Turkmenistan': 1, 'Turks and Caicos Islands': 1, 'Tuvalu': 1, 'Uganda': 1, 'Ukraine': 1, 'United Arab Emirates': 1, 'United Kingdom': 1, 'United States': 1, 'United States Virgin Islands': 1, 'Uruguay': 1, 'Uzbekistan': 1, 'Vanuatu': 1, 'Vatican City': 1, 'Venezuela': 1, 'Vietnam': 1, 'Wallis and Futuna': 1, 'Western Sahara': 1, 'Yemen': 1, 'Zambia': 1, 'Zimbabwe': 1}\n"
     ]
    }
   ],
   "source": [
    "countries = count_entries(pop, 'Country/Territory')\n",
    "print(countries)"
   ]
  },
  {
   "cell_type": "code",
   "execution_count": null,
   "id": "77c01a81",
   "metadata": {},
   "outputs": [],
   "source": []
  }
 ],
 "metadata": {
  "kernelspec": {
   "display_name": "base",
   "language": "python",
   "name": "python3"
  },
  "language_info": {
   "codemirror_mode": {
    "name": "ipython",
    "version": 3
   },
   "file_extension": ".py",
   "mimetype": "text/x-python",
   "name": "python",
   "nbconvert_exporter": "python",
   "pygments_lexer": "ipython3",
   "version": "3.12.3"
  }
 },
 "nbformat": 4,
 "nbformat_minor": 5
}

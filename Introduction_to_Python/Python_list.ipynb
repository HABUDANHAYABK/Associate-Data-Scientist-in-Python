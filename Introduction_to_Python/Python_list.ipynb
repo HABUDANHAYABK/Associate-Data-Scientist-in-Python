{
 "cells": [
  {
   "cell_type": "markdown",
   "metadata": {},
   "source": [
    "# Introduction to python list\n",
    "\n",
    "_This the summary of what i have learn in the introduction to python list with DataCamp_"
   ]
  },
  {
   "cell_type": "code",
   "execution_count": 1,
   "metadata": {},
   "outputs": [
    {
     "name": "stdout",
     "output_type": "stream",
     "text": [
      "[1, 2, 3, 4, 5, 6, 7, 8, 9, 0]\n",
      "<class 'list'>\n"
     ]
    }
   ],
   "source": [
    "# Creating a list\n",
    "num = [1, 2, 3, 4, 5, 6, 7, 8, 9, 0]\n",
    "print(num)\n",
    "print(type(num))"
   ]
  },
  {
   "cell_type": "code",
   "execution_count": 2,
   "metadata": {},
   "outputs": [
    {
     "name": "stdout",
     "output_type": "stream",
     "text": [
      "[['liz', 1.68], ['emma', 1.75], ['mom', 1.6], ['dad', 1.85]]\n"
     ]
    }
   ],
   "source": [
    "#Creating a list with sublist\n",
    "fam2 = [[\"liz\", 1.68], [\"emma\", 1.75], [\"mom\", 1.60], [\"dad\", 1.85]]\n",
    "print(fam2)"
   ]
  },
  {
   "cell_type": "code",
   "execution_count": 4,
   "metadata": {},
   "outputs": [
    {
     "name": "stdout",
     "output_type": "stream",
     "text": [
      "[['emma', 1.75], ['mom', 1.6]]\n"
     ]
    }
   ],
   "source": [
    "#slicing\n",
    "# let me print the emma and mom and their heighs\n",
    "print(fam2[1:3])"
   ]
  },
  {
   "cell_type": "code",
   "execution_count": 6,
   "metadata": {},
   "outputs": [],
   "source": [
    "areas = [\"hallway\", 11.25, \"kitchen\", 18.0, \"living room\", 20.0, \"bedroom\", 10.75, \"bathroom\", 9.50]\n"
   ]
  },
  {
   "cell_type": "markdown",
   "metadata": {},
   "source": [
    "Use slicing to create a list, downstairs, that contains the first 6 elements of areas"
   ]
  },
  {
   "cell_type": "code",
   "execution_count": 9,
   "metadata": {},
   "outputs": [
    {
     "name": "stdout",
     "output_type": "stream",
     "text": [
      "['hallway', 11.25, 'kitchen', 18.0, 'living room', 20.0]\n"
     ]
    }
   ],
   "source": [
    "downstairs = areas[0:6]\n",
    "print(downstairs)"
   ]
  },
  {
   "cell_type": "markdown",
   "metadata": {},
   "source": [
    "create upstairs, as the last 4 elements of the areas"
   ]
  },
  {
   "cell_type": "code",
   "execution_count": 10,
   "metadata": {},
   "outputs": [
    {
     "name": "stdout",
     "output_type": "stream",
     "text": [
      "['bedroom', 10.75, 'bathroom', 9.5]\n"
     ]
    }
   ],
   "source": [
    "upstairs = areas[-4:]\n",
    "print(upstairs)"
   ]
  },
  {
   "cell_type": "markdown",
   "metadata": {},
   "source": [
    "### Extend a list\n",
    "_Use the + operator to paste the paste the list [\"poolhouse\", 24.5] to the end of the areas list. store the resulting list as area_1 and further extend areas_1 by adding \"garage\", 15.45. name the resulting list areas_2"
   ]
  },
  {
   "cell_type": "code",
   "execution_count": 11,
   "metadata": {},
   "outputs": [
    {
     "name": "stdout",
     "output_type": "stream",
     "text": [
      "['hallway', 11.25, 'kitchen', 18.0, 'living room', 20.0, 'bedroom', 10.75, 'bathroom', 9.5, 'poolhouse', 24.5]\n"
     ]
    }
   ],
   "source": [
    "areas_1 = areas + [\"poolhouse\", 24.5]\n",
    "print(areas_1)"
   ]
  },
  {
   "cell_type": "code",
   "execution_count": 12,
   "metadata": {},
   "outputs": [
    {
     "name": "stdout",
     "output_type": "stream",
     "text": [
      "['hallway', 11.25, 'kitchen', 18.0, 'living room', 20.0, 'bedroom', 10.75, 'bathroom', 9.5, 'poolhouse', 24.5, 'garage', 15.45]\n"
     ]
    }
   ],
   "source": [
    "areas_2 = areas_1 + [\"garage\", 15.45]\n",
    "print(areas_2)"
   ]
  },
  {
   "cell_type": "code",
   "execution_count": 13,
   "metadata": {},
   "outputs": [
    {
     "name": "stdout",
     "output_type": "stream",
     "text": [
      "modified area: [5.0, 18.0, 20.0, 10.75, 9.5]\n",
      "Original area: [11.25, 18.0, 20.0, 10.75, 9.5]\n"
     ]
    }
   ],
   "source": [
    "#copy a list\n",
    "areas = [11.25, 18.0, 20.0, 10.75, 9.50]\n",
    "areas_copy = areas[:]\n",
    "# let me change 11.25 to 5.0\n",
    "areas_copy[0]= 5.0\n",
    "print(f\"modified area: {areas_copy}\")\n",
    "print(f\"Original area: {areas}\")\n"
   ]
  },
  {
   "cell_type": "code",
   "execution_count": null,
   "metadata": {},
   "outputs": [],
   "source": []
  }
 ],
 "metadata": {
  "kernelspec": {
   "display_name": "base",
   "language": "python",
   "name": "python3"
  },
  "language_info": {
   "codemirror_mode": {
    "name": "ipython",
    "version": 3
   },
   "file_extension": ".py",
   "mimetype": "text/x-python",
   "name": "python",
   "nbconvert_exporter": "python",
   "pygments_lexer": "ipython3",
   "version": "3.12.3"
  }
 },
 "nbformat": 4,
 "nbformat_minor": 2
}

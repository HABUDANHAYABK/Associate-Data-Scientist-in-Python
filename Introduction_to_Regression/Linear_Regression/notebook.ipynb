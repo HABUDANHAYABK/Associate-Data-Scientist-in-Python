{
 "cells": [
  {
   "cell_type": "markdown",
   "id": "84c5b10a",
   "metadata": {},
   "source": [
    "# Predictive Modelling with Linear Regression\n",
    "\n",
    "### `About Dataset`\n",
    "The dataset contains information on auto insurance claims across different geographical zones in Sweden. it comprises two main variables.\n",
    "- X: Number of claims\n",
    "- Y: Total payment for all claims in thousands of Swedish Kronor  \n",
    "\n",
    "The data was collected and compiled by the Swedish Commitee on Analysis of Risk Premium in Motor Insurance. The exact time period represented by the data is unspecified.\n",
    "\n",
    "***\n",
    "### Content\n",
    "Beyond its tabular format, this dataset offers valueable insights for insurance risk assessment and management.\n",
    "### Inspiration\n",
    "This dataset presents a unique opportunity for the data science community to explore various facests of auto insurance. Potential questions for the analysis includes:\n",
    "- How does the number of claims correlate with the total payment?\n",
    "- Can we accurately predict the total payment based on the number of claims\n",
    "- Are there geographical patterns in the data that could inform insurance pricing strategies?\n",
    "\n",
    "let us dive into the data and leverage predictive modelling techniques, specially linear regression, to uncover actionable insights.\n",
    "  "
   ]
  },
  {
   "cell_type": "code",
   "execution_count": 18,
   "id": "38ae6e2b",
   "metadata": {},
   "outputs": [],
   "source": [
    "# import libraries\n",
    "\n",
    "import pandas as pd\n",
    "import seaborn as sns\n",
    "import matplotlib.pyplot as plt\n",
    "import numpy as np\n",
    "from sklearn.model_selection import train_test_split\n",
    "from sklearn.linear_model import LinearRegression"
   ]
  },
  {
   "cell_type": "code",
   "execution_count": 19,
   "id": "23a05040",
   "metadata": {},
   "outputs": [
    {
     "data": {
      "application/vnd.microsoft.datawrangler.viewer.v0+json": {
       "columns": [
        {
         "name": "index",
         "rawType": "int64",
         "type": "integer"
        },
        {
         "name": "X",
         "rawType": "int64",
         "type": "integer"
        },
        {
         "name": "Y",
         "rawType": "float64",
         "type": "float"
        }
       ],
       "ref": "665881e8-08bb-490f-818d-49ad037b4ad2",
       "rows": [
        [
         "0",
         "108",
         "392.5"
        ],
        [
         "1",
         "19",
         "46.2"
        ],
        [
         "2",
         "13",
         "15.7"
        ],
        [
         "3",
         "124",
         "422.2"
        ],
        [
         "4",
         "40",
         "119.4"
        ]
       ],
       "shape": {
        "columns": 2,
        "rows": 5
       }
      },
      "text/html": [
       "<div>\n",
       "<style scoped>\n",
       "    .dataframe tbody tr th:only-of-type {\n",
       "        vertical-align: middle;\n",
       "    }\n",
       "\n",
       "    .dataframe tbody tr th {\n",
       "        vertical-align: top;\n",
       "    }\n",
       "\n",
       "    .dataframe thead th {\n",
       "        text-align: right;\n",
       "    }\n",
       "</style>\n",
       "<table border=\"1\" class=\"dataframe\">\n",
       "  <thead>\n",
       "    <tr style=\"text-align: right;\">\n",
       "      <th></th>\n",
       "      <th>X</th>\n",
       "      <th>Y</th>\n",
       "    </tr>\n",
       "  </thead>\n",
       "  <tbody>\n",
       "    <tr>\n",
       "      <th>0</th>\n",
       "      <td>108</td>\n",
       "      <td>392.5</td>\n",
       "    </tr>\n",
       "    <tr>\n",
       "      <th>1</th>\n",
       "      <td>19</td>\n",
       "      <td>46.2</td>\n",
       "    </tr>\n",
       "    <tr>\n",
       "      <th>2</th>\n",
       "      <td>13</td>\n",
       "      <td>15.7</td>\n",
       "    </tr>\n",
       "    <tr>\n",
       "      <th>3</th>\n",
       "      <td>124</td>\n",
       "      <td>422.2</td>\n",
       "    </tr>\n",
       "    <tr>\n",
       "      <th>4</th>\n",
       "      <td>40</td>\n",
       "      <td>119.4</td>\n",
       "    </tr>\n",
       "  </tbody>\n",
       "</table>\n",
       "</div>"
      ],
      "text/plain": [
       "     X      Y\n",
       "0  108  392.5\n",
       "1   19   46.2\n",
       "2   13   15.7\n",
       "3  124  422.2\n",
       "4   40  119.4"
      ]
     },
     "execution_count": 19,
     "metadata": {},
     "output_type": "execute_result"
    }
   ],
   "source": [
    "# load Dataset\n",
    "\n",
    "df = pd.read_csv(r\"c:/users/danhaya/arewads/associate-data-scientist-in-python/data/swedish_insurance.csv\")\n",
    "df.head()"
   ]
  },
  {
   "cell_type": "code",
   "execution_count": 20,
   "id": "06f03e63",
   "metadata": {},
   "outputs": [
    {
     "data": {
      "application/vnd.microsoft.datawrangler.viewer.v0+json": {
       "columns": [
        {
         "name": "index",
         "rawType": "int64",
         "type": "integer"
        },
        {
         "name": "claims",
         "rawType": "int64",
         "type": "integer"
        },
        {
         "name": "payment",
         "rawType": "float64",
         "type": "float"
        }
       ],
       "ref": "3ab95d03-fa8e-41e1-b1b8-391520f41601",
       "rows": [
        [
         "0",
         "108",
         "392.5"
        ],
        [
         "1",
         "19",
         "46.2"
        ],
        [
         "2",
         "13",
         "15.7"
        ],
        [
         "3",
         "124",
         "422.2"
        ],
        [
         "4",
         "40",
         "119.4"
        ]
       ],
       "shape": {
        "columns": 2,
        "rows": 5
       }
      },
      "text/html": [
       "<div>\n",
       "<style scoped>\n",
       "    .dataframe tbody tr th:only-of-type {\n",
       "        vertical-align: middle;\n",
       "    }\n",
       "\n",
       "    .dataframe tbody tr th {\n",
       "        vertical-align: top;\n",
       "    }\n",
       "\n",
       "    .dataframe thead th {\n",
       "        text-align: right;\n",
       "    }\n",
       "</style>\n",
       "<table border=\"1\" class=\"dataframe\">\n",
       "  <thead>\n",
       "    <tr style=\"text-align: right;\">\n",
       "      <th></th>\n",
       "      <th>claims</th>\n",
       "      <th>payment</th>\n",
       "    </tr>\n",
       "  </thead>\n",
       "  <tbody>\n",
       "    <tr>\n",
       "      <th>0</th>\n",
       "      <td>108</td>\n",
       "      <td>392.5</td>\n",
       "    </tr>\n",
       "    <tr>\n",
       "      <th>1</th>\n",
       "      <td>19</td>\n",
       "      <td>46.2</td>\n",
       "    </tr>\n",
       "    <tr>\n",
       "      <th>2</th>\n",
       "      <td>13</td>\n",
       "      <td>15.7</td>\n",
       "    </tr>\n",
       "    <tr>\n",
       "      <th>3</th>\n",
       "      <td>124</td>\n",
       "      <td>422.2</td>\n",
       "    </tr>\n",
       "    <tr>\n",
       "      <th>4</th>\n",
       "      <td>40</td>\n",
       "      <td>119.4</td>\n",
       "    </tr>\n",
       "  </tbody>\n",
       "</table>\n",
       "</div>"
      ],
      "text/plain": [
       "   claims  payment\n",
       "0     108    392.5\n",
       "1      19     46.2\n",
       "2      13     15.7\n",
       "3     124    422.2\n",
       "4      40    119.4"
      ]
     },
     "execution_count": 20,
     "metadata": {},
     "output_type": "execute_result"
    }
   ],
   "source": [
    "# rename of columns\n",
    "\n",
    "df.rename(columns={\n",
    "    'X': 'claims',\n",
    "    'Y': 'payment'\n",
    "}, inplace=True)\n",
    "\n",
    "df.head()"
   ]
  },
  {
   "cell_type": "markdown",
   "id": "03cd047c",
   "metadata": {},
   "source": [
    "`Initial Data explorations`\n",
    "\n",
    "let's visualize the dataframe to check if the data is linear."
   ]
  },
  {
   "cell_type": "code",
   "execution_count": 21,
   "id": "b46f88ea",
   "metadata": {},
   "outputs": [
    {
     "data": {
      "image/png": "[encoded data removed]",
      "text/plain": [
       "<Figure size 500x400 with 1 Axes>"
      ]
     },
     "metadata": {},
     "output_type": "display_data"
    }
   ],
   "source": [
    "ax, fig = plt.subplots(figsize=(5, 4))\n",
    "sns.scatterplot(\n",
    "    x='claims',\n",
    "    y= 'payment',\n",
    "    data = df\n",
    ")\n",
    "\n",
    "plt.show()\n"
   ]
  },
  {
   "cell_type": "markdown",
   "id": "f4096e8e",
   "metadata": {},
   "source": [
    "from the graph, we can say there's a relationship between claims and payment. now let's find the strength of the relationship using correlation coefficient (**_r_**)"
   ]
  },
  {
   "cell_type": "code",
   "execution_count": 22,
   "id": "748bc46a",
   "metadata": {},
   "outputs": [
    {
     "name": "stdout",
     "output_type": "stream",
     "text": [
      "The strength of the linear relationship between claims and payment is 0.91\n"
     ]
    }
   ],
   "source": [
    "cor = df['claims'].corr(df['payment'])\n",
    "print(f\"The strength of the linear relationship between claims and payment is {cor:.2f}\")"
   ]
  },
  {
   "cell_type": "code",
   "execution_count": 23,
   "id": "c49bfd51",
   "metadata": {},
   "outputs": [
    {
     "data": {
      "application/vnd.microsoft.datawrangler.viewer.v0+json": {
       "columns": [
        {
         "name": "index",
         "rawType": "object",
         "type": "string"
        },
        {
         "name": "claims",
         "rawType": "float64",
         "type": "float"
        },
        {
         "name": "payment",
         "rawType": "float64",
         "type": "float"
        }
       ],
       "ref": "fcead873-94a7-41bf-85c6-1a53cc6bcdc7",
       "rows": [
        [
         "count",
         "63.0",
         "63.0"
        ],
        [
         "mean",
         "22.904761904761905",
         "98.18730158730159"
        ],
        [
         "std",
         "23.35194561605734",
         "87.32755263404981"
        ],
        [
         "min",
         "0.0",
         "0.0"
        ],
        [
         "25%",
         "7.5",
         "38.85"
        ],
        [
         "50%",
         "14.0",
         "73.4"
        ],
        [
         "75%",
         "29.0",
         "140.0"
        ],
        [
         "max",
         "124.0",
         "422.2"
        ]
       ],
       "shape": {
        "columns": 2,
        "rows": 8
       }
      },
      "text/html": [
       "<div>\n",
       "<style scoped>\n",
       "    .dataframe tbody tr th:only-of-type {\n",
       "        vertical-align: middle;\n",
       "    }\n",
       "\n",
       "    .dataframe tbody tr th {\n",
       "        vertical-align: top;\n",
       "    }\n",
       "\n",
       "    .dataframe thead th {\n",
       "        text-align: right;\n",
       "    }\n",
       "</style>\n",
       "<table border=\"1\" class=\"dataframe\">\n",
       "  <thead>\n",
       "    <tr style=\"text-align: right;\">\n",
       "      <th></th>\n",
       "      <th>claims</th>\n",
       "      <th>payment</th>\n",
       "    </tr>\n",
       "  </thead>\n",
       "  <tbody>\n",
       "    <tr>\n",
       "      <th>count</th>\n",
       "      <td>63.000000</td>\n",
       "      <td>63.000000</td>\n",
       "    </tr>\n",
       "    <tr>\n",
       "      <th>mean</th>\n",
       "      <td>22.904762</td>\n",
       "      <td>98.187302</td>\n",
       "    </tr>\n",
       "    <tr>\n",
       "      <th>std</th>\n",
       "      <td>23.351946</td>\n",
       "      <td>87.327553</td>\n",
       "    </tr>\n",
       "    <tr>\n",
       "      <th>min</th>\n",
       "      <td>0.000000</td>\n",
       "      <td>0.000000</td>\n",
       "    </tr>\n",
       "    <tr>\n",
       "      <th>25%</th>\n",
       "      <td>7.500000</td>\n",
       "      <td>38.850000</td>\n",
       "    </tr>\n",
       "    <tr>\n",
       "      <th>50%</th>\n",
       "      <td>14.000000</td>\n",
       "      <td>73.400000</td>\n",
       "    </tr>\n",
       "    <tr>\n",
       "      <th>75%</th>\n",
       "      <td>29.000000</td>\n",
       "      <td>140.000000</td>\n",
       "    </tr>\n",
       "    <tr>\n",
       "      <th>max</th>\n",
       "      <td>124.000000</td>\n",
       "      <td>422.200000</td>\n",
       "    </tr>\n",
       "  </tbody>\n",
       "</table>\n",
       "</div>"
      ],
      "text/plain": [
       "           claims     payment\n",
       "count   63.000000   63.000000\n",
       "mean    22.904762   98.187302\n",
       "std     23.351946   87.327553\n",
       "min      0.000000    0.000000\n",
       "25%      7.500000   38.850000\n",
       "50%     14.000000   73.400000\n",
       "75%     29.000000  140.000000\n",
       "max    124.000000  422.200000"
      ]
     },
     "execution_count": 23,
     "metadata": {},
     "output_type": "execute_result"
    }
   ],
   "source": [
    "# let's explore the dataset\n",
    "\n",
    "df.describe()"
   ]
  },
  {
   "cell_type": "markdown",
   "id": "869bc219",
   "metadata": {},
   "source": [
    "check for missing data"
   ]
  },
  {
   "cell_type": "code",
   "execution_count": 24,
   "id": "fbae1427",
   "metadata": {},
   "outputs": [
    {
     "data": {
      "application/vnd.microsoft.datawrangler.viewer.v0+json": {
       "columns": [
        {
         "name": "index",
         "rawType": "object",
         "type": "string"
        },
        {
         "name": "0",
         "rawType": "int64",
         "type": "integer"
        }
       ],
       "ref": "e299fdd2-ec80-4ed2-9310-a87326c063fe",
       "rows": [
        [
         "claims",
         "0"
        ],
        [
         "payment",
         "0"
        ]
       ],
       "shape": {
        "columns": 1,
        "rows": 2
       }
      },
      "text/plain": [
       "claims     0\n",
       "payment    0\n",
       "dtype: int64"
      ]
     },
     "execution_count": 24,
     "metadata": {},
     "output_type": "execute_result"
    }
   ],
   "source": [
    "df.isnull().sum()"
   ]
  },
  {
   "cell_type": "markdown",
   "id": "9e90f169",
   "metadata": {},
   "source": [
    "Good, the dataset has no missing values and now lets check for duplicates."
   ]
  },
  {
   "cell_type": "code",
   "execution_count": 25,
   "id": "8941bbe3",
   "metadata": {},
   "outputs": [
    {
     "data": {
      "text/plain": [
       "np.int64(0)"
      ]
     },
     "execution_count": 25,
     "metadata": {},
     "output_type": "execute_result"
    }
   ],
   "source": [
    "df.duplicated().sum()"
   ]
  },
  {
   "cell_type": "markdown",
   "id": "fb008527",
   "metadata": {},
   "source": [
    "excellent, dataset has no duplicates value as well."
   ]
  },
  {
   "cell_type": "code",
   "execution_count": 26,
   "id": "edf5b5c9",
   "metadata": {},
   "outputs": [
    {
     "data": {
      "image/png": "[encoded data removed]",
      "text/plain": [
       "<Figure size 1000x600 with 1 Axes>"
      ]
     },
     "metadata": {},
     "output_type": "display_data"
    }
   ],
   "source": [
    "#check for outliers\n",
    "\n",
    "plt.figure(figsize=(10, 6))\n",
    "df.boxplot()\n",
    "plt.title(\"Box plot of data\")\n",
    "plt.ylabel(\"values\")\n",
    "plt.grid(True)\n",
    "\n",
    "plt.show()"
   ]
  },
  {
   "cell_type": "markdown",
   "id": "b267f76b",
   "metadata": {},
   "source": [
    "Ok, we have some outliers in the dataset. let's handle them"
   ]
  },
  {
   "cell_type": "code",
   "execution_count": 27,
   "id": "22c4eafe",
   "metadata": {},
   "outputs": [],
   "source": [
    "# import interquantile range from scipy.stats\n",
    "\n",
    "from scipy.stats import iqr"
   ]
  },
  {
   "cell_type": "code",
   "execution_count": 28,
   "id": "419df637",
   "metadata": {},
   "outputs": [],
   "source": [
    "# Handling outliers\n",
    "\n",
    "#remove outliers from claims col\n",
    "\n",
    "iqr_cl = iqr(df['claims'])\n",
    "\n",
    "lower_threshold_cl = np.quantile(df['claims'], 0.25) - 1.5*iqr_cl\n",
    "upper_threshold_cl = np.quantile(df['claims'], 0.75) + 1.5*iqr_cl\n",
    "\n",
    "df_clean_cl = df[(df['claims'] >= lower_threshold_cl) & (df['claims'] <= upper_threshold_cl)]"
   ]
  },
  {
   "cell_type": "code",
   "execution_count": 29,
   "id": "f7ea4a7e",
   "metadata": {},
   "outputs": [
    {
     "data": {
      "image/png": "[encoded data removed]",
      "text/plain": [
       "<Figure size 1000x600 with 1 Axes>"
      ]
     },
     "metadata": {},
     "output_type": "display_data"
    }
   ],
   "source": [
    "#remove outliers from payment col\n",
    "\n",
    "iqr_py = iqr(df['payment'])\n",
    "\n",
    "lower_threshold_py = np.quantile(df['payment'], 0.25) - 1.5*iqr_cl\n",
    "upper_threshold_py = np.quantile(df['payment'], 0.75) + 1.5*iqr_cl\n",
    "\n",
    "df_clean = df[(df['payment'] >= lower_threshold_cl) & (df['payment'] <= upper_threshold_cl)]\n",
    "\n",
    "#let's visualize it\n",
    "\n",
    "plt.figure(figsize=(10, 6))\n",
    "df_clean.boxplot()\n",
    "plt.title(\"Box plot of cleaned dataset\")\n",
    "plt.ylabel(\"values\")\n",
    "plt.grid(True)\n",
    "\n",
    "plt.show()"
   ]
  },
  {
   "cell_type": "markdown",
   "id": "c1dfa6d3",
   "metadata": {},
   "source": [
    "## `Modelling`"
   ]
  },
  {
   "cell_type": "code",
   "execution_count": 33,
   "id": "26d56d6d",
   "metadata": {},
   "outputs": [
    {
     "name": "stdout",
     "output_type": "stream",
     "text": [
      "Accuracy Score: 89.51%\n"
     ]
    }
   ],
   "source": [
    "# split data into X and y\n",
    "\n",
    "X= df[['claims']]\n",
    "y = df['payment']\n",
    "\n",
    "#split data into train and test sets\n",
    "X_train, X_test, y_train, y_test = train_test_split(X, y, test_size=0.2, random_state=42)\n",
    "model = LinearRegression()\n",
    "model.fit(X_train, y_train)\n",
    "y_pred = model.predict(X)\n",
    "\n",
    "print(f\"Accuracy Score: {model.score(X_test, y_test)*100:.2f}%\")"
   ]
  },
  {
   "cell_type": "code",
   "execution_count": 34,
   "id": "10a0a53d",
   "metadata": {},
   "outputs": [
    {
     "data": {
      "image/png": "[encoded data removed]",
      "text/plain": [
       "<Figure size 640x480 with 1 Axes>"
      ]
     },
     "metadata": {},
     "output_type": "display_data"
    }
   ],
   "source": [
    "plt.Figure(figsize=(5,6))\n",
    "sns.scatterplot(\n",
    "    x='claims',\n",
    "    y='payment',\n",
    "    data = df\n",
    ")\n",
    "\n",
    "plt.plot(df['claims'], y_pred, color = 'red')\n",
    "plt.legend(['org_data', 'pred_line'])\n",
    "\n",
    "plt.show()"
   ]
  },
  {
   "cell_type": "markdown",
   "id": "9c1239fc",
   "metadata": {},
   "source": [
    "# THANK YOU"
   ]
  }
 ],
 "metadata": {
  "kernelspec": {
   "display_name": "base",
   "language": "python",
   "name": "python3"
  },
  "language_info": {
   "codemirror_mode": {
    "name": "ipython",
    "version": 3
   },
   "file_extension": ".py",
   "mimetype": "text/x-python",
   "name": "python",
   "nbconvert_exporter": "python",
   "pygments_lexer": "ipython3",
   "version": "3.12.3"
  }
 },
 "nbformat": 4,
 "nbformat_minor": 5
}

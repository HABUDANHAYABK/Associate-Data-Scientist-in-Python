{
 "cells": [
  {
   "cell_type": "markdown",
   "id": "84c5b10a",
   "metadata": {},
   "source": [
    "# Predictive Modelling with Linear Regression\n",
    "\n",
    "### `About Dataset`\n",
    "The dataset contains information on auto insurance claims across different geographical zones in Sweden. it comprises two main variables.\n",
    "- X: Number of claims\n",
    "- Y: Total payment for all claims in thousands of Swedish Kronor  \n",
    "\n",
    "The data was collected and compiled by the Swedish Commitee on Analysis of Risk Premium in Motor Insurance. The exact time period represented by the data is unspecified.\n",
    "\n",
    "***\n",
    "### Content\n",
    "Beyond its tabular format, this dataset offers valueable insights for insurance risk assessment and management.\n",
    "### Inspiration\n",
    "This dataset presents a unique opportunity for the data science community to explore various facests of auto insurance. Potential questions for the analysis includes:\n",
    "- How does the number of claims correlate with the total payment?\n",
    "- Can we accurately predict the total payment based on the number of claims\n",
    "- Are there geographical patterns in the data that could inform insurance pricing strategies?\n",
    "\n",
    "let us dive into the data and leverage predictive modelling techniques, specially linear regression, to uncover actionable insights.\n",
    "  "
   ]
  },
  {
   "cell_type": "markdown",
   "id": "f4096e8e",
   "metadata": {},
   "source": []
  }
 ],
 "metadata": {
  "kernelspec": {
   "display_name": "base",
   "language": "python",
   "name": "python3"
  },
  "language_info": {
   "name": "python",
   "version": "3.12.3"
  }
 },
 "nbformat": 4,
 "nbformat_minor": 5
}

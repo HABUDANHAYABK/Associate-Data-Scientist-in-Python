{
 "cells": [
  {
   "cell_type": "markdown",
   "metadata": {},
   "source": [
    "# MEASURE OF SPREAD"
   ]
  },
  {
   "cell_type": "code",
   "execution_count": 3,
   "metadata": {},
   "outputs": [],
   "source": [
    "import pandas as pd\n",
    "\n",
    "pop = pd.read_csv(r\"c:/users/danhaya/arewads/world-population-dynamics/data/processed_data/processed_data.csv\")\n"
   ]
  },
  {
   "cell_type": "code",
   "execution_count": 4,
   "metadata": {},
   "outputs": [
    {
     "name": "stdout",
     "output_type": "stream",
     "text": [
      "  Country/Territory           Capital Continent  2020 Population  Area (km²)  \\\n",
      "0       Afghanistan             Kabul      Asia         38972230      652230   \n",
      "1           Albania            Tirana    Europe          2866849       28748   \n",
      "2           Algeria           Algiers    Africa         43451666     2381741   \n",
      "3    American Samoa         Pago Pago   Oceania            46189         199   \n",
      "4           Andorra  Andorra la Vella    Europe            77700         468   \n",
      "\n",
      "   Density (per km²)  \n",
      "0            63.0587  \n",
      "1            98.8702  \n",
      "2            18.8531  \n",
      "3           222.4774  \n",
      "4           170.5641  \n"
     ]
    }
   ],
   "source": [
    "pop20 = pop.loc[:, [\"Country/Territory\", \"Capital\", \"Continent\", \"2020 Population\", \"Area (km²)\", \"Density (per km²)\"]]\n",
    "print(pop20.head())"
   ]
  },
  {
   "cell_type": "code",
   "execution_count": 6,
   "metadata": {},
   "outputs": [
    {
     "name": "stdout",
     "output_type": "stream",
     "text": [
      "                  Country Name          2020\n",
      "0                        Aruba           NaN\n",
      "1  Africa Eastern and Southern  9.207923e+11\n",
      "2                  Afghanistan  2.011614e+10\n",
      "3   Africa Western and Central  7.845876e+11\n",
      "4                       Angola  5.837598e+10\n"
     ]
    }
   ],
   "source": [
    "gdp = pd.read_csv(r\"c:/users/danhaya/arewads/arewads-fellowship/gdp.csv\")\n",
    "gdp20 = gdp.loc[:, [\"Country Name\", \"2020\"]]\n",
    "\n",
    "print(gdp20.head())"
   ]
  },
  {
   "cell_type": "code",
   "execution_count": 8,
   "metadata": {},
   "outputs": [],
   "source": [
    "pop20= pop20.rename(columns={\"Country/Territory\": \"Country\"})\n",
    "gdp20 = gdp20.rename(columns={\"Country Name\": \"Country\",\n",
    "                              \"2020\": \"GDP 2020\"})"
   ]
  },
  {
   "cell_type": "code",
   "execution_count": 11,
   "metadata": {},
   "outputs": [
    {
     "name": "stdout",
     "output_type": "stream",
     "text": [
      "          Country           Capital Continent  2020 Population  Area (km²)  \\\n",
      "0     Afghanistan             Kabul      Asia         38972230      652230   \n",
      "1         Albania            Tirana    Europe          2866849       28748   \n",
      "2         Algeria           Algiers    Africa         43451666     2381741   \n",
      "3  American Samoa         Pago Pago   Oceania            46189         199   \n",
      "4         Andorra  Andorra la Vella    Europe            77700         468   \n",
      "\n",
      "   Density (per km²)      GDP 2020  \n",
      "0            63.0587  2.011614e+10  \n",
      "1            98.8702  1.488763e+10  \n",
      "2            18.8531  1.450092e+11  \n",
      "3           222.4774  7.090000e+08  \n",
      "4           170.5641           NaN  \n"
     ]
    }
   ],
   "source": [
    "pop_gdp20 = pd.merge_ordered(pop20, gdp20, on='Country', how='inner', fill_method='ffill')\n",
    "print(pop_gdp20.head())"
   ]
  },
  {
   "cell_type": "code",
   "execution_count": null,
   "metadata": {},
   "outputs": [
    {
     "name": "stdout",
     "output_type": "stream",
     "text": [
      "the variance of 2020 population is 22548999160918916.00\n"
     ]
    }
   ],
   "source": [
    "#variance of 2020 population\n",
    "import numpy as np\n",
    "\n",
    "print(f\"the variance of 2020 population is {np.var(pop_gdp20[\"2020 Population\"]):.2f}\")"
   ]
  },
  {
   "cell_type": "code",
   "execution_count": 22,
   "metadata": {},
   "outputs": [],
   "source": [
    "sorted_pop = pop20[\"2020 Population\"].sort_values()\n"
   ]
  },
  {
   "cell_type": "code",
   "execution_count": null,
   "metadata": {},
   "outputs": [
    {
     "name": "stdout",
     "output_type": "stream",
     "text": [
      "The median population is 5493074.5\n",
      "The 0.5 quantile is 5493074.5\n"
     ]
    }
   ],
   "source": [
    "#let me compare the 0.5 quantile and median\n",
    "\n",
    "print(f\"The median population is {np.median(sorted_pop)}\")\n",
    "\n",
    "print(f\"The 0.5 quantile is {np.quantile(sorted_pop, 0.5)}\")"
   ]
  },
  {
   "cell_type": "code",
   "execution_count": 27,
   "metadata": {},
   "outputs": [
    {
     "name": "stdout",
     "output_type": "stream",
     "text": [
      "This is the value of standard deviation of the population column 150163241.71\n",
      "The value of mean absolute deviation of 2020 population is 49797933.43\n"
     ]
    }
   ],
   "source": [
    "#let me compare standard deviation and mean absolute deviation\n",
    "\n",
    "pop_std = np.std(pop_gdp20[\"2020 Population\"])\n",
    "pop_std1 = np.sqrt(np.var(pop_gdp20[\"2020 Population\"]))\n",
    "print(f\"This is the value of standard deviation of the population column {pop_std:.2f}\")\n",
    "#print(pop_std1)\n",
    "\n",
    "dists = pop_gdp20[\"2020 Population\"] - np.mean(pop_gdp20[\"2020 Population\"])\n",
    "#mad means mean absolute deviation\n",
    "pop_mad = np.mean(np.abs(dists))\n",
    "\n",
    "print(f\"The value of mean absolute deviation of 2020 population is {pop_mad:.2f}\")\n"
   ]
  },
  {
   "cell_type": "code",
   "execution_count": 29,
   "metadata": {},
   "outputs": [
    {
     "name": "stdout",
     "output_type": "stream",
     "text": [
      "[1.10690000e+04 1.20909600e+06 6.75589500e+06 2.30243590e+07\n",
      " 1.42492978e+09]\n",
      "[1.10690000e+04 1.20909600e+06 6.75589500e+06 2.30243590e+07\n",
      " 1.42492978e+09]\n"
     ]
    }
   ],
   "source": [
    "#quartiles\n",
    "print(np.quantile(pop_gdp20[\"2020 Population\"], [0, 0.25, 0.5, 0.75, 1]))\n",
    "\n",
    "#Using linspace\n",
    "print(np.quantile(pop_gdp20[\"2020 Population\"], np.linspace(0, 1, 5)))"
   ]
  },
  {
   "cell_type": "code",
   "execution_count": 30,
   "metadata": {},
   "outputs": [
    {
     "name": "stdout",
     "output_type": "stream",
     "text": [
      "The interquatile range of 2020 population is 21815263.0\n"
     ]
    }
   ],
   "source": [
    "#Interquarrtile range\n",
    "\n",
    "q1 = np.quantile(pop_gdp20[\"2020 Population\"], 0.25)\n",
    "q3 = np.quantile(pop_gdp20[\"2020 Population\"], 0.75)\n",
    "\n",
    "iqr = q3 - q1\n",
    "print(\"The interquatile range of 2020 population is \" + str(iqr))"
   ]
  },
  {
   "cell_type": "code",
   "execution_count": 31,
   "metadata": {},
   "outputs": [
    {
     "name": "stdout",
     "output_type": "stream",
     "text": [
      "            Country           Capital      Continent  2020 Population  \\\n",
      "14       Bangladesh             Dhaka           Asia        167420951   \n",
      "25           Brazil          Brasilia  South America        213196304   \n",
      "37            China           Beijing           Asia       1424929781   \n",
      "56         Ethiopia       Addis Ababa         Africa        117190911   \n",
      "60           France             Paris         Europe         64480053   \n",
      "64          Germany            Berlin         Europe         83328988   \n",
      "79            India         New Delhi           Asia       1396387127   \n",
      "80        Indonesia           Jakarta           Asia        271857970   \n",
      "85            Italy              Rome         Europe         59500579   \n",
      "87            Japan             Tokyo           Asia        125244761   \n",
      "110          Mexico       Mexico City  North America        125998302   \n",
      "126         Nigeria             Abuja         Africa        208327405   \n",
      "131        Pakistan         Islamabad           Asia        227196741   \n",
      "137     Philippines            Manila           Asia        112190977   \n",
      "156    South Africa          Pretoria         Africa         58801927   \n",
      "165        Tanzania            Dodoma         Africa         61704518   \n",
      "166        Thailand           Bangkok           Asia         71475664   \n",
      "172          Turkey            Ankara           Asia         84135428   \n",
      "179  United Kingdom            London         Europe         67059474   \n",
      "180   United States  Washington, D.C.  North America        335942003   \n",
      "184         Vietnam             Hanoi           Asia         96648685   \n",
      "\n",
      "     Area (km²)  Density (per km²)      GDP 2020  \n",
      "14       147570          1160.0350  3.230570e+11  \n",
      "25      8515767            25.2841  1.444733e+12  \n",
      "37      9706961           146.8933  1.472273e+13  \n",
      "56      1104300           111.7268  1.076451e+11  \n",
      "60       551695           117.1419  2.630318e+12  \n",
      "64       357114           233.4544  3.846414e+12  \n",
      "79      3287590           431.0675  2.660245e+12  \n",
      "80      1904569           144.6529  1.058424e+12  \n",
      "85       301336           195.9191  1.888709e+12  \n",
      "87       377930           327.9753  5.057759e+12  \n",
      "110     1964375            64.9082  1.073916e+12  \n",
      "126      923768           236.5759  4.322938e+11  \n",
      "131      881912           267.4018  2.626100e+11  \n",
      "137      342353           337.5434  3.614893e+11  \n",
      "156     1221037            49.0517  3.354421e+11  \n",
      "165      945087            69.3034  6.240971e+10  \n",
      "166      513120           139.7276  5.016437e+11  \n",
      "172      783562           108.9145  7.199548e+11  \n",
      "179      242900           277.9289  2.759804e+12  \n",
      "180     9372610            36.0935  2.095303e+13  \n",
      "184      331212           296.4472  2.711584e+11  \n"
     ]
    }
   ],
   "source": [
    "# Outliers\n",
    "\"\"\" data < q1 - 1.5 * iqr \n",
    "    or\n",
    "    data > q3 + 1.5 * iqr\n",
    "\"\"\"\n",
    "lower_threshold = np.quantile(pop_gdp20[\"2020 Population\"], 0.25) - 1.5 * iqr\n",
    "upper_threshold = np.quantile(pop_gdp20[\"2020 Population\"], 0.75) + 1.5 * iqr\n",
    "\n",
    "outliers = pop_gdp20[(pop_gdp20[\"2020 Population\"] < lower_threshold) | (pop_gdp20[\"2020 Population\"] > upper_threshold)]\n",
    "print(outliers)"
   ]
  },
  {
   "cell_type": "code",
   "execution_count": null,
   "metadata": {},
   "outputs": [],
   "source": []
  }
 ],
 "metadata": {
  "kernelspec": {
   "display_name": "base",
   "language": "python",
   "name": "python3"
  },
  "language_info": {
   "codemirror_mode": {
    "name": "ipython",
    "version": 3
   },
   "file_extension": ".py",
   "mimetype": "text/x-python",
   "name": "python",
   "nbconvert_exporter": "python",
   "pygments_lexer": "ipython3",
   "version": "3.12.3"
  }
 },
 "nbformat": 4,
 "nbformat_minor": 2
}

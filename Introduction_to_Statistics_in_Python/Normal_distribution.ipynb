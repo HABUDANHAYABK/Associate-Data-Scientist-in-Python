{
 "cells": [
  {
   "cell_type": "markdown",
   "metadata": {},
   "source": [
    "# NORMAL DISTRIBUTION"
   ]
  },
  {
   "cell_type": "code",
   "execution_count": 3,
   "metadata": {},
   "outputs": [
    {
     "data": {
      "application/vnd.microsoft.datawrangler.viewer.v0+json": {
       "columns": [
        {
         "name": "index",
         "rawType": "int64",
         "type": "integer"
        },
        {
         "name": "Country Name",
         "rawType": "object",
         "type": "string"
        },
        {
         "name": "Code",
         "rawType": "object",
         "type": "string"
        },
        {
         "name": "1960",
         "rawType": "float64",
         "type": "float"
        },
        {
         "name": "1961",
         "rawType": "float64",
         "type": "float"
        },
        {
         "name": "1962",
         "rawType": "float64",
         "type": "float"
        },
        {
         "name": "1963",
         "rawType": "float64",
         "type": "float"
        },
        {
         "name": "1964",
         "rawType": "float64",
         "type": "float"
        },
        {
         "name": "1965",
         "rawType": "float64",
         "type": "float"
        },
        {
         "name": "1966",
         "rawType": "float64",
         "type": "float"
        },
        {
         "name": "1967",
         "rawType": "float64",
         "type": "float"
        },
        {
         "name": "1968",
         "rawType": "float64",
         "type": "float"
        },
        {
         "name": "1969",
         "rawType": "float64",
         "type": "float"
        },
        {
         "name": "1970",
         "rawType": "float64",
         "type": "float"
        },
        {
         "name": "1971",
         "rawType": "float64",
         "type": "float"
        },
        {
         "name": "1972",
         "rawType": "float64",
         "type": "float"
        },
        {
         "name": "1973",
         "rawType": "float64",
         "type": "float"
        },
        {
         "name": "1974",
         "rawType": "float64",
         "type": "float"
        },
        {
         "name": "1975",
         "rawType": "float64",
         "type": "float"
        },
        {
         "name": "1976",
         "rawType": "float64",
         "type": "float"
        },
        {
         "name": "1977",
         "rawType": "float64",
         "type": "float"
        },
        {
         "name": "1978",
         "rawType": "float64",
         "type": "float"
        },
        {
         "name": "1979",
         "rawType": "float64",
         "type": "float"
        },
        {
         "name": "1980",
         "rawType": "float64",
         "type": "float"
        },
        {
         "name": "1981",
         "rawType": "float64",
         "type": "float"
        },
        {
         "name": "1982",
         "rawType": "float64",
         "type": "float"
        },
        {
         "name": "1983",
         "rawType": "float64",
         "type": "float"
        },
        {
         "name": "1984",
         "rawType": "float64",
         "type": "float"
        },
        {
         "name": "1985",
         "rawType": "float64",
         "type": "float"
        },
        {
         "name": "1986",
         "rawType": "float64",
         "type": "float"
        },
        {
         "name": "1987",
         "rawType": "float64",
         "type": "float"
        },
        {
         "name": "1988",
         "rawType": "float64",
         "type": "float"
        },
        {
         "name": "1989",
         "rawType": "float64",
         "type": "float"
        },
        {
         "name": "1990",
         "rawType": "float64",
         "type": "float"
        },
        {
         "name": "1991",
         "rawType": "float64",
         "type": "float"
        },
        {
         "name": "1992",
         "rawType": "float64",
         "type": "float"
        },
        {
         "name": "1993",
         "rawType": "float64",
         "type": "float"
        },
        {
         "name": "1994",
         "rawType": "float64",
         "type": "float"
        },
        {
         "name": "1995",
         "rawType": "float64",
         "type": "float"
        },
        {
         "name": "1996",
         "rawType": "float64",
         "type": "float"
        },
        {
         "name": "1997",
         "rawType": "float64",
         "type": "float"
        },
        {
         "name": "1998",
         "rawType": "float64",
         "type": "float"
        },
        {
         "name": "1999",
         "rawType": "float64",
         "type": "float"
        },
        {
         "name": "2000",
         "rawType": "float64",
         "type": "float"
        },
        {
         "name": "2001",
         "rawType": "float64",
         "type": "float"
        },
        {
         "name": "2002",
         "rawType": "float64",
         "type": "float"
        },
        {
         "name": "2003",
         "rawType": "float64",
         "type": "float"
        },
        {
         "name": "2004",
         "rawType": "float64",
         "type": "float"
        },
        {
         "name": "2005",
         "rawType": "float64",
         "type": "float"
        },
        {
         "name": "2006",
         "rawType": "float64",
         "type": "float"
        },
        {
         "name": "2007",
         "rawType": "float64",
         "type": "float"
        },
        {
         "name": "2008",
         "rawType": "float64",
         "type": "float"
        },
        {
         "name": "2009",
         "rawType": "float64",
         "type": "float"
        },
        {
         "name": "2010",
         "rawType": "float64",
         "type": "float"
        },
        {
         "name": "2011",
         "rawType": "float64",
         "type": "float"
        },
        {
         "name": "2012",
         "rawType": "float64",
         "type": "float"
        },
        {
         "name": "2013",
         "rawType": "float64",
         "type": "float"
        },
        {
         "name": "2014",
         "rawType": "float64",
         "type": "float"
        },
        {
         "name": "2015",
         "rawType": "float64",
         "type": "float"
        },
        {
         "name": "2016",
         "rawType": "float64",
         "type": "float"
        },
        {
         "name": "2017",
         "rawType": "float64",
         "type": "float"
        },
        {
         "name": "2018",
         "rawType": "float64",
         "type": "float"
        },
        {
         "name": "2019",
         "rawType": "float64",
         "type": "float"
        },
        {
         "name": "2020",
         "rawType": "float64",
         "type": "float"
        },
        {
         "name": "Unnamed: 65",
         "rawType": "float64",
         "type": "float"
        }
       ],
       "conversionMethod": "pd.DataFrame",
       "ref": "201c1d48-a4dc-476d-96dd-1ed8b4cc5ad1",
       "rows": [
        [
         "0",
         "Aruba",
         "ABW",
         null,
         null,
         null,
         null,
         null,
         null,
         null,
         null,
         null,
         null,
         null,
         null,
         null,
         null,
         null,
         null,
         null,
         null,
         null,
         null,
         null,
         null,
         null,
         null,
         null,
         null,
         "405463417.11746",
         "487602457.746416",
         "596423607.114715",
         "695304363.031101",
         "764887117.194486",
         "872138715.083799",
         "958463184.357542",
         "1082979720.67039",
         "1245688268.15642",
         "1320474860.3352",
         "1379960893.85475",
         "1531944134.07821",
         "1665100558.65922",
         "1722798882.68156",
         "1873452513.96648",
         "1920111731.84358",
         "1941340782.12291",
         "2021229050.27933",
         "2228491620.11173",
         "2330726256.98324",
         "2424581005.58659",
         "2615083798.88268",
         "2745251396.64804",
         "2498882681.56425",
         "2390502793.29609",
         "2549720670.39106",
         "2534636871.50838",
         "2727849720.67039",
         "2790849162.01117",
         "2962905027.93296",
         "2983636871.50838",
         "3092430167.59777",
         "3202188606.92893",
         null,
         null,
         null
        ],
        [
         "1",
         "Africa Eastern and Southern",
         "AFE",
         "19313106301.7896",
         "19723488056.8439",
         "21493920015.0151",
         "25733212133.7837",
         "23527443250.685",
         "26810567153.9916",
         "29152157362.4028",
         "30173172662.6784",
         "32877055828.8475",
         "37744346869.0476",
         "40315782854.2986",
         "44476662702.8768",
         "48301485013.5712",
         "62983498804.5895",
         "78250886611.1516",
         "83435565922.8584",
         "83210426601.596",
         "94988948105.4857",
         "106346142736.477",
         "124498228018.333",
         "156512735720.642",
         "160378053768.439",
         "154669356787.555",
         "159757514563.7",
         "146021918891.396",
         "130439822969.054",
         "147025178146.934",
         "179739456625.959",
         "189003280051.478",
         "194543353913.705",
         "212336051488.558",
         "220763711128.518",
         "220218785937.895",
         "234035169208.665",
         "239088300074.374",
         "269689336126.775",
         "268440412907.73",
         "282213512990.631",
         "265837711929.972",
         "262197179765.274",
         "283952504751.698",
         "258843211433.203",
         "264895032411.725",
         "352692089583.594",
         "438875574172.163",
         "512259874365.035",
         "575976209979.202",
         "661242216575.303",
         "708354291357.645",
         "712557951490.059",
         "847409491176.197",
         "943378184761.64",
         "950521438838.682",
         "964242449960.242",
         "984807065632.553",
         "919930022724.422",
         "873354876607.317",
         "985355704660.083",
         "1012853224905.79",
         "1009909855421.84",
         "920792331527.746",
         null
        ],
        [
         "2",
         "Afghanistan",
         "AFG",
         "537777811.111111",
         "548888895.555556",
         "546666677.777778",
         "751111191.111111",
         "800000044.444444",
         "1006666637.77778",
         "1399999966.66667",
         "1673333417.77778",
         "1373333366.66667",
         "1408888922.22222",
         "1748886595.55556",
         "1831108971.11111",
         "1595555475.55556",
         "1733333264.44444",
         "2155555497.77778",
         "2366666615.55556",
         "2555555566.66667",
         "2953333417.77778",
         "3300000108.88889",
         "3697940409.61098",
         "3641723321.99546",
         "3478787909.09091",
         null,
         null,
         null,
         null,
         null,
         null,
         null,
         null,
         null,
         null,
         null,
         null,
         null,
         null,
         null,
         null,
         null,
         null,
         null,
         null,
         "4055179566.34981",
         "4515558808.10994",
         "5226778808.89209",
         "6209137624.77181",
         "6971285594.68013",
         "9747879531.86311",
         "10109305182.952",
         "12416161048.8412",
         "15856678596.148",
         "17805113118.8938",
         "19907317065.6666",
         "20146404996.223",
         "20497126770.1335",
         "19134211763.859",
         "18116562464.9088",
         "18753469630.2586",
         "18053228578.8878",
         "18799450742.7823",
         "20116137325.8206",
         null
        ],
        [
         "3",
         "Africa Western and Central",
         "AFW",
         "10404280784.1531",
         "11128050589.2821",
         "11943353288.4767",
         "12676515453.6754",
         "13838577015.1848",
         "14862472886.1754",
         "15832846880.9342",
         "14426432397.412",
         "14880350847.4193",
         "16882094302.9685",
         "23504608014.6703",
         "20832819361.2583",
         "25264956496.1857",
         "31273822294.4754",
         "44214489605.7396",
         "51444737234.3198",
         "62129396932.5444",
         "65315014927.362",
         "71199715512.1281",
         "88628410997.2053",
         "112031316716.518",
         "211003522772.267",
         "187163730429.134",
         "138115205724.066",
         "114262672752.222",
         "116507304373.059",
         "107497531255.437",
         "110321757308.765",
         "108943462603.12",
         "101768781748.054",
         "121802185300.139",
         "117457042740.623",
         "118282284598.653",
         "98826405551.0238",
         "86281770253.474",
         "108221322522.552",
         "125763049173.424",
         "127063932192.748",
         "130106844606.853",
         "137520164451.485",
         "140407973778.931",
         "148012003011.166",
         "176933365387.396",
         "204641949829.561",
         "254090255061.056",
         "310554338477.887",
         "393296680919.431",
         "461777599573.788",
         "566425696836.635",
         "506996402016.437",
         "591582966686.497",
         "670962551547.58",
         "727571396578.054",
         "820787588844.362",
         "864966625366.588",
         "760729687146.574",
         "690543020916.229",
         "683741574626.192",
         "741691624372.788",
         "794572474605.872",
         "784587603322.866",
         null
        ],
        [
         "4",
         "Angola",
         "AGO",
         null,
         null,
         null,
         null,
         null,
         null,
         null,
         null,
         null,
         null,
         null,
         null,
         null,
         null,
         null,
         null,
         null,
         null,
         null,
         null,
         "5934073603.54849",
         "5553824463.82274",
         "5553824463.82274",
         "5787823808.69565",
         "6135166254.2408",
         "7558613007.90635",
         "7076793822.60201",
         "8089279284.72241",
         "8775116269.16722",
         "10207922517.1839",
         "11236275842.7358",
         null,
         null,
         null,
         "3390500000.0",
         "5561222222.22222",
         "7526963963.96396",
         "7649716157.20524",
         "6506619144.60285",
         "6152936539.21955",
         "9129634978.33773",
         "8936063723.20121",
         "15285594828.418",
         "17812705294.325",
         "23552052407.5488",
         "36970918699.2523",
         "52381006892.038",
         "65266452081.386",
         "88538611205.1433",
         "70307163678.238",
         "83799496611.2004",
         "111789686464.441",
         "128052853643.106",
         "136709862831.194",
         "145712200312.505",
         "116193649124.151",
         "101123851090.455",
         "122123822333.59",
         "101353230784.594",
         "89417190341.2533",
         "58375976292.9678",
         null
        ]
       ],
       "shape": {
        "columns": 64,
        "rows": 5
       }
      },
      "text/html": [
       "<div>\n",
       "<style scoped>\n",
       "    .dataframe tbody tr th:only-of-type {\n",
       "        vertical-align: middle;\n",
       "    }\n",
       "\n",
       "    .dataframe tbody tr th {\n",
       "        vertical-align: top;\n",
       "    }\n",
       "\n",
       "    .dataframe thead th {\n",
       "        text-align: right;\n",
       "    }\n",
       "</style>\n",
       "<table border=\"1\" class=\"dataframe\">\n",
       "  <thead>\n",
       "    <tr style=\"text-align: right;\">\n",
       "      <th></th>\n",
       "      <th>Country Name</th>\n",
       "      <th>Code</th>\n",
       "      <th>1960</th>\n",
       "      <th>1961</th>\n",
       "      <th>1962</th>\n",
       "      <th>1963</th>\n",
       "      <th>1964</th>\n",
       "      <th>1965</th>\n",
       "      <th>1966</th>\n",
       "      <th>1967</th>\n",
       "      <th>...</th>\n",
       "      <th>2012</th>\n",
       "      <th>2013</th>\n",
       "      <th>2014</th>\n",
       "      <th>2015</th>\n",
       "      <th>2016</th>\n",
       "      <th>2017</th>\n",
       "      <th>2018</th>\n",
       "      <th>2019</th>\n",
       "      <th>2020</th>\n",
       "      <th>Unnamed: 65</th>\n",
       "    </tr>\n",
       "  </thead>\n",
       "  <tbody>\n",
       "    <tr>\n",
       "      <th>0</th>\n",
       "      <td>Aruba</td>\n",
       "      <td>ABW</td>\n",
       "      <td>NaN</td>\n",
       "      <td>NaN</td>\n",
       "      <td>NaN</td>\n",
       "      <td>NaN</td>\n",
       "      <td>NaN</td>\n",
       "      <td>NaN</td>\n",
       "      <td>NaN</td>\n",
       "      <td>NaN</td>\n",
       "      <td>...</td>\n",
       "      <td>2.534637e+09</td>\n",
       "      <td>2.727850e+09</td>\n",
       "      <td>2.790849e+09</td>\n",
       "      <td>2.962905e+09</td>\n",
       "      <td>2.983637e+09</td>\n",
       "      <td>3.092430e+09</td>\n",
       "      <td>3.202189e+09</td>\n",
       "      <td>NaN</td>\n",
       "      <td>NaN</td>\n",
       "      <td>NaN</td>\n",
       "    </tr>\n",
       "    <tr>\n",
       "      <th>1</th>\n",
       "      <td>Africa Eastern and Southern</td>\n",
       "      <td>AFE</td>\n",
       "      <td>1.931311e+10</td>\n",
       "      <td>1.972349e+10</td>\n",
       "      <td>2.149392e+10</td>\n",
       "      <td>2.573321e+10</td>\n",
       "      <td>2.352744e+10</td>\n",
       "      <td>2.681057e+10</td>\n",
       "      <td>2.915216e+10</td>\n",
       "      <td>3.017317e+10</td>\n",
       "      <td>...</td>\n",
       "      <td>9.505214e+11</td>\n",
       "      <td>9.642424e+11</td>\n",
       "      <td>9.848071e+11</td>\n",
       "      <td>9.199300e+11</td>\n",
       "      <td>8.733549e+11</td>\n",
       "      <td>9.853557e+11</td>\n",
       "      <td>1.012853e+12</td>\n",
       "      <td>1.009910e+12</td>\n",
       "      <td>9.207923e+11</td>\n",
       "      <td>NaN</td>\n",
       "    </tr>\n",
       "    <tr>\n",
       "      <th>2</th>\n",
       "      <td>Afghanistan</td>\n",
       "      <td>AFG</td>\n",
       "      <td>5.377778e+08</td>\n",
       "      <td>5.488889e+08</td>\n",
       "      <td>5.466667e+08</td>\n",
       "      <td>7.511112e+08</td>\n",
       "      <td>8.000000e+08</td>\n",
       "      <td>1.006667e+09</td>\n",
       "      <td>1.400000e+09</td>\n",
       "      <td>1.673333e+09</td>\n",
       "      <td>...</td>\n",
       "      <td>1.990732e+10</td>\n",
       "      <td>2.014640e+10</td>\n",
       "      <td>2.049713e+10</td>\n",
       "      <td>1.913421e+10</td>\n",
       "      <td>1.811656e+10</td>\n",
       "      <td>1.875347e+10</td>\n",
       "      <td>1.805323e+10</td>\n",
       "      <td>1.879945e+10</td>\n",
       "      <td>2.011614e+10</td>\n",
       "      <td>NaN</td>\n",
       "    </tr>\n",
       "    <tr>\n",
       "      <th>3</th>\n",
       "      <td>Africa Western and Central</td>\n",
       "      <td>AFW</td>\n",
       "      <td>1.040428e+10</td>\n",
       "      <td>1.112805e+10</td>\n",
       "      <td>1.194335e+10</td>\n",
       "      <td>1.267652e+10</td>\n",
       "      <td>1.383858e+10</td>\n",
       "      <td>1.486247e+10</td>\n",
       "      <td>1.583285e+10</td>\n",
       "      <td>1.442643e+10</td>\n",
       "      <td>...</td>\n",
       "      <td>7.275714e+11</td>\n",
       "      <td>8.207876e+11</td>\n",
       "      <td>8.649666e+11</td>\n",
       "      <td>7.607297e+11</td>\n",
       "      <td>6.905430e+11</td>\n",
       "      <td>6.837416e+11</td>\n",
       "      <td>7.416916e+11</td>\n",
       "      <td>7.945725e+11</td>\n",
       "      <td>7.845876e+11</td>\n",
       "      <td>NaN</td>\n",
       "    </tr>\n",
       "    <tr>\n",
       "      <th>4</th>\n",
       "      <td>Angola</td>\n",
       "      <td>AGO</td>\n",
       "      <td>NaN</td>\n",
       "      <td>NaN</td>\n",
       "      <td>NaN</td>\n",
       "      <td>NaN</td>\n",
       "      <td>NaN</td>\n",
       "      <td>NaN</td>\n",
       "      <td>NaN</td>\n",
       "      <td>NaN</td>\n",
       "      <td>...</td>\n",
       "      <td>1.280529e+11</td>\n",
       "      <td>1.367099e+11</td>\n",
       "      <td>1.457122e+11</td>\n",
       "      <td>1.161936e+11</td>\n",
       "      <td>1.011239e+11</td>\n",
       "      <td>1.221238e+11</td>\n",
       "      <td>1.013532e+11</td>\n",
       "      <td>8.941719e+10</td>\n",
       "      <td>5.837598e+10</td>\n",
       "      <td>NaN</td>\n",
       "    </tr>\n",
       "  </tbody>\n",
       "</table>\n",
       "<p>5 rows × 64 columns</p>\n",
       "</div>"
      ],
      "text/plain": [
       "                  Country Name Code          1960          1961          1962  \\\n",
       "0                        Aruba  ABW           NaN           NaN           NaN   \n",
       "1  Africa Eastern and Southern  AFE  1.931311e+10  1.972349e+10  2.149392e+10   \n",
       "2                  Afghanistan  AFG  5.377778e+08  5.488889e+08  5.466667e+08   \n",
       "3   Africa Western and Central  AFW  1.040428e+10  1.112805e+10  1.194335e+10   \n",
       "4                       Angola  AGO           NaN           NaN           NaN   \n",
       "\n",
       "           1963          1964          1965          1966          1967  ...  \\\n",
       "0           NaN           NaN           NaN           NaN           NaN  ...   \n",
       "1  2.573321e+10  2.352744e+10  2.681057e+10  2.915216e+10  3.017317e+10  ...   \n",
       "2  7.511112e+08  8.000000e+08  1.006667e+09  1.400000e+09  1.673333e+09  ...   \n",
       "3  1.267652e+10  1.383858e+10  1.486247e+10  1.583285e+10  1.442643e+10  ...   \n",
       "4           NaN           NaN           NaN           NaN           NaN  ...   \n",
       "\n",
       "           2012          2013          2014          2015          2016  \\\n",
       "0  2.534637e+09  2.727850e+09  2.790849e+09  2.962905e+09  2.983637e+09   \n",
       "1  9.505214e+11  9.642424e+11  9.848071e+11  9.199300e+11  8.733549e+11   \n",
       "2  1.990732e+10  2.014640e+10  2.049713e+10  1.913421e+10  1.811656e+10   \n",
       "3  7.275714e+11  8.207876e+11  8.649666e+11  7.607297e+11  6.905430e+11   \n",
       "4  1.280529e+11  1.367099e+11  1.457122e+11  1.161936e+11  1.011239e+11   \n",
       "\n",
       "           2017          2018          2019          2020  Unnamed: 65  \n",
       "0  3.092430e+09  3.202189e+09           NaN           NaN          NaN  \n",
       "1  9.853557e+11  1.012853e+12  1.009910e+12  9.207923e+11          NaN  \n",
       "2  1.875347e+10  1.805323e+10  1.879945e+10  2.011614e+10          NaN  \n",
       "3  6.837416e+11  7.416916e+11  7.945725e+11  7.845876e+11          NaN  \n",
       "4  1.221238e+11  1.013532e+11  8.941719e+10  5.837598e+10          NaN  \n",
       "\n",
       "[5 rows x 64 columns]"
      ]
     },
     "execution_count": 3,
     "metadata": {},
     "output_type": "execute_result"
    }
   ],
   "source": [
    "import pandas as pd\n",
    "import numpy as np\n",
    "\n",
    "gdp = pd.read_csv(r\"c:/users/danhaya/arewads/arewads-fellowship/gdp.csv\")\n",
    "\n",
    "gdp.head()"
   ]
  },
  {
   "cell_type": "code",
   "execution_count": 7,
   "metadata": {},
   "outputs": [],
   "source": [
    "# let me remove missing values\n",
    "\n",
    "#columns = ['2010', '2011', '2012', '2013', '2014', '2015', '2016', '2017', '2018', '2019', '2020']\n",
    "gdp20 =gdp['2020'].dropna()"
   ]
  },
  {
   "cell_type": "code",
   "execution_count": 13,
   "metadata": {},
   "outputs": [
    {
     "data": {
      "image/png": "[encoded data removed]",
      "text/plain": [
       "<Figure size 1000x600 with 1 Axes>"
      ]
     },
     "metadata": {},
     "output_type": "display_data"
    },
    {
     "data": {
      "image/png": "[encoded data removed]",
      "text/plain": [
       "<Figure size 600x600 with 1 Axes>"
      ]
     },
     "metadata": {},
     "output_type": "display_data"
    }
   ],
   "source": [
    "import numpy as np\n",
    "import matplotlib.pyplot as plt\n",
    "import seaborn as sns\n",
    "import scipy.stats as stats\n",
    "\n",
    "\n",
    "#Normal distribution parameters\n",
    "mu= np.mean(gdp20)\n",
    "sigma = np.sqrt(np.var(gdp20))\n",
    "\n",
    "#plot\n",
    "plt.figure(figsize=(10, 6))\n",
    "sns.histplot(gdp20, bins=50, color='blue', edgecolor='black', kde=True)\n",
    "plt.axvline(mu, color='red', linestyle='dashed', label=f'mean: {mu:.2f}')\n",
    "plt.axvline(mu+sigma, color='green', linestyle='dashed', label=f'1q: {mu+sigma:.2f}')\n",
    "plt.axvline(mu-sigma, color='green', linestyle='dashed')\n",
    "plt.axvline(mu+2*sigma, color='orange', linestyle='dashed', label=f'2q: {mu +2*sigma}')\n",
    "plt.axvline(mu-2*sigma, color='orange', linestyle='dashed')\n",
    "plt.axvline(mu+3*sigma, color='purple', linestyle='dashed', label=f'3q: {mu + 3*sigma}' )\n",
    "plt.axvline(mu-3*sigma, color='purple', linestyle='dashed')\n",
    "plt.title('Histogram of GDP 2020 with 68-95-99.7 rule')\n",
    "plt.legend()\n",
    "plt.show()\n",
    "\n",
    "#Q-Q PLOT\n",
    "\n",
    "plt.figure(figsize=(6, 6))\n",
    "stats.probplot(gdp20, dist='norm', plot=plt)\n",
    "plt.title(\"Q-Q Plot for normality check\")\n",
    "plt.show()\n",
    "\n"
   ]
  },
  {
   "cell_type": "code",
   "execution_count": 24,
   "metadata": {},
   "outputs": [
    {
     "data": {
      "image/png": "[encoded data removed]",
      "text/plain": [
       "<Figure size 640x480 with 1 Axes>"
      ]
     },
     "metadata": {},
     "output_type": "display_data"
    }
   ],
   "source": [
    "import numpy as np\n",
    "import pandas as pd\n",
    "import matplotlib.pyplot as plt\n",
    "from scipy.stats import norm\n",
    "\n",
    "carbon = pd.read_csv(r\"c:/users/danhaya/arewads/arewads-fellowship/Carbon_data.csv\")\n",
    "sns.histplot(carbon['growth_emissions_total'], bins=20, color='blue', edgecolor='black')\n",
    "\n",
    "plt.show()"
   ]
  },
  {
   "cell_type": "code",
   "execution_count": 20,
   "metadata": {},
   "outputs": [
    {
     "data": {
      "image/png": "[encoded data removed]",
      "text/plain": [
       "<Figure size 640x480 with 1 Axes>"
      ]
     },
     "metadata": {},
     "output_type": "display_data"
    }
   ],
   "source": [
    "#generate random numbers\n",
    "\n",
    "num = norm.rvs(161, 7, size=1000)\n",
    "\n",
    "plt.hist(num, bins=20)\n",
    "plt.show()"
   ]
  },
  {
   "cell_type": "code",
   "execution_count": 21,
   "metadata": {},
   "outputs": [
    {
     "data": {
      "image/png": "[encoded data removed]",
      "text/plain": [
       "<Figure size 640x480 with 1 Axes>"
      ]
     },
     "metadata": {},
     "output_type": "display_data"
    }
   ],
   "source": [
    "import numpy as np\n",
    "import scipy.stats as stats\n",
    "\n",
    "\n",
    "num= norm.rvs(100, 6, size=10000)\n",
    "plt.hist(num, bins= 20)\n",
    "plt.show()"
   ]
  },
  {
   "cell_type": "code",
   "execution_count": 23,
   "metadata": {},
   "outputs": [
    {
     "name": "stdout",
     "output_type": "stream",
     "text": [
      "The values that are 90% shorter are 107.69, and 92.31 taller than 90%\n"
     ]
    }
   ],
   "source": [
    "#what values are 90% shorter\n",
    "print(f\"The values that are 90% shorter are {norm.ppf(0.9, 100, 6):.2f}, and {norm.ppf((1-0.9), 100, 6):.2f} taller than 90%\")"
   ]
  },
  {
   "cell_type": "code",
   "execution_count": 32,
   "metadata": {},
   "outputs": [
    {
     "data": {
      "image/png": "[encoded data removed]",
      "text/plain": [
       "<Figure size 800x500 with 1 Axes>"
      ]
     },
     "metadata": {},
     "output_type": "display_data"
    },
    {
     "name": "stdout",
     "output_type": "stream",
     "text": [
      "Percentage within 1q: 68.50% (Expected: -68%)\n",
      "Percentage within 2q: 96.20% (Expected: -95%)\n",
      "Percentage within 3q: 99.700% (Expected: -99.7%)\n"
     ]
    }
   ],
   "source": [
    "import numpy as np\n",
    "import matplotlib.pyplot as plt\n",
    "import seaborn as sns\n",
    "import scipy.stats as stats\n",
    "\n",
    "#Normal distribution parameters\n",
    "mu = 170\n",
    "#mean height\n",
    "sigma =10\n",
    "#number of students\n",
    "n=1000\n",
    "\n",
    "#Generating normally distributed heights\n",
    "heights = np.random.normal(mu, sigma, n)\n",
    "\n",
    "#plot histogram\n",
    "plt.figure(figsize=(8, 5))\n",
    "sns.histplot(heights, bins=30, kde=True, color='blue')\n",
    "plt.axvline(mu, color='red', label=f'Mean: {mu} cm')\n",
    "plt.axvline(mu+sigma, color='green', label=f'1q: {mu +sigma} cm')\n",
    "plt.axvline(mu-sigma, color='green')\n",
    "plt.axvline(mu + 2*sigma, color='orange', label=f'2q: {mu + 2*sigma} cm')\n",
    "plt.axvline(mu-2*sigma, color='orange')\n",
    "plt.axvline(mu+3*sigma, color='purple', label=f'3q: {mu +3*sigma} cm')\n",
    "plt.axvline(mu-3*sigma, color='purple')\n",
    "\n",
    "plt.title(\"Normal Distribution of Students Heights\")\n",
    "plt.xlabel(\"Height (cm)\")\n",
    "plt.ylabel(\"Frequency\")\n",
    "plt.legend()\n",
    "plt.show()\n",
    "\n",
    "#Applying 68-95-99.7 rule\n",
    "\n",
    "within_1_sigma= np.sum((heights >= mu - sigma) & (heights <= mu +sigma))/ n*100\n",
    "within_2_sigma= np.sum((heights >= mu -2*sigma) & (heights <= mu + 2*sigma))/ n*100\n",
    "within_3_sigma= np.sum((heights >= mu -3*sigma) & (heights <= mu + 3*sigma))/ n*100\n",
    "\n",
    "print(f\"Percentage within 1q: {within_1_sigma:.2f}% (Expected: -68%)\")\n",
    "print(f\"Percentage within 2q: {within_2_sigma:.2f}% (Expected: -95%)\")\n",
    "print(f\"Percentage within 3q: {within_3_sigma:.3f}% (Expected: -99.7%)\")\n"
   ]
  },
  {
   "cell_type": "code",
   "execution_count": null,
   "metadata": {},
   "outputs": [],
   "source": []
  }
 ],
 "metadata": {
  "kernelspec": {
   "display_name": "base",
   "language": "python",
   "name": "python3"
  },
  "language_info": {
   "codemirror_mode": {
    "name": "ipython",
    "version": 3
   },
   "file_extension": ".py",
   "mimetype": "text/x-python",
   "name": "python",
   "nbconvert_exporter": "python",
   "pygments_lexer": "ipython3",
   "version": "3.12.3"
  }
 },
 "nbformat": 4,
 "nbformat_minor": 2
}

{
 "cells": [
  {
   "cell_type": "markdown",
   "metadata": {},
   "source": [
    "# SAMPLING"
   ]
  },
  {
   "cell_type": "code",
   "execution_count": 3,
   "metadata": {},
   "outputs": [
    {
     "name": "stdout",
     "output_type": "stream",
     "text": [
      "       0\n",
      "2  usman\n"
     ]
    }
   ],
   "source": [
    "# sampling from list and DataFrames\n",
    "\n",
    "import pandas as pd\n",
    "\n",
    "sales_men = [\"abubakar\", \"umar\", \"usman\", \"aliyu\"]\n",
    "sales_df = pd.DataFrame(sales_men)\n",
    "\n",
    "print(sales_df.sample())"
   ]
  },
  {
   "cell_type": "code",
   "execution_count": 4,
   "metadata": {},
   "outputs": [
    {
     "name": "stdout",
     "output_type": "stream",
     "text": [
      "     name  n_sales\n",
      "2  Claire       75\n"
     ]
    }
   ],
   "source": [
    "sales_count = pd.DataFrame({\n",
    "    \"name\": [\"Amir\", \"Brian\", \"Claire\", \"Damian\"],\n",
    "    \"n_sales\": [178, 128, 75, 69]\n",
    "})\n",
    "\n",
    "print(sales_count.sample())"
   ]
  },
  {
   "cell_type": "code",
   "execution_count": 5,
   "metadata": {},
   "outputs": [
    {
     "name": "stdout",
     "output_type": "stream",
     "text": [
      "     name  n_sales\n",
      "3  Damian       69\n"
     ]
    }
   ],
   "source": [
    "sales_count = pd.DataFrame({\n",
    "    \"name\": [\"Amir\", \"Brian\", \"Claire\", \"Damian\"],\n",
    "    \"n_sales\": [178, 128, 75, 69]\n",
    "})\n",
    "\n",
    "print(sales_count.sample())"
   ]
  },
  {
   "cell_type": "code",
   "execution_count": 6,
   "metadata": {},
   "outputs": [
    {
     "name": "stdout",
     "output_type": "stream",
     "text": [
      "     name  n_sales\n",
      "2  Claire       75\n"
     ]
    }
   ],
   "source": [
    "#setting a random seed, to ensure reproducibility\n",
    "\n",
    "import numpy as np\n",
    "\n",
    "np.random.seed(10)\n",
    "print(sales_count.sample())"
   ]
  },
  {
   "cell_type": "code",
   "execution_count": 7,
   "metadata": {},
   "outputs": [
    {
     "name": "stdout",
     "output_type": "stream",
     "text": [
      "     name  n_sales\n",
      "2  Claire       75\n",
      "0    Amir      178\n"
     ]
    }
   ],
   "source": [
    "#sampling twice in python\n",
    "\n",
    "import numpy as np\n",
    "np.random.seed(10)\n",
    "\n",
    "print(sales_count.sample(2))"
   ]
  },
  {
   "cell_type": "code",
   "execution_count": 8,
   "metadata": {},
   "outputs": [
    {
     "name": "stdout",
     "output_type": "stream",
     "text": [
      "     name  n_sales\n",
      "3  Damian       69\n",
      "0    Amir      178\n",
      "1   Brian      128\n",
      "3  Damian       69\n",
      "0    Amir      178\n"
     ]
    }
   ],
   "source": [
    "#sampling with replacement\n",
    "\n",
    "print(sales_count.sample(5, replace=True))"
   ]
  },
  {
   "cell_type": "code",
   "execution_count": null,
   "metadata": {},
   "outputs": [],
   "source": []
  }
 ],
 "metadata": {
  "kernelspec": {
   "display_name": "base",
   "language": "python",
   "name": "python3"
  },
  "language_info": {
   "codemirror_mode": {
    "name": "ipython",
    "version": 3
   },
   "file_extension": ".py",
   "mimetype": "text/x-python",
   "name": "python",
   "nbconvert_exporter": "python",
   "pygments_lexer": "ipython3",
   "version": "3.12.3"
  }
 },
 "nbformat": 4,
 "nbformat_minor": 2
}

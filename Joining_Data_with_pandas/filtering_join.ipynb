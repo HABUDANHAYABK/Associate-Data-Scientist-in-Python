{
 "cells": [
  {
   "cell_type": "markdown",
   "metadata": {},
   "source": [
    "# Filtering Join"
   ]
  },
  {
   "cell_type": "code",
   "execution_count": 4,
   "metadata": {},
   "outputs": [
    {
     "name": "stdout",
     "output_type": "stream",
     "text": [
      "         Country      Capital  2020 Population  Area (km²)  Density (per km²)\n",
      "2        Algeria      Algiers         43451666     2381741            18.8531\n",
      "5         Angola       Luanda         33428485     1246700            28.5466\n",
      "21         Benin   Porto-Novo         12643123      112622           118.5635\n",
      "26      Botswana     Gaborone          2546402      582000             4.5194\n",
      "31  Burkina Faso  Ouagadougou         21522626      272967            83.0641\n"
     ]
    }
   ],
   "source": [
    "import pandas as pd\n",
    "\n",
    "# Import Data from the csv files\n",
    "pop = pd.read_csv(r\"C:/users/danhaya/arewads/world-population-dynamics/data/processed_data/processed_data.csv\")\n",
    "gdp = pd.read_csv(r\"C:/users/danhaya/arewads/arewads-fellowship/gdp.csv\")\n",
    "\n",
    "# subset data from the DataFrame\n",
    "\n",
    "africa = pop.loc[pop['Continent'] == 'Africa']\n",
    "africa20 = africa.loc[:, [\"Country/Territory\", \"Capital\", \"2020 Population\", \"Area (km²)\", \"Density (per km²)\"]]\n",
    "africa20 = africa20.rename(columns={\"Country/Territory\": \"Country\"})\n",
    "print(africa20.head())"
   ]
  },
  {
   "cell_type": "code",
   "execution_count": 9,
   "metadata": {},
   "outputs": [
    {
     "name": "stdout",
     "output_type": "stream",
     "text": [
      "                  Country Name          2020\n",
      "0                        Aruba           NaN\n",
      "1  Africa Eastern and Southern  9.207923e+11\n",
      "2                  Afghanistan  2.011614e+10\n",
      "3   Africa Western and Central  7.845876e+11\n",
      "4                       Angola  5.837598e+10\n"
     ]
    }
   ],
   "source": [
    "gdp = pd.read_csv(r\"c:/users/danhaya/arewads/arewads-fellowship/gdp.csv\")\n",
    "gdp20= gdp[[\"Country Name\", \"2020\"]]\n",
    "print(gdp20.head())"
   ]
  },
  {
   "cell_type": "code",
   "execution_count": 11,
   "metadata": {},
   "outputs": [
    {
     "name": "stdout",
     "output_type": "stream",
     "text": [
      "                       Country          2020\n",
      "0                        Aruba           NaN\n",
      "1  Africa Eastern and Southern  9.207923e+11\n",
      "2                  Afghanistan  2.011614e+10\n",
      "3   Africa Western and Central  7.845876e+11\n",
      "4                       Angola  5.837598e+10\n"
     ]
    }
   ],
   "source": [
    "#let me rename the country name to \"country\"\n",
    "gdp20 =gdp20.rename(columns={\"Country Name\": \"Country\"})\n",
    "print(gdp20.head())"
   ]
  },
  {
   "cell_type": "code",
   "execution_count": 13,
   "metadata": {},
   "outputs": [
    {
     "name": "stdout",
     "output_type": "stream",
     "text": [
      "        Country      Capital  2020 Population  Area (km²)  Density (per km²)  \\\n",
      "0       Algeria      Algiers         43451666     2381741            18.8531   \n",
      "1        Angola       Luanda         33428485     1246700            28.5466   \n",
      "2         Benin   Porto-Novo         12643123      112622           118.5635   \n",
      "3      Botswana     Gaborone          2546402      582000             4.5194   \n",
      "4  Burkina Faso  Ouagadougou         21522626      272967            83.0641   \n",
      "\n",
      "           2020  \n",
      "0  1.450092e+11  \n",
      "1  5.837598e+10  \n",
      "2  1.565155e+10  \n",
      "3  1.506192e+10  \n",
      "4  1.793361e+10  \n"
     ]
    }
   ],
   "source": [
    "# merging two DataFrames\n",
    "\n",
    "africa_gdp20 = africa20.merge(gdp20, on='Country')\n",
    "print(africa_gdp20.head())"
   ]
  },
  {
   "cell_type": "code",
   "execution_count": 14,
   "metadata": {},
   "outputs": [
    {
     "name": "stdout",
     "output_type": "stream",
     "text": [
      "        Country      Capital  2020 Population  Area (km²)  Density (per km²)  \\\n",
      "0       Algeria      Algiers         43451666     2381741            18.8531   \n",
      "1        Angola       Luanda         33428485     1246700            28.5466   \n",
      "2         Benin   Porto-Novo         12643123      112622           118.5635   \n",
      "3      Botswana     Gaborone          2546402      582000             4.5194   \n",
      "4  Burkina Faso  Ouagadougou         21522626      272967            83.0641   \n",
      "\n",
      "       2020 GDP  \n",
      "0  1.450092e+11  \n",
      "1  5.837598e+10  \n",
      "2  1.565155e+10  \n",
      "3  1.506192e+10  \n",
      "4  1.793361e+10  \n"
     ]
    }
   ],
   "source": [
    "africa_gdp20 = africa_gdp20.rename(columns={\"2020\": \"2020 GDP\"})\n",
    "print(africa_gdp20.head())"
   ]
  },
  {
   "cell_type": "code",
   "execution_count": 15,
   "metadata": {},
   "outputs": [
    {
     "name": "stdout",
     "output_type": "stream",
     "text": [
      "        Country      Capital  2020 Population\n",
      "0       Algeria      Algiers         43451666\n",
      "1        Angola       Luanda         33428485\n",
      "2         Benin   Porto-Novo         12643123\n",
      "3      Botswana     Gaborone          2546402\n",
      "4  Burkina Faso  Ouagadougou         21522626\n"
     ]
    }
   ],
   "source": [
    "# subset some columns to practice concatinating DataFrames\n",
    "\n",
    "africa_pop_info = africa_gdp20.loc[:, [\"Country\", \"Capital\", \"2020 Population\"]]\n",
    "africa_info = africa_gdp20.loc[:, [\"Country\", \"Area (km²)\", \"Density (per km²)\", \"2020 GDP\"]]\n",
    "\n",
    "print(africa_pop_info.head())"
   ]
  },
  {
   "cell_type": "code",
   "execution_count": 16,
   "metadata": {},
   "outputs": [
    {
     "name": "stdout",
     "output_type": "stream",
     "text": [
      "        Country  Area (km²)  Density (per km²)      2020 GDP\n",
      "0       Algeria     2381741            18.8531  1.450092e+11\n",
      "1        Angola     1246700            28.5466  5.837598e+10\n",
      "2         Benin      112622           118.5635  1.565155e+10\n",
      "3      Botswana      582000             4.5194  1.506192e+10\n",
      "4  Burkina Faso      272967            83.0641  1.793361e+10\n"
     ]
    }
   ],
   "source": [
    "print(africa_info.head())"
   ]
  },
  {
   "cell_type": "code",
   "execution_count": 17,
   "metadata": {},
   "outputs": [
    {
     "name": "stdout",
     "output_type": "stream",
     "text": [
      "              Area (km²)  Density (per km²)      2020 GDP\n",
      "Country                                                  \n",
      "Algeria          2381741            18.8531  1.450092e+11\n",
      "Angola           1246700            28.5466  5.837598e+10\n",
      "Benin             112622           118.5635  1.565155e+10\n",
      "Botswana          582000             4.5194  1.506192e+10\n",
      "Burkina Faso      272967            83.0641  1.793361e+10\n"
     ]
    }
   ],
   "source": [
    "africa_info_ind = africa_info.set_index(\"Country\").sort_index()\n",
    "print(africa_info_ind.head())"
   ]
  },
  {
   "cell_type": "code",
   "execution_count": 20,
   "metadata": {},
   "outputs": [
    {
     "name": "stdout",
     "output_type": "stream",
     "text": [
      "                              Capital  2020 Population\n",
      "Country                                               \n",
      "Algeria                       Algiers         43451666\n",
      "Angola                         Luanda         33428485\n",
      "Benin                      Porto-Novo         12643123\n",
      "Botswana                     Gaborone          2546402\n",
      "Burkina Faso              Ouagadougou         21522626\n",
      "Burundi                     Bujumbura         12220227\n",
      "Cameroon                      Yaounde         26491087\n",
      "Central African Republic       Bangui          5343020\n",
      "Chad                        N'Djamena         16644701\n",
      "Comoros                        Moroni           806166\n"
     ]
    }
   ],
   "source": [
    "africa_pop_info_ind = africa_pop_info.set_index(\"Country\").sort_index()\n",
    "print(africa_pop_info_ind.head(10))"
   ]
  },
  {
   "cell_type": "code",
   "execution_count": 22,
   "metadata": {},
   "outputs": [
    {
     "name": "stdout",
     "output_type": "stream",
     "text": [
      "                  Capital  2020 Population\n",
      "Country                                   \n",
      "Algeria           Algiers         43451666\n",
      "Angola             Luanda         33428485\n",
      "Benin          Porto-Novo         12643123\n",
      "Botswana         Gaborone          2546402\n",
      "Burkina Faso  Ouagadougou         21522626\n",
      "                            Capital  2020 Population\n",
      "Country                                             \n",
      "Burundi                   Bujumbura         12220227\n",
      "Cameroon                    Yaounde         26491087\n",
      "Central African Republic     Bangui          5343020\n",
      "Chad                      N'Djamena         16644701\n",
      "Comoros                      Moroni           806166\n"
     ]
    }
   ],
   "source": [
    "first_5 = africa_pop_info_ind[\"Algeria\": \"Burkina Faso\"]\n",
    "second_5 = africa_pop_info_ind[\"Burundi\": \"Comoros\"]\n",
    "print(first_5)\n",
    "print(second_5)"
   ]
  },
  {
   "cell_type": "code",
   "execution_count": 23,
   "metadata": {},
   "outputs": [
    {
     "name": "stdout",
     "output_type": "stream",
     "text": [
      "                                       Capital  2020 Population\n",
      "         Country                                               \n",
      "first 5  Algeria                       Algiers         43451666\n",
      "         Angola                         Luanda         33428485\n",
      "         Benin                      Porto-Novo         12643123\n",
      "         Botswana                     Gaborone          2546402\n",
      "         Burkina Faso              Ouagadougou         21522626\n",
      "second 5 Burundi                     Bujumbura         12220227\n",
      "         Cameroon                      Yaounde         26491087\n",
      "         Central African Republic       Bangui          5343020\n",
      "         Chad                        N'Djamena         16644701\n",
      "         Comoros                        Moroni           806166\n"
     ]
    }
   ],
   "source": [
    "# Concatinate the two DataFrame Together Vertically\n",
    "\n",
    "first_10 = pd.concat([first_5, second_5], ignore_index=False, keys=[\"first 5\", \"second 5\"])\n",
    "print(first_10)"
   ]
  },
  {
   "cell_type": "code",
   "execution_count": 24,
   "metadata": {},
   "outputs": [
    {
     "data": {
      "application/vnd.microsoft.datawrangler.viewer.v0+json": {
       "columns": [
        {
         "name": "(None, 'Country')",
         "rawType": "object",
         "type": "unknown"
        },
        {
         "name": "Capital",
         "rawType": "object",
         "type": "string"
        },
        {
         "name": "2020 Population",
         "rawType": "int64",
         "type": "integer"
        }
       ],
       "conversionMethod": "pd.DataFrame",
       "ref": "6a659cc2-5ff6-44d6-b82b-027b8cde7e0f",
       "rows": [
        [
         "('first 5', 'Algeria')",
         "Algiers",
         "43451666"
        ],
        [
         "('first 5', 'Angola')",
         "Luanda",
         "33428485"
        ],
        [
         "('first 5', 'Benin')",
         "Porto-Novo",
         "12643123"
        ],
        [
         "('first 5', 'Botswana')",
         "Gaborone",
         "2546402"
        ],
        [
         "('first 5', 'Burkina Faso')",
         "Ouagadougou",
         "21522626"
        ],
        [
         "('second 5', 'Burundi')",
         "Bujumbura",
         "12220227"
        ],
        [
         "('second 5', 'Cameroon')",
         "Yaounde",
         "26491087"
        ],
        [
         "('second 5', 'Central African Republic')",
         "Bangui",
         "5343020"
        ],
        [
         "('second 5', 'Chad')",
         "N'Djamena",
         "16644701"
        ],
        [
         "('second 5', 'Comoros')",
         "Moroni",
         "806166"
        ]
       ],
       "shape": {
        "columns": 2,
        "rows": 10
       }
      },
      "text/html": [
       "<div>\n",
       "<style scoped>\n",
       "    .dataframe tbody tr th:only-of-type {\n",
       "        vertical-align: middle;\n",
       "    }\n",
       "\n",
       "    .dataframe tbody tr th {\n",
       "        vertical-align: top;\n",
       "    }\n",
       "\n",
       "    .dataframe thead th {\n",
       "        text-align: right;\n",
       "    }\n",
       "</style>\n",
       "<table border=\"1\" class=\"dataframe\">\n",
       "  <thead>\n",
       "    <tr style=\"text-align: right;\">\n",
       "      <th></th>\n",
       "      <th></th>\n",
       "      <th>Capital</th>\n",
       "      <th>2020 Population</th>\n",
       "    </tr>\n",
       "    <tr>\n",
       "      <th></th>\n",
       "      <th>Country</th>\n",
       "      <th></th>\n",
       "      <th></th>\n",
       "    </tr>\n",
       "  </thead>\n",
       "  <tbody>\n",
       "    <tr>\n",
       "      <th rowspan=\"5\" valign=\"top\">first 5</th>\n",
       "      <th>Algeria</th>\n",
       "      <td>Algiers</td>\n",
       "      <td>43451666</td>\n",
       "    </tr>\n",
       "    <tr>\n",
       "      <th>Angola</th>\n",
       "      <td>Luanda</td>\n",
       "      <td>33428485</td>\n",
       "    </tr>\n",
       "    <tr>\n",
       "      <th>Benin</th>\n",
       "      <td>Porto-Novo</td>\n",
       "      <td>12643123</td>\n",
       "    </tr>\n",
       "    <tr>\n",
       "      <th>Botswana</th>\n",
       "      <td>Gaborone</td>\n",
       "      <td>2546402</td>\n",
       "    </tr>\n",
       "    <tr>\n",
       "      <th>Burkina Faso</th>\n",
       "      <td>Ouagadougou</td>\n",
       "      <td>21522626</td>\n",
       "    </tr>\n",
       "    <tr>\n",
       "      <th rowspan=\"5\" valign=\"top\">second 5</th>\n",
       "      <th>Burundi</th>\n",
       "      <td>Bujumbura</td>\n",
       "      <td>12220227</td>\n",
       "    </tr>\n",
       "    <tr>\n",
       "      <th>Cameroon</th>\n",
       "      <td>Yaounde</td>\n",
       "      <td>26491087</td>\n",
       "    </tr>\n",
       "    <tr>\n",
       "      <th>Central African Republic</th>\n",
       "      <td>Bangui</td>\n",
       "      <td>5343020</td>\n",
       "    </tr>\n",
       "    <tr>\n",
       "      <th>Chad</th>\n",
       "      <td>N'Djamena</td>\n",
       "      <td>16644701</td>\n",
       "    </tr>\n",
       "    <tr>\n",
       "      <th>Comoros</th>\n",
       "      <td>Moroni</td>\n",
       "      <td>806166</td>\n",
       "    </tr>\n",
       "  </tbody>\n",
       "</table>\n",
       "</div>"
      ],
      "text/plain": [
       "                                       Capital  2020 Population\n",
       "         Country                                               \n",
       "first 5  Algeria                       Algiers         43451666\n",
       "         Angola                         Luanda         33428485\n",
       "         Benin                      Porto-Novo         12643123\n",
       "         Botswana                     Gaborone          2546402\n",
       "         Burkina Faso              Ouagadougou         21522626\n",
       "second 5 Burundi                     Bujumbura         12220227\n",
       "         Cameroon                      Yaounde         26491087\n",
       "         Central African Republic       Bangui          5343020\n",
       "         Chad                        N'Djamena         16644701\n",
       "         Comoros                        Moroni           806166"
      ]
     },
     "execution_count": 24,
     "metadata": {},
     "output_type": "execute_result"
    }
   ],
   "source": [
    "# let me verify the integrity of the tables\n",
    "\n",
    "pd.concat([first_5, second_5], ignore_index=False, keys=['first 5', 'second 5'], verify_integrity=True)"
   ]
  },
  {
   "cell_type": "code",
   "execution_count": null,
   "metadata": {},
   "outputs": [],
   "source": []
  }
 ],
 "metadata": {
  "kernelspec": {
   "display_name": "base",
   "language": "python",
   "name": "python3"
  },
  "language_info": {
   "codemirror_mode": {
    "name": "ipython",
    "version": 3
   },
   "file_extension": ".py",
   "mimetype": "text/x-python",
   "name": "python",
   "nbconvert_exporter": "python",
   "pygments_lexer": "ipython3",
   "version": "3.12.3"
  }
 },
 "nbformat": 4,
 "nbformat_minor": 2
}

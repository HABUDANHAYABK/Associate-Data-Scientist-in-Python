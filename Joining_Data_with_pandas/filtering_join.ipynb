{
 "cells": [
  {
   "cell_type": "markdown",
   "metadata": {},
   "source": [
    "# Filtering Join"
   ]
  },
  {
   "cell_type": "code",
   "execution_count": 4,
   "metadata": {},
   "outputs": [
    {
     "name": "stdout",
     "output_type": "stream",
     "text": [
      "         Country      Capital  2020 Population  Area (km²)  Density (per km²)\n",
      "2        Algeria      Algiers         43451666     2381741            18.8531\n",
      "5         Angola       Luanda         33428485     1246700            28.5466\n",
      "21         Benin   Porto-Novo         12643123      112622           118.5635\n",
      "26      Botswana     Gaborone          2546402      582000             4.5194\n",
      "31  Burkina Faso  Ouagadougou         21522626      272967            83.0641\n"
     ]
    }
   ],
   "source": [
    "import pandas as pd\n",
    "\n",
    "# Import Data from the csv files\n",
    "pop = pd.read_csv(r\"C:/users/danhaya/arewads/world-population-dynamics/data/processed_data/processed_data.csv\")\n",
    "gdp = pd.read_csv(r\"C:/users/danhaya/arewads/arewads-fellowship/gdp.csv\")\n",
    "\n",
    "# subset data from the DataFrame\n",
    "\n",
    "africa = pop.loc[pop['Continent'] == 'Africa']\n",
    "africa20 = africa.loc[:, [\"Country/Territory\", \"Capital\", \"2020 Population\", \"Area (km²)\", \"Density (per km²)\"]]\n",
    "africa20 = africa20.rename(columns={\"Country/Territory\": \"Country\"})\n",
    "print(africa20.head())"
   ]
  },
  {
   "cell_type": "code",
   "execution_count": 9,
   "metadata": {},
   "outputs": [
    {
     "name": "stdout",
     "output_type": "stream",
     "text": [
      "                  Country Name          2020\n",
      "0                        Aruba           NaN\n",
      "1  Africa Eastern and Southern  9.207923e+11\n",
      "2                  Afghanistan  2.011614e+10\n",
      "3   Africa Western and Central  7.845876e+11\n",
      "4                       Angola  5.837598e+10\n"
     ]
    }
   ],
   "source": [
    "gdp = pd.read_csv(r\"c:/users/danhaya/arewads/arewads-fellowship/gdp.csv\")\n",
    "gdp20= gdp[[\"Country Name\", \"2020\"]]\n",
    "print(gdp20.head())"
   ]
  },
  {
   "cell_type": "code",
   "execution_count": 11,
   "metadata": {},
   "outputs": [
    {
     "name": "stdout",
     "output_type": "stream",
     "text": [
      "                       Country          2020\n",
      "0                        Aruba           NaN\n",
      "1  Africa Eastern and Southern  9.207923e+11\n",
      "2                  Afghanistan  2.011614e+10\n",
      "3   Africa Western and Central  7.845876e+11\n",
      "4                       Angola  5.837598e+10\n"
     ]
    }
   ],
   "source": [
    "#let me rename the country name to \"country\"\n",
    "gdp20 =gdp20.rename(columns={\"Country Name\": \"Country\"})\n",
    "print(gdp20.head())"
   ]
  },
  {
   "cell_type": "code",
   "execution_count": 13,
   "metadata": {},
   "outputs": [
    {
     "name": "stdout",
     "output_type": "stream",
     "text": [
      "        Country      Capital  2020 Population  Area (km²)  Density (per km²)  \\\n",
      "0       Algeria      Algiers         43451666     2381741            18.8531   \n",
      "1        Angola       Luanda         33428485     1246700            28.5466   \n",
      "2         Benin   Porto-Novo         12643123      112622           118.5635   \n",
      "3      Botswana     Gaborone          2546402      582000             4.5194   \n",
      "4  Burkina Faso  Ouagadougou         21522626      272967            83.0641   \n",
      "\n",
      "           2020  \n",
      "0  1.450092e+11  \n",
      "1  5.837598e+10  \n",
      "2  1.565155e+10  \n",
      "3  1.506192e+10  \n",
      "4  1.793361e+10  \n"
     ]
    }
   ],
   "source": [
    "# merging two DataFrames\n",
    "\n",
    "africa_gdp20 = africa20.merge(gdp20, on='Country')\n",
    "print(africa_gdp20.head())"
   ]
  },
  {
   "cell_type": "code",
   "execution_count": 14,
   "metadata": {},
   "outputs": [
    {
     "name": "stdout",
     "output_type": "stream",
     "text": [
      "        Country      Capital  2020 Population  Area (km²)  Density (per km²)  \\\n",
      "0       Algeria      Algiers         43451666     2381741            18.8531   \n",
      "1        Angola       Luanda         33428485     1246700            28.5466   \n",
      "2         Benin   Porto-Novo         12643123      112622           118.5635   \n",
      "3      Botswana     Gaborone          2546402      582000             4.5194   \n",
      "4  Burkina Faso  Ouagadougou         21522626      272967            83.0641   \n",
      "\n",
      "       2020 GDP  \n",
      "0  1.450092e+11  \n",
      "1  5.837598e+10  \n",
      "2  1.565155e+10  \n",
      "3  1.506192e+10  \n",
      "4  1.793361e+10  \n"
     ]
    }
   ],
   "source": [
    "africa_gdp20 = africa_gdp20.rename(columns={\"2020\": \"2020 GDP\"})\n",
    "print(africa_gdp20.head())"
   ]
  },
  {
   "cell_type": "code",
   "execution_count": 15,
   "metadata": {},
   "outputs": [
    {
     "name": "stdout",
     "output_type": "stream",
     "text": [
      "        Country      Capital  2020 Population\n",
      "0       Algeria      Algiers         43451666\n",
      "1        Angola       Luanda         33428485\n",
      "2         Benin   Porto-Novo         12643123\n",
      "3      Botswana     Gaborone          2546402\n",
      "4  Burkina Faso  Ouagadougou         21522626\n"
     ]
    }
   ],
   "source": [
    "# subset some columns to practice concatinating DataFrames\n",
    "\n",
    "africa_pop_info = africa_gdp20.loc[:, [\"Country\", \"Capital\", \"2020 Population\"]]\n",
    "africa_info = africa_gdp20.loc[:, [\"Country\", \"Area (km²)\", \"Density (per km²)\", \"2020 GDP\"]]\n",
    "\n",
    "print(africa_pop_info.head())"
   ]
  },
  {
   "cell_type": "code",
   "execution_count": 16,
   "metadata": {},
   "outputs": [
    {
     "name": "stdout",
     "output_type": "stream",
     "text": [
      "        Country  Area (km²)  Density (per km²)      2020 GDP\n",
      "0       Algeria     2381741            18.8531  1.450092e+11\n",
      "1        Angola     1246700            28.5466  5.837598e+10\n",
      "2         Benin      112622           118.5635  1.565155e+10\n",
      "3      Botswana      582000             4.5194  1.506192e+10\n",
      "4  Burkina Faso      272967            83.0641  1.793361e+10\n"
     ]
    }
   ],
   "source": [
    "print(africa_info.head())"
   ]
  },
  {
   "cell_type": "code",
   "execution_count": 17,
   "metadata": {},
   "outputs": [
    {
     "name": "stdout",
     "output_type": "stream",
     "text": [
      "              Area (km²)  Density (per km²)      2020 GDP\n",
      "Country                                                  \n",
      "Algeria          2381741            18.8531  1.450092e+11\n",
      "Angola           1246700            28.5466  5.837598e+10\n",
      "Benin             112622           118.5635  1.565155e+10\n",
      "Botswana          582000             4.5194  1.506192e+10\n",
      "Burkina Faso      272967            83.0641  1.793361e+10\n"
     ]
    }
   ],
   "source": [
    "africa_info_ind = africa_info.set_index(\"Country\").sort_index()\n",
    "print(africa_info_ind.head())"
   ]
  },
  {
   "cell_type": "code",
   "execution_count": 20,
   "metadata": {},
   "outputs": [
    {
     "name": "stdout",
     "output_type": "stream",
     "text": [
      "                              Capital  2020 Population\n",
      "Country                                               \n",
      "Algeria                       Algiers         43451666\n",
      "Angola                         Luanda         33428485\n",
      "Benin                      Porto-Novo         12643123\n",
      "Botswana                     Gaborone          2546402\n",
      "Burkina Faso              Ouagadougou         21522626\n",
      "Burundi                     Bujumbura         12220227\n",
      "Cameroon                      Yaounde         26491087\n",
      "Central African Republic       Bangui          5343020\n",
      "Chad                        N'Djamena         16644701\n",
      "Comoros                        Moroni           806166\n"
     ]
    }
   ],
   "source": [
    "africa_pop_info_ind = africa_pop_info.set_index(\"Country\").sort_index()\n",
    "print(africa_pop_info_ind.head(10))"
   ]
  },
  {
   "cell_type": "code",
   "execution_count": 22,
   "metadata": {},
   "outputs": [
    {
     "name": "stdout",
     "output_type": "stream",
     "text": [
      "                  Capital  2020 Population\n",
      "Country                                   \n",
      "Algeria           Algiers         43451666\n",
      "Angola             Luanda         33428485\n",
      "Benin          Porto-Novo         12643123\n",
      "Botswana         Gaborone          2546402\n",
      "Burkina Faso  Ouagadougou         21522626\n",
      "                            Capital  2020 Population\n",
      "Country                                             \n",
      "Burundi                   Bujumbura         12220227\n",
      "Cameroon                    Yaounde         26491087\n",
      "Central African Republic     Bangui          5343020\n",
      "Chad                      N'Djamena         16644701\n",
      "Comoros                      Moroni           806166\n"
     ]
    }
   ],
   "source": [
    "first_5 = africa_pop_info_ind[\"Algeria\": \"Burkina Faso\"]\n",
    "second_5 = africa_pop_info_ind[\"Burundi\": \"Comoros\"]\n",
    "print(first_5)\n",
    "print(second_5)"
   ]
  },
  {
   "cell_type": "code",
   "execution_count": 23,
   "metadata": {},
   "outputs": [
    {
     "name": "stdout",
     "output_type": "stream",
     "text": [
      "                                       Capital  2020 Population\n",
      "         Country                                               \n",
      "first 5  Algeria                       Algiers         43451666\n",
      "         Angola                         Luanda         33428485\n",
      "         Benin                      Porto-Novo         12643123\n",
      "         Botswana                     Gaborone          2546402\n",
      "         Burkina Faso              Ouagadougou         21522626\n",
      "second 5 Burundi                     Bujumbura         12220227\n",
      "         Cameroon                      Yaounde         26491087\n",
      "         Central African Republic       Bangui          5343020\n",
      "         Chad                        N'Djamena         16644701\n",
      "         Comoros                        Moroni           806166\n"
     ]
    }
   ],
   "source": [
    "# Concatinate the two DataFrame Together Vertically\n",
    "\n",
    "first_10 = pd.concat([first_5, second_5], ignore_index=False, keys=[\"first 5\", \"second 5\"])\n",
    "print(first_10)"
   ]
  },
  {
   "cell_type": "code",
   "execution_count": 24,
   "metadata": {},
   "outputs": [
    {
     "data": {
      "application/vnd.microsoft.datawrangler.viewer.v0+json": {
       "columns": [
        {
         "name": "(None, 'Country')",
         "rawType": "object",
         "type": "unknown"
        },
        {
         "name": "Capital",
         "rawType": "object",
         "type": "string"
        },
        {
         "name": "2020 Population",
         "rawType": "int64",
         "type": "integer"
        }
       ],
       "conversionMethod": "pd.DataFrame",
       "ref": "6a659cc2-5ff6-44d6-b82b-027b8cde7e0f",
       "rows": [
        [
         "('first 5', 'Algeria')",
         "Algiers",
         "43451666"
        ],
        [
         "('first 5', 'Angola')",
         "Luanda",
         "33428485"
        ],
        [
         "('first 5', 'Benin')",
         "Porto-Novo",
         "12643123"
        ],
        [
         "('first 5', 'Botswana')",
         "Gaborone",
         "2546402"
        ],
        [
         "('first 5', 'Burkina Faso')",
         "Ouagadougou",
         "21522626"
        ],
        [
         "('second 5', 'Burundi')",
         "Bujumbura",
         "12220227"
        ],
        [
         "('second 5', 'Cameroon')",
         "Yaounde",
         "26491087"
        ],
        [
         "('second 5', 'Central African Republic')",
         "Bangui",
         "5343020"
        ],
        [
         "('second 5', 'Chad')",
         "N'Djamena",
         "16644701"
        ],
        [
         "('second 5', 'Comoros')",
         "Moroni",
         "806166"
        ]
       ],
       "shape": {
        "columns": 2,
        "rows": 10
       }
      },
      "text/html": [
       "<div>\n",
       "<style scoped>\n",
       "    .dataframe tbody tr th:only-of-type {\n",
       "        vertical-align: middle;\n",
       "    }\n",
       "\n",
       "    .dataframe tbody tr th {\n",
       "        vertical-align: top;\n",
       "    }\n",
       "\n",
       "    .dataframe thead th {\n",
       "        text-align: right;\n",
       "    }\n",
       "</style>\n",
       "<table border=\"1\" class=\"dataframe\">\n",
       "  <thead>\n",
       "    <tr style=\"text-align: right;\">\n",
       "      <th></th>\n",
       "      <th></th>\n",
       "      <th>Capital</th>\n",
       "      <th>2020 Population</th>\n",
       "    </tr>\n",
       "    <tr>\n",
       "      <th></th>\n",
       "      <th>Country</th>\n",
       "      <th></th>\n",
       "      <th></th>\n",
       "    </tr>\n",
       "  </thead>\n",
       "  <tbody>\n",
       "    <tr>\n",
       "      <th rowspan=\"5\" valign=\"top\">first 5</th>\n",
       "      <th>Algeria</th>\n",
       "      <td>Algiers</td>\n",
       "      <td>43451666</td>\n",
       "    </tr>\n",
       "    <tr>\n",
       "      <th>Angola</th>\n",
       "      <td>Luanda</td>\n",
       "      <td>33428485</td>\n",
       "    </tr>\n",
       "    <tr>\n",
       "      <th>Benin</th>\n",
       "      <td>Porto-Novo</td>\n",
       "      <td>12643123</td>\n",
       "    </tr>\n",
       "    <tr>\n",
       "      <th>Botswana</th>\n",
       "      <td>Gaborone</td>\n",
       "      <td>2546402</td>\n",
       "    </tr>\n",
       "    <tr>\n",
       "      <th>Burkina Faso</th>\n",
       "      <td>Ouagadougou</td>\n",
       "      <td>21522626</td>\n",
       "    </tr>\n",
       "    <tr>\n",
       "      <th rowspan=\"5\" valign=\"top\">second 5</th>\n",
       "      <th>Burundi</th>\n",
       "      <td>Bujumbura</td>\n",
       "      <td>12220227</td>\n",
       "    </tr>\n",
       "    <tr>\n",
       "      <th>Cameroon</th>\n",
       "      <td>Yaounde</td>\n",
       "      <td>26491087</td>\n",
       "    </tr>\n",
       "    <tr>\n",
       "      <th>Central African Republic</th>\n",
       "      <td>Bangui</td>\n",
       "      <td>5343020</td>\n",
       "    </tr>\n",
       "    <tr>\n",
       "      <th>Chad</th>\n",
       "      <td>N'Djamena</td>\n",
       "      <td>16644701</td>\n",
       "    </tr>\n",
       "    <tr>\n",
       "      <th>Comoros</th>\n",
       "      <td>Moroni</td>\n",
       "      <td>806166</td>\n",
       "    </tr>\n",
       "  </tbody>\n",
       "</table>\n",
       "</div>"
      ],
      "text/plain": [
       "                                       Capital  2020 Population\n",
       "         Country                                               \n",
       "first 5  Algeria                       Algiers         43451666\n",
       "         Angola                         Luanda         33428485\n",
       "         Benin                      Porto-Novo         12643123\n",
       "         Botswana                     Gaborone          2546402\n",
       "         Burkina Faso              Ouagadougou         21522626\n",
       "second 5 Burundi                     Bujumbura         12220227\n",
       "         Cameroon                      Yaounde         26491087\n",
       "         Central African Republic       Bangui          5343020\n",
       "         Chad                        N'Djamena         16644701\n",
       "         Comoros                        Moroni           806166"
      ]
     },
     "execution_count": 24,
     "metadata": {},
     "output_type": "execute_result"
    }
   ],
   "source": [
    "# let me verify the integrity of the tables\n",
    "\n",
    "pd.concat([first_5, second_5], ignore_index=False, keys=['first 5', 'second 5'], verify_integrity=True)"
   ]
  },
  {
   "cell_type": "code",
   "execution_count": 12,
   "metadata": {},
   "outputs": [
    {
     "name": "stdout",
     "output_type": "stream",
     "text": [
      "   gid             name\n",
      "0    1             Rock\n",
      "1    2             Jazz\n",
      "2    3            Metal\n",
      "3    4  Alternatives...\n",
      "4    5    Rock And Roll\n"
     ]
    }
   ],
   "source": [
    "import pandas as pd\n",
    "\n",
    "genres = pd.read_csv(\"genres.csv\")\n",
    "\n",
    "\n",
    "print(genres.head())\n"
   ]
  },
  {
   "cell_type": "code",
   "execution_count": 7,
   "metadata": {},
   "outputs": [
    {
     "name": "stdout",
     "output_type": "stream",
     "text": [
      "   tid             name  aid  mtid  gid        composer  u_price\n",
      "0    1  For Those Ab...    1     1    1     Angus Young     0.99\n",
      "1    2  Balls to the...    2     2    1             nan     0.99\n",
      "2    3  Fast As a Shark    3     2    1  F.Baltes, S...     0.99\n",
      "3    4  Restless and...    3     2    1  F.Baltes, R...     0.99\n",
      "4    5  Princess of ...    3     2    1  Deaffy & R.A..     0.99\n"
     ]
    }
   ],
   "source": [
    "import pandas as pd\n",
    "\n",
    "\n",
    "top_tracks=pd.DataFrame({\n",
    "   \"tid\": [1,2,3,4,5],\n",
    "   \"name\": [\"For Those Ab...\", \"Balls to the...\", \"Fast As a Shark\", \"Restless and...\",\"Princess of ...\" ],\n",
    "   \"aid\": [1,2,3,3,3],\n",
    "   \"mtid\":[1,2,2,2,2],\n",
    "   \"gid\": [1,1,1,1,1],\n",
    "   \"composer\": [\"Angus Young\", \"nan\", \"F.Baltes, S...\",\"F.Baltes, R...\", \"Deaffy & R.A..\"],\n",
    "   \"u_price\": [0.99,0.99,0.99,0.99,0.99]\n",
    "})\n",
    "\n",
    "print(top_tracks.head())"
   ]
  },
  {
   "cell_type": "markdown",
   "metadata": {},
   "source": [
    "# SEMI JOIN"
   ]
  },
  {
   "cell_type": "code",
   "execution_count": 15,
   "metadata": {},
   "outputs": [
    {
     "name": "stdout",
     "output_type": "stream",
     "text": [
      "   gid name_x  tid           name_y  aid  mtid        composer  u_price\n",
      "0    1   Rock    1  For Those Ab...    1     1     Angus Young     0.99\n",
      "1    1   Rock    2  Balls to the...    2     2             nan     0.99\n",
      "2    1   Rock    3  Fast As a Shark    3     2  F.Baltes, S...     0.99\n",
      "3    1   Rock    4  Restless and...    3     2  F.Baltes, R...     0.99\n",
      "4    1   Rock    5  Princess of ...    3     2  Deaffy & R.A..     0.99\n"
     ]
    }
   ],
   "source": [
    "#Step 1: merge the two DataFrames using inner join\n",
    "genres_tracks = genres.merge(top_tracks, on='gid')\n",
    "print(genres_tracks.head())\n"
   ]
  },
  {
   "cell_type": "code",
   "execution_count": 10,
   "metadata": {},
   "outputs": [
    {
     "data": {
      "text/plain": [
       "0     True\n",
       "1    False\n",
       "2    False\n",
       "3    False\n",
       "4    False\n",
       "Name: gid, dtype: bool"
      ]
     },
     "execution_count": 10,
     "metadata": {},
     "output_type": "execute_result"
    }
   ],
   "source": [
    "#Step 2: Filtering the semi join\n",
    "genres['gid'].isin(genres_tracks['gid'])"
   ]
  },
  {
   "cell_type": "code",
   "execution_count": null,
   "metadata": {},
   "outputs": [
    {
     "name": "stdout",
     "output_type": "stream",
     "text": [
      "   gid  name\n",
      "0    1  Rock\n"
     ]
    }
   ],
   "source": [
    "#Step 3: Showing the DataFrame\n",
    "top_genres = genres[genres[\"gid\"].isin(genres_tracks[\"gid\"])]\n",
    "print(top_genres.head())"
   ]
  },
  {
   "cell_type": "markdown",
   "metadata": {},
   "source": [
    " _A Semi join in pandas is used when you want to filter a DataFrame based on wheather its rows have a match in another DataFrame, but you don't include any columns from the second DataFrame in the output._"
   ]
  },
  {
   "cell_type": "code",
   "execution_count": 3,
   "metadata": {},
   "outputs": [
    {
     "name": "stdout",
     "output_type": "stream",
     "text": [
      "   employee_id   name department\n",
      "0          102    Bob         IT\n",
      "1          104  David         IT\n"
     ]
    }
   ],
   "source": [
    "import pandas as pd\n",
    "\n",
    "employees = pd.DataFrame({\n",
    "    \"employee_id\": [101, 102, 103, 104, 105],\n",
    "    \"name\": [\"Alice\", \"Bob\", \"Charlie\", \"David\", \"Emma\"],\n",
    "    \"department\": [\"HR\",\"IT\",\"Finance\", \"IT\", \"HR\"]\n",
    "})\n",
    "\n",
    "it_employees = pd.DataFrame({\n",
    "    \"employee_id\": [102, 104]\n",
    "})\n",
    "\n",
    "semi_join_result = employees.merge(it_employees, on='employee_id')\n",
    "print(semi_join_result.head())"
   ]
  },
  {
   "cell_type": "code",
   "execution_count": 1,
   "metadata": {},
   "outputs": [
    {
     "name": "stdout",
     "output_type": "stream",
     "text": [
      "   employee_id\n",
      "0          101\n",
      "1          102\n",
      "2          104\n"
     ]
    }
   ],
   "source": [
    "import pandas as pd\n",
    "\n",
    "employees = pd.DataFrame({\n",
    "    \"employee_id\": [101, 102, 103, 104, 105, 101],\n",
    "    \"name\": [\"Alice\", \"Bob\", \"Charlie\", \"David\", \"Emma\", \"Alice\"],\n",
    "    \"department\": [\"HR\",\"IT\",\"Finance\", \"IT\", \"HR\", \"HR\"]\n",
    "})\n",
    "\n",
    "it_employees = pd.DataFrame({\n",
    "    \"employee_id\": [101, 102, 104, 108]\n",
    "})\n",
    "\n",
    "semi_join_result = employees.merge(it_employees, on='employee_id')\n",
    "print(it_employees[it_employees['employee_id'].isin(employees['employee_id'])])\n"
   ]
  },
  {
   "cell_type": "markdown",
   "metadata": {},
   "source": [
    "# Anti join\n",
    "\n",
    "_An **anti-join** in pandas is used when you want to keep only the rows from the first DataFrame that do not have match in the second DataFrame._"
   ]
  },
  {
   "cell_type": "code",
   "execution_count": 4,
   "metadata": {},
   "outputs": [
    {
     "name": "stdout",
     "output_type": "stream",
     "text": [
      "   student_id      name grade     _merge\n",
      "0        1001  Muhammad     A       both\n",
      "1        1002  Abubakar     E  left_only\n",
      "2        1003      Umar     C       both\n",
      "3        1004     Usman     D  left_only\n",
      "4        1005     Aliyu     B  left_only\n"
     ]
    }
   ],
   "source": [
    "import pandas as pd\n",
    "\n",
    "students = pd.DataFrame({\n",
    "    \"student_id\": [1001, 1002, 1003, 1004, 1005, 1006],\n",
    "    \"name\": [\"Muhammad\",\"Abubakar\", \"Umar\", \"Usman\", \"Aliyu\", \"Muawiya\"],\n",
    "    \"grade\": [\"A\", \"E\", \"C\", \"D\", \"B\", \"E\"]\n",
    "})\n",
    "\n",
    "passed_students = pd.DataFrame({\n",
    "    \"student_id\": [1001, 1003, 1006]\n",
    "})\n",
    "\n",
    "\n",
    "failed_student = students.merge(passed_students, on='student_id', how='left', indicator = True)\n",
    "print(failed_student.head())"
   ]
  },
  {
   "cell_type": "code",
   "execution_count": 31,
   "metadata": {},
   "outputs": [
    {
     "name": "stdout",
     "output_type": "stream",
     "text": [
      "Resit students\n",
      "   student_id      name grade\n",
      "1        1002  Abubakar     B\n",
      "3        1004     Usman     A\n",
      "4        1005     Aliyu     B\n"
     ]
    }
   ],
   "source": [
    "failed_list = failed_student.loc[failed_student['_merge']=='left_only', 'student_id']\n",
    "resit_student = students[students['student_id'].isin(failed_list)]\n",
    "print(\"Resit students\")\n",
    "print(resit_student)"
   ]
  },
  {
   "cell_type": "code",
   "execution_count": 8,
   "metadata": {},
   "outputs": [],
   "source": [
    "top_tracks.to_csv(\"Top_track.csv\")"
   ]
  },
  {
   "cell_type": "code",
   "execution_count": null,
   "metadata": {},
   "outputs": [],
   "source": []
  }
 ],
 "metadata": {
  "kernelspec": {
   "display_name": "base",
   "language": "python",
   "name": "python3"
  },
  "language_info": {
   "codemirror_mode": {
    "name": "ipython",
    "version": 3
   },
   "file_extension": ".py",
   "mimetype": "text/x-python",
   "name": "python",
   "nbconvert_exporter": "python",
   "pygments_lexer": "ipython3",
   "version": "3.12.3"
  }
 },
 "nbformat": 4,
 "nbformat_minor": 2
}

{
 "cells": [
  {
   "cell_type": "markdown",
   "metadata": {},
   "source": [
    "# Inner Join"
   ]
  },
  {
   "cell_type": "code",
   "execution_count": 24,
   "metadata": {},
   "outputs": [
    {
     "data": {
      "application/vnd.microsoft.datawrangler.viewer.v0+json": {
       "columns": [
        {
         "name": "index",
         "rawType": "int64",
         "type": "integer"
        },
        {
         "name": "Country",
         "rawType": "object",
         "type": "string"
        },
        {
         "name": "Code",
         "rawType": "object",
         "type": "string"
        },
        {
         "name": "1960",
         "rawType": "float64",
         "type": "float"
        },
        {
         "name": "1961",
         "rawType": "float64",
         "type": "float"
        },
        {
         "name": "1962",
         "rawType": "float64",
         "type": "float"
        },
        {
         "name": "1963",
         "rawType": "float64",
         "type": "float"
        },
        {
         "name": "1964",
         "rawType": "float64",
         "type": "float"
        },
        {
         "name": "1965",
         "rawType": "float64",
         "type": "float"
        },
        {
         "name": "1966",
         "rawType": "float64",
         "type": "float"
        },
        {
         "name": "1967",
         "rawType": "float64",
         "type": "float"
        },
        {
         "name": "1968",
         "rawType": "float64",
         "type": "float"
        },
        {
         "name": "1969",
         "rawType": "float64",
         "type": "float"
        },
        {
         "name": "1970",
         "rawType": "float64",
         "type": "float"
        },
        {
         "name": "1971",
         "rawType": "float64",
         "type": "float"
        },
        {
         "name": "1972",
         "rawType": "float64",
         "type": "float"
        },
        {
         "name": "1973",
         "rawType": "float64",
         "type": "float"
        },
        {
         "name": "1974",
         "rawType": "float64",
         "type": "float"
        },
        {
         "name": "1975",
         "rawType": "float64",
         "type": "float"
        },
        {
         "name": "1976",
         "rawType": "float64",
         "type": "float"
        },
        {
         "name": "1977",
         "rawType": "float64",
         "type": "float"
        },
        {
         "name": "1978",
         "rawType": "float64",
         "type": "float"
        },
        {
         "name": "1979",
         "rawType": "float64",
         "type": "float"
        },
        {
         "name": "1980",
         "rawType": "float64",
         "type": "float"
        },
        {
         "name": "1981",
         "rawType": "float64",
         "type": "float"
        },
        {
         "name": "1982",
         "rawType": "float64",
         "type": "float"
        },
        {
         "name": "1983",
         "rawType": "float64",
         "type": "float"
        },
        {
         "name": "1984",
         "rawType": "float64",
         "type": "float"
        },
        {
         "name": "1985",
         "rawType": "float64",
         "type": "float"
        },
        {
         "name": "1986",
         "rawType": "float64",
         "type": "float"
        },
        {
         "name": "1987",
         "rawType": "float64",
         "type": "float"
        },
        {
         "name": "1988",
         "rawType": "float64",
         "type": "float"
        },
        {
         "name": "1989",
         "rawType": "float64",
         "type": "float"
        },
        {
         "name": "1990",
         "rawType": "float64",
         "type": "float"
        },
        {
         "name": "1991",
         "rawType": "float64",
         "type": "float"
        },
        {
         "name": "1992",
         "rawType": "float64",
         "type": "float"
        },
        {
         "name": "1993",
         "rawType": "float64",
         "type": "float"
        },
        {
         "name": "1994",
         "rawType": "float64",
         "type": "float"
        },
        {
         "name": "1995",
         "rawType": "float64",
         "type": "float"
        },
        {
         "name": "1996",
         "rawType": "float64",
         "type": "float"
        },
        {
         "name": "1997",
         "rawType": "float64",
         "type": "float"
        },
        {
         "name": "1998",
         "rawType": "float64",
         "type": "float"
        },
        {
         "name": "1999",
         "rawType": "float64",
         "type": "float"
        },
        {
         "name": "2000",
         "rawType": "float64",
         "type": "float"
        },
        {
         "name": "2001",
         "rawType": "float64",
         "type": "float"
        },
        {
         "name": "2002",
         "rawType": "float64",
         "type": "float"
        },
        {
         "name": "2003",
         "rawType": "float64",
         "type": "float"
        },
        {
         "name": "2004",
         "rawType": "float64",
         "type": "float"
        },
        {
         "name": "2005",
         "rawType": "float64",
         "type": "float"
        },
        {
         "name": "2006",
         "rawType": "float64",
         "type": "float"
        },
        {
         "name": "2007",
         "rawType": "float64",
         "type": "float"
        },
        {
         "name": "2008",
         "rawType": "float64",
         "type": "float"
        },
        {
         "name": "2009",
         "rawType": "float64",
         "type": "float"
        },
        {
         "name": "2010",
         "rawType": "float64",
         "type": "float"
        },
        {
         "name": "2011",
         "rawType": "float64",
         "type": "float"
        },
        {
         "name": "2012",
         "rawType": "float64",
         "type": "float"
        },
        {
         "name": "2013",
         "rawType": "float64",
         "type": "float"
        },
        {
         "name": "2014",
         "rawType": "float64",
         "type": "float"
        },
        {
         "name": "2015",
         "rawType": "float64",
         "type": "float"
        },
        {
         "name": "2016",
         "rawType": "float64",
         "type": "float"
        },
        {
         "name": "2017",
         "rawType": "float64",
         "type": "float"
        },
        {
         "name": "2018",
         "rawType": "float64",
         "type": "float"
        },
        {
         "name": "2019",
         "rawType": "float64",
         "type": "float"
        },
        {
         "name": "2020",
         "rawType": "float64",
         "type": "float"
        },
        {
         "name": "Unnamed: 65",
         "rawType": "float64",
         "type": "float"
        }
       ],
       "conversionMethod": "pd.DataFrame",
       "ref": "c4c0fe05-737e-42bc-854f-2f24f7ed2b23",
       "rows": [
        [
         "0",
         "Aruba",
         "ABW",
         null,
         null,
         null,
         null,
         null,
         null,
         null,
         null,
         null,
         null,
         null,
         null,
         null,
         null,
         null,
         null,
         null,
         null,
         null,
         null,
         null,
         null,
         null,
         null,
         null,
         null,
         "405463417.11746",
         "487602457.746416",
         "596423607.114715",
         "695304363.031101",
         "764887117.194486",
         "872138715.083799",
         "958463184.357542",
         "1082979720.67039",
         "1245688268.15642",
         "1320474860.3352",
         "1379960893.85475",
         "1531944134.07821",
         "1665100558.65922",
         "1722798882.68156",
         "1873452513.96648",
         "1920111731.84358",
         "1941340782.12291",
         "2021229050.27933",
         "2228491620.11173",
         "2330726256.98324",
         "2424581005.58659",
         "2615083798.88268",
         "2745251396.64804",
         "2498882681.56425",
         "2390502793.29609",
         "2549720670.39106",
         "2534636871.50838",
         "2727849720.67039",
         "2790849162.01117",
         "2962905027.93296",
         "2983636871.50838",
         "3092430167.59777",
         "3202188606.92893",
         null,
         null,
         null
        ],
        [
         "1",
         "Africa Eastern and Southern",
         "AFE",
         "19313106301.7896",
         "19723488056.8439",
         "21493920015.0151",
         "25733212133.7837",
         "23527443250.685",
         "26810567153.9916",
         "29152157362.4028",
         "30173172662.6784",
         "32877055828.8475",
         "37744346869.0476",
         "40315782854.2986",
         "44476662702.8768",
         "48301485013.5712",
         "62983498804.5895",
         "78250886611.1516",
         "83435565922.8584",
         "83210426601.596",
         "94988948105.4857",
         "106346142736.477",
         "124498228018.333",
         "156512735720.642",
         "160378053768.439",
         "154669356787.555",
         "159757514563.7",
         "146021918891.396",
         "130439822969.054",
         "147025178146.934",
         "179739456625.959",
         "189003280051.478",
         "194543353913.705",
         "212336051488.558",
         "220763711128.518",
         "220218785937.895",
         "234035169208.665",
         "239088300074.374",
         "269689336126.775",
         "268440412907.73",
         "282213512990.631",
         "265837711929.972",
         "262197179765.274",
         "283952504751.698",
         "258843211433.203",
         "264895032411.725",
         "352692089583.594",
         "438875574172.163",
         "512259874365.035",
         "575976209979.202",
         "661242216575.303",
         "708354291357.645",
         "712557951490.059",
         "847409491176.197",
         "943378184761.64",
         "950521438838.682",
         "964242449960.242",
         "984807065632.553",
         "919930022724.422",
         "873354876607.317",
         "985355704660.083",
         "1012853224905.79",
         "1009909855421.84",
         "920792331527.746",
         null
        ],
        [
         "2",
         "Afghanistan",
         "AFG",
         "537777811.111111",
         "548888895.555556",
         "546666677.777778",
         "751111191.111111",
         "800000044.444444",
         "1006666637.77778",
         "1399999966.66667",
         "1673333417.77778",
         "1373333366.66667",
         "1408888922.22222",
         "1748886595.55556",
         "1831108971.11111",
         "1595555475.55556",
         "1733333264.44444",
         "2155555497.77778",
         "2366666615.55556",
         "2555555566.66667",
         "2953333417.77778",
         "3300000108.88889",
         "3697940409.61098",
         "3641723321.99546",
         "3478787909.09091",
         null,
         null,
         null,
         null,
         null,
         null,
         null,
         null,
         null,
         null,
         null,
         null,
         null,
         null,
         null,
         null,
         null,
         null,
         null,
         null,
         "4055179566.34981",
         "4515558808.10994",
         "5226778808.89209",
         "6209137624.77181",
         "6971285594.68013",
         "9747879531.86311",
         "10109305182.952",
         "12416161048.8412",
         "15856678596.148",
         "17805113118.8938",
         "19907317065.6666",
         "20146404996.223",
         "20497126770.1335",
         "19134211763.859",
         "18116562464.9088",
         "18753469630.2586",
         "18053228578.8878",
         "18799450742.7823",
         "20116137325.8206",
         null
        ],
        [
         "3",
         "Africa Western and Central",
         "AFW",
         "10404280784.1531",
         "11128050589.2821",
         "11943353288.4767",
         "12676515453.6754",
         "13838577015.1848",
         "14862472886.1754",
         "15832846880.9342",
         "14426432397.412",
         "14880350847.4193",
         "16882094302.9685",
         "23504608014.6703",
         "20832819361.2583",
         "25264956496.1857",
         "31273822294.4754",
         "44214489605.7396",
         "51444737234.3198",
         "62129396932.5444",
         "65315014927.362",
         "71199715512.1281",
         "88628410997.2053",
         "112031316716.518",
         "211003522772.267",
         "187163730429.134",
         "138115205724.066",
         "114262672752.222",
         "116507304373.059",
         "107497531255.437",
         "110321757308.765",
         "108943462603.12",
         "101768781748.054",
         "121802185300.139",
         "117457042740.623",
         "118282284598.653",
         "98826405551.0238",
         "86281770253.474",
         "108221322522.552",
         "125763049173.424",
         "127063932192.748",
         "130106844606.853",
         "137520164451.485",
         "140407973778.931",
         "148012003011.166",
         "176933365387.396",
         "204641949829.561",
         "254090255061.056",
         "310554338477.887",
         "393296680919.431",
         "461777599573.788",
         "566425696836.635",
         "506996402016.437",
         "591582966686.497",
         "670962551547.58",
         "727571396578.054",
         "820787588844.362",
         "864966625366.588",
         "760729687146.574",
         "690543020916.229",
         "683741574626.192",
         "741691624372.788",
         "794572474605.872",
         "784587603322.866",
         null
        ],
        [
         "4",
         "Angola",
         "AGO",
         null,
         null,
         null,
         null,
         null,
         null,
         null,
         null,
         null,
         null,
         null,
         null,
         null,
         null,
         null,
         null,
         null,
         null,
         null,
         null,
         "5934073603.54849",
         "5553824463.82274",
         "5553824463.82274",
         "5787823808.69565",
         "6135166254.2408",
         "7558613007.90635",
         "7076793822.60201",
         "8089279284.72241",
         "8775116269.16722",
         "10207922517.1839",
         "11236275842.7358",
         null,
         null,
         null,
         "3390500000.0",
         "5561222222.22222",
         "7526963963.96396",
         "7649716157.20524",
         "6506619144.60285",
         "6152936539.21955",
         "9129634978.33773",
         "8936063723.20121",
         "15285594828.418",
         "17812705294.325",
         "23552052407.5488",
         "36970918699.2523",
         "52381006892.038",
         "65266452081.386",
         "88538611205.1433",
         "70307163678.238",
         "83799496611.2004",
         "111789686464.441",
         "128052853643.106",
         "136709862831.194",
         "145712200312.505",
         "116193649124.151",
         "101123851090.455",
         "122123822333.59",
         "101353230784.594",
         "89417190341.2533",
         "58375976292.9678",
         null
        ]
       ],
       "shape": {
        "columns": 64,
        "rows": 5
       }
      },
      "text/html": [
       "<div>\n",
       "<style scoped>\n",
       "    .dataframe tbody tr th:only-of-type {\n",
       "        vertical-align: middle;\n",
       "    }\n",
       "\n",
       "    .dataframe tbody tr th {\n",
       "        vertical-align: top;\n",
       "    }\n",
       "\n",
       "    .dataframe thead th {\n",
       "        text-align: right;\n",
       "    }\n",
       "</style>\n",
       "<table border=\"1\" class=\"dataframe\">\n",
       "  <thead>\n",
       "    <tr style=\"text-align: right;\">\n",
       "      <th></th>\n",
       "      <th>Country</th>\n",
       "      <th>Code</th>\n",
       "      <th>1960</th>\n",
       "      <th>1961</th>\n",
       "      <th>1962</th>\n",
       "      <th>1963</th>\n",
       "      <th>1964</th>\n",
       "      <th>1965</th>\n",
       "      <th>1966</th>\n",
       "      <th>1967</th>\n",
       "      <th>...</th>\n",
       "      <th>2012</th>\n",
       "      <th>2013</th>\n",
       "      <th>2014</th>\n",
       "      <th>2015</th>\n",
       "      <th>2016</th>\n",
       "      <th>2017</th>\n",
       "      <th>2018</th>\n",
       "      <th>2019</th>\n",
       "      <th>2020</th>\n",
       "      <th>Unnamed: 65</th>\n",
       "    </tr>\n",
       "  </thead>\n",
       "  <tbody>\n",
       "    <tr>\n",
       "      <th>0</th>\n",
       "      <td>Aruba</td>\n",
       "      <td>ABW</td>\n",
       "      <td>NaN</td>\n",
       "      <td>NaN</td>\n",
       "      <td>NaN</td>\n",
       "      <td>NaN</td>\n",
       "      <td>NaN</td>\n",
       "      <td>NaN</td>\n",
       "      <td>NaN</td>\n",
       "      <td>NaN</td>\n",
       "      <td>...</td>\n",
       "      <td>2.534637e+09</td>\n",
       "      <td>2.727850e+09</td>\n",
       "      <td>2.790849e+09</td>\n",
       "      <td>2.962905e+09</td>\n",
       "      <td>2.983637e+09</td>\n",
       "      <td>3.092430e+09</td>\n",
       "      <td>3.202189e+09</td>\n",
       "      <td>NaN</td>\n",
       "      <td>NaN</td>\n",
       "      <td>NaN</td>\n",
       "    </tr>\n",
       "    <tr>\n",
       "      <th>1</th>\n",
       "      <td>Africa Eastern and Southern</td>\n",
       "      <td>AFE</td>\n",
       "      <td>1.931311e+10</td>\n",
       "      <td>1.972349e+10</td>\n",
       "      <td>2.149392e+10</td>\n",
       "      <td>2.573321e+10</td>\n",
       "      <td>2.352744e+10</td>\n",
       "      <td>2.681057e+10</td>\n",
       "      <td>2.915216e+10</td>\n",
       "      <td>3.017317e+10</td>\n",
       "      <td>...</td>\n",
       "      <td>9.505214e+11</td>\n",
       "      <td>9.642424e+11</td>\n",
       "      <td>9.848071e+11</td>\n",
       "      <td>9.199300e+11</td>\n",
       "      <td>8.733549e+11</td>\n",
       "      <td>9.853557e+11</td>\n",
       "      <td>1.012853e+12</td>\n",
       "      <td>1.009910e+12</td>\n",
       "      <td>9.207923e+11</td>\n",
       "      <td>NaN</td>\n",
       "    </tr>\n",
       "    <tr>\n",
       "      <th>2</th>\n",
       "      <td>Afghanistan</td>\n",
       "      <td>AFG</td>\n",
       "      <td>5.377778e+08</td>\n",
       "      <td>5.488889e+08</td>\n",
       "      <td>5.466667e+08</td>\n",
       "      <td>7.511112e+08</td>\n",
       "      <td>8.000000e+08</td>\n",
       "      <td>1.006667e+09</td>\n",
       "      <td>1.400000e+09</td>\n",
       "      <td>1.673333e+09</td>\n",
       "      <td>...</td>\n",
       "      <td>1.990732e+10</td>\n",
       "      <td>2.014640e+10</td>\n",
       "      <td>2.049713e+10</td>\n",
       "      <td>1.913421e+10</td>\n",
       "      <td>1.811656e+10</td>\n",
       "      <td>1.875347e+10</td>\n",
       "      <td>1.805323e+10</td>\n",
       "      <td>1.879945e+10</td>\n",
       "      <td>2.011614e+10</td>\n",
       "      <td>NaN</td>\n",
       "    </tr>\n",
       "    <tr>\n",
       "      <th>3</th>\n",
       "      <td>Africa Western and Central</td>\n",
       "      <td>AFW</td>\n",
       "      <td>1.040428e+10</td>\n",
       "      <td>1.112805e+10</td>\n",
       "      <td>1.194335e+10</td>\n",
       "      <td>1.267652e+10</td>\n",
       "      <td>1.383858e+10</td>\n",
       "      <td>1.486247e+10</td>\n",
       "      <td>1.583285e+10</td>\n",
       "      <td>1.442643e+10</td>\n",
       "      <td>...</td>\n",
       "      <td>7.275714e+11</td>\n",
       "      <td>8.207876e+11</td>\n",
       "      <td>8.649666e+11</td>\n",
       "      <td>7.607297e+11</td>\n",
       "      <td>6.905430e+11</td>\n",
       "      <td>6.837416e+11</td>\n",
       "      <td>7.416916e+11</td>\n",
       "      <td>7.945725e+11</td>\n",
       "      <td>7.845876e+11</td>\n",
       "      <td>NaN</td>\n",
       "    </tr>\n",
       "    <tr>\n",
       "      <th>4</th>\n",
       "      <td>Angola</td>\n",
       "      <td>AGO</td>\n",
       "      <td>NaN</td>\n",
       "      <td>NaN</td>\n",
       "      <td>NaN</td>\n",
       "      <td>NaN</td>\n",
       "      <td>NaN</td>\n",
       "      <td>NaN</td>\n",
       "      <td>NaN</td>\n",
       "      <td>NaN</td>\n",
       "      <td>...</td>\n",
       "      <td>1.280529e+11</td>\n",
       "      <td>1.367099e+11</td>\n",
       "      <td>1.457122e+11</td>\n",
       "      <td>1.161936e+11</td>\n",
       "      <td>1.011239e+11</td>\n",
       "      <td>1.221238e+11</td>\n",
       "      <td>1.013532e+11</td>\n",
       "      <td>8.941719e+10</td>\n",
       "      <td>5.837598e+10</td>\n",
       "      <td>NaN</td>\n",
       "    </tr>\n",
       "  </tbody>\n",
       "</table>\n",
       "<p>5 rows × 64 columns</p>\n",
       "</div>"
      ],
      "text/plain": [
       "                       Country Code          1960          1961          1962  \\\n",
       "0                        Aruba  ABW           NaN           NaN           NaN   \n",
       "1  Africa Eastern and Southern  AFE  1.931311e+10  1.972349e+10  2.149392e+10   \n",
       "2                  Afghanistan  AFG  5.377778e+08  5.488889e+08  5.466667e+08   \n",
       "3   Africa Western and Central  AFW  1.040428e+10  1.112805e+10  1.194335e+10   \n",
       "4                       Angola  AGO           NaN           NaN           NaN   \n",
       "\n",
       "           1963          1964          1965          1966          1967  ...  \\\n",
       "0           NaN           NaN           NaN           NaN           NaN  ...   \n",
       "1  2.573321e+10  2.352744e+10  2.681057e+10  2.915216e+10  3.017317e+10  ...   \n",
       "2  7.511112e+08  8.000000e+08  1.006667e+09  1.400000e+09  1.673333e+09  ...   \n",
       "3  1.267652e+10  1.383858e+10  1.486247e+10  1.583285e+10  1.442643e+10  ...   \n",
       "4           NaN           NaN           NaN           NaN           NaN  ...   \n",
       "\n",
       "           2012          2013          2014          2015          2016  \\\n",
       "0  2.534637e+09  2.727850e+09  2.790849e+09  2.962905e+09  2.983637e+09   \n",
       "1  9.505214e+11  9.642424e+11  9.848071e+11  9.199300e+11  8.733549e+11   \n",
       "2  1.990732e+10  2.014640e+10  2.049713e+10  1.913421e+10  1.811656e+10   \n",
       "3  7.275714e+11  8.207876e+11  8.649666e+11  7.607297e+11  6.905430e+11   \n",
       "4  1.280529e+11  1.367099e+11  1.457122e+11  1.161936e+11  1.011239e+11   \n",
       "\n",
       "           2017          2018          2019          2020  Unnamed: 65  \n",
       "0  3.092430e+09  3.202189e+09           NaN           NaN          NaN  \n",
       "1  9.853557e+11  1.012853e+12  1.009910e+12  9.207923e+11          NaN  \n",
       "2  1.875347e+10  1.805323e+10  1.879945e+10  2.011614e+10          NaN  \n",
       "3  6.837416e+11  7.416916e+11  7.945725e+11  7.845876e+11          NaN  \n",
       "4  1.221238e+11  1.013532e+11  8.941719e+10  5.837598e+10          NaN  \n",
       "\n",
       "[5 rows x 64 columns]"
      ]
     },
     "execution_count": 24,
     "metadata": {},
     "output_type": "execute_result"
    }
   ],
   "source": [
    "import pandas as pd\n",
    "\n",
    "gdp = pd.read_csv(r\"c:/users/danhaya/arewads/arewads-fellowship/gdp.csv\")\n",
    "gdp= gdp.rename(columns={\"Country Name\": \"Country\"})\n",
    "gdp.head()"
   ]
  },
  {
   "cell_type": "code",
   "execution_count": 25,
   "metadata": {},
   "outputs": [
    {
     "name": "stdout",
     "output_type": "stream",
     "text": [
      "   Unnamed: 0  Rank CCA3         Country           Capital Continent  \\\n",
      "0           0    36  AFG     Afghanistan             Kabul      Asia   \n",
      "1           1   138  ALB         Albania            Tirana    Europe   \n",
      "2           2    34  DZA         Algeria           Algiers    Africa   \n",
      "3           3   213  ASM  American Samoa         Pago Pago   Oceania   \n",
      "4           4   203  AND         Andorra  Andorra la Vella    Europe   \n",
      "\n",
      "   2022 Population  2020 Population  2015 Population  2010 Population  \\\n",
      "0         41128771         38972230         33753499         28189672   \n",
      "1          2842321          2866849          2882481          2913399   \n",
      "2         44903225         43451666         39543154         35856344   \n",
      "3            44273            46189            51368            54849   \n",
      "4            79824            77700            71746            71519   \n",
      "\n",
      "   2000 Population  1990 Population  1980 Population  1970 Population  \\\n",
      "0         19542982         10694796         12486631         10752971   \n",
      "1          3182021          3295066          2941651          2324731   \n",
      "2         30774621         25518074         18739378         13795915   \n",
      "3            58230            47818            32886            27075   \n",
      "4            66097            53569            35611            19860   \n",
      "\n",
      "   Area (km²)  Density (per km²)  Growth Rate  World Population Percentage  \n",
      "0      652230            63.0587       1.0257                         0.52  \n",
      "1       28748            98.8702       0.9957                         0.04  \n",
      "2     2381741            18.8531       1.0164                         0.56  \n",
      "3         199           222.4774       0.9831                         0.00  \n",
      "4         468           170.5641       1.0100                         0.00  \n"
     ]
    }
   ],
   "source": [
    "pop = pd.read_csv(r\"c:/users/danhaya/arewads/world-population-dynamics/data/processed_data/processed_data.csv\")\n",
    "pop = pop.rename(columns={\"Country/Territory\": \"Country\"})\n",
    "print(pop.head())"
   ]
  },
  {
   "cell_type": "code",
   "execution_count": null,
   "metadata": {},
   "outputs": [
    {
     "data": {
      "text/plain": [
       "(266, 64)"
      ]
     },
     "execution_count": 17,
     "metadata": {},
     "output_type": "execute_result"
    }
   ],
   "source": [
    "gdp.shape"
   ]
  },
  {
   "cell_type": "code",
   "execution_count": null,
   "metadata": {},
   "outputs": [
    {
     "data": {
      "text/plain": [
       "(234, 18)"
      ]
     },
     "execution_count": 18,
     "metadata": {},
     "output_type": "execute_result"
    }
   ],
   "source": [
    "pop.shape"
   ]
  },
  {
   "cell_type": "markdown",
   "metadata": {},
   "source": [
    "# Subsetting"
   ]
  },
  {
   "cell_type": "code",
   "execution_count": 34,
   "metadata": {},
   "outputs": [
    {
     "name": "stdout",
     "output_type": "stream",
     "text": [
      "   2020 Population         Country           Capital Continent\n",
      "0         38972230     Afghanistan             Kabul      Asia\n",
      "1          2866849         Albania            Tirana    Europe\n",
      "2         43451666         Algeria           Algiers    Africa\n",
      "3            46189  American Samoa         Pago Pago   Oceania\n",
      "4            77700         Andorra  Andorra la Vella    Europe\n"
     ]
    }
   ],
   "source": [
    "# Let me subset 2020 Population and its corresponding GDP\n",
    "pop_2020 = pop.loc[:, [\"2020 Population\", \"Country\", \"Capital\", \"Continent\"]]\n",
    "print(pop_2020.head())\n"
   ]
  },
  {
   "cell_type": "code",
   "execution_count": 29,
   "metadata": {},
   "outputs": [
    {
     "name": "stdout",
     "output_type": "stream",
     "text": [
      "                       Country          2020\n",
      "0                        Aruba           NaN\n",
      "1  Africa Eastern and Southern  9.207923e+11\n",
      "2                  Afghanistan  2.011614e+10\n",
      "3   Africa Western and Central  7.845876e+11\n",
      "4                       Angola  5.837598e+10\n"
     ]
    }
   ],
   "source": [
    "#gdp\n",
    "gdp_2020 = gdp.loc[:, [\"Country\", \"2020\"]]\n",
    "print(gdp_2020.head())"
   ]
  },
  {
   "cell_type": "markdown",
   "metadata": {},
   "source": [
    "## MERGING TABLES"
   ]
  },
  {
   "cell_type": "code",
   "execution_count": 35,
   "metadata": {},
   "outputs": [
    {
     "name": "stdout",
     "output_type": "stream",
     "text": [
      "   2020 Population         Country           Capital Continent          2020\n",
      "0         38972230     Afghanistan             Kabul      Asia  2.011614e+10\n",
      "1          2866849         Albania            Tirana    Europe  1.488763e+10\n",
      "2         43451666         Algeria           Algiers    Africa  1.450092e+11\n",
      "3            46189  American Samoa         Pago Pago   Oceania  7.090000e+08\n",
      "4            77700         Andorra  Andorra la Vella    Europe           NaN\n"
     ]
    }
   ],
   "source": [
    "# let me merge the two DataFrames\n",
    "\n",
    "pop_gdp2020 = pop_2020.merge(gdp_2020, on='Country')\n",
    "print(pop_gdp2020.head())"
   ]
  },
  {
   "cell_type": "code",
   "execution_count": 40,
   "metadata": {},
   "outputs": [
    {
     "data": {
      "application/vnd.microsoft.datawrangler.viewer.v0+json": {
       "columns": [
        {
         "name": "index",
         "rawType": "int64",
         "type": "integer"
        },
        {
         "name": "2020 Population",
         "rawType": "int64",
         "type": "integer"
        },
        {
         "name": "Country",
         "rawType": "object",
         "type": "string"
        },
        {
         "name": "Capital",
         "rawType": "object",
         "type": "string"
        },
        {
         "name": "Continent",
         "rawType": "object",
         "type": "string"
        },
        {
         "name": "2020 Gdp",
         "rawType": "float64",
         "type": "float"
        }
       ],
       "conversionMethod": "pd.DataFrame",
       "ref": "d90a0e38-8e60-479d-96ea-789e49ace427",
       "rows": [
        [
         "0",
         "38972230",
         "Afghanistan",
         "Kabul",
         "Asia",
         "20116137325.8206"
        ],
        [
         "1",
         "2866849",
         "Albania",
         "Tirana",
         "Europe",
         "14887629268.2927"
        ],
        [
         "2",
         "43451666",
         "Algeria",
         "Algiers",
         "Africa",
         "145009181490.62"
        ],
        [
         "3",
         "46189",
         "American Samoa",
         "Pago Pago",
         "Oceania",
         "709000000.0"
        ],
        [
         "4",
         "77700",
         "Andorra",
         "Andorra la Vella",
         "Europe",
         null
        ]
       ],
       "shape": {
        "columns": 5,
        "rows": 5
       }
      },
      "text/html": [
       "<div>\n",
       "<style scoped>\n",
       "    .dataframe tbody tr th:only-of-type {\n",
       "        vertical-align: middle;\n",
       "    }\n",
       "\n",
       "    .dataframe tbody tr th {\n",
       "        vertical-align: top;\n",
       "    }\n",
       "\n",
       "    .dataframe thead th {\n",
       "        text-align: right;\n",
       "    }\n",
       "</style>\n",
       "<table border=\"1\" class=\"dataframe\">\n",
       "  <thead>\n",
       "    <tr style=\"text-align: right;\">\n",
       "      <th></th>\n",
       "      <th>2020 Population</th>\n",
       "      <th>Country</th>\n",
       "      <th>Capital</th>\n",
       "      <th>Continent</th>\n",
       "      <th>2020 Gdp</th>\n",
       "    </tr>\n",
       "  </thead>\n",
       "  <tbody>\n",
       "    <tr>\n",
       "      <th>0</th>\n",
       "      <td>38972230</td>\n",
       "      <td>Afghanistan</td>\n",
       "      <td>Kabul</td>\n",
       "      <td>Asia</td>\n",
       "      <td>2.011614e+10</td>\n",
       "    </tr>\n",
       "    <tr>\n",
       "      <th>1</th>\n",
       "      <td>2866849</td>\n",
       "      <td>Albania</td>\n",
       "      <td>Tirana</td>\n",
       "      <td>Europe</td>\n",
       "      <td>1.488763e+10</td>\n",
       "    </tr>\n",
       "    <tr>\n",
       "      <th>2</th>\n",
       "      <td>43451666</td>\n",
       "      <td>Algeria</td>\n",
       "      <td>Algiers</td>\n",
       "      <td>Africa</td>\n",
       "      <td>1.450092e+11</td>\n",
       "    </tr>\n",
       "    <tr>\n",
       "      <th>3</th>\n",
       "      <td>46189</td>\n",
       "      <td>American Samoa</td>\n",
       "      <td>Pago Pago</td>\n",
       "      <td>Oceania</td>\n",
       "      <td>7.090000e+08</td>\n",
       "    </tr>\n",
       "    <tr>\n",
       "      <th>4</th>\n",
       "      <td>77700</td>\n",
       "      <td>Andorra</td>\n",
       "      <td>Andorra la Vella</td>\n",
       "      <td>Europe</td>\n",
       "      <td>NaN</td>\n",
       "    </tr>\n",
       "  </tbody>\n",
       "</table>\n",
       "</div>"
      ],
      "text/plain": [
       "   2020 Population         Country           Capital Continent      2020 Gdp\n",
       "0         38972230     Afghanistan             Kabul      Asia  2.011614e+10\n",
       "1          2866849         Albania            Tirana    Europe  1.488763e+10\n",
       "2         43451666         Algeria           Algiers    Africa  1.450092e+11\n",
       "3            46189  American Samoa         Pago Pago   Oceania  7.090000e+08\n",
       "4            77700         Andorra  Andorra la Vella    Europe           NaN"
      ]
     },
     "execution_count": 40,
     "metadata": {},
     "output_type": "execute_result"
    }
   ],
   "source": [
    "#Rename 2020 to GDP\n",
    "\n",
    "pop_gdp2020 = pop_gdp2020.rename(columns={\"2020\": \"2020 Gdp\"})\n",
    "pop_gdp2020.head()"
   ]
  },
  {
   "cell_type": "code",
   "execution_count": 45,
   "metadata": {},
   "outputs": [
    {
     "data": {
      "image/png": "[encoded data removed]",
      "text/plain": [
       "<Figure size 1000x500 with 1 Axes>"
      ]
     },
     "metadata": {},
     "output_type": "display_data"
    }
   ],
   "source": [
    "import matplotlib.pyplot as plt\n",
    "\n",
    "continent_gdp = pop_gdp2020.groupby(\"Continent\")[\"2020 Gdp\"].sum().reset_index()\n",
    "\n",
    "#plot\n",
    "plt.figure(figsize=(10,5))\n",
    "plt.bar(continent_gdp[\"Continent\"], continent_gdp[\"2020 Gdp\"], color='red')\n",
    "\n",
    "#labels and titles\n",
    "plt.xlabel(\"Continent\")\n",
    "plt.ylabel(\"Total GDP (Billion $)\")\n",
    "plt.title(\"Total GDP by Continent\")\n",
    "#plt.xtics(rot=45)\n",
    "\n",
    "#display\n",
    "plt.show()"
   ]
  },
  {
   "cell_type": "code",
   "execution_count": null,
   "metadata": {},
   "outputs": [],
   "source": []
  }
 ],
 "metadata": {
  "kernelspec": {
   "display_name": "base",
   "language": "python",
   "name": "python3"
  },
  "language_info": {
   "codemirror_mode": {
    "name": "ipython",
    "version": 3
   },
   "file_extension": ".py",
   "mimetype": "text/x-python",
   "name": "python",
   "nbconvert_exporter": "python",
   "pygments_lexer": "ipython3",
   "version": "3.12.3"
  }
 },
 "nbformat": 4,
 "nbformat_minor": 2
}

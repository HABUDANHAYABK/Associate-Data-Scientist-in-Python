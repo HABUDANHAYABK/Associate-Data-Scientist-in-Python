{
 "cells": [
  {
   "cell_type": "markdown",
   "metadata": {},
   "source": [
    "# Selecting data with .query()"
   ]
  },
  {
   "cell_type": "code",
   "execution_count": 1,
   "metadata": {},
   "outputs": [
    {
     "name": "stdout",
     "output_type": "stream",
     "text": [
      "         date      disney        nike\n",
      "0  2019-07-01  143.009995   86.029999\n",
      "1  2019-08-01  137.259995   84.500000\n",
      "2  2019-09-01  130.320007   93.919998\n",
      "3  2019-10-01  129.919998   89.550003\n",
      "4  2019-11-01  151.580002   93.489998\n",
      "5  2019-12-01  144.630005  101.309998\n",
      "6  2020-01-01  138.309998   96.300003\n",
      "7  2020-02-01  117.650002   89.379997\n",
      "8  2020-03-01   96.599998   82.739998\n",
      "9  2020-04-01   99.580002   84.629997\n"
     ]
    }
   ],
   "source": [
    "import pandas as pd\n",
    "\n",
    "stocks = pd.DataFrame({\n",
    "    \"date\": [\"2019-07-01\", \"2019-08-01\", \"2019-09-01\", \"2019-10-01\", \"2019-11-01\", \"2019-12-01\", \"2020-01-01\", \"2020-02-01\", \"2020-03-01\", \"2020-04-01\"],\n",
    "    \"disney\": [143.009995, 137.259995, 130.320007, 129.919998, 151.580002, 144.630005, 138.309998, 117.650002, 96.599998, 99.580002],\n",
    "    \"nike\": [86.029999, 84.5, 93.919998, 89.550003, 93.489998, 101.309998, 96.300003, 89.379997, 82.739998, 84.629997]\n",
    "})\n",
    "\n",
    "print(stocks)"
   ]
  },
  {
   "cell_type": "markdown",
   "metadata": {},
   "source": [
    "## Querying on single condition"
   ]
  },
  {
   "cell_type": "code",
   "execution_count": 2,
   "metadata": {},
   "outputs": [
    {
     "data": {
      "application/vnd.microsoft.datawrangler.viewer.v0+json": {
       "columns": [
        {
         "name": "index",
         "rawType": "int64",
         "type": "integer"
        },
        {
         "name": "date",
         "rawType": "object",
         "type": "string"
        },
        {
         "name": "disney",
         "rawType": "float64",
         "type": "float"
        },
        {
         "name": "nike",
         "rawType": "float64",
         "type": "float"
        }
       ],
       "conversionMethod": "pd.DataFrame",
       "ref": "40cec33c-9df3-453a-b3dc-4831b5387386",
       "rows": [
        [
         "2",
         "2019-09-01",
         "130.320007",
         "93.919998"
        ],
        [
         "4",
         "2019-11-01",
         "151.580002",
         "93.489998"
        ],
        [
         "5",
         "2019-12-01",
         "144.630005",
         "101.309998"
        ],
        [
         "6",
         "2020-01-01",
         "138.309998",
         "96.300003"
        ]
       ],
       "shape": {
        "columns": 3,
        "rows": 4
       }
      },
      "text/html": [
       "<div>\n",
       "<style scoped>\n",
       "    .dataframe tbody tr th:only-of-type {\n",
       "        vertical-align: middle;\n",
       "    }\n",
       "\n",
       "    .dataframe tbody tr th {\n",
       "        vertical-align: top;\n",
       "    }\n",
       "\n",
       "    .dataframe thead th {\n",
       "        text-align: right;\n",
       "    }\n",
       "</style>\n",
       "<table border=\"1\" class=\"dataframe\">\n",
       "  <thead>\n",
       "    <tr style=\"text-align: right;\">\n",
       "      <th></th>\n",
       "      <th>date</th>\n",
       "      <th>disney</th>\n",
       "      <th>nike</th>\n",
       "    </tr>\n",
       "  </thead>\n",
       "  <tbody>\n",
       "    <tr>\n",
       "      <th>2</th>\n",
       "      <td>2019-09-01</td>\n",
       "      <td>130.320007</td>\n",
       "      <td>93.919998</td>\n",
       "    </tr>\n",
       "    <tr>\n",
       "      <th>4</th>\n",
       "      <td>2019-11-01</td>\n",
       "      <td>151.580002</td>\n",
       "      <td>93.489998</td>\n",
       "    </tr>\n",
       "    <tr>\n",
       "      <th>5</th>\n",
       "      <td>2019-12-01</td>\n",
       "      <td>144.630005</td>\n",
       "      <td>101.309998</td>\n",
       "    </tr>\n",
       "    <tr>\n",
       "      <th>6</th>\n",
       "      <td>2020-01-01</td>\n",
       "      <td>138.309998</td>\n",
       "      <td>96.300003</td>\n",
       "    </tr>\n",
       "  </tbody>\n",
       "</table>\n",
       "</div>"
      ],
      "text/plain": [
       "         date      disney        nike\n",
       "2  2019-09-01  130.320007   93.919998\n",
       "4  2019-11-01  151.580002   93.489998\n",
       "5  2019-12-01  144.630005  101.309998\n",
       "6  2020-01-01  138.309998   96.300003"
      ]
     },
     "execution_count": 2,
     "metadata": {},
     "output_type": "execute_result"
    }
   ],
   "source": [
    "stocks.query('nike >= 90')"
   ]
  },
  {
   "cell_type": "code",
   "execution_count": 3,
   "metadata": {},
   "outputs": [
    {
     "name": "stdout",
     "output_type": "stream",
     "text": [
      "         date     disney       nike\n",
      "8  2020-03-01  96.599998  82.739998\n",
      "9  2020-04-01  99.580002  84.629997\n"
     ]
    }
   ],
   "source": [
    "print(stocks.query('disney < 100'))"
   ]
  },
  {
   "cell_type": "markdown",
   "metadata": {},
   "source": [
    "## Querrying on multiple conditions, \"and\", \"or\""
   ]
  },
  {
   "cell_type": "code",
   "execution_count": 6,
   "metadata": {},
   "outputs": [
    {
     "name": "stdout",
     "output_type": "stream",
     "text": [
      "         date      disney       nike\n",
      "2  2019-09-01  130.320007  93.919998\n",
      "6  2020-01-01  138.309998  96.300003\n"
     ]
    }
   ],
   "source": [
    "print(stocks.query('nike > 90 and disney < 140'))"
   ]
  },
  {
   "cell_type": "code",
   "execution_count": 8,
   "metadata": {},
   "outputs": [
    {
     "name": "stdout",
     "output_type": "stream",
     "text": [
      "         date      disney        nike\n",
      "2  2019-09-01  130.320007   93.919998\n",
      "4  2019-11-01  151.580002   93.489998\n",
      "5  2019-12-01  144.630005  101.309998\n",
      "6  2020-01-01  138.309998   96.300003\n"
     ]
    }
   ],
   "source": [
    "print(stocks.query(\"nike > 90 and disney > 100\"))"
   ]
  },
  {
   "cell_type": "code",
   "execution_count": 11,
   "metadata": {},
   "outputs": [
    {
     "name": "stdout",
     "output_type": "stream",
     "text": [
      "         date      disney        nike\n",
      "0  2019-07-01  143.009995   86.029999\n",
      "1  2019-08-01  137.259995   84.500000\n",
      "2  2019-09-01  130.320007   93.919998\n",
      "3  2019-10-01  129.919998   89.550003\n",
      "4  2019-11-01  151.580002   93.489998\n",
      "5  2019-12-01  144.630005  101.309998\n",
      "6  2020-01-01  138.309998   96.300003\n",
      "7  2020-02-01  117.650002   89.379997\n"
     ]
    }
   ],
   "source": [
    "print(stocks.query('nike > 90 or disney > 100'))"
   ]
  },
  {
   "cell_type": "code",
   "execution_count": 14,
   "metadata": {},
   "outputs": [
    {
     "name": "stdout",
     "output_type": "stream",
     "text": [
      "         date   stock       close\n",
      "0  2019-07-01  disney  143.009995\n",
      "1  2019-08-01  disney  137.259995\n",
      "2  2019-09-01  disney  130.320007\n",
      "3  2019-10-01  disney  129.919998\n",
      "4  2019-11-01  disney  151.580002\n",
      "5  2019-12-01    nike  144.630005\n",
      "6  2020-01-01    nike  138.309998\n",
      "7  2020-02-01    nike  117.650002\n",
      "8  2020-03-01    nike   96.599998\n",
      "9  2020-04-01    nike   99.580002\n"
     ]
    }
   ],
   "source": [
    "import pandas as pd\n",
    "\n",
    "stocks_long = pd.DataFrame({\n",
    "    \"date\": [\"2019-07-01\", \"2019-08-01\", \"2019-09-01\", \"2019-10-01\", \"2019-11-01\", \"2019-12-01\", \"2020-01-01\", \"2020-02-01\", \"2020-03-01\", \"2020-04-01\"],\n",
    "    \"stock\": [\"disney\", \"disney\", \"disney\", \"disney\", \"disney\", \"nike\", \"nike\", \"nike\", \"nike\", \"nike\"],\n",
    "    \"close\": [143.009995, 137.259995, 130.320007, 129.919998, 151.580002, 144.630005, 138.309998, 117.650002, 96.599998, 99.580002],\n",
    "    \n",
    "})\n",
    "\n",
    "print(stocks_long)"
   ]
  },
  {
   "cell_type": "markdown",
   "metadata": {},
   "source": [
    "## Using .query() to select text"
   ]
  },
  {
   "cell_type": "code",
   "execution_count": 17,
   "metadata": {},
   "outputs": [
    {
     "data": {
      "application/vnd.microsoft.datawrangler.viewer.v0+json": {
       "columns": [
        {
         "name": "index",
         "rawType": "int64",
         "type": "integer"
        },
        {
         "name": "date",
         "rawType": "object",
         "type": "string"
        },
        {
         "name": "stock",
         "rawType": "object",
         "type": "string"
        },
        {
         "name": "close",
         "rawType": "float64",
         "type": "float"
        }
       ],
       "conversionMethod": "pd.DataFrame",
       "ref": "e5ce2063-4306-473a-a63e-ef23a444cce4",
       "rows": [
        [
         "0",
         "2019-07-01",
         "disney",
         "143.009995"
        ],
        [
         "1",
         "2019-08-01",
         "disney",
         "137.259995"
        ],
        [
         "2",
         "2019-09-01",
         "disney",
         "130.320007"
        ],
        [
         "3",
         "2019-10-01",
         "disney",
         "129.919998"
        ],
        [
         "4",
         "2019-11-01",
         "disney",
         "151.580002"
        ],
        [
         "5",
         "2019-12-01",
         "nike",
         "144.630005"
        ],
        [
         "6",
         "2020-01-01",
         "nike",
         "138.309998"
        ],
        [
         "7",
         "2020-02-01",
         "nike",
         "117.650002"
        ],
        [
         "8",
         "2020-03-01",
         "nike",
         "96.599998"
        ],
        [
         "9",
         "2020-04-01",
         "nike",
         "99.580002"
        ]
       ],
       "shape": {
        "columns": 3,
        "rows": 10
       }
      },
      "text/html": [
       "<div>\n",
       "<style scoped>\n",
       "    .dataframe tbody tr th:only-of-type {\n",
       "        vertical-align: middle;\n",
       "    }\n",
       "\n",
       "    .dataframe tbody tr th {\n",
       "        vertical-align: top;\n",
       "    }\n",
       "\n",
       "    .dataframe thead th {\n",
       "        text-align: right;\n",
       "    }\n",
       "</style>\n",
       "<table border=\"1\" class=\"dataframe\">\n",
       "  <thead>\n",
       "    <tr style=\"text-align: right;\">\n",
       "      <th></th>\n",
       "      <th>date</th>\n",
       "      <th>stock</th>\n",
       "      <th>close</th>\n",
       "    </tr>\n",
       "  </thead>\n",
       "  <tbody>\n",
       "    <tr>\n",
       "      <th>0</th>\n",
       "      <td>2019-07-01</td>\n",
       "      <td>disney</td>\n",
       "      <td>143.009995</td>\n",
       "    </tr>\n",
       "    <tr>\n",
       "      <th>1</th>\n",
       "      <td>2019-08-01</td>\n",
       "      <td>disney</td>\n",
       "      <td>137.259995</td>\n",
       "    </tr>\n",
       "    <tr>\n",
       "      <th>2</th>\n",
       "      <td>2019-09-01</td>\n",
       "      <td>disney</td>\n",
       "      <td>130.320007</td>\n",
       "    </tr>\n",
       "    <tr>\n",
       "      <th>3</th>\n",
       "      <td>2019-10-01</td>\n",
       "      <td>disney</td>\n",
       "      <td>129.919998</td>\n",
       "    </tr>\n",
       "    <tr>\n",
       "      <th>4</th>\n",
       "      <td>2019-11-01</td>\n",
       "      <td>disney</td>\n",
       "      <td>151.580002</td>\n",
       "    </tr>\n",
       "    <tr>\n",
       "      <th>5</th>\n",
       "      <td>2019-12-01</td>\n",
       "      <td>nike</td>\n",
       "      <td>144.630005</td>\n",
       "    </tr>\n",
       "    <tr>\n",
       "      <th>6</th>\n",
       "      <td>2020-01-01</td>\n",
       "      <td>nike</td>\n",
       "      <td>138.309998</td>\n",
       "    </tr>\n",
       "    <tr>\n",
       "      <th>7</th>\n",
       "      <td>2020-02-01</td>\n",
       "      <td>nike</td>\n",
       "      <td>117.650002</td>\n",
       "    </tr>\n",
       "    <tr>\n",
       "      <th>8</th>\n",
       "      <td>2020-03-01</td>\n",
       "      <td>nike</td>\n",
       "      <td>96.599998</td>\n",
       "    </tr>\n",
       "    <tr>\n",
       "      <th>9</th>\n",
       "      <td>2020-04-01</td>\n",
       "      <td>nike</td>\n",
       "      <td>99.580002</td>\n",
       "    </tr>\n",
       "  </tbody>\n",
       "</table>\n",
       "</div>"
      ],
      "text/plain": [
       "         date   stock       close\n",
       "0  2019-07-01  disney  143.009995\n",
       "1  2019-08-01  disney  137.259995\n",
       "2  2019-09-01  disney  130.320007\n",
       "3  2019-10-01  disney  129.919998\n",
       "4  2019-11-01  disney  151.580002\n",
       "5  2019-12-01    nike  144.630005\n",
       "6  2020-01-01    nike  138.309998\n",
       "7  2020-02-01    nike  117.650002\n",
       "8  2020-03-01    nike   96.599998\n",
       "9  2020-04-01    nike   99.580002"
      ]
     },
     "execution_count": 17,
     "metadata": {},
     "output_type": "execute_result"
    }
   ],
   "source": [
    "stocks_long.query('stock ==\"disney\" or (stock==\"nike\" and close > 90)')"
   ]
  },
  {
   "cell_type": "markdown",
   "metadata": {},
   "source": [
    "# Reshaping data with .melt()"
   ]
  },
  {
   "cell_type": "code",
   "execution_count": null,
   "metadata": {},
   "outputs": [],
   "source": []
  }
 ],
 "metadata": {
  "kernelspec": {
   "display_name": "base",
   "language": "python",
   "name": "python3"
  },
  "language_info": {
   "codemirror_mode": {
    "name": "ipython",
    "version": 3
   },
   "file_extension": ".py",
   "mimetype": "text/x-python",
   "name": "python",
   "nbconvert_exporter": "python",
   "pygments_lexer": "ipython3",
   "version": "3.12.3"
  }
 },
 "nbformat": 4,
 "nbformat_minor": 2
}

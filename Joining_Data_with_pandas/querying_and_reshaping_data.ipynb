{
 "cells": [
  {
   "cell_type": "markdown",
   "metadata": {},
   "source": [
    "# Selecting data with .query()"
   ]
  },
  {
   "cell_type": "code",
   "execution_count": 23,
   "metadata": {},
   "outputs": [
    {
     "name": "stdout",
     "output_type": "stream",
     "text": [
      "         date      disney        nike\n",
      "0  2019-07-01  143.009995   86.029999\n",
      "1  2019-08-01  137.259995   84.500000\n",
      "2  2019-09-01  130.320007   93.919998\n",
      "3  2019-10-01  129.919998   89.550003\n",
      "4  2019-11-01  151.580002   93.489998\n",
      "5  2019-12-01  144.630005  101.309998\n",
      "6  2020-01-01  138.309998   96.300003\n",
      "7  2020-02-01  117.650002   89.379997\n",
      "8  2020-03-01   96.599998   82.739998\n",
      "9  2020-04-01   99.580002   84.629997\n"
     ]
    }
   ],
   "source": [
    "import pandas as pd\n",
    "\n",
    "stocks = pd.DataFrame({\n",
    "    \"date\": [\"2019-07-01\", \"2019-08-01\", \"2019-09-01\", \"2019-10-01\", \"2019-11-01\", \"2019-12-01\", \"2020-01-01\", \"2020-02-01\", \"2020-03-01\", \"2020-04-01\"],\n",
    "    \"disney\": [143.009995, 137.259995, 130.320007, 129.919998, 151.580002, 144.630005, 138.309998, 117.650002, 96.599998, 99.580002],\n",
    "    \"nike\": [86.029999, 84.5, 93.919998, 89.550003, 93.489998, 101.309998, 96.300003, 89.379997, 82.739998, 84.629997]\n",
    "})\n",
    "\n",
    "print(stocks)"
   ]
  },
  {
   "cell_type": "markdown",
   "metadata": {},
   "source": [
    "## Querying on single condition"
   ]
  },
  {
   "cell_type": "code",
   "execution_count": 24,
   "metadata": {},
   "outputs": [
    {
     "data": {
      "application/vnd.microsoft.datawrangler.viewer.v0+json": {
       "columns": [
        {
         "name": "index",
         "rawType": "int64",
         "type": "integer"
        },
        {
         "name": "date",
         "rawType": "object",
         "type": "string"
        },
        {
         "name": "disney",
         "rawType": "float64",
         "type": "float"
        },
        {
         "name": "nike",
         "rawType": "float64",
         "type": "float"
        }
       ],
       "conversionMethod": "pd.DataFrame",
       "ref": "0c15fad6-303e-4b0e-930c-b0196b2b54e5",
       "rows": [
        [
         "2",
         "2019-09-01",
         "130.320007",
         "93.919998"
        ],
        [
         "4",
         "2019-11-01",
         "151.580002",
         "93.489998"
        ],
        [
         "5",
         "2019-12-01",
         "144.630005",
         "101.309998"
        ],
        [
         "6",
         "2020-01-01",
         "138.309998",
         "96.300003"
        ]
       ],
       "shape": {
        "columns": 3,
        "rows": 4
       }
      },
      "text/html": [
       "<div>\n",
       "<style scoped>\n",
       "    .dataframe tbody tr th:only-of-type {\n",
       "        vertical-align: middle;\n",
       "    }\n",
       "\n",
       "    .dataframe tbody tr th {\n",
       "        vertical-align: top;\n",
       "    }\n",
       "\n",
       "    .dataframe thead th {\n",
       "        text-align: right;\n",
       "    }\n",
       "</style>\n",
       "<table border=\"1\" class=\"dataframe\">\n",
       "  <thead>\n",
       "    <tr style=\"text-align: right;\">\n",
       "      <th></th>\n",
       "      <th>date</th>\n",
       "      <th>disney</th>\n",
       "      <th>nike</th>\n",
       "    </tr>\n",
       "  </thead>\n",
       "  <tbody>\n",
       "    <tr>\n",
       "      <th>2</th>\n",
       "      <td>2019-09-01</td>\n",
       "      <td>130.320007</td>\n",
       "      <td>93.919998</td>\n",
       "    </tr>\n",
       "    <tr>\n",
       "      <th>4</th>\n",
       "      <td>2019-11-01</td>\n",
       "      <td>151.580002</td>\n",
       "      <td>93.489998</td>\n",
       "    </tr>\n",
       "    <tr>\n",
       "      <th>5</th>\n",
       "      <td>2019-12-01</td>\n",
       "      <td>144.630005</td>\n",
       "      <td>101.309998</td>\n",
       "    </tr>\n",
       "    <tr>\n",
       "      <th>6</th>\n",
       "      <td>2020-01-01</td>\n",
       "      <td>138.309998</td>\n",
       "      <td>96.300003</td>\n",
       "    </tr>\n",
       "  </tbody>\n",
       "</table>\n",
       "</div>"
      ],
      "text/plain": [
       "         date      disney        nike\n",
       "2  2019-09-01  130.320007   93.919998\n",
       "4  2019-11-01  151.580002   93.489998\n",
       "5  2019-12-01  144.630005  101.309998\n",
       "6  2020-01-01  138.309998   96.300003"
      ]
     },
     "execution_count": 24,
     "metadata": {},
     "output_type": "execute_result"
    }
   ],
   "source": [
    "stocks.query('nike >= 90')"
   ]
  },
  {
   "cell_type": "code",
   "execution_count": 25,
   "metadata": {},
   "outputs": [
    {
     "name": "stdout",
     "output_type": "stream",
     "text": [
      "         date     disney       nike\n",
      "8  2020-03-01  96.599998  82.739998\n",
      "9  2020-04-01  99.580002  84.629997\n"
     ]
    }
   ],
   "source": [
    "print(stocks.query('disney < 100'))"
   ]
  },
  {
   "cell_type": "markdown",
   "metadata": {},
   "source": [
    "## Querrying on multiple conditions, \"and\", \"or\""
   ]
  },
  {
   "cell_type": "code",
   "execution_count": 26,
   "metadata": {},
   "outputs": [
    {
     "name": "stdout",
     "output_type": "stream",
     "text": [
      "         date      disney       nike\n",
      "2  2019-09-01  130.320007  93.919998\n",
      "6  2020-01-01  138.309998  96.300003\n"
     ]
    }
   ],
   "source": [
    "print(stocks.query('nike > 90 and disney < 140'))"
   ]
  },
  {
   "cell_type": "code",
   "execution_count": 27,
   "metadata": {},
   "outputs": [
    {
     "name": "stdout",
     "output_type": "stream",
     "text": [
      "         date      disney        nike\n",
      "2  2019-09-01  130.320007   93.919998\n",
      "4  2019-11-01  151.580002   93.489998\n",
      "5  2019-12-01  144.630005  101.309998\n",
      "6  2020-01-01  138.309998   96.300003\n"
     ]
    }
   ],
   "source": [
    "print(stocks.query(\"nike > 90 and disney > 100\"))"
   ]
  },
  {
   "cell_type": "code",
   "execution_count": 28,
   "metadata": {},
   "outputs": [
    {
     "name": "stdout",
     "output_type": "stream",
     "text": [
      "         date      disney        nike\n",
      "0  2019-07-01  143.009995   86.029999\n",
      "1  2019-08-01  137.259995   84.500000\n",
      "2  2019-09-01  130.320007   93.919998\n",
      "3  2019-10-01  129.919998   89.550003\n",
      "4  2019-11-01  151.580002   93.489998\n",
      "5  2019-12-01  144.630005  101.309998\n",
      "6  2020-01-01  138.309998   96.300003\n",
      "7  2020-02-01  117.650002   89.379997\n"
     ]
    }
   ],
   "source": [
    "print(stocks.query('nike > 90 or disney > 100'))"
   ]
  },
  {
   "cell_type": "code",
   "execution_count": 29,
   "metadata": {},
   "outputs": [
    {
     "name": "stdout",
     "output_type": "stream",
     "text": [
      "         date   stock       close\n",
      "0  2019-07-01  disney  143.009995\n",
      "1  2019-08-01  disney  137.259995\n",
      "2  2019-09-01  disney  130.320007\n",
      "3  2019-10-01  disney  129.919998\n",
      "4  2019-11-01  disney  151.580002\n",
      "5  2019-12-01    nike  144.630005\n",
      "6  2020-01-01    nike  138.309998\n",
      "7  2020-02-01    nike  117.650002\n",
      "8  2020-03-01    nike   96.599998\n",
      "9  2020-04-01    nike   99.580002\n"
     ]
    }
   ],
   "source": [
    "import pandas as pd\n",
    "\n",
    "stocks_long = pd.DataFrame({\n",
    "    \"date\": [\"2019-07-01\", \"2019-08-01\", \"2019-09-01\", \"2019-10-01\", \"2019-11-01\", \"2019-12-01\", \"2020-01-01\", \"2020-02-01\", \"2020-03-01\", \"2020-04-01\"],\n",
    "    \"stock\": [\"disney\", \"disney\", \"disney\", \"disney\", \"disney\", \"nike\", \"nike\", \"nike\", \"nike\", \"nike\"],\n",
    "    \"close\": [143.009995, 137.259995, 130.320007, 129.919998, 151.580002, 144.630005, 138.309998, 117.650002, 96.599998, 99.580002],\n",
    "    \n",
    "})\n",
    "\n",
    "print(stocks_long)"
   ]
  },
  {
   "cell_type": "markdown",
   "metadata": {},
   "source": [
    "## Using .query() to select text"
   ]
  },
  {
   "cell_type": "code",
   "execution_count": 30,
   "metadata": {},
   "outputs": [
    {
     "data": {
      "application/vnd.microsoft.datawrangler.viewer.v0+json": {
       "columns": [
        {
         "name": "index",
         "rawType": "int64",
         "type": "integer"
        },
        {
         "name": "date",
         "rawType": "object",
         "type": "string"
        },
        {
         "name": "stock",
         "rawType": "object",
         "type": "string"
        },
        {
         "name": "close",
         "rawType": "float64",
         "type": "float"
        }
       ],
       "conversionMethod": "pd.DataFrame",
       "ref": "fb894e5e-d32c-48e5-b48f-bfd07c434e63",
       "rows": [
        [
         "0",
         "2019-07-01",
         "disney",
         "143.009995"
        ],
        [
         "1",
         "2019-08-01",
         "disney",
         "137.259995"
        ],
        [
         "2",
         "2019-09-01",
         "disney",
         "130.320007"
        ],
        [
         "3",
         "2019-10-01",
         "disney",
         "129.919998"
        ],
        [
         "4",
         "2019-11-01",
         "disney",
         "151.580002"
        ],
        [
         "5",
         "2019-12-01",
         "nike",
         "144.630005"
        ],
        [
         "6",
         "2020-01-01",
         "nike",
         "138.309998"
        ],
        [
         "7",
         "2020-02-01",
         "nike",
         "117.650002"
        ],
        [
         "8",
         "2020-03-01",
         "nike",
         "96.599998"
        ],
        [
         "9",
         "2020-04-01",
         "nike",
         "99.580002"
        ]
       ],
       "shape": {
        "columns": 3,
        "rows": 10
       }
      },
      "text/html": [
       "<div>\n",
       "<style scoped>\n",
       "    .dataframe tbody tr th:only-of-type {\n",
       "        vertical-align: middle;\n",
       "    }\n",
       "\n",
       "    .dataframe tbody tr th {\n",
       "        vertical-align: top;\n",
       "    }\n",
       "\n",
       "    .dataframe thead th {\n",
       "        text-align: right;\n",
       "    }\n",
       "</style>\n",
       "<table border=\"1\" class=\"dataframe\">\n",
       "  <thead>\n",
       "    <tr style=\"text-align: right;\">\n",
       "      <th></th>\n",
       "      <th>date</th>\n",
       "      <th>stock</th>\n",
       "      <th>close</th>\n",
       "    </tr>\n",
       "  </thead>\n",
       "  <tbody>\n",
       "    <tr>\n",
       "      <th>0</th>\n",
       "      <td>2019-07-01</td>\n",
       "      <td>disney</td>\n",
       "      <td>143.009995</td>\n",
       "    </tr>\n",
       "    <tr>\n",
       "      <th>1</th>\n",
       "      <td>2019-08-01</td>\n",
       "      <td>disney</td>\n",
       "      <td>137.259995</td>\n",
       "    </tr>\n",
       "    <tr>\n",
       "      <th>2</th>\n",
       "      <td>2019-09-01</td>\n",
       "      <td>disney</td>\n",
       "      <td>130.320007</td>\n",
       "    </tr>\n",
       "    <tr>\n",
       "      <th>3</th>\n",
       "      <td>2019-10-01</td>\n",
       "      <td>disney</td>\n",
       "      <td>129.919998</td>\n",
       "    </tr>\n",
       "    <tr>\n",
       "      <th>4</th>\n",
       "      <td>2019-11-01</td>\n",
       "      <td>disney</td>\n",
       "      <td>151.580002</td>\n",
       "    </tr>\n",
       "    <tr>\n",
       "      <th>5</th>\n",
       "      <td>2019-12-01</td>\n",
       "      <td>nike</td>\n",
       "      <td>144.630005</td>\n",
       "    </tr>\n",
       "    <tr>\n",
       "      <th>6</th>\n",
       "      <td>2020-01-01</td>\n",
       "      <td>nike</td>\n",
       "      <td>138.309998</td>\n",
       "    </tr>\n",
       "    <tr>\n",
       "      <th>7</th>\n",
       "      <td>2020-02-01</td>\n",
       "      <td>nike</td>\n",
       "      <td>117.650002</td>\n",
       "    </tr>\n",
       "    <tr>\n",
       "      <th>8</th>\n",
       "      <td>2020-03-01</td>\n",
       "      <td>nike</td>\n",
       "      <td>96.599998</td>\n",
       "    </tr>\n",
       "    <tr>\n",
       "      <th>9</th>\n",
       "      <td>2020-04-01</td>\n",
       "      <td>nike</td>\n",
       "      <td>99.580002</td>\n",
       "    </tr>\n",
       "  </tbody>\n",
       "</table>\n",
       "</div>"
      ],
      "text/plain": [
       "         date   stock       close\n",
       "0  2019-07-01  disney  143.009995\n",
       "1  2019-08-01  disney  137.259995\n",
       "2  2019-09-01  disney  130.320007\n",
       "3  2019-10-01  disney  129.919998\n",
       "4  2019-11-01  disney  151.580002\n",
       "5  2019-12-01    nike  144.630005\n",
       "6  2020-01-01    nike  138.309998\n",
       "7  2020-02-01    nike  117.650002\n",
       "8  2020-03-01    nike   96.599998\n",
       "9  2020-04-01    nike   99.580002"
      ]
     },
     "execution_count": 30,
     "metadata": {},
     "output_type": "execute_result"
    }
   ],
   "source": [
    "stocks_long.query('stock ==\"disney\" or (stock==\"nike\" and close > 90)')"
   ]
  },
  {
   "cell_type": "markdown",
   "metadata": {},
   "source": [
    "# Reshaping data with .melt()"
   ]
  },
  {
   "cell_type": "code",
   "execution_count": 31,
   "metadata": {},
   "outputs": [
    {
     "name": "stdout",
     "output_type": "stream",
     "text": [
      "       financial   company      2019      2018      2017      2016\n",
      "0  total_revenue   twitter   3459329   3042359   2443299   2529619\n",
      "1   gross_profit   twitter   2322288    207762   1582057   1597379\n",
      "2     net_income   twitter   1465659   1205596   -108063   -456873\n",
      "3  total_revenue  facebook  70697000  55838000  40653000  27638000\n",
      "4   gross_profit  facebook  57927000  46483000  35199000  23849000\n"
     ]
    }
   ],
   "source": [
    "import pandas as pd\n",
    "\n",
    "social_fin =pd.DataFrame({\n",
    "    \"financial\" : [\"total_revenue\", \"gross_profit\", \"net_income\", \"total_revenue\", \"gross_profit\", \"net_income\"],\n",
    "    \"company\": [\"twitter\", \"twitter\", \"twitter\", \"facebook\", \"facebook\", \"facebook\"],\n",
    "    \"2019\":[3459329, 2322288, 1465659, 70697000, 57927000, 18485000],\n",
    "    \"2018\": [3042359, 207762, 1205596, 55838000, 46483000, 22112000],\n",
    "    \"2017\": [2443299, 1582057, -108063, 40653000, 35199000, 15934000],\n",
    "    \"2016\": [2529619, 1597379, -456873, 27638000, 23849000, 10217000]\n",
    "})\n",
    "\n",
    "print(social_fin.head())"
   ]
  },
  {
   "cell_type": "markdown",
   "metadata": {},
   "source": [
    "**This *social_fin* dataset is an example of wide format dataset.**"
   ]
  },
  {
   "cell_type": "markdown",
   "metadata": {},
   "source": [
    "## Example of .melt()"
   ]
  },
  {
   "cell_type": "code",
   "execution_count": 32,
   "metadata": {},
   "outputs": [
    {
     "name": "stdout",
     "output_type": "stream",
     "text": [
      "        financial   company variable     value\n",
      "0   total_revenue   twitter     2019   3459329\n",
      "1    gross_profit   twitter     2019   2322288\n",
      "2      net_income   twitter     2019   1465659\n",
      "3   total_revenue  facebook     2019  70697000\n",
      "4    gross_profit  facebook     2019  57927000\n",
      "5      net_income  facebook     2019  18485000\n",
      "6   total_revenue   twitter     2018   3042359\n",
      "7    gross_profit   twitter     2018    207762\n",
      "8      net_income   twitter     2018   1205596\n",
      "9   total_revenue  facebook     2018  55838000\n",
      "10   gross_profit  facebook     2018  46483000\n",
      "11     net_income  facebook     2018  22112000\n",
      "12  total_revenue   twitter     2017   2443299\n",
      "13   gross_profit   twitter     2017   1582057\n",
      "14     net_income   twitter     2017   -108063\n",
      "15  total_revenue  facebook     2017  40653000\n",
      "16   gross_profit  facebook     2017  35199000\n",
      "17     net_income  facebook     2017  15934000\n",
      "18  total_revenue   twitter     2016   2529619\n",
      "19   gross_profit   twitter     2016   1597379\n",
      "20     net_income   twitter     2016   -456873\n",
      "21  total_revenue  facebook     2016  27638000\n",
      "22   gross_profit  facebook     2016  23849000\n",
      "23     net_income  facebook     2016  10217000\n"
     ]
    }
   ],
   "source": [
    "social_fin_tall = social_fin.melt(id_vars=['financial', 'company'])\n",
    "print(social_fin_tall)"
   ]
  },
  {
   "cell_type": "markdown",
   "metadata": {},
   "source": [
    "**This is an example of long format, and computer finds it more accessible**"
   ]
  },
  {
   "cell_type": "markdown",
   "metadata": {},
   "source": [
    "## Melting with value_vars"
   ]
  },
  {
   "cell_type": "code",
   "execution_count": 33,
   "metadata": {},
   "outputs": [
    {
     "name": "stdout",
     "output_type": "stream",
     "text": [
      "       financial   company variable     value\n",
      "0  total_revenue   twitter     2018   3042359\n",
      "1   gross_profit   twitter     2018    207762\n",
      "2     net_income   twitter     2018   1205596\n",
      "3  total_revenue  facebook     2018  55838000\n",
      "4   gross_profit  facebook     2018  46483000\n",
      "5     net_income  facebook     2018  22112000\n",
      "6  total_revenue   twitter     2017   2443299\n",
      "7   gross_profit   twitter     2017   1582057\n",
      "8     net_income   twitter     2017   -108063\n",
      "9  total_revenue  facebook     2017  40653000\n"
     ]
    }
   ],
   "source": [
    "social_fin_tall = social_fin.melt(id_vars=[\"financial\", \"company\"], value_vars=[\"2018\", \"2017\"])\n",
    "print(social_fin_tall.head(10))"
   ]
  },
  {
   "cell_type": "markdown",
   "metadata": {},
   "source": [
    "## Melting with column names"
   ]
  },
  {
   "cell_type": "code",
   "execution_count": 34,
   "metadata": {},
   "outputs": [
    {
     "name": "stdout",
     "output_type": "stream",
     "text": [
      "       financial   company  year  $ dollars\n",
      "0  total_revenue   twitter  2018    3042359\n",
      "1   gross_profit   twitter  2018     207762\n",
      "2     net_income   twitter  2018    1205596\n",
      "3  total_revenue  facebook  2018   55838000\n",
      "4   gross_profit  facebook  2018   46483000\n"
     ]
    }
   ],
   "source": [
    "social_fin_tall = social_fin.melt(id_vars=['financial', 'company'], value_vars=[\"2018\", \"2017\"],\n",
    "                                  var_name='year', value_name= '$ dollars')\n",
    "\n",
    "print(social_fin_tall.head())"
   ]
  }
 ],
 "metadata": {
  "kernelspec": {
   "display_name": "base",
   "language": "python",
   "name": "python3"
  },
  "language_info": {
   "codemirror_mode": {
    "name": "ipython",
    "version": 3
   },
   "file_extension": ".py",
   "mimetype": "text/x-python",
   "name": "python",
   "nbconvert_exporter": "python",
   "pygments_lexer": "ipython3",
   "version": "3.12.3"
  }
 },
 "nbformat": 4,
 "nbformat_minor": 2
}

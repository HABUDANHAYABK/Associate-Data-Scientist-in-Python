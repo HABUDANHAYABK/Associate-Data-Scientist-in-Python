{
 "cells": [
  {
   "cell_type": "markdown",
   "id": "3aa5750d",
   "metadata": {},
   "source": [
    "# INTRODUCTION TO ITERATORS"
   ]
  },
  {
   "cell_type": "code",
   "execution_count": 1,
   "id": "8d4513ab",
   "metadata": {},
   "outputs": [
    {
     "name": "stdout",
     "output_type": "stream",
     "text": [
      "umar\n",
      "abubakar\n",
      "sani\n",
      "mikel\n"
     ]
    }
   ],
   "source": [
    "employees = ['umar', 'abubakar', 'sani', 'mikel']\n",
    "for employee in employees:\n",
    "    print(employee)"
   ]
  },
  {
   "cell_type": "code",
   "execution_count": 2,
   "id": "0c25f10b",
   "metadata": {},
   "outputs": [
    {
     "name": "stdout",
     "output_type": "stream",
     "text": [
      "D\n",
      "A\n",
      "T\n",
      "A\n",
      "C\n",
      "A\n",
      "M\n",
      "P\n"
     ]
    }
   ],
   "source": [
    "for letter in 'DATACAMP':\n",
    "    print(letter)"
   ]
  },
  {
   "cell_type": "markdown",
   "id": "a6cd3fde",
   "metadata": {},
   "source": [
    "*iterable: list, strings, dictionaries and file connections.*"
   ]
  },
  {
   "cell_type": "code",
   "execution_count": 7,
   "id": "a82229fa",
   "metadata": {},
   "outputs": [
    {
     "name": "stdout",
     "output_type": "stream",
     "text": [
      "<str_ascii_iterator object at 0x0000018D77D52950>\n"
     ]
    }
   ],
   "source": [
    "word = 'DA'\n",
    "it = iter(word)\n",
    "print(it)"
   ]
  },
  {
   "cell_type": "code",
   "execution_count": 8,
   "id": "d4b72bbe",
   "metadata": {},
   "outputs": [
    {
     "name": "stdout",
     "output_type": "stream",
     "text": [
      "D\n",
      "A\n"
     ]
    }
   ],
   "source": [
    "print(next(it))\n",
    "print(next(it))"
   ]
  },
  {
   "cell_type": "code",
   "execution_count": 9,
   "id": "24b6909f",
   "metadata": {},
   "outputs": [
    {
     "name": "stdout",
     "output_type": "stream",
     "text": [
      "D A T A\n"
     ]
    }
   ],
   "source": [
    "word = 'DATA'\n",
    "it = iter(word)\n",
    "print(*it)"
   ]
  },
  {
   "cell_type": "markdown",
   "id": "f9257549",
   "metadata": {},
   "source": [
    "## Iterating over a dictionaries"
   ]
  },
  {
   "cell_type": "code",
   "execution_count": 11,
   "id": "931949d1",
   "metadata": {},
   "outputs": [
    {
     "name": "stdout",
     "output_type": "stream",
     "text": [
      "HUGO BOWNE-ANDERSON\n",
      "FRANCIS CASTRO\n"
     ]
    }
   ],
   "source": [
    "pythonistas ={\n",
    "    'hugo': 'bowne-anderson',\n",
    "    'francis': 'castro'\n",
    "}\n",
    "\n",
    "for key, value in pythonistas.items():\n",
    "    print(key.upper(), value.upper())"
   ]
  },
  {
   "cell_type": "code",
   "execution_count": null,
   "id": "d8fb82d0",
   "metadata": {},
   "outputs": [],
   "source": []
  }
 ],
 "metadata": {
  "kernelspec": {
   "display_name": "base",
   "language": "python",
   "name": "python3"
  },
  "language_info": {
   "codemirror_mode": {
    "name": "ipython",
    "version": 3
   },
   "file_extension": ".py",
   "mimetype": "text/x-python",
   "name": "python",
   "nbconvert_exporter": "python",
   "pygments_lexer": "ipython3",
   "version": "3.12.3"
  }
 },
 "nbformat": 4,
 "nbformat_minor": 5
}

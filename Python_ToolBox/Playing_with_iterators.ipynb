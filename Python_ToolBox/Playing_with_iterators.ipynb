{
 "cells": [
  {
   "cell_type": "markdown",
   "id": "9d4afe4a",
   "metadata": {},
   "source": [
    "# PLAYING WITH ITERATORS"
   ]
  },
  {
   "cell_type": "markdown",
   "id": "6789d527",
   "metadata": {},
   "source": [
    "## Using enumerate()"
   ]
  },
  {
   "cell_type": "code",
   "execution_count": 1,
   "id": "60c7ead7",
   "metadata": {},
   "outputs": [
    {
     "name": "stdout",
     "output_type": "stream",
     "text": [
      "<class 'enumerate'>\n"
     ]
    }
   ],
   "source": [
    "avengers =['hawkeye', 'iron-man', 'thor', 'quicksilver']\n",
    "e = enumerate(avengers)\n",
    "print(type(e))"
   ]
  },
  {
   "cell_type": "code",
   "execution_count": 2,
   "id": "d9a0bee4",
   "metadata": {},
   "outputs": [
    {
     "name": "stdout",
     "output_type": "stream",
     "text": [
      "[(0, 'hawkeye'), (1, 'iron-man'), (2, 'thor'), (3, 'quicksilver')]\n"
     ]
    }
   ],
   "source": [
    "e_list = list(e)\n",
    "print(e_list)"
   ]
  },
  {
   "cell_type": "markdown",
   "id": "3d960015",
   "metadata": {},
   "source": [
    "_looping over enumerate_"
   ]
  },
  {
   "cell_type": "code",
   "execution_count": 3,
   "id": "aec2c738",
   "metadata": {},
   "outputs": [
    {
     "name": "stdout",
     "output_type": "stream",
     "text": [
      "0 hawkeye\n",
      "1 iron-man\n",
      "2 thor\n",
      "3 quicksilver\n"
     ]
    }
   ],
   "source": [
    "for index, value in enumerate(avengers):\n",
    "    print(index, value)"
   ]
  },
  {
   "cell_type": "markdown",
   "id": "6f78187c",
   "metadata": {},
   "source": [
    "**You can alter start index instead of using default which is zero**"
   ]
  },
  {
   "cell_type": "code",
   "execution_count": 4,
   "id": "18d27d6b",
   "metadata": {},
   "outputs": [
    {
     "name": "stdout",
     "output_type": "stream",
     "text": [
      "1 baffa\n",
      "2 sa'ad\n",
      "3 nura\n",
      "4 yusuf\n"
     ]
    }
   ],
   "source": [
    "family =['baffa', \"sa'ad\", 'nura', 'yusuf']\n",
    "for index, fam in enumerate(family, start=1):\n",
    "    print(index, fam)"
   ]
  },
  {
   "cell_type": "markdown",
   "id": "f3195ec1",
   "metadata": {},
   "source": [
    "## Using zip()"
   ]
  },
  {
   "cell_type": "code",
   "execution_count": 5,
   "id": "3c158863",
   "metadata": {},
   "outputs": [
    {
     "name": "stdout",
     "output_type": "stream",
     "text": [
      "<zip object at 0x000001E3AA542540>\n"
     ]
    }
   ],
   "source": [
    "avengers = ['hawkeye', 'iron man', 'thor', 'spider man', 'quicksilver']\n",
    "names = ['barton', 'stark', 'odison', 'mikel', 'maximof']\n",
    "z = zip(avengers, names)\n",
    "print(z)"
   ]
  },
  {
   "cell_type": "code",
   "execution_count": 6,
   "id": "163d83d7",
   "metadata": {},
   "outputs": [
    {
     "name": "stdout",
     "output_type": "stream",
     "text": [
      "[('hawkeye', 'barton'), ('iron man', 'stark'), ('thor', 'odison'), ('spider man', 'mikel'), ('quicksilver', 'maximof')]\n"
     ]
    }
   ],
   "source": [
    "z_list = list(z)\n",
    "print(z_list)"
   ]
  },
  {
   "cell_type": "markdown",
   "id": "f335f780",
   "metadata": {},
   "source": [
    "_zip is an iterator of tuples_"
   ]
  },
  {
   "cell_type": "code",
   "execution_count": 8,
   "id": "004a6d4e",
   "metadata": {},
   "outputs": [
    {
     "name": "stdout",
     "output_type": "stream",
     "text": [
      "madrid mbappe\n",
      "barca lamine\n",
      "man u bruno\n",
      "arsenal jesus\n",
      "munich muller\n"
     ]
    }
   ],
   "source": [
    "clubs =['madrid', 'barca', 'man u', 'arsenal', 'munich']\n",
    "stars =['mbappe', 'lamine', 'bruno', 'jesus', 'muller']\n",
    "for item1, item2 in zip(clubs, stars):\n",
    "    print(item1, item2)"
   ]
  },
  {
   "cell_type": "code",
   "execution_count": 9,
   "id": "99543688",
   "metadata": {},
   "outputs": [
    {
     "name": "stdout",
     "output_type": "stream",
     "text": [
      "('madrid', 'mbappe') ('barca', 'lamine') ('man u', 'bruno') ('arsenal', 'jesus') ('munich', 'muller')\n"
     ]
    }
   ],
   "source": [
    "z = zip(clubs, stars)\n",
    "print(*(list(z)))"
   ]
  },
  {
   "cell_type": "markdown",
   "id": "87f6defc",
   "metadata": {},
   "source": [
    "## Using iterators to load large files into memory loading data in chunks"
   ]
  },
  {
   "cell_type": "markdown",
   "id": "d7afefd4",
   "metadata": {},
   "source": [
    "### Iterating over data"
   ]
  },
  {
   "cell_type": "code",
   "execution_count": 11,
   "id": "36984d9c",
   "metadata": {},
   "outputs": [
    {
     "name": "stdout",
     "output_type": "stream",
     "text": [
      "[array(['Asia', 'Europe', 'Africa', 'Oceania', 'North America',\n",
      "       'South America'], dtype=object)]\n"
     ]
    }
   ],
   "source": [
    "import pandas as pd\n",
    "\n",
    "continent =[]\n",
    "for chunk in pd.read_csv(r'c:/users/danhaya/arewads/world-population-dynamics/data/processed_data/processed_data.csv', chunksize=1000):\n",
    "    continent.append(chunk['Continent'].unique())\n",
    "print(continent)"
   ]
  },
  {
   "cell_type": "code",
   "execution_count": null,
   "id": "9e1d5384",
   "metadata": {},
   "outputs": [],
   "source": []
  }
 ],
 "metadata": {
  "kernelspec": {
   "display_name": "base",
   "language": "python",
   "name": "python3"
  },
  "language_info": {
   "codemirror_mode": {
    "name": "ipython",
    "version": 3
   },
   "file_extension": ".py",
   "mimetype": "text/x-python",
   "name": "python",
   "nbconvert_exporter": "python",
   "pygments_lexer": "ipython3",
   "version": "3.12.3"
  }
 },
 "nbformat": 4,
 "nbformat_minor": 5
}

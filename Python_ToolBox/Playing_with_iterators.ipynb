{
 "cells": [
  {
   "cell_type": "markdown",
   "id": "9d4afe4a",
   "metadata": {},
   "source": [
    "# PLAYING WITH ITERATORS"
   ]
  },
  {
   "cell_type": "markdown",
   "id": "6789d527",
   "metadata": {},
   "source": [
    "## Using enumerate()"
   ]
  },
  {
   "cell_type": "code",
   "execution_count": 1,
   "id": "60c7ead7",
   "metadata": {},
   "outputs": [
    {
     "name": "stdout",
     "output_type": "stream",
     "text": [
      "<class 'enumerate'>\n"
     ]
    }
   ],
   "source": [
    "avengers =['hawkeye', 'iron-man', 'thor', 'quicksilver']\n",
    "e = enumerate(avengers)\n",
    "print(type(e))"
   ]
  },
  {
   "cell_type": "code",
   "execution_count": 2,
   "id": "d9a0bee4",
   "metadata": {},
   "outputs": [
    {
     "name": "stdout",
     "output_type": "stream",
     "text": [
      "[(0, 'hawkeye'), (1, 'iron-man'), (2, 'thor'), (3, 'quicksilver')]\n"
     ]
    }
   ],
   "source": [
    "e_list = list(e)\n",
    "print(e_list)"
   ]
  },
  {
   "cell_type": "markdown",
   "id": "3d960015",
   "metadata": {},
   "source": [
    "_looping over enumerate_"
   ]
  },
  {
   "cell_type": "code",
   "execution_count": 3,
   "id": "aec2c738",
   "metadata": {},
   "outputs": [
    {
     "name": "stdout",
     "output_type": "stream",
     "text": [
      "0 hawkeye\n",
      "1 iron-man\n",
      "2 thor\n",
      "3 quicksilver\n"
     ]
    }
   ],
   "source": [
    "for index, value in enumerate(avengers):\n",
    "    print(index, value)"
   ]
  },
  {
   "cell_type": "markdown",
   "id": "6f78187c",
   "metadata": {},
   "source": [
    "**You can alter start index instead of using default which is zero**"
   ]
  },
  {
   "cell_type": "code",
   "execution_count": 4,
   "id": "18d27d6b",
   "metadata": {},
   "outputs": [
    {
     "name": "stdout",
     "output_type": "stream",
     "text": [
      "1 baffa\n",
      "2 sa'ad\n",
      "3 nura\n",
      "4 yusuf\n"
     ]
    }
   ],
   "source": [
    "family =['baffa', \"sa'ad\", 'nura', 'yusuf']\n",
    "for index, fam in enumerate(family, start=1):\n",
    "    print(index, fam)"
   ]
  },
  {
   "cell_type": "markdown",
   "id": "f3195ec1",
   "metadata": {},
   "source": [
    "## Using zip()"
   ]
  },
  {
   "cell_type": "code",
   "execution_count": 5,
   "id": "3c158863",
   "metadata": {},
   "outputs": [
    {
     "name": "stdout",
     "output_type": "stream",
     "text": [
      "<zip object at 0x000001E3AA542540>\n"
     ]
    }
   ],
   "source": [
    "avengers = ['hawkeye', 'iron man', 'thor', 'spider man', 'quicksilver']\n",
    "names = ['barton', 'stark', 'odison', 'mikel', 'maximof']\n",
    "z = zip(avengers, names)\n",
    "print(z)"
   ]
  },
  {
   "cell_type": "code",
   "execution_count": 6,
   "id": "163d83d7",
   "metadata": {},
   "outputs": [
    {
     "name": "stdout",
     "output_type": "stream",
     "text": [
      "[('hawkeye', 'barton'), ('iron man', 'stark'), ('thor', 'odison'), ('spider man', 'mikel'), ('quicksilver', 'maximof')]\n"
     ]
    }
   ],
   "source": [
    "z_list = list(z)\n",
    "print(z_list)"
   ]
  },
  {
   "cell_type": "markdown",
   "id": "f335f780",
   "metadata": {},
   "source": [
    "_zip is an iterator of tuples_"
   ]
  },
  {
   "cell_type": "code",
   "execution_count": null,
   "id": "004a6d4e",
   "metadata": {},
   "outputs": [],
   "source": []
  }
 ],
 "metadata": {
  "kernelspec": {
   "display_name": "base",
   "language": "python",
   "name": "python3"
  },
  "language_info": {
   "codemirror_mode": {
    "name": "ipython",
    "version": 3
   },
   "file_extension": ".py",
   "mimetype": "text/x-python",
   "name": "python",
   "nbconvert_exporter": "python",
   "pygments_lexer": "ipython3",
   "version": "3.12.3"
  }
 },
 "nbformat": 4,
 "nbformat_minor": 5
}

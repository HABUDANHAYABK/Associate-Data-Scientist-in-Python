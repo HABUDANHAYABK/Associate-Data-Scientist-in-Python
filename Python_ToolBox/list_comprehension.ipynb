{
 "cells": [
  {
   "cell_type": "markdown",
   "id": "8e4db6a3",
   "metadata": {},
   "source": [
    "# INTRODUCTION TO LIST COMPREHENSION"
   ]
  },
  {
   "cell_type": "code",
   "execution_count": 1,
   "id": "296e29a9",
   "metadata": {},
   "outputs": [
    {
     "name": "stdout",
     "output_type": "stream",
     "text": [
      "[2, 3, 4, 5, 6, 7, 8, 9, 10, 11]\n"
     ]
    }
   ],
   "source": [
    "nums = [1, 2, 3, 4, 5, 6, 7, 8, 9, 10]\n",
    "new_nums = []\n",
    "for num in nums:\n",
    "    new_nums.append(num + 1)\n",
    "print(new_nums)    "
   ]
  },
  {
   "cell_type": "code",
   "execution_count": 4,
   "id": "c735892d",
   "metadata": {},
   "outputs": [
    {
     "name": "stdout",
     "output_type": "stream",
     "text": [
      "[2, 3, 4, 5, 6, 7, 8, 9, 10, 11]\n"
     ]
    }
   ],
   "source": [
    "# using list comprehension\n",
    "new_numbs = [num + 1 for num in nums]\n",
    "print(new_numbs)"
   ]
  },
  {
   "cell_type": "code",
   "execution_count": 3,
   "id": "d1342152",
   "metadata": {},
   "outputs": [
    {
     "name": "stdout",
     "output_type": "stream",
     "text": [
      "[4, 16, 36, 64, 100, 144, 196, 256, 324, 400]\n"
     ]
    }
   ],
   "source": [
    "numbers = [1, 2, 3, 4, 5, 6, 7, 8, 9, 10, 11, 12, 13, 14, 15, 16, 17, 18, 19, 20]\n",
    "square = []\n",
    "for num in numbers:\n",
    "    if num % 2 == 0:\n",
    "        square.append(num ** 2)\n",
    "print(square)"
   ]
  },
  {
   "cell_type": "code",
   "execution_count": 5,
   "id": "26af3b1e",
   "metadata": {},
   "outputs": [
    {
     "name": "stdout",
     "output_type": "stream",
     "text": [
      "[4, 16, 36, 64, 100, 144, 196, 256, 324, 400]\n"
     ]
    }
   ],
   "source": [
    "square = [num **2 for num in numbers if num % 2 == 0]\n",
    "print(square)"
   ]
  },
  {
   "cell_type": "code",
   "execution_count": 6,
   "id": "fa46f713",
   "metadata": {},
   "outputs": [
    {
     "name": "stdout",
     "output_type": "stream",
     "text": [
      "0\n",
      "1\n",
      "2\n",
      "3\n",
      "4\n",
      "5\n",
      "6\n",
      "7\n",
      "8\n",
      "9\n",
      "10\n"
     ]
    }
   ],
   "source": [
    "for num in range(11):\n",
    "    print(num)"
   ]
  },
  {
   "cell_type": "code",
   "execution_count": 7,
   "id": "a7a1aaa5",
   "metadata": {},
   "outputs": [
    {
     "name": "stdout",
     "output_type": "stream",
     "text": [
      "[0, 1, 2, 3, 4, 5, 6, 7, 8, 9, 10]\n"
     ]
    }
   ],
   "source": [
    "result = [num for num in range(11)]\n",
    "print(result)"
   ]
  },
  {
   "cell_type": "markdown",
   "id": "88271681",
   "metadata": {},
   "source": [
    "## Nested loops"
   ]
  },
  {
   "cell_type": "code",
   "execution_count": 10,
   "id": "379830dc",
   "metadata": {},
   "outputs": [
    {
     "name": "stdout",
     "output_type": "stream",
     "text": [
      "[(0, 6), (0, 7), (1, 6), (1, 7)]\n"
     ]
    }
   ],
   "source": [
    "pairs =[]\n",
    "for num1 in range(0,2):\n",
    "    for num2 in range(6,8):\n",
    "        pairs.append((num1, num2))\n",
    "print(pairs)"
   ]
  },
  {
   "cell_type": "code",
   "execution_count": 13,
   "id": "64dfceec",
   "metadata": {},
   "outputs": [
    {
     "name": "stdout",
     "output_type": "stream",
     "text": [
      "[(0, 6), (0, 7), (1, 6), (1, 7)]\n"
     ]
    }
   ],
   "source": [
    "pairs = [(num1, num2) for num1 in range(0,2) for num2 in range(6,8)]\n",
    "print(pairs)"
   ]
  },
  {
   "cell_type": "markdown",
   "id": "f97847c4",
   "metadata": {},
   "source": [
    "# ADVANCED COMPREHENSION"
   ]
  },
  {
   "cell_type": "markdown",
   "id": "61b6850f",
   "metadata": {},
   "source": [
    "## CONDITIONALS IN COMPREHENSION"
   ]
  },
  {
   "cell_type": "markdown",
   "id": "08801b29",
   "metadata": {},
   "source": [
    "### CONDITION ON ITERABLE"
   ]
  },
  {
   "cell_type": "code",
   "execution_count": 15,
   "id": "fa62eeec",
   "metadata": {},
   "outputs": [
    {
     "name": "stdout",
     "output_type": "stream",
     "text": [
      "[0, 4, 16, 36, 64, 100, 144, 196, 256, 324]\n"
     ]
    }
   ],
   "source": [
    "square_even = [num **2 for num in range(20) if num % 2 == 0]\n",
    "print(square_even)"
   ]
  },
  {
   "cell_type": "code",
   "execution_count": 16,
   "id": "09769e79",
   "metadata": {},
   "outputs": [
    {
     "name": "stdout",
     "output_type": "stream",
     "text": [
      "[1, 9, 25, 49, 81, 121, 169, 225, 289, 361]\n"
     ]
    }
   ],
   "source": [
    "square_odd =[num **2 for num in range(20) if num %2 != 0]\n",
    "print(square_odd)"
   ]
  },
  {
   "cell_type": "markdown",
   "id": "cf50f4bb",
   "metadata": {},
   "source": [
    "### CONDITION ON THE OUTPUT EXPRESSION"
   ]
  },
  {
   "cell_type": "code",
   "execution_count": null,
   "id": "b15ba18f",
   "metadata": {},
   "outputs": [],
   "source": [
    "_"
   ]
  }
 ],
 "metadata": {
  "kernelspec": {
   "display_name": "base",
   "language": "python",
   "name": "python3"
  },
  "language_info": {
   "codemirror_mode": {
    "name": "ipython",
    "version": 3
   },
   "file_extension": ".py",
   "mimetype": "text/x-python",
   "name": "python",
   "nbconvert_exporter": "python",
   "pygments_lexer": "ipython3",
   "version": "3.12.3"
  }
 },
 "nbformat": 4,
 "nbformat_minor": 5
}

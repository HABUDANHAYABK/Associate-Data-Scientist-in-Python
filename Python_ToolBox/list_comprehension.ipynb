{
 "cells": [
  {
   "cell_type": "markdown",
   "id": "8e4db6a3",
   "metadata": {},
   "source": [
    "# INTRODUCTION TO LIST COMPREHENSION"
   ]
  },
  {
   "cell_type": "code",
   "execution_count": 1,
   "id": "296e29a9",
   "metadata": {},
   "outputs": [
    {
     "name": "stdout",
     "output_type": "stream",
     "text": [
      "[2, 3, 4, 5, 6, 7, 8, 9, 10, 11]\n"
     ]
    }
   ],
   "source": [
    "nums = [1, 2, 3, 4, 5, 6, 7, 8, 9, 10]\n",
    "new_nums = []\n",
    "for num in nums:\n",
    "    new_nums.append(num + 1)\n",
    "print(new_nums)    "
   ]
  },
  {
   "cell_type": "code",
   "execution_count": 4,
   "id": "c735892d",
   "metadata": {},
   "outputs": [
    {
     "name": "stdout",
     "output_type": "stream",
     "text": [
      "[2, 3, 4, 5, 6, 7, 8, 9, 10, 11]\n"
     ]
    }
   ],
   "source": [
    "# using list comprehension\n",
    "new_numbs = [num + 1 for num in nums]\n",
    "print(new_numbs)"
   ]
  },
  {
   "cell_type": "code",
   "execution_count": 3,
   "id": "d1342152",
   "metadata": {},
   "outputs": [
    {
     "name": "stdout",
     "output_type": "stream",
     "text": [
      "[4, 16, 36, 64, 100, 144, 196, 256, 324, 400]\n"
     ]
    }
   ],
   "source": [
    "numbers = [1, 2, 3, 4, 5, 6, 7, 8, 9, 10, 11, 12, 13, 14, 15, 16, 17, 18, 19, 20]\n",
    "square = []\n",
    "for num in numbers:\n",
    "    if num % 2 == 0:\n",
    "        square.append(num ** 2)\n",
    "print(square)"
   ]
  },
  {
   "cell_type": "code",
   "execution_count": 5,
   "id": "26af3b1e",
   "metadata": {},
   "outputs": [
    {
     "name": "stdout",
     "output_type": "stream",
     "text": [
      "[4, 16, 36, 64, 100, 144, 196, 256, 324, 400]\n"
     ]
    }
   ],
   "source": [
    "square = [num **2 for num in numbers if num % 2 == 0]\n",
    "print(square)"
   ]
  },
  {
   "cell_type": "code",
   "execution_count": 6,
   "id": "fa46f713",
   "metadata": {},
   "outputs": [
    {
     "name": "stdout",
     "output_type": "stream",
     "text": [
      "0\n",
      "1\n",
      "2\n",
      "3\n",
      "4\n",
      "5\n",
      "6\n",
      "7\n",
      "8\n",
      "9\n",
      "10\n"
     ]
    }
   ],
   "source": [
    "for num in range(11):\n",
    "    print(num)"
   ]
  },
  {
   "cell_type": "code",
   "execution_count": 7,
   "id": "a7a1aaa5",
   "metadata": {},
   "outputs": [
    {
     "name": "stdout",
     "output_type": "stream",
     "text": [
      "[0, 1, 2, 3, 4, 5, 6, 7, 8, 9, 10]\n"
     ]
    }
   ],
   "source": [
    "result = [num for num in range(11)]\n",
    "print(result)"
   ]
  },
  {
   "cell_type": "markdown",
   "id": "88271681",
   "metadata": {},
   "source": [
    "## Nested loops"
   ]
  },
  {
   "cell_type": "code",
   "execution_count": 10,
   "id": "379830dc",
   "metadata": {},
   "outputs": [
    {
     "name": "stdout",
     "output_type": "stream",
     "text": [
      "[(0, 6), (0, 7), (1, 6), (1, 7)]\n"
     ]
    }
   ],
   "source": [
    "pairs =[]\n",
    "for num1 in range(0,2):\n",
    "    for num2 in range(6,8):\n",
    "        pairs.append((num1, num2))\n",
    "print(pairs)"
   ]
  },
  {
   "cell_type": "code",
   "execution_count": 13,
   "id": "64dfceec",
   "metadata": {},
   "outputs": [
    {
     "name": "stdout",
     "output_type": "stream",
     "text": [
      "[(0, 6), (0, 7), (1, 6), (1, 7)]\n"
     ]
    }
   ],
   "source": [
    "pairs = [(num1, num2) for num1 in range(0,2) for num2 in range(6,8)]\n",
    "print(pairs)"
   ]
  },
  {
   "cell_type": "markdown",
   "id": "f97847c4",
   "metadata": {},
   "source": [
    "# ADVANCED COMPREHENSION"
   ]
  },
  {
   "cell_type": "markdown",
   "id": "61b6850f",
   "metadata": {},
   "source": [
    "## CONDITIONALS IN COMPREHENSION"
   ]
  },
  {
   "cell_type": "markdown",
   "id": "08801b29",
   "metadata": {},
   "source": [
    "### CONDITION ON ITERABLE"
   ]
  },
  {
   "cell_type": "code",
   "execution_count": 15,
   "id": "fa62eeec",
   "metadata": {},
   "outputs": [
    {
     "name": "stdout",
     "output_type": "stream",
     "text": [
      "[0, 4, 16, 36, 64, 100, 144, 196, 256, 324]\n"
     ]
    }
   ],
   "source": [
    "square_even = [num **2 for num in range(20) if num % 2 == 0]\n",
    "print(square_even)"
   ]
  },
  {
   "cell_type": "code",
   "execution_count": 16,
   "id": "09769e79",
   "metadata": {},
   "outputs": [
    {
     "name": "stdout",
     "output_type": "stream",
     "text": [
      "[1, 9, 25, 49, 81, 121, 169, 225, 289, 361]\n"
     ]
    }
   ],
   "source": [
    "square_odd =[num **2 for num in range(20) if num %2 != 0]\n",
    "print(square_odd)"
   ]
  },
  {
   "cell_type": "markdown",
   "id": "cf50f4bb",
   "metadata": {},
   "source": [
    "### CONDITION ON THE OUTPUT EXPRESSION"
   ]
  },
  {
   "cell_type": "code",
   "execution_count": 17,
   "id": "b15ba18f",
   "metadata": {},
   "outputs": [
    {
     "name": "stdout",
     "output_type": "stream",
     "text": [
      "[0, 0, 4, 0, 16, 0, 36, 0, 64, 0, 100, 0, 144, 0, 196, 0, 256, 0, 324, 0]\n"
     ]
    }
   ],
   "source": [
    "zero_with_even =[num**2 if num % 2 == 0 else 0 for num in range(20)]\n",
    "print(zero_with_even)"
   ]
  },
  {
   "cell_type": "code",
   "execution_count": 18,
   "id": "be2a5c38",
   "metadata": {},
   "outputs": [
    {
     "name": "stdout",
     "output_type": "stream",
     "text": [
      "[0, 0, 8, 0, 64, 0, 216, 0, 512, 0, 1000, 0, 1728, 0, 2744, 0, 4096, 0, 5832, 0]\n"
     ]
    }
   ],
   "source": [
    "zero_with_cube =[num**3 if num % 2 == 0 else 0 for num in range(20)]\n",
    "print(zero_with_cube)"
   ]
  },
  {
   "cell_type": "code",
   "execution_count": 19,
   "id": "d83b3ff9",
   "metadata": {},
   "outputs": [
    {
     "data": {
      "text/plain": [
       "[0, 1, 4, 3, 16, 5, 36, 7, 64, 9, 100, 11, 144, 13, 196, 15, 256, 17, 324, 19]"
      ]
     },
     "execution_count": 19,
     "metadata": {},
     "output_type": "execute_result"
    }
   ],
   "source": [
    "[num if num % 2 != 0 else num **2 for num in range(20)]\n"
   ]
  },
  {
   "cell_type": "code",
   "execution_count": 23,
   "id": "64a1fba2",
   "metadata": {},
   "outputs": [
    {
     "name": "stdout",
     "output_type": "stream",
     "text": [
      "['L', 'A', 'N', 'G', 'U', 'A', 'G', 'E']\n"
     ]
    }
   ],
   "source": [
    "lst = [i.upper() for i in 'Languages' if i != 's']\n",
    "print(lst)"
   ]
  },
  {
   "cell_type": "code",
   "execution_count": 26,
   "id": "3f1566ef",
   "metadata": {},
   "outputs": [
    {
     "name": "stdout",
     "output_type": "stream",
     "text": [
      "[(1, 1), (2, 4), (3, 9), (4, 16), (5, 25), (6, 36), (7, 49), (8, 64), (9, 81)]\n"
     ]
    }
   ],
   "source": [
    "num =[(i, i**2) for i in range(1,10)]\n",
    "print(num)"
   ]
  },
  {
   "cell_type": "code",
   "execution_count": 27,
   "id": "0364cf3c",
   "metadata": {},
   "outputs": [
    {
     "name": "stdout",
     "output_type": "stream",
     "text": [
      "[4, 16, 36, 64, 100]\n"
     ]
    }
   ],
   "source": [
    "nums = [-10, -9, -8, -7, -6, -5, -4, -3, -2, -1, 0, 1, 2, 3, 4, 5, 6, 7, 8, 9, 10]\n",
    "pos_even_square = [num**2 for num in nums if (num % 2 == 0) and (num > 0)]\n",
    "print(pos_even_square) "
   ]
  },
  {
   "cell_type": "code",
   "execution_count": 28,
   "id": "a17b15b4",
   "metadata": {},
   "outputs": [
    {
     "name": "stdout",
     "output_type": "stream",
     "text": [
      "[1, 2, 3, 4, 5, 6, 7, 8, 9]\n"
     ]
    }
   ],
   "source": [
    "list_of_list = [[1, 2, 3], [4, 5, 6], [7, 8, 9]]\n",
    "flattened_list = [num for row in list_of_list for num in row]\n",
    "print(flattened_list)"
   ]
  },
  {
   "cell_type": "code",
   "execution_count": 29,
   "id": "d3593134",
   "metadata": {},
   "outputs": [
    {
     "name": "stdout",
     "output_type": "stream",
     "text": [
      "[-4, -3, -2, -1, 0]\n"
     ]
    }
   ],
   "source": [
    "nums = [-4, -3, -2, -1, 0, 1, 2, 3, 4, 5, 6]\n",
    "neg_and_zero = [num for num in nums if num <= 0]\n",
    "print(neg_and_zero)"
   ]
  },
  {
   "cell_type": "code",
   "execution_count": 33,
   "id": "fc947c10",
   "metadata": {},
   "outputs": [
    {
     "name": "stdout",
     "output_type": "stream",
     "text": [
      "[1, 2, 3, 4, 5, 6, 7, 8, 9]\n"
     ]
    }
   ],
   "source": [
    "list_of_lists = [[[1, 2, 3]], [[4, 5, 6]], [[7, 8, 9]]]\n",
    "flattened_list = [num for sublist in list_of_lists for subsublist in sublist for num in subsublist]\n",
    "print(flattened_list)"
   ]
  },
  {
   "cell_type": "code",
   "execution_count": 34,
   "id": "2c483e40",
   "metadata": {},
   "outputs": [
    {
     "name": "stdout",
     "output_type": "stream",
     "text": [
      "[1, 4, 9, 16, 25, 36, 49, 64, 81]\n"
     ]
    }
   ],
   "source": [
    "flattened_square_list = [num**2 for sublist in list_of_lists for subsublist in sublist for num in subsublist]\n",
    "print(flattened_square_list)"
   ]
  },
  {
   "cell_type": "code",
   "execution_count": 38,
   "id": "2a6f1fca",
   "metadata": {},
   "outputs": [
    {
     "name": "stdout",
     "output_type": "stream",
     "text": [
      "[2, 4, 6, 8]\n"
     ]
    }
   ],
   "source": [
    "flattened_even_list = [num for sublist in list_of_lists for subsublist in sublist for num in subsublist if num % 2==0]\n",
    "print(flattened_even_list)"
   ]
  },
  {
   "cell_type": "code",
   "execution_count": 39,
   "id": "1ef0cac7",
   "metadata": {},
   "outputs": [
    {
     "name": "stdout",
     "output_type": "stream",
     "text": [
      "{0: 0, 1: -1, 2: -2, 3: -3, 4: -4, 5: -5, 6: -6, 7: -7, 8: -8, 9: -9, 10: -10, 11: -11, 12: -12, 13: -13, 14: -14, 15: -15, 16: -16, 17: -17, 18: -18, 19: -19}\n"
     ]
    }
   ],
   "source": [
    "# Dictionaries comprehension\n",
    "pos_neg = {num:-num for num in range(20)}\n",
    "print(pos_neg)"
   ]
  },
  {
   "cell_type": "code",
   "execution_count": 42,
   "id": "2f7c735b",
   "metadata": {},
   "outputs": [
    {
     "name": "stdout",
     "output_type": "stream",
     "text": [
      "{'abubakar': 'jigawa', 'musa': 'kano', 'ibrahim': 'kano', 'umar': 'bauchi'}\n"
     ]
    }
   ],
   "source": [
    "names = [\"abubakar\", \"musa\", \"ibrahim\", \"umar\"]\n",
    "locations = ['jigawa', 'kano', 'kano', 'bauchi']\n",
    "\n",
    "infom = {name:location for name, location in zip(names,locations)}\n",
    "print(infom)"
   ]
  },
  {
   "cell_type": "code",
   "execution_count": 43,
   "id": "18798bf2",
   "metadata": {},
   "outputs": [
    {
     "name": "stdout",
     "output_type": "stream",
     "text": [
      "{'frodo': 5, 'samwise': 7, 'merry': 5, 'aragon': 6, 'legolas': 7, 'boromir': 7, 'gimli': 5}\n"
     ]
    }
   ],
   "source": [
    "fellowship = ['frodo', 'samwise', 'merry', 'aragon', 'legolas', 'boromir', 'gimli']\n",
    "\n",
    "new_fellowship ={fellow:len(fellow) for fellow in fellowship}\n",
    "print(new_fellowship)"
   ]
  },
  {
   "cell_type": "code",
   "execution_count": 44,
   "id": "34d430fe",
   "metadata": {},
   "outputs": [
    {
     "data": {
      "text/plain": [
       "['samwise', 'legolas', 'boromir']"
      ]
     },
     "execution_count": 44,
     "metadata": {},
     "output_type": "execute_result"
    }
   ],
   "source": [
    "[fellow for fellow in fellowship if len(fellow) >= 7]"
   ]
  },
  {
   "cell_type": "markdown",
   "id": "e179714b",
   "metadata": {},
   "source": [
    "create a 5 x 5 matrix using a list of lists: matrix"
   ]
  },
  {
   "cell_type": "code",
   "execution_count": 45,
   "id": "5b7f74aa",
   "metadata": {},
   "outputs": [
    {
     "name": "stdout",
     "output_type": "stream",
     "text": [
      "[[0, 1, 2, 3, 4], [0, 1, 2, 3, 4], [0, 1, 2, 3, 4], [0, 1, 2, 3, 4], [0, 1, 2, 3, 4]]\n"
     ]
    }
   ],
   "source": [
    "matrix = [[col for col in range(5)] for row in range(5)]\n",
    "print(matrix)"
   ]
  }
 ],
 "metadata": {
  "kernelspec": {
   "display_name": "base",
   "language": "python",
   "name": "python3"
  },
  "language_info": {
   "codemirror_mode": {
    "name": "ipython",
    "version": 3
   },
   "file_extension": ".py",
   "mimetype": "text/x-python",
   "name": "python",
   "nbconvert_exporter": "python",
   "pygments_lexer": "ipython3",
   "version": "3.12.3"
  }
 },
 "nbformat": 4,
 "nbformat_minor": 5
}

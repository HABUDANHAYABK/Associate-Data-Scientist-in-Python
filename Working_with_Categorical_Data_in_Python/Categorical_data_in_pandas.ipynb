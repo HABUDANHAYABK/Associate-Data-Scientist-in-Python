{
 "cells": [
  {
   "cell_type": "markdown",
   "id": "49a67219",
   "metadata": {},
   "source": [
    "# Categorical Data in Python"
   ]
  },
  {
   "cell_type": "code",
   "execution_count": 15,
   "id": "c0c990e7",
   "metadata": {},
   "outputs": [
    {
     "name": "stdout",
     "output_type": "stream",
     "text": [
      "           Country Name Country Code                      Region  \\\n",
      "0           Afghanistan          AFG                  South Asia   \n",
      "1                Angola          AGO          Sub-Saharan Africa   \n",
      "2               Albania          ALB       Europe & Central Asia   \n",
      "3               Andorra          AND       Europe & Central Asia   \n",
      "4  United Arab Emirates          ARE  Middle East & North Africa   \n",
      "\n",
      "           IncomeGroup  Year  Life Expectancy World Bank  \\\n",
      "0           Low income  2001                      56.308   \n",
      "1  Lower middle income  2001                      47.059   \n",
      "2  Upper middle income  2001                      74.288   \n",
      "3          High income  2001                         NaN   \n",
      "4          High income  2001                      74.544   \n",
      "\n",
      "   Prevelance of Undernourishment      CO2  Health Expenditure %  \\\n",
      "0                            47.8    730.0                   NaN   \n",
      "1                            67.5  15960.0              4.483516   \n",
      "2                             4.9   3230.0              7.139524   \n",
      "3                             NaN    520.0              5.865939   \n",
      "4                             2.8  97200.0              2.484370   \n",
      "\n",
      "   Education Expenditure %  Unemployment  Corruption  Sanitation    Injuries  \\\n",
      "0                      NaN     10.809000         NaN         NaN  2179727.10   \n",
      "1                      NaN      4.004000         NaN         NaN  1392080.71   \n",
      "2                   3.4587     18.575001         NaN   40.520895   117081.67   \n",
      "3                      NaN           NaN         NaN   21.788660     1697.99   \n",
      "4                      NaN      2.493000         NaN         NaN   144678.14   \n",
      "\n",
      "   Communicable  NonCommunicable  \n",
      "0    9689193.70       5795426.38  \n",
      "1   11190210.53       2663516.34  \n",
      "2     140894.78        532324.75  \n",
      "3        695.56         13636.64  \n",
      "4      65271.91        481740.70  \n"
     ]
    }
   ],
   "source": [
    "import pandas as pd\n",
    "import matplotlib.pyplot as plt\n",
    "import seaborn as sns \n",
    "\n",
    " \n",
    "life_expectancy =  pd.read_csv(r\"c:/users/danhaya/arewads/arewads-fellowship/life_expectancy.csv\")\n",
    "print(life_expectancy.head())"
   ]
  },
  {
   "cell_type": "code",
   "execution_count": 16,
   "id": "c4287148",
   "metadata": {},
   "outputs": [
    {
     "name": "stdout",
     "output_type": "stream",
     "text": [
      "Index(['country name', 'country code', 'region', 'incomegroup', 'year',\n",
      "       'life expectancy world bank', 'prevelance of undernourishment', 'co2',\n",
      "       'health expenditure %', 'education expenditure %', 'unemployment',\n",
      "       'corruption', 'sanitation', 'injuries', 'communicable',\n",
      "       'noncommunicable'],\n",
      "      dtype='object')\n"
     ]
    }
   ],
   "source": [
    "life_expectancy.columns = life_expectancy.columns.map(lambda c: c.lower())\n",
    "print(life_expectancy.columns)"
   ]
  },
  {
   "cell_type": "code",
   "execution_count": 4,
   "id": "26e41f49",
   "metadata": {},
   "outputs": [
    {
     "data": {
      "application/vnd.microsoft.datawrangler.viewer.v0+json": {
       "columns": [
        {
         "name": "index",
         "rawType": "object",
         "type": "string"
        },
        {
         "name": "year",
         "rawType": "float64",
         "type": "float"
        },
        {
         "name": "life expectancy world bank",
         "rawType": "float64",
         "type": "float"
        },
        {
         "name": "prevelance of undernourishment",
         "rawType": "float64",
         "type": "float"
        },
        {
         "name": "co2",
         "rawType": "float64",
         "type": "float"
        },
        {
         "name": "health expenditure %",
         "rawType": "float64",
         "type": "float"
        },
        {
         "name": "education expenditure %",
         "rawType": "float64",
         "type": "float"
        },
        {
         "name": "unemployment",
         "rawType": "float64",
         "type": "float"
        },
        {
         "name": "corruption",
         "rawType": "float64",
         "type": "float"
        },
        {
         "name": "sanitation",
         "rawType": "float64",
         "type": "float"
        },
        {
         "name": "injuries",
         "rawType": "float64",
         "type": "float"
        },
        {
         "name": "communicable",
         "rawType": "float64",
         "type": "float"
        },
        {
         "name": "noncommunicable",
         "rawType": "float64",
         "type": "float"
        }
       ],
       "conversionMethod": "pd.DataFrame",
       "ref": "d1a3fb4a-9b71-401a-ae60-fd5446b920c3",
       "rows": [
        [
         "count",
         "3306.0",
         "3118.0",
         "2622.0",
         "3154.0",
         "3126.0",
         "2216.0",
         "3002.0",
         "975.0",
         "2059.0",
         "3306.0",
         "3306.0",
         "3306.0"
        ],
        [
         "mean",
         "2010.0",
         "69.74836158262802",
         "10.663653699466057",
         "157492.4126899346",
         "6.36405906284389",
         "4.589014243832134",
         "7.890760492220729",
         "2.8605128205128203",
         "52.73878455545847",
         "1318219.45107683",
         "4686288.641721114",
         "7392488.091079855"
        ],
        [
         "std",
         "5.4780541395485045",
         "9.408154138421738",
         "11.285897007751585",
         "772641.5327602884",
         "2.8428437096652317",
         "2.1191647159478872",
         "6.270831862862087",
         "0.6213433016876404",
         "30.12676164063562",
         "5214067.916349141",
         "18437269.071449805",
         "29326878.48363498"
        ],
        [
         "min",
         "2001.0",
         "40.369",
         "2.5",
         "9.99999977648258",
         "1.26357603",
         "0.850319981575012",
         "0.100000001490116",
         "1.0",
         "2.377647105",
         "430.49",
         "330.16",
         "2481.82"
        ],
        [
         "25%",
         "2005.0",
         "63.642",
         "2.5",
         "2002.4999976158151",
         "4.20544291",
         "3.1361175179481524",
         "3.7329999804496774",
         "2.5",
         "24.74600673",
         "62456.8775",
         "57764.745",
         "318475.8375"
        ],
        [
         "50%",
         "2010.0",
         "72.1685",
         "6.2",
         "10204.999923706051",
         "5.89235234",
         "4.37146496772766",
         "5.92000007629395",
         "3.0",
         "49.31748103",
         "245690.96",
         "314769.35",
         "1350146.34"
        ],
        [
         "75%",
         "2015.0",
         "76.809",
         "14.775",
         "58772.49908447263",
         "8.1191659",
         "5.519825100898743",
         "10.09750032424925",
         "3.25",
         "80.27884732999999",
         "846559.1224999999",
         "2831635.9274999998",
         "3918468.2525"
        ],
        [
         "max",
         "2019.0",
         "84.35634146341464",
         "70.9",
         "10707219.7265625",
         "24.23068047",
         "23.2700004577637",
         "37.25",
         "4.5",
         "100.0000037",
         "55636759.3",
         "268564609.8",
         "324637810.5"
        ]
       ],
       "shape": {
        "columns": 12,
        "rows": 8
       }
      },
      "text/html": [
       "<div>\n",
       "<style scoped>\n",
       "    .dataframe tbody tr th:only-of-type {\n",
       "        vertical-align: middle;\n",
       "    }\n",
       "\n",
       "    .dataframe tbody tr th {\n",
       "        vertical-align: top;\n",
       "    }\n",
       "\n",
       "    .dataframe thead th {\n",
       "        text-align: right;\n",
       "    }\n",
       "</style>\n",
       "<table border=\"1\" class=\"dataframe\">\n",
       "  <thead>\n",
       "    <tr style=\"text-align: right;\">\n",
       "      <th></th>\n",
       "      <th>year</th>\n",
       "      <th>life expectancy world bank</th>\n",
       "      <th>prevelance of undernourishment</th>\n",
       "      <th>co2</th>\n",
       "      <th>health expenditure %</th>\n",
       "      <th>education expenditure %</th>\n",
       "      <th>unemployment</th>\n",
       "      <th>corruption</th>\n",
       "      <th>sanitation</th>\n",
       "      <th>injuries</th>\n",
       "      <th>communicable</th>\n",
       "      <th>noncommunicable</th>\n",
       "    </tr>\n",
       "  </thead>\n",
       "  <tbody>\n",
       "    <tr>\n",
       "      <th>count</th>\n",
       "      <td>3306.000000</td>\n",
       "      <td>3118.000000</td>\n",
       "      <td>2622.000000</td>\n",
       "      <td>3.154000e+03</td>\n",
       "      <td>3126.000000</td>\n",
       "      <td>2216.000000</td>\n",
       "      <td>3002.000000</td>\n",
       "      <td>975.000000</td>\n",
       "      <td>2059.000000</td>\n",
       "      <td>3.306000e+03</td>\n",
       "      <td>3.306000e+03</td>\n",
       "      <td>3.306000e+03</td>\n",
       "    </tr>\n",
       "    <tr>\n",
       "      <th>mean</th>\n",
       "      <td>2010.000000</td>\n",
       "      <td>69.748362</td>\n",
       "      <td>10.663654</td>\n",
       "      <td>1.574924e+05</td>\n",
       "      <td>6.364059</td>\n",
       "      <td>4.589014</td>\n",
       "      <td>7.890760</td>\n",
       "      <td>2.860513</td>\n",
       "      <td>52.738785</td>\n",
       "      <td>1.318219e+06</td>\n",
       "      <td>4.686289e+06</td>\n",
       "      <td>7.392488e+06</td>\n",
       "    </tr>\n",
       "    <tr>\n",
       "      <th>std</th>\n",
       "      <td>5.478054</td>\n",
       "      <td>9.408154</td>\n",
       "      <td>11.285897</td>\n",
       "      <td>7.726415e+05</td>\n",
       "      <td>2.842844</td>\n",
       "      <td>2.119165</td>\n",
       "      <td>6.270832</td>\n",
       "      <td>0.621343</td>\n",
       "      <td>30.126762</td>\n",
       "      <td>5.214068e+06</td>\n",
       "      <td>1.843727e+07</td>\n",
       "      <td>2.932688e+07</td>\n",
       "    </tr>\n",
       "    <tr>\n",
       "      <th>min</th>\n",
       "      <td>2001.000000</td>\n",
       "      <td>40.369000</td>\n",
       "      <td>2.500000</td>\n",
       "      <td>1.000000e+01</td>\n",
       "      <td>1.263576</td>\n",
       "      <td>0.850320</td>\n",
       "      <td>0.100000</td>\n",
       "      <td>1.000000</td>\n",
       "      <td>2.377647</td>\n",
       "      <td>4.304900e+02</td>\n",
       "      <td>3.301600e+02</td>\n",
       "      <td>2.481820e+03</td>\n",
       "    </tr>\n",
       "    <tr>\n",
       "      <th>25%</th>\n",
       "      <td>2005.000000</td>\n",
       "      <td>63.642000</td>\n",
       "      <td>2.500000</td>\n",
       "      <td>2.002500e+03</td>\n",
       "      <td>4.205443</td>\n",
       "      <td>3.136118</td>\n",
       "      <td>3.733000</td>\n",
       "      <td>2.500000</td>\n",
       "      <td>24.746007</td>\n",
       "      <td>6.245688e+04</td>\n",
       "      <td>5.776475e+04</td>\n",
       "      <td>3.184758e+05</td>\n",
       "    </tr>\n",
       "    <tr>\n",
       "      <th>50%</th>\n",
       "      <td>2010.000000</td>\n",
       "      <td>72.168500</td>\n",
       "      <td>6.200000</td>\n",
       "      <td>1.020500e+04</td>\n",
       "      <td>5.892352</td>\n",
       "      <td>4.371465</td>\n",
       "      <td>5.920000</td>\n",
       "      <td>3.000000</td>\n",
       "      <td>49.317481</td>\n",
       "      <td>2.456910e+05</td>\n",
       "      <td>3.147693e+05</td>\n",
       "      <td>1.350146e+06</td>\n",
       "    </tr>\n",
       "    <tr>\n",
       "      <th>75%</th>\n",
       "      <td>2015.000000</td>\n",
       "      <td>76.809000</td>\n",
       "      <td>14.775000</td>\n",
       "      <td>5.877250e+04</td>\n",
       "      <td>8.119166</td>\n",
       "      <td>5.519825</td>\n",
       "      <td>10.097500</td>\n",
       "      <td>3.250000</td>\n",
       "      <td>80.278847</td>\n",
       "      <td>8.465591e+05</td>\n",
       "      <td>2.831636e+06</td>\n",
       "      <td>3.918468e+06</td>\n",
       "    </tr>\n",
       "    <tr>\n",
       "      <th>max</th>\n",
       "      <td>2019.000000</td>\n",
       "      <td>84.356341</td>\n",
       "      <td>70.900000</td>\n",
       "      <td>1.070722e+07</td>\n",
       "      <td>24.230680</td>\n",
       "      <td>23.270000</td>\n",
       "      <td>37.250000</td>\n",
       "      <td>4.500000</td>\n",
       "      <td>100.000004</td>\n",
       "      <td>5.563676e+07</td>\n",
       "      <td>2.685646e+08</td>\n",
       "      <td>3.246378e+08</td>\n",
       "    </tr>\n",
       "  </tbody>\n",
       "</table>\n",
       "</div>"
      ],
      "text/plain": [
       "              year  life expectancy world bank  \\\n",
       "count  3306.000000                 3118.000000   \n",
       "mean   2010.000000                   69.748362   \n",
       "std       5.478054                    9.408154   \n",
       "min    2001.000000                   40.369000   \n",
       "25%    2005.000000                   63.642000   \n",
       "50%    2010.000000                   72.168500   \n",
       "75%    2015.000000                   76.809000   \n",
       "max    2019.000000                   84.356341   \n",
       "\n",
       "       prevelance of undernourishment           co2  health expenditure %  \\\n",
       "count                     2622.000000  3.154000e+03           3126.000000   \n",
       "mean                        10.663654  1.574924e+05              6.364059   \n",
       "std                         11.285897  7.726415e+05              2.842844   \n",
       "min                          2.500000  1.000000e+01              1.263576   \n",
       "25%                          2.500000  2.002500e+03              4.205443   \n",
       "50%                          6.200000  1.020500e+04              5.892352   \n",
       "75%                         14.775000  5.877250e+04              8.119166   \n",
       "max                         70.900000  1.070722e+07             24.230680   \n",
       "\n",
       "       education expenditure %  unemployment  corruption   sanitation  \\\n",
       "count              2216.000000   3002.000000  975.000000  2059.000000   \n",
       "mean                  4.589014      7.890760    2.860513    52.738785   \n",
       "std                   2.119165      6.270832    0.621343    30.126762   \n",
       "min                   0.850320      0.100000    1.000000     2.377647   \n",
       "25%                   3.136118      3.733000    2.500000    24.746007   \n",
       "50%                   4.371465      5.920000    3.000000    49.317481   \n",
       "75%                   5.519825     10.097500    3.250000    80.278847   \n",
       "max                  23.270000     37.250000    4.500000   100.000004   \n",
       "\n",
       "           injuries  communicable  noncommunicable  \n",
       "count  3.306000e+03  3.306000e+03     3.306000e+03  \n",
       "mean   1.318219e+06  4.686289e+06     7.392488e+06  \n",
       "std    5.214068e+06  1.843727e+07     2.932688e+07  \n",
       "min    4.304900e+02  3.301600e+02     2.481820e+03  \n",
       "25%    6.245688e+04  5.776475e+04     3.184758e+05  \n",
       "50%    2.456910e+05  3.147693e+05     1.350146e+06  \n",
       "75%    8.465591e+05  2.831636e+06     3.918468e+06  \n",
       "max    5.563676e+07  2.685646e+08     3.246378e+08  "
      ]
     },
     "execution_count": 4,
     "metadata": {},
     "output_type": "execute_result"
    }
   ],
   "source": [
    "life_expectancy.describe()"
   ]
  },
  {
   "cell_type": "code",
   "execution_count": 5,
   "id": "0252b0fd",
   "metadata": {},
   "outputs": [
    {
     "name": "stdout",
     "output_type": "stream",
     "text": [
      "<class 'pandas.core.frame.DataFrame'>\n",
      "RangeIndex: 3306 entries, 0 to 3305\n",
      "Data columns (total 16 columns):\n",
      " #   Column                          Non-Null Count  Dtype  \n",
      "---  ------                          --------------  -----  \n",
      " 0   country name                    3306 non-null   object \n",
      " 1   country code                    3306 non-null   object \n",
      " 2   region                          3306 non-null   object \n",
      " 3   incomegroup                     3306 non-null   object \n",
      " 4   year                            3306 non-null   int64  \n",
      " 5   life expectancy world bank      3118 non-null   float64\n",
      " 6   prevelance of undernourishment  2622 non-null   float64\n",
      " 7   co2                             3154 non-null   float64\n",
      " 8   health expenditure %            3126 non-null   float64\n",
      " 9   education expenditure %         2216 non-null   float64\n",
      " 10  unemployment                    3002 non-null   float64\n",
      " 11  corruption                      975 non-null    float64\n",
      " 12  sanitation                      2059 non-null   float64\n",
      " 13  injuries                        3306 non-null   float64\n",
      " 14  communicable                    3306 non-null   float64\n",
      " 15  noncommunicable                 3306 non-null   float64\n",
      "dtypes: float64(11), int64(1), object(4)\n",
      "memory usage: 413.4+ KB\n"
     ]
    }
   ],
   "source": [
    "life_expectancy.info()"
   ]
  },
  {
   "cell_type": "code",
   "execution_count": 17,
   "id": "c21615f9",
   "metadata": {},
   "outputs": [
    {
     "name": "stdout",
     "output_type": "stream",
     "text": [
      "Index(['life expectancy world bank', 'prevelance of undernourishment',\n",
      "       'health expenditure %', 'education expenditure %', 'unemployment',\n",
      "       'corruption', 'sanitation'],\n",
      "      dtype='object')\n"
     ]
    }
   ],
   "source": [
    "threshold = len(life_expectancy)*0.05\n",
    "col_to_drop = life_expectancy.columns[life_expectancy.isna().sum() > threshold]\n",
    "print(col_to_drop)"
   ]
  },
  {
   "cell_type": "code",
   "execution_count": 18,
   "id": "ff037c09",
   "metadata": {},
   "outputs": [],
   "source": [
    "col_with_missing_values = life_expectancy.columns[life_expectancy.isna().sum() > 0]\n",
    "for col in col_with_missing_values:\n",
    "    life_expectancy[col].fillna(life_expectancy[col].mean())"
   ]
  },
  {
   "cell_type": "code",
   "execution_count": 13,
   "id": "7ae55104",
   "metadata": {},
   "outputs": [
    {
     "data": {
      "text/plain": [
       "country name                         0\n",
       "country code                         0\n",
       "region                               0\n",
       "incomegroup                          0\n",
       "year                                 0\n",
       "life expectancy world bank         188\n",
       "prevelance of undernourishment     684\n",
       "co2                                152\n",
       "health expenditure %               180\n",
       "education expenditure %           1090\n",
       "unemployment                       304\n",
       "corruption                        2331\n",
       "sanitation                        1247\n",
       "injuries                             0\n",
       "communicable                         0\n",
       "noncommunicable                      0\n",
       "dtype: int64"
      ]
     },
     "execution_count": 13,
     "metadata": {},
     "output_type": "execute_result"
    }
   ],
   "source": [
    "life_expectancy.isna().sum()"
   ]
  },
  {
   "cell_type": "code",
   "execution_count": 19,
   "id": "11fd4215",
   "metadata": {},
   "outputs": [
    {
     "name": "stdout",
     "output_type": "stream",
     "text": [
      "Index(['country_name', 'country_code', 'region', 'incomegroup', 'year',\n",
      "       'life_expectancy_world_bank', 'prevelance_of_undernourishment', 'co2',\n",
      "       'health_expenditure_%', 'education_expenditure_%', 'unemployment',\n",
      "       'corruption', 'sanitation', 'injuries', 'communicable',\n",
      "       'noncommunicable'],\n",
      "      dtype='object')\n"
     ]
    }
   ],
   "source": [
    "life_expectancy.columns = life_expectancy.columns.str.replace(' ', '_')\n",
    "print(life_expectancy.columns)"
   ]
  },
  {
   "cell_type": "code",
   "execution_count": 20,
   "id": "3040eb9f",
   "metadata": {},
   "outputs": [],
   "source": [
    "life_expectancy[['country_name', 'country_code', 'region', 'incomegroup']] = life_expectancy[[\"country_name\", 'country_code', 'region', 'incomegroup']].astype('category')"
   ]
  },
  {
   "cell_type": "code",
   "execution_count": 23,
   "id": "dff6a8b0",
   "metadata": {},
   "outputs": [
    {
     "name": "stdout",
     "output_type": "stream",
     "text": [
      "              country_name country_code                      region  \\\n",
      "0              Afghanistan          AFG                  South Asia   \n",
      "1                   Angola          AGO          Sub-Saharan Africa   \n",
      "2                  Albania          ALB       Europe & Central Asia   \n",
      "3                  Andorra          AND       Europe & Central Asia   \n",
      "4     United Arab Emirates          ARE  Middle East & North Africa   \n",
      "...                    ...          ...                         ...   \n",
      "3301               Vanuatu          VUT         East Asia & Pacific   \n",
      "3302                 Samoa          WSM         East Asia & Pacific   \n",
      "3303          South Africa          ZAF          Sub-Saharan Africa   \n",
      "3304                Zambia          ZMB          Sub-Saharan Africa   \n",
      "3305              Zimbabwe          ZWE          Sub-Saharan Africa   \n",
      "\n",
      "              incomegroup  \n",
      "0              Low income  \n",
      "1     Lower middle income  \n",
      "2     Upper middle income  \n",
      "3             High income  \n",
      "4             High income  \n",
      "...                   ...  \n",
      "3301  Lower middle income  \n",
      "3302  Lower middle income  \n",
      "3303  Upper middle income  \n",
      "3304           Low income  \n",
      "3305  Lower middle income  \n",
      "\n",
      "[3306 rows x 4 columns]\n"
     ]
    }
   ],
   "source": [
    "print(life_expectancy.select_dtypes('category'))"
   ]
  },
  {
   "cell_type": "code",
   "execution_count": 24,
   "id": "b6754508",
   "metadata": {},
   "outputs": [],
   "source": [
    "life_expectancy['year'] = pd.to_datetime(life_expectancy['year'])"
   ]
  },
  {
   "cell_type": "code",
   "execution_count": 25,
   "id": "a36c5555",
   "metadata": {},
   "outputs": [
    {
     "data": {
      "text/plain": [
       "0      1970-01-01 00:00:00.000002001\n",
       "1      1970-01-01 00:00:00.000002001\n",
       "2      1970-01-01 00:00:00.000002001\n",
       "3      1970-01-01 00:00:00.000002001\n",
       "4      1970-01-01 00:00:00.000002001\n",
       "                    ...             \n",
       "3301   1970-01-01 00:00:00.000002019\n",
       "3302   1970-01-01 00:00:00.000002019\n",
       "3303   1970-01-01 00:00:00.000002019\n",
       "3304   1970-01-01 00:00:00.000002019\n",
       "3305   1970-01-01 00:00:00.000002019\n",
       "Name: year, Length: 3306, dtype: datetime64[ns]"
      ]
     },
     "execution_count": 25,
     "metadata": {},
     "output_type": "execute_result"
    }
   ],
   "source": [
    "life_expectancy['year']"
   ]
  },
  {
   "cell_type": "code",
   "execution_count": 26,
   "id": "69b7065a",
   "metadata": {},
   "outputs": [
    {
     "name": "stdout",
     "output_type": "stream",
     "text": [
      "region\n",
      "Europe & Central Asia         893\n",
      "Sub-Saharan Africa            836\n",
      "Latin America & Caribbean     551\n",
      "East Asia & Pacific           513\n",
      "Middle East & North Africa    304\n",
      "South Asia                    152\n",
      "North America                  57\n",
      "Name: count, dtype: int64\n"
     ]
    }
   ],
   "source": [
    "print(life_expectancy['region'].value_counts())"
   ]
  },
  {
   "cell_type": "code",
   "execution_count": 27,
   "id": "2a825b3b",
   "metadata": {},
   "outputs": [
    {
     "data": {
      "text/plain": [
       "<Axes: xlabel='region'>"
      ]
     },
     "execution_count": 27,
     "metadata": {},
     "output_type": "execute_result"
    },
    {
     "data": {
      "image/png": "[encoded data removed]",
      "text/plain": [
       "<Figure size 640x480 with 1 Axes>"
      ]
     },
     "metadata": {},
     "output_type": "display_data"
    }
   ],
   "source": [
    "life_expectancy['region'].value_counts().plot.bar()"
   ]
  },
  {
   "cell_type": "code",
   "execution_count": 28,
   "id": "cc1ab240",
   "metadata": {},
   "outputs": [
    {
     "name": "stdout",
     "output_type": "stream",
     "text": [
      "              country_name country_code                      region  \\\n",
      "0              Afghanistan          AFG                  South Asia   \n",
      "1                   Angola          AGO          Sub-Saharan Africa   \n",
      "2                  Albania          ALB       Europe & Central Asia   \n",
      "3                  Andorra          AND       Europe & Central Asia   \n",
      "4     United Arab Emirates          ARE  Middle East & North Africa   \n",
      "...                    ...          ...                         ...   \n",
      "3301               Vanuatu          VUT         East Asia & Pacific   \n",
      "3302                 Samoa          WSM         East Asia & Pacific   \n",
      "3303          South Africa          ZAF          Sub-Saharan Africa   \n",
      "3304                Zambia          ZMB          Sub-Saharan Africa   \n",
      "3305              Zimbabwe          ZWE          Sub-Saharan Africa   \n",
      "\n",
      "              incomegroup  \n",
      "0              Low income  \n",
      "1     Lower middle income  \n",
      "2     Upper middle income  \n",
      "3             High income  \n",
      "4             High income  \n",
      "...                   ...  \n",
      "3301  Lower middle income  \n",
      "3302  Lower middle income  \n",
      "3303  Upper middle income  \n",
      "3304           Low income  \n",
      "3305  Lower middle income  \n",
      "\n",
      "[3306 rows x 4 columns]\n"
     ]
    }
   ],
   "source": [
    "print(life_expectancy.select_dtypes('category'))"
   ]
  },
  {
   "cell_type": "code",
   "execution_count": 29,
   "id": "b8fb5c38",
   "metadata": {},
   "outputs": [
    {
     "name": "stdout",
     "output_type": "stream",
     "text": [
      "incomegroup\n",
      "middle         1786\n",
      "High income    1083\n",
      "Low income      437\n",
      "Name: count, dtype: int64\n"
     ]
    },
    {
     "name": "stderr",
     "output_type": "stream",
     "text": [
      "C:\\Users\\Danhaya\\AppData\\Local\\Temp\\ipykernel_4428\\629497576.py:6: FutureWarning: The behavior of Series.replace (and DataFrame.replace) with CategoricalDtype is deprecated. In a future version, replace will only be used for cases that preserve the categories. To change the categories, use ser.cat.rename_categories instead.\n",
      "  life_expectancy['incomegroup'] = life_expectancy[\"incomegroup\"].replace(map_update)\n"
     ]
    }
   ],
   "source": [
    "map_update = {\n",
    "    'Lower middle income' : 'middle',\n",
    "    'Upper middle income' : 'middle'\n",
    "}\n",
    "\n",
    "life_expectancy['incomegroup'] = life_expectancy[\"incomegroup\"].replace(map_update)\n",
    "print(life_expectancy['incomegroup'].value_counts())"
   ]
  },
  {
   "cell_type": "code",
   "execution_count": 30,
   "id": "a527dd3b",
   "metadata": {},
   "outputs": [
    {
     "data": {
      "text/plain": [
       "CategoricalDtype(categories=['High income', 'Low income', 'middle'], ordered=False, categories_dtype=object)"
      ]
     },
     "execution_count": 30,
     "metadata": {},
     "output_type": "execute_result"
    }
   ],
   "source": [
    "life_expectancy['incomegroup'].dtype"
   ]
  },
  {
   "cell_type": "code",
   "execution_count": 34,
   "id": "21cc833c",
   "metadata": {},
   "outputs": [],
   "source": [
    "# rename categories\n",
    "life_expectancy['incomegroup'] = life_expectancy['incomegroup'].cat.rename_categories(lambda c: c.title())"
   ]
  },
  {
   "cell_type": "code",
   "execution_count": 35,
   "id": "8d6ca75a",
   "metadata": {},
   "outputs": [
    {
     "name": "stdout",
     "output_type": "stream",
     "text": [
      "['Low Income', 'Middle', 'High Income']\n",
      "Categories (3, object): ['High Income', 'Low Income', 'Middle']\n"
     ]
    }
   ],
   "source": [
    "print(life_expectancy['incomegroup'].unique())"
   ]
  },
  {
   "cell_type": "code",
   "execution_count": 39,
   "id": "6ddf4725",
   "metadata": {},
   "outputs": [
    {
     "data": {
      "image/png": "[encoded data removed]",
      "text/plain": [
       "<Figure size 2011.11x1000 with 7 Axes>"
      ]
     },
     "metadata": {},
     "output_type": "display_data"
    }
   ],
   "source": [
    "sns.catplot(\n",
    "    x = 'incomegroup',\n",
    "    data = life_expectancy,\n",
    "    kind = 'count',\n",
    "    col = 'region',\n",
    "    col_wrap = 4\n",
    ")\n",
    "\n",
    "plt.show()"
   ]
  },
  {
   "cell_type": "code",
   "execution_count": 43,
   "id": "f9e5e683",
   "metadata": {},
   "outputs": [
    {
     "name": "stdout",
     "output_type": "stream",
     "text": [
      "              country_name country_code                      region  \\\n",
      "3                  Andorra          AND       Europe & Central Asia   \n",
      "4     United Arab Emirates          ARE  Middle East & North Africa   \n",
      "8      Antigua and Barbuda          ATG   Latin America & Caribbean   \n",
      "9                Australia          AUS         East Asia & Pacific   \n",
      "10                 Austria          AUT       Europe & Central Asia   \n",
      "...                    ...          ...                         ...   \n",
      "3282                Sweden          SWE       Europe & Central Asia   \n",
      "3284            Seychelles          SYC          Sub-Saharan Africa   \n",
      "3291   Trinidad and Tobago          TTO   Latin America & Caribbean   \n",
      "3297               Uruguay          URY   Latin America & Caribbean   \n",
      "3298         United States          USA               North America   \n",
      "\n",
      "      incomegroup                          year  life_expectancy_world_bank  \\\n",
      "3     High Income 1970-01-01 00:00:00.000002001                         NaN   \n",
      "4     High Income 1970-01-01 00:00:00.000002001                   74.544000   \n",
      "8     High Income 1970-01-01 00:00:00.000002001                   74.171000   \n",
      "9     High Income 1970-01-01 00:00:00.000002001                   79.634146   \n",
      "10    High Income 1970-01-01 00:00:00.000002001                   78.575610   \n",
      "...           ...                           ...                         ...   \n",
      "3282  High Income 1970-01-01 00:00:00.000002019                   83.109756   \n",
      "3284  High Income 1970-01-01 00:00:00.000002019                   74.046341   \n",
      "3291  High Income 1970-01-01 00:00:00.000002019                   73.507000   \n",
      "3297  High Income 1970-01-01 00:00:00.000002019                   77.911000   \n",
      "3298  High Income 1970-01-01 00:00:00.000002019                   78.787805   \n",
      "\n",
      "      prevelance_of_undernourishment           co2  health_expenditure_%  \\\n",
      "3                                NaN  5.200000e+02              5.865939   \n",
      "4                                2.8  9.720000e+04              2.484370   \n",
      "8                                NaN  3.500000e+02              5.435876   \n",
      "9                                2.5  3.456400e+05              7.696229   \n",
      "10                               2.5  6.791000e+04              9.269429   \n",
      "...                              ...           ...                   ...   \n",
      "3282                             2.5  3.500000e+04             10.867493   \n",
      "3284                             NaN  6.100000e+02              5.190291   \n",
      "3291                             7.3  1.719000e+04              7.020074   \n",
      "3297                             2.5  6.490000e+03              9.347832   \n",
      "3298                             2.5  4.817720e+06             16.767063   \n",
      "\n",
      "      education_expenditure_%  unemployment  corruption  sanitation  \\\n",
      "3                         NaN           NaN         NaN   21.788660   \n",
      "4                         NaN         2.493         NaN         NaN   \n",
      "8                         NaN           NaN         NaN         NaN   \n",
      "9                         NaN         6.740         NaN   58.788894   \n",
      "10                   5.575480         4.010         NaN   99.679399   \n",
      "...                       ...           ...         ...         ...   \n",
      "3282                      NaN         6.830         NaN   94.917818   \n",
      "3284                 3.914590           NaN         NaN         NaN   \n",
      "3291                 3.698092         3.422         NaN         NaN   \n",
      "3297                 4.703260         8.880         NaN         NaN   \n",
      "3298                      NaN         3.670         NaN   98.275223   \n",
      "\n",
      "         injuries  communicable  noncommunicable  \n",
      "3         1697.99        695.56         13636.64  \n",
      "4       144678.14      65271.91        481740.70  \n",
      "8         2201.12       3279.72         14289.69  \n",
      "9       612233.81     208282.73       4158052.86  \n",
      "10      240208.86      77701.17       2101883.59  \n",
      "...           ...           ...              ...  \n",
      "3282    241775.21     103748.70       2403126.02  \n",
      "3284      3022.14       4429.22         24437.06  \n",
      "3291     50691.71      45583.65        365108.41  \n",
      "3297    130120.49      74036.98        857057.52  \n",
      "3298  10129022.26    4968922.31      95976524.31  \n",
      "\n",
      "[1083 rows x 16 columns]\n"
     ]
    }
   ],
   "source": [
    "print(life_expectancy[life_expectancy['incomegroup'].str.contains('High Income')])"
   ]
  },
  {
   "cell_type": "code",
   "execution_count": null,
   "id": "6aca919f",
   "metadata": {},
   "outputs": [],
   "source": []
  }
 ],
 "metadata": {
  "kernelspec": {
   "display_name": "base",
   "language": "python",
   "name": "python3"
  },
  "language_info": {
   "codemirror_mode": {
    "name": "ipython",
    "version": 3
   },
   "file_extension": ".py",
   "mimetype": "text/x-python",
   "name": "python",
   "nbconvert_exporter": "python",
   "pygments_lexer": "ipython3",
   "version": "3.12.3"
  }
 },
 "nbformat": 4,
 "nbformat_minor": 5
}

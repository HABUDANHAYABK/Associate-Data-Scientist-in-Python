{
 "cells": [
  {
   "cell_type": "markdown",
   "id": "9e807dcb",
   "metadata": {},
   "source": [
    "# LABEL ENCODING"
   ]
  },
  {
   "cell_type": "code",
   "execution_count": 1,
   "id": "6fa03099",
   "metadata": {},
   "outputs": [
    {
     "name": "stdout",
     "output_type": "stream",
     "text": [
      "Index(['Entity', 'Code', 'Year', 'growth_emissions_total'], dtype='object')\n"
     ]
    }
   ],
   "source": [
    "import pandas as pd\n",
    "import numpy as np\n",
    "import matplotlib.pyplot as plt\n",
    "import seaborn as sns\n",
    "\n",
    "\n",
    "co2 = pd.read_csv(r\"c:/users/danhaya/arewads/arewads-fellowship/Carbon_data.csv\")\n",
    "print(co2.columns)"
   ]
  },
  {
   "cell_type": "code",
   "execution_count": 2,
   "id": "8d81634a",
   "metadata": {},
   "outputs": [
    {
     "name": "stdout",
     "output_type": "stream",
     "text": [
      "        Entity Code  Year  growth_emissions_total\n",
      "0  Afghanistan  AFG  1950                 69616.0\n",
      "1  Afghanistan  AFG  1951                  7328.0\n",
      "2  Afghanistan  AFG  1952                     0.0\n",
      "3  Afghanistan  AFG  1953                 14656.0\n",
      "4  Afghanistan  AFG  1954                     0.0\n"
     ]
    }
   ],
   "source": [
    "print(co2.head())"
   ]
  },
  {
   "cell_type": "code",
   "execution_count": 3,
   "id": "3bb707b9",
   "metadata": {},
   "outputs": [
    {
     "name": "stdout",
     "output_type": "stream",
     "text": [
      "<class 'pandas.core.frame.DataFrame'>\n",
      "RangeIndex: 26981 entries, 0 to 26980\n",
      "Data columns (total 4 columns):\n",
      " #   Column                  Non-Null Count  Dtype  \n",
      "---  ------                  --------------  -----  \n",
      " 0   Entity                  26981 non-null  object \n",
      " 1   Code                    23175 non-null  object \n",
      " 2   Year                    26981 non-null  int64  \n",
      " 3   growth_emissions_total  26981 non-null  float64\n",
      "dtypes: float64(1), int64(1), object(2)\n",
      "memory usage: 843.3+ KB\n",
      "None\n"
     ]
    }
   ],
   "source": [
    "print(co2.info())"
   ]
  },
  {
   "cell_type": "code",
   "execution_count": 4,
   "id": "8ff195d3",
   "metadata": {},
   "outputs": [
    {
     "name": "stdout",
     "output_type": "stream",
     "text": [
      "            Entity  Entity_code\n",
      "0      Afghanistan            0\n",
      "1      Afghanistan            0\n",
      "2      Afghanistan            0\n",
      "3      Afghanistan            0\n",
      "4      Afghanistan            0\n",
      "...            ...          ...\n",
      "26976     Zimbabwe          234\n",
      "26977     Zimbabwe          234\n",
      "26978     Zimbabwe          234\n",
      "26979     Zimbabwe          234\n",
      "26980     Zimbabwe          234\n",
      "\n",
      "[26981 rows x 2 columns]\n"
     ]
    }
   ],
   "source": [
    "co2['Entity'] = co2['Entity'].astype('category')\n",
    "co2[\"Entity_code\"] = co2['Entity'].cat.codes\n",
    "print(co2[['Entity', 'Entity_code']])"
   ]
  },
  {
   "cell_type": "code",
   "execution_count": 7,
   "id": "0cbb19ae",
   "metadata": {},
   "outputs": [
    {
     "name": "stdout",
     "output_type": "stream",
     "text": [
      "{'Afghanistan': 0, 'Africa': 1, 'Albania': 2, 'Algeria': 3, 'Andorra': 4, 'Angola': 5, 'Anguilla': 6, 'Antarctica': 7, 'Antigua and Barbuda': 8, 'Argentina': 9, 'Armenia': 10, 'Aruba': 11, 'Asia': 12, 'Asia (excl. China and India)': 13, 'Australia': 14, 'Austria': 15, 'Azerbaijan': 16, 'Bahamas': 17, 'Bahrain': 18, 'Bangladesh': 19, 'Barbados': 20, 'Belarus': 21, 'Belgium': 22, 'Belize': 23, 'Benin': 24, 'Bermuda': 25, 'Bhutan': 26, 'Bolivia': 27, 'Bonaire Sint Eustatius and Saba': 28, 'Bosnia and Herzegovina': 29, 'Botswana': 30, 'Brazil': 31, 'British Virgin Islands': 32, 'Brunei': 33, 'Bulgaria': 34, 'Burkina Faso': 35, 'Burundi': 36, 'Cambodia': 37, 'Cameroon': 38, 'Canada': 39, 'Cape Verde': 40, 'Central African Republic': 41, 'Chad': 42, 'Chile': 43, 'China': 44, 'Christmas Island': 45, 'Colombia': 46, 'Comoros': 47, 'Congo': 48, 'Cook Islands': 49, 'Costa Rica': 50, \"Cote d'Ivoire\": 51, 'Croatia': 52, 'Cuba': 53, 'Curacao': 54, 'Cyprus': 55, 'Czechia': 56, 'Democratic Republic of Congo': 57, 'Denmark': 58, 'Djibouti': 59, 'Dominica': 60, 'Dominican Republic': 61, 'East Timor': 62, 'Ecuador': 63, 'Egypt': 64, 'El Salvador': 65, 'Equatorial Guinea': 66, 'Eritrea': 67, 'Estonia': 68, 'Eswatini': 69, 'Ethiopia': 70, 'Europe': 71, 'Europe (excl. EU-27)': 72, 'Europe (excl. EU-28)': 73, 'European Union (27)': 74, 'European Union (28)': 75, 'Faroe Islands': 76, 'Fiji': 77, 'Finland': 78, 'France': 79, 'French Polynesia': 80, 'Gabon': 81, 'Gambia': 82, 'Georgia': 83, 'Germany': 84, 'Ghana': 85, 'Greece': 86, 'Greenland': 87, 'Grenada': 88, 'Guatemala': 89, 'Guinea': 90, 'Guinea-Bissau': 91, 'Guyana': 92, 'Haiti': 93, 'High-income countries': 94, 'Honduras': 95, 'Hong Kong': 96, 'Hungary': 97, 'Iceland': 98, 'India': 99, 'Indonesia': 100, 'International aviation': 101, 'International shipping': 102, 'Iran': 103, 'Iraq': 104, 'Ireland': 105, 'Israel': 106, 'Italy': 107, 'Jamaica': 108, 'Japan': 109, 'Jordan': 110, 'Kazakhstan': 111, 'Kenya': 112, 'Kiribati': 113, 'Kosovo': 114, 'Kuwait': 115, 'Kyrgyzstan': 116, 'Laos': 117, 'Latvia': 118, 'Lebanon': 119, 'Lesotho': 120, 'Liberia': 121, 'Libya': 122, 'Liechtenstein': 123, 'Lithuania': 124, 'Low-income countries': 125, 'Lower-middle-income countries': 126, 'Luxembourg': 127, 'Macao': 128, 'Madagascar': 129, 'Malawi': 130, 'Malaysia': 131, 'Maldives': 132, 'Mali': 133, 'Malta': 134, 'Marshall Islands': 135, 'Mauritania': 136, 'Mauritius': 137, 'Mexico': 138, 'Micronesia (country)': 139, 'Moldova': 140, 'Mongolia': 141, 'Montenegro': 142, 'Montserrat': 143, 'Morocco': 144, 'Mozambique': 145, 'Myanmar': 146, 'Namibia': 147, 'Nauru': 148, 'Nepal': 149, 'Netherlands': 150, 'New Caledonia': 151, 'New Zealand': 152, 'Nicaragua': 153, 'Niger': 154, 'Nigeria': 155, 'Niue': 156, 'North America': 157, 'North America (excl. USA)': 158, 'North Korea': 159, 'North Macedonia': 160, 'Norway': 161, 'Oceania': 162, 'Oman': 163, 'Pakistan': 164, 'Palau': 165, 'Palestine': 166, 'Panama': 167, 'Papua New Guinea': 168, 'Paraguay': 169, 'Peru': 170, 'Philippines': 171, 'Poland': 172, 'Portugal': 173, 'Qatar': 174, 'Romania': 175, 'Russia': 176, 'Rwanda': 177, 'Saint Helena': 178, 'Saint Kitts and Nevis': 179, 'Saint Lucia': 180, 'Saint Pierre and Miquelon': 181, 'Saint Vincent and the Grenadines': 182, 'Samoa': 183, 'Sao Tome and Principe': 184, 'Saudi Arabia': 185, 'Senegal': 186, 'Serbia': 187, 'Seychelles': 188, 'Sierra Leone': 189, 'Singapore': 190, 'Sint Maarten (Dutch part)': 191, 'Slovakia': 192, 'Slovenia': 193, 'Solomon Islands': 194, 'Somalia': 195, 'South Africa': 196, 'South America': 197, 'South Korea': 198, 'South Sudan': 199, 'Spain': 200, 'Sri Lanka': 201, 'Sudan': 202, 'Suriname': 203, 'Sweden': 204, 'Switzerland': 205, 'Syria': 206, 'Taiwan': 207, 'Tajikistan': 208, 'Tanzania': 209, 'Thailand': 210, 'Togo': 211, 'Tonga': 212, 'Trinidad and Tobago': 213, 'Tunisia': 214, 'Turkey': 215, 'Turkmenistan': 216, 'Turks and Caicos Islands': 217, 'Tuvalu': 218, 'Uganda': 219, 'Ukraine': 220, 'United Arab Emirates': 221, 'United Kingdom': 222, 'United States': 223, 'Upper-middle-income countries': 224, 'Uruguay': 225, 'Uzbekistan': 226, 'Vanuatu': 227, 'Venezuela': 228, 'Vietnam': 229, 'Wallis and Futuna': 230, 'World': 231, 'Yemen': 232, 'Zambia': 233, 'Zimbabwe': 234}\n",
      "235\n"
     ]
    }
   ],
   "source": [
    "codes = co2[\"Entity\"].cat.codes\n",
    "categories = co2['Entity']\n",
    "\n",
    "name_map = dict(zip(categories, codes))\n",
    "print(name_map)\n",
    "print(len(name_map))\n"
   ]
  },
  {
   "cell_type": "code",
   "execution_count": null,
   "id": "9c100cd4",
   "metadata": {},
   "outputs": [],
   "source": []
  }
 ],
 "metadata": {
  "kernelspec": {
   "display_name": "base",
   "language": "python",
   "name": "python3"
  },
  "language_info": {
   "codemirror_mode": {
    "name": "ipython",
    "version": 3
   },
   "file_extension": ".py",
   "mimetype": "text/x-python",
   "name": "python",
   "nbconvert_exporter": "python",
   "pygments_lexer": "ipython3",
   "version": "3.12.3"
  }
 },
 "nbformat": 4,
 "nbformat_minor": 5
}

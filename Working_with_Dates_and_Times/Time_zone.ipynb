{
 "cells": [
  {
   "cell_type": "markdown",
   "id": "7758a32d",
   "metadata": {},
   "source": [
    "# UTC OFFSETS"
   ]
  },
  {
   "cell_type": "code",
   "execution_count": 3,
   "id": "4386b427",
   "metadata": {},
   "outputs": [
    {
     "name": "stdout",
     "output_type": "stream",
     "text": [
      "2017-12-30T15:09:03+05:00\n",
      "2017-12-30 15:09:03+05:00\n"
     ]
    }
   ],
   "source": [
    "from datetime import datetime, timedelta, timezone\n",
    "\n",
    "ET = timezone(timedelta(hours = 5))\n",
    "dt = datetime(2017, 12, 30, 15, 9, 3, tzinfo=ET)\n",
    "\n",
    "print(dt.isoformat())\n",
    "print(dt)"
   ]
  },
  {
   "cell_type": "markdown",
   "id": "a778a7e3",
   "metadata": {},
   "source": [
    "# Adjusting timezone vs changing tzinfo"
   ]
  },
  {
   "cell_type": "code",
   "execution_count": 4,
   "id": "18c635fe",
   "metadata": {},
   "outputs": [
    {
     "name": "stdout",
     "output_type": "stream",
     "text": [
      "2017-12-10T17:25:23+05:30\n"
     ]
    }
   ],
   "source": [
    "IST = timezone(timedelta(hours = 5, minutes= 30))\n",
    "\n",
    "dt = datetime(2017, 12, 10, 17, 25, 23, tzinfo=IST)\n",
    "print(dt.isoformat())\n"
   ]
  },
  {
   "cell_type": "code",
   "execution_count": 5,
   "id": "5f0642d7",
   "metadata": {},
   "outputs": [
    {
     "name": "stdout",
     "output_type": "stream",
     "text": [
      "2017-12-10 17:25:23+00:00\n"
     ]
    }
   ],
   "source": [
    "print(dt.replace(tzinfo=timezone.utc))"
   ]
  },
  {
   "cell_type": "markdown",
   "id": "9f206742",
   "metadata": {},
   "source": [
    "# Timezone database"
   ]
  },
  {
   "cell_type": "code",
   "execution_count": 6,
   "id": "836b91a2",
   "metadata": {},
   "outputs": [
    {
     "name": "stdout",
     "output_type": "stream",
     "text": [
      "2017-12-30T15:09:03-05:00\n"
     ]
    }
   ],
   "source": [
    "from datetime import datetime\n",
    "from dateutil import tz\n",
    "\n",
    "#Eastern time\n",
    "et = tz.gettz('America/New_York')\n",
    "\n",
    "last_ride = datetime(2017, 12, 30, 15, 9, 3, tzinfo=et)\n",
    "print(last_ride.isoformat())"
   ]
  },
  {
   "cell_type": "code",
   "execution_count": 7,
   "id": "ef51b8a7",
   "metadata": {},
   "outputs": [
    {
     "name": "stdout",
     "output_type": "stream",
     "text": [
      "2015-04-12T17:31:45+01:00\n"
     ]
    }
   ],
   "source": [
    "lon_time = tz.gettz('Europe/London')\n",
    "\n",
    "start = datetime(2015, 4, 12, 17, 31, 45, tzinfo=lon_time)\n",
    "print(start.isoformat())"
   ]
  },
  {
   "cell_type": "markdown",
   "id": "9d2040db",
   "metadata": {},
   "source": [
    "# STARTING DAYLIGHT SAVING TIME"
   ]
  },
  {
   "cell_type": "code",
   "execution_count": 8,
   "id": "a1c4e51d",
   "metadata": {},
   "outputs": [
    {
     "name": "stdout",
     "output_type": "stream",
     "text": [
      "0:00:01\n"
     ]
    }
   ],
   "source": [
    "from datetime import timezone, timedelta\n",
    "\n",
    "EST = timezone(timedelta(hours = -5))\n",
    "EDT = timezone(timedelta(hours = -4))\n",
    "\n",
    "spring_ahead_159 = datetime(2017, 3, 12, 1, 59, 59, tzinfo=EST)\n",
    "spring_ahead_3am = datetime(2017, 3, 12, 3, 0, 0, tzinfo=EDT)\n",
    "\n",
    "print(spring_ahead_3am - spring_ahead_159)"
   ]
  },
  {
   "cell_type": "code",
   "execution_count": null,
   "id": "6797f703",
   "metadata": {},
   "outputs": [],
   "source": []
  }
 ],
 "metadata": {
  "kernelspec": {
   "display_name": "base",
   "language": "python",
   "name": "python3"
  },
  "language_info": {
   "codemirror_mode": {
    "name": "ipython",
    "version": 3
   },
   "file_extension": ".py",
   "mimetype": "text/x-python",
   "name": "python",
   "nbconvert_exporter": "python",
   "pygments_lexer": "ipython3",
   "version": "3.12.3"
  }
 },
 "nbformat": 4,
 "nbformat_minor": 5
}

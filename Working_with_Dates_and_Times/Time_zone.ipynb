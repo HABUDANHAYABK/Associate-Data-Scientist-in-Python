{
 "cells": [
  {
   "cell_type": "markdown",
   "id": "7758a32d",
   "metadata": {},
   "source": [
    "# UTC OFFSETS"
   ]
  },
  {
   "cell_type": "code",
   "execution_count": 3,
   "id": "4386b427",
   "metadata": {},
   "outputs": [
    {
     "name": "stdout",
     "output_type": "stream",
     "text": [
      "2017-12-30T15:09:03+05:00\n",
      "2017-12-30 15:09:03+05:00\n"
     ]
    }
   ],
   "source": [
    "from datetime import datetime, timedelta, timezone\n",
    "\n",
    "ET = timezone(timedelta(hours = 5))\n",
    "dt = datetime(2017, 12, 30, 15, 9, 3, tzinfo=ET)\n",
    "\n",
    "print(dt.isoformat())\n",
    "print(dt)"
   ]
  },
  {
   "cell_type": "markdown",
   "id": "a778a7e3",
   "metadata": {},
   "source": [
    "# Adjusting timezone vs changing tzinfo"
   ]
  },
  {
   "cell_type": "code",
   "execution_count": 4,
   "id": "18c635fe",
   "metadata": {},
   "outputs": [
    {
     "name": "stdout",
     "output_type": "stream",
     "text": [
      "2017-12-10T17:25:23+05:30\n"
     ]
    }
   ],
   "source": [
    "IST = timezone(timedelta(hours = 5, minutes= 30))\n",
    "\n",
    "dt = datetime(2017, 12, 10, 17, 25, 23, tzinfo=IST)\n",
    "print(dt.isoformat())\n"
   ]
  },
  {
   "cell_type": "code",
   "execution_count": 5,
   "id": "5f0642d7",
   "metadata": {},
   "outputs": [
    {
     "name": "stdout",
     "output_type": "stream",
     "text": [
      "2017-12-10 17:25:23+00:00\n"
     ]
    }
   ],
   "source": [
    "print(dt.replace(tzinfo=timezone.utc))"
   ]
  },
  {
   "cell_type": "code",
   "execution_count": null,
   "id": "836b91a2",
   "metadata": {},
   "outputs": [],
   "source": []
  }
 ],
 "metadata": {
  "kernelspec": {
   "display_name": "base",
   "language": "python",
   "name": "python3"
  },
  "language_info": {
   "codemirror_mode": {
    "name": "ipython",
    "version": 3
   },
   "file_extension": ".py",
   "mimetype": "text/x-python",
   "name": "python",
   "nbconvert_exporter": "python",
   "pygments_lexer": "ipython3",
   "version": "3.12.3"
  }
 },
 "nbformat": 4,
 "nbformat_minor": 5
}

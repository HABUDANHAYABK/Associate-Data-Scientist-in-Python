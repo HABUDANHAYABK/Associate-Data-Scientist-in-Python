{
 "cells": [
  {
   "cell_type": "markdown",
   "id": "e0c086e5",
   "metadata": {},
   "source": [
    "# Dates and Times"
   ]
  },
  {
   "cell_type": "code",
   "execution_count": 4,
   "id": "2961a110",
   "metadata": {},
   "outputs": [
    {
     "name": "stdout",
     "output_type": "stream",
     "text": [
      "2017-10-01 15:23:25\n",
      "15\n"
     ]
    }
   ],
   "source": [
    "from datetime import datetime\n",
    "\n",
    "dt = datetime(2017, 10, 1, 15, 23, 25)\n",
    "print(dt)\n",
    "print(dt.strftime(\"%H\"))"
   ]
  },
  {
   "cell_type": "code",
   "execution_count": 8,
   "id": "8b4ba82d",
   "metadata": {},
   "outputs": [
    {
     "name": "stdout",
     "output_type": "stream",
     "text": [
      "2017-10-01 15:00:00\n"
     ]
    }
   ],
   "source": [
    "dt_hr = dt.replace(minute=0, second=0, microsecond=0)\n",
    "print(dt_hr)"
   ]
  },
  {
   "cell_type": "code",
   "execution_count": 10,
   "id": "d83ed7db",
   "metadata": {},
   "outputs": [
    {
     "name": "stdout",
     "output_type": "stream",
     "text": [
      "2017-10-01 15:23:25\n"
     ]
    }
   ],
   "source": [
    "print(dt.strftime('%Y-%m-%d %H:%M:%S'))"
   ]
  },
  {
   "cell_type": "markdown",
   "id": "d1e3e997",
   "metadata": {},
   "source": [
    "# .strptime()"
   ]
  },
  {
   "cell_type": "code",
   "execution_count": 15,
   "id": "ae6ae3cf",
   "metadata": {},
   "outputs": [
    {
     "name": "stdout",
     "output_type": "stream",
     "text": [
      "2017-12-30T15:19:13\n"
     ]
    }
   ],
   "source": [
    "dt = datetime.strptime('12/30/2017 15:19:13', '%m/%d/%Y %H:%M:%S')\n",
    "print(dt.isoformat())"
   ]
  },
  {
   "cell_type": "markdown",
   "id": "b96e4723",
   "metadata": {},
   "source": [
    "# Working with Duration"
   ]
  },
  {
   "cell_type": "code",
   "execution_count": 16,
   "id": "997b4ea1",
   "metadata": {},
   "outputs": [
    {
     "name": "stdout",
     "output_type": "stream",
     "text": [
      "1448.0\n"
     ]
    }
   ],
   "source": [
    "start = datetime(2017, 10, 8, 23, 46, 49)\n",
    "end = datetime(2017, 10, 9, 0, 10, 57)\n",
    "\n",
    "duration = end - start\n",
    "print(duration.total_seconds())"
   ]
  },
  {
   "cell_type": "code",
   "execution_count": 20,
   "id": "a4e88917",
   "metadata": {},
   "outputs": [
    {
     "name": "stdout",
     "output_type": "stream",
     "text": [
      "2017-10-08 23:46:49\n",
      "2017-10-10 00:46:49\n"
     ]
    }
   ],
   "source": [
    "from datetime import timedelta\n",
    "\n",
    "delta1 = timedelta(days=1, hours=1)\n",
    "print(start)\n",
    "print(start + delta1)"
   ]
  },
  {
   "cell_type": "code",
   "execution_count": null,
   "id": "f5b80fa2",
   "metadata": {},
   "outputs": [],
   "source": []
  }
 ],
 "metadata": {
  "kernelspec": {
   "display_name": "base",
   "language": "python",
   "name": "python3"
  },
  "language_info": {
   "codemirror_mode": {
    "name": "ipython",
    "version": 3
   },
   "file_extension": ".py",
   "mimetype": "text/x-python",
   "name": "python",
   "nbconvert_exporter": "python",
   "pygments_lexer": "ipython3",
   "version": "3.12.3"
  }
 },
 "nbformat": 4,
 "nbformat_minor": 5
}

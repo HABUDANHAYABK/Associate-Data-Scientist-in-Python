{
 "cells": [
  {
   "cell_type": "markdown",
   "id": "f5166bd0",
   "metadata": {},
   "source": [
    "# Dates in Python"
   ]
  },
  {
   "cell_type": "markdown",
   "id": "e49cb38b",
   "metadata": {},
   "source": [
    "## Creating date object"
   ]
  },
  {
   "cell_type": "code",
   "execution_count": 1,
   "id": "9e35edad",
   "metadata": {},
   "outputs": [
    {
     "name": "stdout",
     "output_type": "stream",
     "text": [
      "The first hurricane occured in 2016 and the second one in the year 2017.\n"
     ]
    }
   ],
   "source": [
    "from datetime import date\n",
    "\n",
    "two_hurricane = [date(2016, 10, 7), date(2017,6, 21)]\n",
    "print(f\"The first hurricane occured in {two_hurricane[0].year} and the second one in the year {two_hurricane[1].year}.\")"
   ]
  },
  {
   "cell_type": "code",
   "execution_count": 5,
   "id": "7eac74df",
   "metadata": {},
   "outputs": [
    {
     "name": "stdout",
     "output_type": "stream",
     "text": [
      "2017-06-21\n"
     ]
    }
   ],
   "source": [
    "print(two_hurricane[1])"
   ]
  },
  {
   "cell_type": "code",
   "execution_count": 8,
   "id": "aa593beb",
   "metadata": {},
   "outputs": [
    {
     "name": "stdout",
     "output_type": "stream",
     "text": [
      "21\n",
      "2\n"
     ]
    }
   ],
   "source": [
    "second_dates = two_hurricane[1]\n",
    "print(second_dates.day)\n",
    "print(second_dates.weekday())"
   ]
  },
  {
   "cell_type": "markdown",
   "id": "1b1256a8",
   "metadata": {},
   "source": [
    "## Math with Dates"
   ]
  },
  {
   "cell_type": "code",
   "execution_count": 11,
   "id": "bbb5d2ad",
   "metadata": {},
   "outputs": [
    {
     "name": "stdout",
     "output_type": "stream",
     "text": [
      "This is the time spend on this planet 10196 days, 0:00:00\n"
     ]
    }
   ],
   "source": [
    "dob = date(1997, 6, 1)\n",
    "today = date.today()\n",
    "\n",
    "timedelta = today - dob\n",
    "print(f\"This is the time spend on this planet {timedelta}\")"
   ]
  },
  {
   "cell_type": "markdown",
   "id": "94ee8a74",
   "metadata": {},
   "source": [
    "# TURNING DATES INTO STRINGS"
   ]
  },
  {
   "cell_type": "code",
   "execution_count": null,
   "id": "4da68044",
   "metadata": {},
   "outputs": [
    {
     "name": "stdout",
     "output_type": "stream",
     "text": [
      "2016-07-17\n"
     ]
    }
   ],
   "source": [
    "# ISO FORMAT : %YYYY-%m-%d\n",
    "\n",
    "d = date(2016, 7, 17)\n",
    "print(d.isoformat())"
   ]
  },
  {
   "cell_type": "code",
   "execution_count": 17,
   "id": "3e9984bd",
   "metadata": {},
   "outputs": [
    {
     "name": "stdout",
     "output_type": "stream",
     "text": [
      "2016\n",
      "2016-06\n",
      "2016/06\n"
     ]
    }
   ],
   "source": [
    "#strftime\n",
    "\n",
    "d = date(2016, 6, 1)\n",
    "print(d.strftime('%Y'))\n",
    "print(d.strftime('%Y-%m'))\n",
    "print(d.strftime('%Y/%m'))"
   ]
  },
  {
   "cell_type": "code",
   "execution_count": 18,
   "id": "e07050d6",
   "metadata": {},
   "outputs": [
    {
     "name": "stdout",
     "output_type": "stream",
     "text": [
      "My year of birth is 1997\n"
     ]
    }
   ],
   "source": [
    "#advantage of strftime method is that, it allows programmer to text\n",
    "\n",
    "dob = date(1997, 6, 1)\n",
    "print(dob.strftime('My year of birth is %Y'))"
   ]
  },
  {
   "cell_type": "code",
   "execution_count": null,
   "id": "85991db9",
   "metadata": {},
   "outputs": [],
   "source": []
  }
 ],
 "metadata": {
  "kernelspec": {
   "display_name": "base",
   "language": "python",
   "name": "python3"
  },
  "language_info": {
   "codemirror_mode": {
    "name": "ipython",
    "version": 3
   },
   "file_extension": ".py",
   "mimetype": "text/x-python",
   "name": "python",
   "nbconvert_exporter": "python",
   "pygments_lexer": "ipython3",
   "version": "3.12.3"
  }
 },
 "nbformat": 4,
 "nbformat_minor": 5
}

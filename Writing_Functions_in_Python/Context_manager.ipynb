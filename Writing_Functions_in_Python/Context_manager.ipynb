{
 "cells": [
  {
   "cell_type": "markdown",
   "id": "6703ccf0",
   "metadata": {},
   "source": [
    "# USING CONTEXT MANAGER"
   ]
  },
  {
   "cell_type": "code",
   "execution_count": 1,
   "id": "36624ed5",
   "metadata": {},
   "outputs": [
    {
     "name": "stdout",
     "output_type": "stream",
     "text": [
      "The file is 41 characters long\n"
     ]
    }
   ],
   "source": [
    "with open('my_text_file.txt') as file:\n",
    "    text = file.read()\n",
    "    length = len(text)\n",
    "\n",
    "print('The file is {} characters long'.format(length))"
   ]
  },
  {
   "cell_type": "code",
   "execution_count": 5,
   "id": "94fffde8",
   "metadata": {},
   "outputs": [],
   "source": [
    "import contextlib"
   ]
  },
  {
   "cell_type": "code",
   "execution_count": 6,
   "id": "7951e37d",
   "metadata": {},
   "outputs": [],
   "source": [
    "@contextlib.contextmanager\n",
    "def my_context():\n",
    "    print(\"Hello\")\n",
    "    yield 42\n",
    "    print(\"goodbye\")"
   ]
  },
  {
   "cell_type": "code",
   "execution_count": 7,
   "id": "4eee502d",
   "metadata": {},
   "outputs": [
    {
     "name": "stdout",
     "output_type": "stream",
     "text": [
      "Hello\n",
      "foo is 42\n",
      "goodbye\n"
     ]
    }
   ],
   "source": [
    "with my_context() as foo:\n",
    "    print('foo is {}'.format(foo))"
   ]
  },
  {
   "cell_type": "code",
   "execution_count": 8,
   "id": "d0f119f9",
   "metadata": {},
   "outputs": [],
   "source": [
    "@contextlib.contextmanager\n",
    "def open_file(file_name, mode):\n",
    "    f = open(file_name, mode)\n",
    "    print('File opened')\n",
    "\n",
    "    try:\n",
    "        yield f\n",
    "    \n",
    "    finally:\n",
    "        f.close()\n",
    "        print(\"File closed\")\n",
    "        "
   ]
  },
  {
   "cell_type": "code",
   "execution_count": 9,
   "id": "03e66a18",
   "metadata": {},
   "outputs": [
    {
     "name": "stdout",
     "output_type": "stream",
     "text": [
      "File opened\n",
      "File closed\n"
     ]
    }
   ],
   "source": [
    "with open_file(\"my_text_file,txt\", 'w') as f:\n",
    "    f.write(\"Hello Manager!\")"
   ]
  },
  {
   "cell_type": "code",
   "execution_count": 10,
   "id": "8266bbc0",
   "metadata": {},
   "outputs": [
    {
     "name": "stdout",
     "output_type": "stream",
     "text": [
      "Elapsed time: 1.00 seconds\n"
     ]
    }
   ],
   "source": [
    "import time\n",
    "@contextlib.contextmanager\n",
    "\n",
    "def timer():\n",
    "    start = time.time()\n",
    "    yield\n",
    "    end = time.time()\n",
    "    print(f\"Elapsed time: {end - start:.2f} seconds\")\n",
    "\n",
    "with timer():\n",
    "    total = 0\n",
    "    for i in range(1000000):\n",
    "        total +=1"
   ]
  },
  {
   "cell_type": "code",
   "execution_count": null,
   "id": "9a5b5a5d",
   "metadata": {},
   "outputs": [],
   "source": []
  }
 ],
 "metadata": {
  "kernelspec": {
   "display_name": "base",
   "language": "python",
   "name": "python3"
  },
  "language_info": {
   "codemirror_mode": {
    "name": "ipython",
    "version": 3
   },
   "file_extension": ".py",
   "mimetype": "text/x-python",
   "name": "python",
   "nbconvert_exporter": "python",
   "pygments_lexer": "ipython3",
   "version": "3.12.3"
  }
 },
 "nbformat": 4,
 "nbformat_minor": 5
}

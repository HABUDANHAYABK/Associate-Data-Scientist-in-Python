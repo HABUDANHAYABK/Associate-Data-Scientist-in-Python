{
 "cells": [
  {
   "cell_type": "markdown",
   "id": "f2e8cfe5",
   "metadata": {},
   "source": [
    "# DECORATORS"
   ]
  },
  {
   "cell_type": "code",
   "execution_count": 2,
   "id": "c3c8bafa",
   "metadata": {},
   "outputs": [
    {
     "name": "stdout",
     "output_type": "stream",
     "text": [
      "Hello world!\n"
     ]
    }
   ],
   "source": [
    "def my_function():\n",
    "    \"\"\"Display hello world!\"\"\"\n",
    "    print('Hello world!')\n",
    "\n",
    "my_function()"
   ]
  },
  {
   "cell_type": "code",
   "execution_count": 3,
   "id": "53d78207",
   "metadata": {},
   "outputs": [
    {
     "name": "stdout",
     "output_type": "stream",
     "text": [
      "Python is awesome\n"
     ]
    }
   ],
   "source": [
    "list_of_functions = [my_function, open, print]\n",
    "list_of_functions[2]('Python is awesome')"
   ]
  },
  {
   "cell_type": "code",
   "execution_count": 4,
   "id": "c2465727",
   "metadata": {},
   "outputs": [
    {
     "name": "stdout",
     "output_type": "stream",
     "text": [
      "Hello world!\n"
     ]
    }
   ],
   "source": [
    "dict_of_functions = {\n",
    "    'func1': my_function,\n",
    "    'func2': open, \n",
    "    'func3' : print\n",
    "}\n",
    "\n",
    "dict_of_functions['func3']('Hello world!')"
   ]
  },
  {
   "cell_type": "code",
   "execution_count": 5,
   "id": "c47fb63e",
   "metadata": {},
   "outputs": [],
   "source": [
    "#functions as arguments\n",
    "\n",
    "def has_docstring(func):\n",
    "    \"\"\" \n",
    "    check to see if the function 'func' has docstring.\n",
    "\n",
    "    args:\n",
    "    func(collable): A function.\n",
    "\n",
    "    Returns\n",
    "    bool\n",
    "    \"\"\"\n",
    "    return func.__doc__ is not None\n",
    "   \n"
   ]
  },
  {
   "cell_type": "code",
   "execution_count": 6,
   "id": "0c6a1c1f",
   "metadata": {},
   "outputs": [
    {
     "data": {
      "text/plain": [
       "True"
      ]
     },
     "execution_count": 6,
     "metadata": {},
     "output_type": "execute_result"
    }
   ],
   "source": [
    "has_docstring(my_function)"
   ]
  },
  {
   "cell_type": "code",
   "execution_count": 7,
   "id": "328ae4bd",
   "metadata": {},
   "outputs": [],
   "source": [
    "def no_doc():\n",
    "    return 10"
   ]
  },
  {
   "cell_type": "code",
   "execution_count": 8,
   "id": "c22fe98d",
   "metadata": {},
   "outputs": [
    {
     "data": {
      "text/plain": [
       "False"
      ]
     },
     "execution_count": 8,
     "metadata": {},
     "output_type": "execute_result"
    }
   ],
   "source": [
    "has_docstring(no_doc)"
   ]
  },
  {
   "cell_type": "markdown",
   "id": "232bdc8b",
   "metadata": {},
   "source": [
    "## Defining a function inside another function"
   ]
  },
  {
   "cell_type": "code",
   "execution_count": 9,
   "id": "f46f3c1c",
   "metadata": {},
   "outputs": [
    {
     "name": "stdout",
     "output_type": "stream",
     "text": [
      "[3, 6, 9]\n",
      "[3, 6, 9]\n",
      "[3, 6, 9]\n"
     ]
    }
   ],
   "source": [
    "def foo():\n",
    "    x = [3, 6, 9]\n",
    "    def bar(y):\n",
    "        print(y)\n",
    "    for value in x:\n",
    "        bar(x)\n",
    "\n",
    "foo()"
   ]
  },
  {
   "cell_type": "code",
   "execution_count": 11,
   "id": "fb48b292",
   "metadata": {},
   "outputs": [
    {
     "name": "stdout",
     "output_type": "stream",
     "text": [
      "48\n"
     ]
    }
   ],
   "source": [
    "def foo(x,y):\n",
    "    if x > 4 and x < 10 and y > 4 and y < 10:\n",
    "        print(x*y)\n",
    "\n",
    "foo(8,6) "
   ]
  },
  {
   "cell_type": "code",
   "execution_count": 12,
   "id": "918a8275",
   "metadata": {},
   "outputs": [
    {
     "name": "stdout",
     "output_type": "stream",
     "text": [
      "54\n"
     ]
    }
   ],
   "source": [
    "def foo(x,y):\n",
    "    def in_range(v):\n",
    "        return v > 4 and v < 10\n",
    "    \n",
    "    if in_range(x) and in_range(y):\n",
    "        print(x * y)\n",
    "\n",
    "foo(6, 9)"
   ]
  },
  {
   "cell_type": "code",
   "execution_count": null,
   "id": "c331354c",
   "metadata": {},
   "outputs": [],
   "source": []
  }
 ],
 "metadata": {
  "kernelspec": {
   "display_name": "base",
   "language": "python",
   "name": "python3"
  },
  "language_info": {
   "codemirror_mode": {
    "name": "ipython",
    "version": 3
   },
   "file_extension": ".py",
   "mimetype": "text/x-python",
   "name": "python",
   "nbconvert_exporter": "python",
   "pygments_lexer": "ipython3",
   "version": "3.12.3"
  }
 },
 "nbformat": 4,
 "nbformat_minor": 5
}

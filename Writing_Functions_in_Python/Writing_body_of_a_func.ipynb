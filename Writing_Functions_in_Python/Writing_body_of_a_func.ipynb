{
 "cells": [
  {
   "cell_type": "markdown",
   "id": "728372dd",
   "metadata": {},
   "source": [
    "# Writing Body of a Functions"
   ]
  },
  {
   "cell_type": "code",
   "execution_count": 1,
   "id": "51fb6f9b",
   "metadata": {},
   "outputs": [],
   "source": [
    "import pandas as pd\n",
    "import matplotlib.pyplot as plt\n",
    "import seaborn as sns"
   ]
  },
  {
   "cell_type": "code",
   "execution_count": 2,
   "id": "82b9cf35",
   "metadata": {},
   "outputs": [
    {
     "ename": "SyntaxError",
     "evalue": "invalid syntax (4292526219.py, line 13)",
     "output_type": "error",
     "traceback": [
      "\u001b[1;36m  Cell \u001b[1;32mIn[2], line 13\u001b[1;36m\u001b[0m\n\u001b[1;33m    x = data[col for col in data.columns if col != 'label'].values\u001b[0m\n\u001b[1;37m                 ^\u001b[0m\n\u001b[1;31mSyntaxError\u001b[0m\u001b[1;31m:\u001b[0m invalid syntax\n"
     ]
    }
   ],
   "source": [
    "def load_and_plot(path):\n",
    "    \"\"\"Load a dataset and plot the first two principal components.\n",
    "\n",
    "    args:\n",
    "        path(str): The location of the csv file\n",
    "    \n",
    "    returns:\n",
    "        tuple of ndarray: (features, labels)\n",
    "    \"\"\"\n",
    "\n",
    "    data = pd.read_csv(path)\n",
    "    y = data[\"label\"].values\n",
    "    x = data[col for col in data.columns if col != 'label'].values\n",
    "    pca = PCA(n_components = 2).fit_transform(x)\n",
    "    plt.scatter(pca[:, 0], pca[:, 1])\n",
    "    return x, y\n"
   ]
  },
  {
   "cell_type": "markdown",
   "id": "6b49a7ea",
   "metadata": {},
   "source": [
    "# Do one thing"
   ]
  },
  {
   "cell_type": "code",
   "execution_count": 3,
   "id": "748abe8b",
   "metadata": {},
   "outputs": [
    {
     "ename": "SyntaxError",
     "evalue": "invalid syntax (1708207341.py, line 13)",
     "output_type": "error",
     "traceback": [
      "\u001b[1;36m  Cell \u001b[1;32mIn[3], line 13\u001b[1;36m\u001b[0m\n\u001b[1;33m    x = data[col for col in data.columns if col != 'label'].values\u001b[0m\n\u001b[1;37m                 ^\u001b[0m\n\u001b[1;31mSyntaxError\u001b[0m\u001b[1;31m:\u001b[0m invalid syntax\n"
     ]
    }
   ],
   "source": [
    "def load_data(path):\n",
    "    \"\"\" Load a dataset\n",
    "\n",
    "    args:\n",
    "        path(str): location of a csv file.\n",
    "\n",
    "    returns:\n",
    "        tuple of ndarray:(features, labels)\n",
    "\n",
    "    \"\"\"\n",
    "    data = pd.read_csv(path)\n",
    "    y = data['label'].values\n",
    "    x = data[col for col in data.columns if col != 'label'].values\n",
    "    return x, y"
   ]
  },
  {
   "cell_type": "code",
   "execution_count": null,
   "id": "1ffb88ff",
   "metadata": {},
   "outputs": [],
   "source": []
  }
 ],
 "metadata": {
  "kernelspec": {
   "display_name": "base",
   "language": "python",
   "name": "python3"
  },
  "language_info": {
   "codemirror_mode": {
    "name": "ipython",
    "version": 3
   },
   "file_extension": ".py",
   "mimetype": "text/x-python",
   "name": "python",
   "nbconvert_exporter": "python",
   "pygments_lexer": "ipython3",
   "version": "3.12.3"
  }
 },
 "nbformat": 4,
 "nbformat_minor": 5
}

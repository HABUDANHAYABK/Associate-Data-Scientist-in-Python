{
 "cells": [
  {
   "cell_type": "markdown",
   "id": "728372dd",
   "metadata": {},
   "source": [
    "# Writing Body of a Functions"
   ]
  },
  {
   "cell_type": "code",
   "execution_count": 1,
   "id": "51fb6f9b",
   "metadata": {},
   "outputs": [],
   "source": [
    "import pandas as pd\n",
    "import matplotlib.pyplot as plt\n",
    "import seaborn as sns"
   ]
  },
  {
   "cell_type": "code",
   "execution_count": 5,
   "id": "82b9cf35",
   "metadata": {},
   "outputs": [],
   "source": [
    "def load_and_plot(path):\n",
    "    \"\"\"Load a dataset and plot the first two principal components.\n",
    "\n",
    "    args:\n",
    "        path(str): The location of the csv file\n",
    "    \n",
    "    returns:\n",
    "        tuple of ndarray: (features, labels)\n",
    "    \"\"\"\n",
    "\n",
    "    data = pd.read_csv(path)\n",
    "    y = data[\"label\"].values\n",
    "    x = data[[col for col in data.columns if col != 'label']].values\n",
    "    pca = PCA(n_components = 2).fit_transform(x)\n",
    "    plt.scatter(pca[:, 0], pca[:, 1])\n",
    "    return x, y\n"
   ]
  },
  {
   "cell_type": "markdown",
   "id": "6b49a7ea",
   "metadata": {},
   "source": [
    "# Do one thing"
   ]
  },
  {
   "cell_type": "code",
   "execution_count": 4,
   "id": "748abe8b",
   "metadata": {},
   "outputs": [],
   "source": [
    "def load_data(path):\n",
    "    \"\"\" Load a dataset\n",
    "\n",
    "    args:\n",
    "        path(str): location of a csv file.\n",
    "\n",
    "    returns:\n",
    "        tuple of ndarray:(features, labels)\n",
    "\n",
    "    \"\"\"\n",
    "    data = pd.read_csv(path)\n",
    "    y = data['label'].values\n",
    "    x = data[[col for col in data.columns if col != 'label']].values\n",
    "    return x, y"
   ]
  },
  {
   "cell_type": "code",
   "execution_count": 6,
   "id": "1ffb88ff",
   "metadata": {},
   "outputs": [],
   "source": [
    "def plot_data(x):\n",
    "    \"\"\"\n",
    "    plot the first two principal components of a matrix\n",
    "    args:\n",
    "        x(numpy.ndarray): the data to plot\n",
    "    \"\"\"\n",
    "\n",
    "    pca= PCA(n_components=2).fit_transform(x)\n",
    "    plt.scatter(pca[:, 0], pca[:, 1])"
   ]
  },
  {
   "cell_type": "code",
   "execution_count": 8,
   "id": "9e8db296",
   "metadata": {},
   "outputs": [
    {
     "data": {
      "text/plain": [
       "[1]"
      ]
     },
     "execution_count": 8,
     "metadata": {},
     "output_type": "execute_result"
    }
   ],
   "source": [
    "def my_list(var=[]):\n",
    "    var.append(1)\n",
    "    return var\n",
    "my_list()"
   ]
  },
  {
   "cell_type": "code",
   "execution_count": 11,
   "id": "bc21689d",
   "metadata": {},
   "outputs": [
    {
     "data": {
      "text/plain": [
       "[1, 1, 1]"
      ]
     },
     "execution_count": 11,
     "metadata": {},
     "output_type": "execute_result"
    }
   ],
   "source": [
    "my_list()"
   ]
  },
  {
   "cell_type": "code",
   "execution_count": 16,
   "id": "dc183bd6",
   "metadata": {},
   "outputs": [],
   "source": [
    "def new_list(var=None):\n",
    "    if new_list is None:\n",
    "        var = []\n",
    "        var.append(1)\n",
    "    return var "
   ]
  },
  {
   "cell_type": "code",
   "execution_count": 17,
   "id": "53090b7d",
   "metadata": {},
   "outputs": [],
   "source": [
    "new_list()"
   ]
  },
  {
   "cell_type": "code",
   "execution_count": 18,
   "id": "62c61d0e",
   "metadata": {},
   "outputs": [
    {
     "name": "stdout",
     "output_type": "stream",
     "text": [
      "None\n"
     ]
    }
   ],
   "source": [
    "print(new_list())"
   ]
  },
  {
   "cell_type": "code",
   "execution_count": null,
   "id": "61d4b35f",
   "metadata": {},
   "outputs": [],
   "source": []
  }
 ],
 "metadata": {
  "kernelspec": {
   "display_name": "base",
   "language": "python",
   "name": "python3"
  },
  "language_info": {
   "codemirror_mode": {
    "name": "ipython",
    "version": 3
   },
   "file_extension": ".py",
   "mimetype": "text/x-python",
   "name": "python",
   "nbconvert_exporter": "python",
   "pygments_lexer": "ipython3",
   "version": "3.12.3"
  }
 },
 "nbformat": 4,
 "nbformat_minor": 5
}

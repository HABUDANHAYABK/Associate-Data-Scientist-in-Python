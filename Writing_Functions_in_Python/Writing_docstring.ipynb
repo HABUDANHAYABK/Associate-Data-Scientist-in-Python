{
 "cells": [
  {
   "cell_type": "markdown",
   "id": "11434cd9",
   "metadata": {},
   "source": [
    "# Writing Docstring"
   ]
  },
  {
   "cell_type": "markdown",
   "id": "f4c976e8",
   "metadata": {},
   "source": [
    "Docstring format\n",
    "\n",
    "1. Google style\n",
    "2. Numpydoc"
   ]
  },
  {
   "cell_type": "code",
   "execution_count": 1,
   "id": "0e1b72d8",
   "metadata": {},
   "outputs": [],
   "source": [
    "# Google style\n",
    "\n",
    "def function(arg_1, arg2=42):\n",
    "    \"\"\" Description of what the fubction does.\n",
    "    args:\n",
    "        arg_1(str): Description of arg_1 that can break onto the next line if needed.\n",
    "        arg_2(int, optional): Write optional when an argument has default value.\n",
    "\n",
    "    Returns:\n",
    "        bool: optional description of the return value\n",
    "\n",
    "    Raises:\n",
    "        ValueError: include any error types that the function intentionally raises.\n",
    "    \n",
    "    Notes:\n",
    "        see https://www.datacamp.com/community/tutorial/docstring-python\n",
    "    \"\"\""
   ]
  },
  {
   "cell_type": "code",
   "execution_count": 2,
   "id": "7e62a262",
   "metadata": {},
   "outputs": [
    {
     "name": "stdout",
     "output_type": "stream",
     "text": [
      " Description of what the fubction does.\n",
      "    args:\n",
      "        arg_1(str): Description of arg_1 that can break onto the next line if needed.\n",
      "        arg_2(int, optional): Write optional when an argument has default value.\n",
      "\n",
      "    Returns:\n",
      "        bool: optional description of the return value\n",
      "\n",
      "    Raises:\n",
      "        ValueError: include any error types that the function intentionally raises.\n",
      "    \n",
      "    Notes:\n",
      "        see https://www.datacamp.com/community/tutorial/docstring-python\n",
      "    \n"
     ]
    }
   ],
   "source": [
    "print(function.__doc__)"
   ]
  },
  {
   "cell_type": "code",
   "execution_count": 3,
   "id": "8b50b89a",
   "metadata": {},
   "outputs": [],
   "source": [
    "# Numpydoc\n",
    "\n",
    "def functions(arg_1, arg2=42):\n",
    "    \"\"\"\n",
    "    Description of what the function does\n",
    "\n",
    "    Parameters\n",
    "    ----------\n",
    "    arg_1: Expected type of arg_1\n",
    "        Description of arg_1\n",
    "\n",
    "    arg_2: int, optional\n",
    "        Write optinal when argument has a default value.\n",
    "\n",
    "    Returns\n",
    "    -------\n",
    "    The type of the return value\n",
    "    \n",
    "    \"\"\""
   ]
  },
  {
   "cell_type": "code",
   "execution_count": 4,
   "id": "14e31cdb",
   "metadata": {},
   "outputs": [
    {
     "name": "stdout",
     "output_type": "stream",
     "text": [
      "\n",
      "    Description of what the function does\n",
      "\n",
      "    Parameters\n",
      "    ----------\n",
      "    arg_1: Expected type of arg_1\n",
      "        Description of arg_1\n",
      "\n",
      "    arg_2: int, optional\n",
      "        Write optinal when argument has a default value.\n",
      "\n",
      "    Returns\n",
      "    -------\n",
      "    The type of the return value\n",
      "    \n",
      "    \n"
     ]
    }
   ],
   "source": [
    "print(functions.__doc__)"
   ]
  },
  {
   "cell_type": "code",
   "execution_count": null,
   "id": "f20af70e",
   "metadata": {},
   "outputs": [],
   "source": []
  }
 ],
 "metadata": {
  "kernelspec": {
   "display_name": "base",
   "language": "python",
   "name": "python3"
  },
  "language_info": {
   "codemirror_mode": {
    "name": "ipython",
    "version": 3
   },
   "file_extension": ".py",
   "mimetype": "text/x-python",
   "name": "python",
   "nbconvert_exporter": "python",
   "pygments_lexer": "ipython3",
   "version": "3.12.3"
  }
 },
 "nbformat": 4,
 "nbformat_minor": 5
}
